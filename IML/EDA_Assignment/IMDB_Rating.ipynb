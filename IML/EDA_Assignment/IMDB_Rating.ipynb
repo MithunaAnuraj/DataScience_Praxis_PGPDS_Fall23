{
 "cells": [
  {
   "cell_type": "code",
   "execution_count": 16,
   "id": "e9b9cdd2",
   "metadata": {},
   "outputs": [],
   "source": [
    "import numpy as np\n",
    "import pandas as pd\n",
    "import seaborn as sns\n",
    "import matplotlib.pyplot as plt\n",
    "from sklearn.model_selection import train_test_split\n",
    "from sklearn.preprocessing import MinMaxScaler"
   ]
  },
  {
   "cell_type": "markdown",
   "id": "262d9f87",
   "metadata": {},
   "source": [
    "## Exploratory Data Analysis"
   ]
  },
  {
   "cell_type": "code",
   "execution_count": 125,
   "id": "b5d7967f",
   "metadata": {},
   "outputs": [],
   "source": [
    "df_imdb =pd.read_csv(\"imdb_top_1000.csv\")"
   ]
  },
  {
   "cell_type": "markdown",
   "id": "5e711755",
   "metadata": {},
   "source": [
    "Basic DataFrame Exploration"
   ]
  },
  {
   "cell_type": "code",
   "execution_count": 126,
   "id": "3ba50c81",
   "metadata": {},
   "outputs": [
    {
     "data": {
      "text/plain": [
       "(1000, 16)"
      ]
     },
     "execution_count": 126,
     "metadata": {},
     "output_type": "execute_result"
    }
   ],
   "source": [
    "df_imdb.shape"
   ]
  },
  {
   "cell_type": "code",
   "execution_count": 127,
   "id": "444d9eea",
   "metadata": {},
   "outputs": [
    {
     "data": {
      "text/html": [
       "<div>\n",
       "<style scoped>\n",
       "    .dataframe tbody tr th:only-of-type {\n",
       "        vertical-align: middle;\n",
       "    }\n",
       "\n",
       "    .dataframe tbody tr th {\n",
       "        vertical-align: top;\n",
       "    }\n",
       "\n",
       "    .dataframe thead th {\n",
       "        text-align: right;\n",
       "    }\n",
       "</style>\n",
       "<table border=\"1\" class=\"dataframe\">\n",
       "  <thead>\n",
       "    <tr style=\"text-align: right;\">\n",
       "      <th></th>\n",
       "      <th>Poster_Link</th>\n",
       "      <th>Series_Title</th>\n",
       "      <th>Released_Year</th>\n",
       "      <th>Certificate</th>\n",
       "      <th>Runtime</th>\n",
       "      <th>Genre</th>\n",
       "      <th>IMDB_Rating</th>\n",
       "      <th>Overview</th>\n",
       "      <th>Meta_score</th>\n",
       "      <th>Director</th>\n",
       "      <th>Star1</th>\n",
       "      <th>Star2</th>\n",
       "      <th>Star3</th>\n",
       "      <th>Star4</th>\n",
       "      <th>No_of_Votes</th>\n",
       "      <th>Gross</th>\n",
       "    </tr>\n",
       "  </thead>\n",
       "  <tbody>\n",
       "    <tr>\n",
       "      <th>0</th>\n",
       "      <td>https://m.media-amazon.com/images/M/MV5BMDFkYT...</td>\n",
       "      <td>The Shawshank Redemption</td>\n",
       "      <td>1994</td>\n",
       "      <td>A</td>\n",
       "      <td>142 min</td>\n",
       "      <td>Drama</td>\n",
       "      <td>9.3</td>\n",
       "      <td>Two imprisoned men bond over a number of years...</td>\n",
       "      <td>80.0</td>\n",
       "      <td>Frank Darabont</td>\n",
       "      <td>Tim Robbins</td>\n",
       "      <td>Morgan Freeman</td>\n",
       "      <td>Bob Gunton</td>\n",
       "      <td>William Sadler</td>\n",
       "      <td>2343110</td>\n",
       "      <td>28,341,469</td>\n",
       "    </tr>\n",
       "    <tr>\n",
       "      <th>1</th>\n",
       "      <td>https://m.media-amazon.com/images/M/MV5BM2MyNj...</td>\n",
       "      <td>The Godfather</td>\n",
       "      <td>1972</td>\n",
       "      <td>A</td>\n",
       "      <td>175 min</td>\n",
       "      <td>Crime, Drama</td>\n",
       "      <td>9.2</td>\n",
       "      <td>An organized crime dynasty's aging patriarch t...</td>\n",
       "      <td>100.0</td>\n",
       "      <td>Francis Ford Coppola</td>\n",
       "      <td>Marlon Brando</td>\n",
       "      <td>Al Pacino</td>\n",
       "      <td>James Caan</td>\n",
       "      <td>Diane Keaton</td>\n",
       "      <td>1620367</td>\n",
       "      <td>134,966,411</td>\n",
       "    </tr>\n",
       "    <tr>\n",
       "      <th>2</th>\n",
       "      <td>https://m.media-amazon.com/images/M/MV5BMTMxNT...</td>\n",
       "      <td>The Dark Knight</td>\n",
       "      <td>2008</td>\n",
       "      <td>UA</td>\n",
       "      <td>152 min</td>\n",
       "      <td>Action, Crime, Drama</td>\n",
       "      <td>9.0</td>\n",
       "      <td>When the menace known as the Joker wreaks havo...</td>\n",
       "      <td>84.0</td>\n",
       "      <td>Christopher Nolan</td>\n",
       "      <td>Christian Bale</td>\n",
       "      <td>Heath Ledger</td>\n",
       "      <td>Aaron Eckhart</td>\n",
       "      <td>Michael Caine</td>\n",
       "      <td>2303232</td>\n",
       "      <td>534,858,444</td>\n",
       "    </tr>\n",
       "    <tr>\n",
       "      <th>3</th>\n",
       "      <td>https://m.media-amazon.com/images/M/MV5BMWMwMG...</td>\n",
       "      <td>The Godfather: Part II</td>\n",
       "      <td>1974</td>\n",
       "      <td>A</td>\n",
       "      <td>202 min</td>\n",
       "      <td>Crime, Drama</td>\n",
       "      <td>9.0</td>\n",
       "      <td>The early life and career of Vito Corleone in ...</td>\n",
       "      <td>90.0</td>\n",
       "      <td>Francis Ford Coppola</td>\n",
       "      <td>Al Pacino</td>\n",
       "      <td>Robert De Niro</td>\n",
       "      <td>Robert Duvall</td>\n",
       "      <td>Diane Keaton</td>\n",
       "      <td>1129952</td>\n",
       "      <td>57,300,000</td>\n",
       "    </tr>\n",
       "    <tr>\n",
       "      <th>4</th>\n",
       "      <td>https://m.media-amazon.com/images/M/MV5BMWU4N2...</td>\n",
       "      <td>12 Angry Men</td>\n",
       "      <td>1957</td>\n",
       "      <td>U</td>\n",
       "      <td>96 min</td>\n",
       "      <td>Crime, Drama</td>\n",
       "      <td>9.0</td>\n",
       "      <td>A jury holdout attempts to prevent a miscarria...</td>\n",
       "      <td>96.0</td>\n",
       "      <td>Sidney Lumet</td>\n",
       "      <td>Henry Fonda</td>\n",
       "      <td>Lee J. Cobb</td>\n",
       "      <td>Martin Balsam</td>\n",
       "      <td>John Fiedler</td>\n",
       "      <td>689845</td>\n",
       "      <td>4,360,000</td>\n",
       "    </tr>\n",
       "  </tbody>\n",
       "</table>\n",
       "</div>"
      ],
      "text/plain": [
       "                                         Poster_Link  \\\n",
       "0  https://m.media-amazon.com/images/M/MV5BMDFkYT...   \n",
       "1  https://m.media-amazon.com/images/M/MV5BM2MyNj...   \n",
       "2  https://m.media-amazon.com/images/M/MV5BMTMxNT...   \n",
       "3  https://m.media-amazon.com/images/M/MV5BMWMwMG...   \n",
       "4  https://m.media-amazon.com/images/M/MV5BMWU4N2...   \n",
       "\n",
       "               Series_Title Released_Year Certificate  Runtime  \\\n",
       "0  The Shawshank Redemption          1994           A  142 min   \n",
       "1             The Godfather          1972           A  175 min   \n",
       "2           The Dark Knight          2008          UA  152 min   \n",
       "3    The Godfather: Part II          1974           A  202 min   \n",
       "4              12 Angry Men          1957           U   96 min   \n",
       "\n",
       "                  Genre  IMDB_Rating  \\\n",
       "0                 Drama          9.3   \n",
       "1          Crime, Drama          9.2   \n",
       "2  Action, Crime, Drama          9.0   \n",
       "3          Crime, Drama          9.0   \n",
       "4          Crime, Drama          9.0   \n",
       "\n",
       "                                            Overview  Meta_score  \\\n",
       "0  Two imprisoned men bond over a number of years...        80.0   \n",
       "1  An organized crime dynasty's aging patriarch t...       100.0   \n",
       "2  When the menace known as the Joker wreaks havo...        84.0   \n",
       "3  The early life and career of Vito Corleone in ...        90.0   \n",
       "4  A jury holdout attempts to prevent a miscarria...        96.0   \n",
       "\n",
       "               Director           Star1           Star2          Star3  \\\n",
       "0        Frank Darabont     Tim Robbins  Morgan Freeman     Bob Gunton   \n",
       "1  Francis Ford Coppola   Marlon Brando       Al Pacino     James Caan   \n",
       "2     Christopher Nolan  Christian Bale    Heath Ledger  Aaron Eckhart   \n",
       "3  Francis Ford Coppola       Al Pacino  Robert De Niro  Robert Duvall   \n",
       "4          Sidney Lumet     Henry Fonda     Lee J. Cobb  Martin Balsam   \n",
       "\n",
       "            Star4  No_of_Votes        Gross  \n",
       "0  William Sadler      2343110   28,341,469  \n",
       "1    Diane Keaton      1620367  134,966,411  \n",
       "2   Michael Caine      2303232  534,858,444  \n",
       "3    Diane Keaton      1129952   57,300,000  \n",
       "4    John Fiedler       689845    4,360,000  "
      ]
     },
     "execution_count": 127,
     "metadata": {},
     "output_type": "execute_result"
    }
   ],
   "source": [
    "df_imdb.head()"
   ]
  },
  {
   "cell_type": "markdown",
   "id": "0881b75f",
   "metadata": {},
   "source": [
    "Observasions:\n",
    "columns Poster_Link,Series_Title,Released_Year and Overview may dropped as it is not giving any insights \n",
    "to the analysis for prediction of IMBD Rating for any movie.\n",
    "label column is IMDB Rating"
   ]
  },
  {
   "cell_type": "code",
   "execution_count": 128,
   "id": "234aab86",
   "metadata": {},
   "outputs": [
    {
     "data": {
      "text/plain": [
       "Poster_Link       object\n",
       "Series_Title      object\n",
       "Released_Year     object\n",
       "Certificate       object\n",
       "Runtime           object\n",
       "Genre             object\n",
       "IMDB_Rating      float64\n",
       "Overview          object\n",
       "Meta_score       float64\n",
       "Director          object\n",
       "Star1             object\n",
       "Star2             object\n",
       "Star3             object\n",
       "Star4             object\n",
       "No_of_Votes        int64\n",
       "Gross             object\n",
       "dtype: object"
      ]
     },
     "execution_count": 128,
     "metadata": {},
     "output_type": "execute_result"
    }
   ],
   "source": [
    "df_imdb.dtypes"
   ]
  },
  {
   "cell_type": "markdown",
   "id": "8b548fb1",
   "metadata": {},
   "source": [
    "The data set is a mix of numerical and categorical columns, but runtime and gross are described as categorical.\n",
    "It needs to be changed to numerical"
   ]
  },
  {
   "cell_type": "code",
   "execution_count": 129,
   "id": "85d1c151",
   "metadata": {},
   "outputs": [],
   "source": [
    "df_imdb['Runtime'] = df_imdb['Runtime'].astype('str').str.replace('min','').astype('float')"
   ]
  },
  {
   "cell_type": "code",
   "execution_count": 130,
   "id": "38dcb91b",
   "metadata": {},
   "outputs": [],
   "source": [
    "df_imdb['Gross'] = df_imdb['Gross'].astype('str').str.replace(',','').astype('float')"
   ]
  },
  {
   "cell_type": "code",
   "execution_count": 131,
   "id": "a217781d",
   "metadata": {},
   "outputs": [
    {
     "data": {
      "text/plain": [
       "Poster_Link       object\n",
       "Series_Title      object\n",
       "Released_Year     object\n",
       "Certificate       object\n",
       "Runtime          float64\n",
       "Genre             object\n",
       "IMDB_Rating      float64\n",
       "Overview          object\n",
       "Meta_score       float64\n",
       "Director          object\n",
       "Star1             object\n",
       "Star2             object\n",
       "Star3             object\n",
       "Star4             object\n",
       "No_of_Votes        int64\n",
       "Gross            float64\n",
       "dtype: object"
      ]
     },
     "execution_count": 131,
     "metadata": {},
     "output_type": "execute_result"
    }
   ],
   "source": [
    "df_imdb.dtypes"
   ]
  },
  {
   "cell_type": "code",
   "execution_count": 132,
   "id": "abb36983",
   "metadata": {},
   "outputs": [
    {
     "data": {
      "text/html": [
       "<div>\n",
       "<style scoped>\n",
       "    .dataframe tbody tr th:only-of-type {\n",
       "        vertical-align: middle;\n",
       "    }\n",
       "\n",
       "    .dataframe tbody tr th {\n",
       "        vertical-align: top;\n",
       "    }\n",
       "\n",
       "    .dataframe thead th {\n",
       "        text-align: right;\n",
       "    }\n",
       "</style>\n",
       "<table border=\"1\" class=\"dataframe\">\n",
       "  <thead>\n",
       "    <tr style=\"text-align: right;\">\n",
       "      <th></th>\n",
       "      <th>Runtime</th>\n",
       "      <th>IMDB_Rating</th>\n",
       "      <th>Meta_score</th>\n",
       "      <th>No_of_Votes</th>\n",
       "      <th>Gross</th>\n",
       "    </tr>\n",
       "  </thead>\n",
       "  <tbody>\n",
       "    <tr>\n",
       "      <th>count</th>\n",
       "      <td>1000.000000</td>\n",
       "      <td>1000.000000</td>\n",
       "      <td>843.000000</td>\n",
       "      <td>1.000000e+03</td>\n",
       "      <td>8.310000e+02</td>\n",
       "    </tr>\n",
       "    <tr>\n",
       "      <th>mean</th>\n",
       "      <td>122.891000</td>\n",
       "      <td>7.949300</td>\n",
       "      <td>77.971530</td>\n",
       "      <td>2.736929e+05</td>\n",
       "      <td>6.803475e+07</td>\n",
       "    </tr>\n",
       "    <tr>\n",
       "      <th>std</th>\n",
       "      <td>28.093671</td>\n",
       "      <td>0.275491</td>\n",
       "      <td>12.376099</td>\n",
       "      <td>3.273727e+05</td>\n",
       "      <td>1.097500e+08</td>\n",
       "    </tr>\n",
       "    <tr>\n",
       "      <th>min</th>\n",
       "      <td>45.000000</td>\n",
       "      <td>7.600000</td>\n",
       "      <td>28.000000</td>\n",
       "      <td>2.508800e+04</td>\n",
       "      <td>1.305000e+03</td>\n",
       "    </tr>\n",
       "    <tr>\n",
       "      <th>25%</th>\n",
       "      <td>103.000000</td>\n",
       "      <td>7.700000</td>\n",
       "      <td>70.000000</td>\n",
       "      <td>5.552625e+04</td>\n",
       "      <td>3.253559e+06</td>\n",
       "    </tr>\n",
       "    <tr>\n",
       "      <th>50%</th>\n",
       "      <td>119.000000</td>\n",
       "      <td>7.900000</td>\n",
       "      <td>79.000000</td>\n",
       "      <td>1.385485e+05</td>\n",
       "      <td>2.353089e+07</td>\n",
       "    </tr>\n",
       "    <tr>\n",
       "      <th>75%</th>\n",
       "      <td>137.000000</td>\n",
       "      <td>8.100000</td>\n",
       "      <td>87.000000</td>\n",
       "      <td>3.741612e+05</td>\n",
       "      <td>8.075089e+07</td>\n",
       "    </tr>\n",
       "    <tr>\n",
       "      <th>max</th>\n",
       "      <td>321.000000</td>\n",
       "      <td>9.300000</td>\n",
       "      <td>100.000000</td>\n",
       "      <td>2.343110e+06</td>\n",
       "      <td>9.366622e+08</td>\n",
       "    </tr>\n",
       "  </tbody>\n",
       "</table>\n",
       "</div>"
      ],
      "text/plain": [
       "           Runtime  IMDB_Rating  Meta_score   No_of_Votes         Gross\n",
       "count  1000.000000  1000.000000  843.000000  1.000000e+03  8.310000e+02\n",
       "mean    122.891000     7.949300   77.971530  2.736929e+05  6.803475e+07\n",
       "std      28.093671     0.275491   12.376099  3.273727e+05  1.097500e+08\n",
       "min      45.000000     7.600000   28.000000  2.508800e+04  1.305000e+03\n",
       "25%     103.000000     7.700000   70.000000  5.552625e+04  3.253559e+06\n",
       "50%     119.000000     7.900000   79.000000  1.385485e+05  2.353089e+07\n",
       "75%     137.000000     8.100000   87.000000  3.741612e+05  8.075089e+07\n",
       "max     321.000000     9.300000  100.000000  2.343110e+06  9.366622e+08"
      ]
     },
     "execution_count": 132,
     "metadata": {},
     "output_type": "execute_result"
    }
   ],
   "source": [
    "df_imdb.describe()"
   ]
  },
  {
   "cell_type": "markdown",
   "id": "44c7923a",
   "metadata": {},
   "source": [
    "Summary Statistics of Numeric Columns"
   ]
  },
  {
   "cell_type": "code",
   "execution_count": 133,
   "id": "57c81844",
   "metadata": {},
   "outputs": [
    {
     "data": {
      "text/plain": [
       "Poster_Link        0\n",
       "Series_Title       0\n",
       "Released_Year      0\n",
       "Certificate      101\n",
       "Runtime            0\n",
       "Genre              0\n",
       "IMDB_Rating        0\n",
       "Overview           0\n",
       "Meta_score       157\n",
       "Director           0\n",
       "Star1              0\n",
       "Star2              0\n",
       "Star3              0\n",
       "Star4              0\n",
       "No_of_Votes        0\n",
       "Gross            169\n",
       "dtype: int64"
      ]
     },
     "execution_count": 133,
     "metadata": {},
     "output_type": "execute_result"
    }
   ],
   "source": [
    "df_imdb.isnull().sum()"
   ]
  },
  {
   "cell_type": "markdown",
   "id": "ba9abaca",
   "metadata": {},
   "source": [
    "there are missing rows in certificate,metascore and gross"
   ]
  },
  {
   "cell_type": "code",
   "execution_count": 134,
   "id": "bf0df128",
   "metadata": {},
   "outputs": [
    {
     "data": {
      "text/plain": [
       "Poster_Link       0.0\n",
       "Series_Title      0.0\n",
       "Released_Year     0.0\n",
       "Certificate      10.1\n",
       "Runtime           0.0\n",
       "Genre             0.0\n",
       "IMDB_Rating       0.0\n",
       "Overview          0.0\n",
       "Meta_score       15.7\n",
       "Director          0.0\n",
       "Star1             0.0\n",
       "Star2             0.0\n",
       "Star3             0.0\n",
       "Star4             0.0\n",
       "No_of_Votes       0.0\n",
       "Gross            16.9\n",
       "dtype: float64"
      ]
     },
     "execution_count": 134,
     "metadata": {},
     "output_type": "execute_result"
    }
   ],
   "source": [
    "df_imdb.isnull().sum()*100/len(df)"
   ]
  },
  {
   "cell_type": "code",
   "execution_count": 135,
   "id": "853ebbda",
   "metadata": {},
   "outputs": [
    {
     "data": {
      "text/plain": [
       "0"
      ]
     },
     "execution_count": 135,
     "metadata": {},
     "output_type": "execute_result"
    }
   ],
   "source": [
    "df_imdb.duplicated().sum()"
   ]
  },
  {
   "cell_type": "code",
   "execution_count": 136,
   "id": "5a099838",
   "metadata": {},
   "outputs": [
    {
     "data": {
      "text/plain": [
       "Runtime        29\n",
       "IMDB_Rating    13\n",
       "Meta_score      7\n",
       "No_of_Votes    67\n",
       "Gross          89\n",
       "dtype: int64"
      ]
     },
     "execution_count": 136,
     "metadata": {},
     "output_type": "execute_result"
    }
   ],
   "source": [
    "Q1 = df_imdb.select_dtypes('number').quantile(0.25)\n",
    "Q3 = df_imdb.select_dtypes('number').quantile(0.75)\n",
    "IQR = Q3 - Q1\n",
    "lower_bound = Q1 - 1.5 * IQR\n",
    "upper_bound = Q3 + 1.5 * IQR\n",
    "potential_outliers = (df_imdb.select_dtypes('number') < lower_bound) | (df_imdb.select_dtypes('number') > upper_bound)\n",
    "potential_outliers.sum()"
   ]
  },
  {
   "cell_type": "markdown",
   "id": "205363cc",
   "metadata": {},
   "source": [
    "IMDB Rating, Metascores and no of votes may have outliers"
   ]
  },
  {
   "cell_type": "markdown",
   "id": "11b2849c",
   "metadata": {},
   "source": [
    "Value Counts of Category columns"
   ]
  },
  {
   "cell_type": "code",
   "execution_count": 137,
   "id": "2969d29b",
   "metadata": {},
   "outputs": [
    {
     "data": {
      "text/plain": [
       "U           234\n",
       "A           197\n",
       "UA          175\n",
       "R           146\n",
       "PG-13        43\n",
       "PG           37\n",
       "Passed       34\n",
       "G            12\n",
       "Approved     11\n",
       "TV-PG         3\n",
       "GP            2\n",
       "TV-14         1\n",
       "16            1\n",
       "TV-MA         1\n",
       "Unrated       1\n",
       "U/A           1\n",
       "Name: Certificate, dtype: int64"
      ]
     },
     "execution_count": 137,
     "metadata": {},
     "output_type": "execute_result"
    }
   ],
   "source": [
    "df_imdb.Certificate.value_counts()"
   ]
  },
  {
   "cell_type": "code",
   "execution_count": 138,
   "id": "aa7b3614",
   "metadata": {},
   "outputs": [
    {
     "data": {
      "text/plain": [
       "Drama                        85\n",
       "Drama, Romance               37\n",
       "Comedy, Drama                35\n",
       "Comedy, Drama, Romance       31\n",
       "Action, Crime, Drama         30\n",
       "                             ..\n",
       "Adventure, Thriller           1\n",
       "Animation, Action, Sci-Fi     1\n",
       "Action, Crime, Comedy         1\n",
       "Animation, Crime, Mystery     1\n",
       "Adventure, Comedy, War        1\n",
       "Name: Genre, Length: 202, dtype: int64"
      ]
     },
     "execution_count": 138,
     "metadata": {},
     "output_type": "execute_result"
    }
   ],
   "source": [
    "df_imdb.Genre.value_counts()"
   ]
  },
  {
   "cell_type": "code",
   "execution_count": 139,
   "id": "ff2fa677",
   "metadata": {},
   "outputs": [
    {
     "data": {
      "text/plain": [
       "Alfred Hitchcock    14\n",
       "Steven Spielberg    13\n",
       "Hayao Miyazaki      11\n",
       "Martin Scorsese     10\n",
       "Akira Kurosawa      10\n",
       "                    ..\n",
       "Neill Blomkamp       1\n",
       "Tomas Alfredson      1\n",
       "Duncan Jones         1\n",
       "Jacques Audiard      1\n",
       "George Stevens       1\n",
       "Name: Director, Length: 548, dtype: int64"
      ]
     },
     "execution_count": 139,
     "metadata": {},
     "output_type": "execute_result"
    }
   ],
   "source": [
    "df_imdb.Director.value_counts()"
   ]
  },
  {
   "cell_type": "code",
   "execution_count": 140,
   "id": "15ed5a1b",
   "metadata": {},
   "outputs": [
    {
     "data": {
      "text/plain": [
       "Tom Hanks          12\n",
       "Robert De Niro     11\n",
       "Al Pacino          10\n",
       "Clint Eastwood     10\n",
       "Humphrey Bogart     9\n",
       "                   ..\n",
       "Preity Zinta        1\n",
       "Javier Bardem       1\n",
       "Ki-duk Kim          1\n",
       "Vladimir Garin      1\n",
       "Robert Donat        1\n",
       "Name: Star1, Length: 660, dtype: int64"
      ]
     },
     "execution_count": 140,
     "metadata": {},
     "output_type": "execute_result"
    }
   ],
   "source": [
    "df_imdb.Star1.value_counts()"
   ]
  },
  {
   "cell_type": "code",
   "execution_count": 141,
   "id": "45e2726d",
   "metadata": {},
   "outputs": [
    {
     "data": {
      "text/plain": [
       "Emma Watson          7\n",
       "Matt Damon           5\n",
       "Kate Winslet         4\n",
       "Ian McKellen         4\n",
       "Chris Evans          4\n",
       "                    ..\n",
       "Viola Davis          1\n",
       "Morena Baccarin      1\n",
       "Shahab Hosseini      1\n",
       "Simon Yam            1\n",
       "Madeleine Carroll    1\n",
       "Name: Star2, Length: 841, dtype: int64"
      ]
     },
     "execution_count": 141,
     "metadata": {},
     "output_type": "execute_result"
    }
   ],
   "source": [
    "df_imdb.Star2.value_counts()"
   ]
  },
  {
   "cell_type": "code",
   "execution_count": 142,
   "id": "abcc5df5",
   "metadata": {},
   "outputs": [
    {
     "data": {
      "text/plain": [
       "Rupert Grint          5\n",
       "Scarlett Johansson    4\n",
       "Jennifer Connelly     4\n",
       "Rachel McAdams        4\n",
       "John Goodman          4\n",
       "                     ..\n",
       "Arifin Putra          1\n",
       "Matthew Goode         1\n",
       "Bradley Cooper        1\n",
       "Gwilym Lee            1\n",
       "Lucie Mannheim        1\n",
       "Name: Star3, Length: 891, dtype: int64"
      ]
     },
     "execution_count": 142,
     "metadata": {},
     "output_type": "execute_result"
    }
   ],
   "source": [
    "df_imdb.Star3.value_counts()"
   ]
  },
  {
   "cell_type": "code",
   "execution_count": 143,
   "id": "f5f299af",
   "metadata": {},
   "outputs": [
    {
     "data": {
      "text/plain": [
       "Michael Caine        4\n",
       "Mark Ruffalo         3\n",
       "Catherine Keener     3\n",
       "Julianne Moore       2\n",
       "Donald Sutherland    2\n",
       "                    ..\n",
       "Paul Rudd            1\n",
       "Derek Jacobi         1\n",
       "Ed Skrein            1\n",
       "Merila Zare'i        1\n",
       "Godfrey Tearle       1\n",
       "Name: Star4, Length: 939, dtype: int64"
      ]
     },
     "execution_count": 143,
     "metadata": {},
     "output_type": "execute_result"
    }
   ],
   "source": [
    "df_imdb.Star4.value_counts()"
   ]
  },
  {
   "cell_type": "markdown",
   "id": "8ce4c880",
   "metadata": {},
   "source": [
    "Data Visualisation"
   ]
  },
  {
   "cell_type": "code",
   "execution_count": 144,
   "id": "c7aac086",
   "metadata": {
    "scrolled": true
   },
   "outputs": [
    {
     "data": {
      "image/png": "[encoded data removed]",
      "text/plain": [
       "<Figure size 800x500 with 1 Axes>"
      ]
     },
     "metadata": {},
     "output_type": "display_data"
    }
   ],
   "source": [
    "plt.figure(figsize=(8,5))\n",
    "sns.histplot(df_imdb['IMDB_Rating'],bins=30,kde='True')\n",
    "plt.title('Histogram of IMDB_Rating')\n",
    "plt.xlabel('IMDB_Rating')\n",
    "plt.ylabel('Frequency')\n",
    "plt.show()"
   ]
  },
  {
   "cell_type": "code",
   "execution_count": 145,
   "id": "39a3823c",
   "metadata": {},
   "outputs": [
    {
     "data": {
      "image/png": "[encoded data removed]",
      "text/plain": [
       "<Figure size 800x500 with 1 Axes>"
      ]
     },
     "metadata": {},
     "output_type": "display_data"
    }
   ],
   "source": [
    "plt.figure(figsize=(8,5))\n",
    "sns.histplot(df_imdb['Meta_score'],bins=30,kde='True')\n",
    "plt.title('Histogram of Meta Score')\n",
    "plt.xlabel('Meta Score')\n",
    "plt.ylabel('Frequency')\n",
    "plt.show()"
   ]
  },
  {
   "cell_type": "code",
   "execution_count": 146,
   "id": "10739671",
   "metadata": {},
   "outputs": [
    {
     "data": {
      "image/png": "[encoded data removed]",
      "text/plain": [
       "<Figure size 800x500 with 1 Axes>"
      ]
     },
     "metadata": {},
     "output_type": "display_data"
    }
   ],
   "source": [
    "plt.figure(figsize=(8, 5))\n",
    "sns.boxplot(x=df_imdb['IMDB_Rating'])\n",
    "plt.title('Box Plot of IMDB Rating')\n",
    "plt.xlabel('IMDB Rating')\n",
    "plt.show()"
   ]
  },
  {
   "cell_type": "code",
   "execution_count": 147,
   "id": "b501c441",
   "metadata": {},
   "outputs": [
    {
     "data": {
      "image/png": "[encoded data removed]",
      "text/plain": [
       "<Figure size 800x500 with 1 Axes>"
      ]
     },
     "metadata": {},
     "output_type": "display_data"
    }
   ],
   "source": [
    "plt.figure(figsize=(8, 5))\n",
    "sns.boxplot(x=df_imdb['Meta_score'])\n",
    "plt.title('Box Plot of Meta Score')\n",
    "plt.xlabel('Meta Score')\n",
    "plt.show()"
   ]
  },
  {
   "cell_type": "code",
   "execution_count": 148,
   "id": "75bd820a",
   "metadata": {},
   "outputs": [
    {
     "data": {
      "image/png": "[encoded data removed]",
      "text/plain": [
       "<Figure size 800x500 with 1 Axes>"
      ]
     },
     "metadata": {},
     "output_type": "display_data"
    }
   ],
   "source": [
    "plt.figure(figsize=(8, 5))\n",
    "sns.boxplot(x=df_imdb['No_of_Votes'])\n",
    "plt.title('Box Plot of No of Votes')\n",
    "plt.xlabel('No of Votes')\n",
    "plt.show()"
   ]
  },
  {
   "cell_type": "raw",
   "id": "2b8f9070",
   "metadata": {},
   "source": [
    "Observations from Data Visualisation:\n",
    "The minimum value of IMDB Rating is 7.6\n",
    "Meta score is high between 80 to 90\n",
    "IMDB Rating may have upper side outliers\n",
    "Meta score may have lower side outliers\n",
    "No of votes may have upper side outliers\n",
    "There are columns to be removed\n",
    "There are missing rows to be removed"
   ]
  },
  {
   "cell_type": "markdown",
   "id": "f454c9bc",
   "metadata": {},
   "source": [
    "## Data Preprocessing"
   ]
  },
  {
   "cell_type": "markdown",
   "id": "bbc9ba26",
   "metadata": {},
   "source": [
    "remove columns - Poster_Link,Released Year, Overview"
   ]
  },
  {
   "cell_type": "code",
   "execution_count": 149,
   "id": "78bc9ee7",
   "metadata": {},
   "outputs": [],
   "source": [
    "\n",
    "df_imdb=df_imdb.drop(columns=['Poster_Link','Released_Year','Overview'])"
   ]
  },
  {
   "cell_type": "code",
   "execution_count": 150,
   "id": "4470c488",
   "metadata": {},
   "outputs": [
    {
     "data": {
      "text/plain": [
       "(1000, 13)"
      ]
     },
     "execution_count": 150,
     "metadata": {},
     "output_type": "execute_result"
    }
   ],
   "source": [
    "df_imdb.shape"
   ]
  },
  {
   "cell_type": "markdown",
   "id": "ba30447f",
   "metadata": {},
   "source": [
    "remove rows with  missing values"
   ]
  },
  {
   "cell_type": "code",
   "execution_count": 151,
   "id": "1c0a4bd8",
   "metadata": {},
   "outputs": [],
   "source": [
    "\n",
    "df_imdb= df_imdb.dropna()"
   ]
  },
  {
   "cell_type": "code",
   "execution_count": 152,
   "id": "32eab803",
   "metadata": {},
   "outputs": [
    {
     "data": {
      "text/plain": [
       "(714, 13)"
      ]
     },
     "execution_count": 152,
     "metadata": {},
     "output_type": "execute_result"
    }
   ],
   "source": [
    "df_imdb.shape"
   ]
  },
  {
   "cell_type": "code",
   "execution_count": 153,
   "id": "8a8602f8",
   "metadata": {},
   "outputs": [
    {
     "data": {
      "text/html": [
       "<div>\n",
       "<style scoped>\n",
       "    .dataframe tbody tr th:only-of-type {\n",
       "        vertical-align: middle;\n",
       "    }\n",
       "\n",
       "    .dataframe tbody tr th {\n",
       "        vertical-align: top;\n",
       "    }\n",
       "\n",
       "    .dataframe thead th {\n",
       "        text-align: right;\n",
       "    }\n",
       "</style>\n",
       "<table border=\"1\" class=\"dataframe\">\n",
       "  <thead>\n",
       "    <tr style=\"text-align: right;\">\n",
       "      <th></th>\n",
       "      <th>Runtime</th>\n",
       "      <th>IMDB_Rating</th>\n",
       "      <th>Meta_score</th>\n",
       "      <th>No_of_Votes</th>\n",
       "      <th>Gross</th>\n",
       "    </tr>\n",
       "  </thead>\n",
       "  <tbody>\n",
       "    <tr>\n",
       "      <th>0</th>\n",
       "      <td>142.0</td>\n",
       "      <td>9.3</td>\n",
       "      <td>80.0</td>\n",
       "      <td>2343110</td>\n",
       "      <td>28341469.0</td>\n",
       "    </tr>\n",
       "    <tr>\n",
       "      <th>1</th>\n",
       "      <td>175.0</td>\n",
       "      <td>9.2</td>\n",
       "      <td>100.0</td>\n",
       "      <td>1620367</td>\n",
       "      <td>134966411.0</td>\n",
       "    </tr>\n",
       "    <tr>\n",
       "      <th>2</th>\n",
       "      <td>152.0</td>\n",
       "      <td>9.0</td>\n",
       "      <td>84.0</td>\n",
       "      <td>2303232</td>\n",
       "      <td>534858444.0</td>\n",
       "    </tr>\n",
       "    <tr>\n",
       "      <th>3</th>\n",
       "      <td>202.0</td>\n",
       "      <td>9.0</td>\n",
       "      <td>90.0</td>\n",
       "      <td>1129952</td>\n",
       "      <td>57300000.0</td>\n",
       "    </tr>\n",
       "    <tr>\n",
       "      <th>4</th>\n",
       "      <td>96.0</td>\n",
       "      <td>9.0</td>\n",
       "      <td>96.0</td>\n",
       "      <td>689845</td>\n",
       "      <td>4360000.0</td>\n",
       "    </tr>\n",
       "  </tbody>\n",
       "</table>\n",
       "</div>"
      ],
      "text/plain": [
       "   Runtime  IMDB_Rating  Meta_score  No_of_Votes        Gross\n",
       "0    142.0          9.3        80.0      2343110   28341469.0\n",
       "1    175.0          9.2       100.0      1620367  134966411.0\n",
       "2    152.0          9.0        84.0      2303232  534858444.0\n",
       "3    202.0          9.0        90.0      1129952   57300000.0\n",
       "4     96.0          9.0        96.0       689845    4360000.0"
      ]
     },
     "execution_count": 153,
     "metadata": {},
     "output_type": "execute_result"
    }
   ],
   "source": [
    "df_imdb_num= df_imdb.select_dtypes(include='number')\n",
    "df_imdb_num.head()"
   ]
  },
  {
   "cell_type": "code",
   "execution_count": 154,
   "id": "61528f8c",
   "metadata": {},
   "outputs": [],
   "source": [
    "Q1 = df_imdb_num.quantile(0.25)\n",
    "Q3 = df_imdb_num.quantile(0.75)\n",
    "IQR = Q3 - Q1\n",
    "lower_bound = Q1 - 1.5 * IQR\n",
    "upper_bound = Q3 + 1.5 * IQR"
   ]
  },
  {
   "cell_type": "code",
   "execution_count": 155,
   "id": "70b7c90a",
   "metadata": {},
   "outputs": [
    {
     "data": {
      "text/plain": [
       "Runtime        5.662500e+01\n",
       "IMDB_Rating    7.100000e+00\n",
       "Meta_score     4.600000e+01\n",
       "No_of_Votes   -5.216640e+05\n",
       "Gross         -1.383026e+08\n",
       "dtype: float64"
      ]
     },
     "execution_count": 155,
     "metadata": {},
     "output_type": "execute_result"
    }
   ],
   "source": [
    "lower_bound"
   ]
  },
  {
   "cell_type": "code",
   "execution_count": 156,
   "id": "95523b3b",
   "metadata": {},
   "outputs": [
    {
     "data": {
      "text/plain": [
       "Runtime        1.836250e+02\n",
       "IMDB_Rating    8.700000e+00\n",
       "Meta_score     1.100000e+02\n",
       "No_of_Votes    1.125466e+06\n",
       "Gross          2.469241e+08\n",
       "dtype: float64"
      ]
     },
     "execution_count": 156,
     "metadata": {},
     "output_type": "execute_result"
    }
   ],
   "source": [
    "upper_bound"
   ]
  },
  {
   "cell_type": "code",
   "execution_count": 157,
   "id": "b43debea",
   "metadata": {},
   "outputs": [],
   "source": [
    "df_imdb = df_imdb[~((df_imdb_num < lower_bound) | (df_imdb_num > upper_bound)).any(axis=1)]"
   ]
  },
  {
   "cell_type": "code",
   "execution_count": 158,
   "id": "72317e1f",
   "metadata": {},
   "outputs": [
    {
     "data": {
      "text/plain": [
       "(604, 13)"
      ]
     },
     "execution_count": 158,
     "metadata": {},
     "output_type": "execute_result"
    }
   ],
   "source": [
    "df_imdb.shape"
   ]
  },
  {
   "cell_type": "code",
   "execution_count": 159,
   "id": "d8088f6b",
   "metadata": {},
   "outputs": [
    {
     "data": {
      "text/plain": [
       "<Axes: xlabel='IMDB_Rating'>"
      ]
     },
     "execution_count": 159,
     "metadata": {},
     "output_type": "execute_result"
    },
    {
     "data": {
      "image/png": "[encoded data removed]",
      "text/plain": [
       "<Figure size 640x480 with 1 Axes>"
      ]
     },
     "metadata": {},
     "output_type": "display_data"
    }
   ],
   "source": [
    "sns.boxplot(x=df_imdb['IMDB_Rating'])"
   ]
  },
  {
   "cell_type": "code",
   "execution_count": 160,
   "id": "304a8105",
   "metadata": {},
   "outputs": [
    {
     "data": {
      "text/html": [
       "<div>\n",
       "<style scoped>\n",
       "    .dataframe tbody tr th:only-of-type {\n",
       "        vertical-align: middle;\n",
       "    }\n",
       "\n",
       "    .dataframe tbody tr th {\n",
       "        vertical-align: top;\n",
       "    }\n",
       "\n",
       "    .dataframe thead th {\n",
       "        text-align: right;\n",
       "    }\n",
       "</style>\n",
       "<table border=\"1\" class=\"dataframe\">\n",
       "  <thead>\n",
       "    <tr style=\"text-align: right;\">\n",
       "      <th></th>\n",
       "      <th>Series_Title</th>\n",
       "      <th>Certificate</th>\n",
       "      <th>Runtime</th>\n",
       "      <th>Genre</th>\n",
       "      <th>Meta_score</th>\n",
       "      <th>Director</th>\n",
       "      <th>Star1</th>\n",
       "      <th>Star2</th>\n",
       "      <th>Star3</th>\n",
       "      <th>Star4</th>\n",
       "      <th>No_of_Votes</th>\n",
       "      <th>Gross</th>\n",
       "    </tr>\n",
       "  </thead>\n",
       "  <tbody>\n",
       "    <tr>\n",
       "      <th>15</th>\n",
       "      <td>Goodfellas</td>\n",
       "      <td>A</td>\n",
       "      <td>146.0</td>\n",
       "      <td>Biography, Crime, Drama</td>\n",
       "      <td>90.0</td>\n",
       "      <td>Martin Scorsese</td>\n",
       "      <td>Robert De Niro</td>\n",
       "      <td>Ray Liotta</td>\n",
       "      <td>Joe Pesci</td>\n",
       "      <td>Lorraine Bracco</td>\n",
       "      <td>1020727</td>\n",
       "      <td>46836394.0</td>\n",
       "    </tr>\n",
       "    <tr>\n",
       "      <th>17</th>\n",
       "      <td>One Flew Over the Cuckoo's Nest</td>\n",
       "      <td>A</td>\n",
       "      <td>133.0</td>\n",
       "      <td>Drama</td>\n",
       "      <td>83.0</td>\n",
       "      <td>Milos Forman</td>\n",
       "      <td>Jack Nicholson</td>\n",
       "      <td>Louise Fletcher</td>\n",
       "      <td>Michael Berryman</td>\n",
       "      <td>Peter Brocco</td>\n",
       "      <td>918088</td>\n",
       "      <td>112000000.0</td>\n",
       "    </tr>\n",
       "    <tr>\n",
       "      <th>19</th>\n",
       "      <td>Gisaengchung</td>\n",
       "      <td>A</td>\n",
       "      <td>132.0</td>\n",
       "      <td>Comedy, Drama, Thriller</td>\n",
       "      <td>96.0</td>\n",
       "      <td>Bong Joon Ho</td>\n",
       "      <td>Kang-ho Song</td>\n",
       "      <td>Lee Sun-kyun</td>\n",
       "      <td>Cho Yeo-jeong</td>\n",
       "      <td>Choi Woo-sik</td>\n",
       "      <td>552778</td>\n",
       "      <td>53367844.0</td>\n",
       "    </tr>\n",
       "    <tr>\n",
       "      <th>22</th>\n",
       "      <td>Cidade de Deus</td>\n",
       "      <td>A</td>\n",
       "      <td>130.0</td>\n",
       "      <td>Crime, Drama</td>\n",
       "      <td>79.0</td>\n",
       "      <td>Fernando Meirelles</td>\n",
       "      <td>Kátia Lund</td>\n",
       "      <td>Alexandre Rodrigues</td>\n",
       "      <td>Leandro Firmino</td>\n",
       "      <td>Matheus Nachtergaele</td>\n",
       "      <td>699256</td>\n",
       "      <td>7563397.0</td>\n",
       "    </tr>\n",
       "    <tr>\n",
       "      <th>23</th>\n",
       "      <td>Sen to Chihiro no kamikakushi</td>\n",
       "      <td>U</td>\n",
       "      <td>125.0</td>\n",
       "      <td>Animation, Adventure, Family</td>\n",
       "      <td>96.0</td>\n",
       "      <td>Hayao Miyazaki</td>\n",
       "      <td>Daveigh Chase</td>\n",
       "      <td>Suzanne Pleshette</td>\n",
       "      <td>Miyu Irino</td>\n",
       "      <td>Rumi Hiiragi</td>\n",
       "      <td>651376</td>\n",
       "      <td>10055859.0</td>\n",
       "    </tr>\n",
       "  </tbody>\n",
       "</table>\n",
       "</div>"
      ],
      "text/plain": [
       "                       Series_Title Certificate  Runtime  \\\n",
       "15                       Goodfellas           A    146.0   \n",
       "17  One Flew Over the Cuckoo's Nest           A    133.0   \n",
       "19                     Gisaengchung           A    132.0   \n",
       "22                   Cidade de Deus           A    130.0   \n",
       "23    Sen to Chihiro no kamikakushi           U    125.0   \n",
       "\n",
       "                           Genre  Meta_score            Director  \\\n",
       "15       Biography, Crime, Drama        90.0     Martin Scorsese   \n",
       "17                         Drama        83.0        Milos Forman   \n",
       "19       Comedy, Drama, Thriller        96.0        Bong Joon Ho   \n",
       "22                  Crime, Drama        79.0  Fernando Meirelles   \n",
       "23  Animation, Adventure, Family        96.0      Hayao Miyazaki   \n",
       "\n",
       "             Star1                Star2             Star3  \\\n",
       "15  Robert De Niro           Ray Liotta         Joe Pesci   \n",
       "17  Jack Nicholson      Louise Fletcher  Michael Berryman   \n",
       "19    Kang-ho Song         Lee Sun-kyun     Cho Yeo-jeong   \n",
       "22      Kátia Lund  Alexandre Rodrigues   Leandro Firmino   \n",
       "23   Daveigh Chase    Suzanne Pleshette        Miyu Irino   \n",
       "\n",
       "                   Star4  No_of_Votes        Gross  \n",
       "15       Lorraine Bracco      1020727   46836394.0  \n",
       "17          Peter Brocco       918088  112000000.0  \n",
       "19          Choi Woo-sik       552778   53367844.0  \n",
       "22  Matheus Nachtergaele       699256    7563397.0  \n",
       "23          Rumi Hiiragi       651376   10055859.0  "
      ]
     },
     "execution_count": 160,
     "metadata": {},
     "output_type": "execute_result"
    }
   ],
   "source": [
    "X = df_imdb.drop('IMDB_Rating', axis=1)\n",
    "y = df_imdb.IMDB_Rating\n",
    "X.head()"
   ]
  },
  {
   "cell_type": "code",
   "execution_count": 161,
   "id": "cf802cd3",
   "metadata": {},
   "outputs": [],
   "source": [
    "X_num=X.select_dtypes('number')"
   ]
  },
  {
   "cell_type": "code",
   "execution_count": 162,
   "id": "b06eb569",
   "metadata": {},
   "outputs": [
    {
     "data": {
      "text/html": [
       "<div>\n",
       "<style scoped>\n",
       "    .dataframe tbody tr th:only-of-type {\n",
       "        vertical-align: middle;\n",
       "    }\n",
       "\n",
       "    .dataframe tbody tr th {\n",
       "        vertical-align: top;\n",
       "    }\n",
       "\n",
       "    .dataframe thead th {\n",
       "        text-align: right;\n",
       "    }\n",
       "</style>\n",
       "<table border=\"1\" class=\"dataframe\">\n",
       "  <thead>\n",
       "    <tr style=\"text-align: right;\">\n",
       "      <th></th>\n",
       "      <th>Runtime</th>\n",
       "      <th>Meta_score</th>\n",
       "      <th>No_of_Votes</th>\n",
       "      <th>Gross</th>\n",
       "    </tr>\n",
       "  </thead>\n",
       "  <tbody>\n",
       "    <tr>\n",
       "      <th>15</th>\n",
       "      <td>146.0</td>\n",
       "      <td>90.0</td>\n",
       "      <td>1020727</td>\n",
       "      <td>46836394.0</td>\n",
       "    </tr>\n",
       "    <tr>\n",
       "      <th>17</th>\n",
       "      <td>133.0</td>\n",
       "      <td>83.0</td>\n",
       "      <td>918088</td>\n",
       "      <td>112000000.0</td>\n",
       "    </tr>\n",
       "    <tr>\n",
       "      <th>19</th>\n",
       "      <td>132.0</td>\n",
       "      <td>96.0</td>\n",
       "      <td>552778</td>\n",
       "      <td>53367844.0</td>\n",
       "    </tr>\n",
       "    <tr>\n",
       "      <th>22</th>\n",
       "      <td>130.0</td>\n",
       "      <td>79.0</td>\n",
       "      <td>699256</td>\n",
       "      <td>7563397.0</td>\n",
       "    </tr>\n",
       "    <tr>\n",
       "      <th>23</th>\n",
       "      <td>125.0</td>\n",
       "      <td>96.0</td>\n",
       "      <td>651376</td>\n",
       "      <td>10055859.0</td>\n",
       "    </tr>\n",
       "  </tbody>\n",
       "</table>\n",
       "</div>"
      ],
      "text/plain": [
       "    Runtime  Meta_score  No_of_Votes        Gross\n",
       "15    146.0        90.0      1020727   46836394.0\n",
       "17    133.0        83.0       918088  112000000.0\n",
       "19    132.0        96.0       552778   53367844.0\n",
       "22    130.0        79.0       699256    7563397.0\n",
       "23    125.0        96.0       651376   10055859.0"
      ]
     },
     "execution_count": 162,
     "metadata": {},
     "output_type": "execute_result"
    }
   ],
   "source": [
    "X_num.head()"
   ]
  },
  {
   "cell_type": "code",
   "execution_count": 163,
   "id": "fa6f3acd",
   "metadata": {},
   "outputs": [
    {
     "data": {
      "text/html": [
       "<div>\n",
       "<style scoped>\n",
       "    .dataframe tbody tr th:only-of-type {\n",
       "        vertical-align: middle;\n",
       "    }\n",
       "\n",
       "    .dataframe tbody tr th {\n",
       "        vertical-align: top;\n",
       "    }\n",
       "\n",
       "    .dataframe thead th {\n",
       "        text-align: right;\n",
       "    }\n",
       "</style>\n",
       "<table border=\"1\" class=\"dataframe\">\n",
       "  <thead>\n",
       "    <tr style=\"text-align: right;\">\n",
       "      <th></th>\n",
       "      <th>Series_Title</th>\n",
       "      <th>Certificate</th>\n",
       "      <th>Genre</th>\n",
       "      <th>Director</th>\n",
       "      <th>Star1</th>\n",
       "      <th>Star2</th>\n",
       "      <th>Star3</th>\n",
       "      <th>Star4</th>\n",
       "    </tr>\n",
       "  </thead>\n",
       "  <tbody>\n",
       "    <tr>\n",
       "      <th>15</th>\n",
       "      <td>Goodfellas</td>\n",
       "      <td>A</td>\n",
       "      <td>Biography, Crime, Drama</td>\n",
       "      <td>Martin Scorsese</td>\n",
       "      <td>Robert De Niro</td>\n",
       "      <td>Ray Liotta</td>\n",
       "      <td>Joe Pesci</td>\n",
       "      <td>Lorraine Bracco</td>\n",
       "    </tr>\n",
       "    <tr>\n",
       "      <th>17</th>\n",
       "      <td>One Flew Over the Cuckoo's Nest</td>\n",
       "      <td>A</td>\n",
       "      <td>Drama</td>\n",
       "      <td>Milos Forman</td>\n",
       "      <td>Jack Nicholson</td>\n",
       "      <td>Louise Fletcher</td>\n",
       "      <td>Michael Berryman</td>\n",
       "      <td>Peter Brocco</td>\n",
       "    </tr>\n",
       "    <tr>\n",
       "      <th>19</th>\n",
       "      <td>Gisaengchung</td>\n",
       "      <td>A</td>\n",
       "      <td>Comedy, Drama, Thriller</td>\n",
       "      <td>Bong Joon Ho</td>\n",
       "      <td>Kang-ho Song</td>\n",
       "      <td>Lee Sun-kyun</td>\n",
       "      <td>Cho Yeo-jeong</td>\n",
       "      <td>Choi Woo-sik</td>\n",
       "    </tr>\n",
       "    <tr>\n",
       "      <th>22</th>\n",
       "      <td>Cidade de Deus</td>\n",
       "      <td>A</td>\n",
       "      <td>Crime, Drama</td>\n",
       "      <td>Fernando Meirelles</td>\n",
       "      <td>Kátia Lund</td>\n",
       "      <td>Alexandre Rodrigues</td>\n",
       "      <td>Leandro Firmino</td>\n",
       "      <td>Matheus Nachtergaele</td>\n",
       "    </tr>\n",
       "    <tr>\n",
       "      <th>23</th>\n",
       "      <td>Sen to Chihiro no kamikakushi</td>\n",
       "      <td>U</td>\n",
       "      <td>Animation, Adventure, Family</td>\n",
       "      <td>Hayao Miyazaki</td>\n",
       "      <td>Daveigh Chase</td>\n",
       "      <td>Suzanne Pleshette</td>\n",
       "      <td>Miyu Irino</td>\n",
       "      <td>Rumi Hiiragi</td>\n",
       "    </tr>\n",
       "  </tbody>\n",
       "</table>\n",
       "</div>"
      ],
      "text/plain": [
       "                       Series_Title Certificate                         Genre  \\\n",
       "15                       Goodfellas           A       Biography, Crime, Drama   \n",
       "17  One Flew Over the Cuckoo's Nest           A                         Drama   \n",
       "19                     Gisaengchung           A       Comedy, Drama, Thriller   \n",
       "22                   Cidade de Deus           A                  Crime, Drama   \n",
       "23    Sen to Chihiro no kamikakushi           U  Animation, Adventure, Family   \n",
       "\n",
       "              Director           Star1                Star2             Star3  \\\n",
       "15     Martin Scorsese  Robert De Niro           Ray Liotta         Joe Pesci   \n",
       "17        Milos Forman  Jack Nicholson      Louise Fletcher  Michael Berryman   \n",
       "19        Bong Joon Ho    Kang-ho Song         Lee Sun-kyun     Cho Yeo-jeong   \n",
       "22  Fernando Meirelles      Kátia Lund  Alexandre Rodrigues   Leandro Firmino   \n",
       "23      Hayao Miyazaki   Daveigh Chase    Suzanne Pleshette        Miyu Irino   \n",
       "\n",
       "                   Star4  \n",
       "15       Lorraine Bracco  \n",
       "17          Peter Brocco  \n",
       "19          Choi Woo-sik  \n",
       "22  Matheus Nachtergaele  \n",
       "23          Rumi Hiiragi  "
      ]
     },
     "execution_count": 163,
     "metadata": {},
     "output_type": "execute_result"
    }
   ],
   "source": [
    "X_cat=X.select_dtypes('object')\n",
    "X_cat.head()"
   ]
  },
  {
   "cell_type": "code",
   "execution_count": 164,
   "id": "385b6795",
   "metadata": {},
   "outputs": [],
   "source": [
    "scaler=MinMaxScaler()\n",
    "X_num_scaled=scaler.fit_transform(X_num)"
   ]
  },
  {
   "cell_type": "code",
   "execution_count": 165,
   "id": "106f057f",
   "metadata": {},
   "outputs": [
    {
     "data": {
      "text/plain": [
       "numpy.ndarray"
      ]
     },
     "execution_count": 165,
     "metadata": {},
     "output_type": "execute_result"
    }
   ],
   "source": [
    "type(X_num_scaled)"
   ]
  },
  {
   "cell_type": "code",
   "execution_count": 166,
   "id": "bb85ff24",
   "metadata": {},
   "outputs": [],
   "source": [
    "X_num_scaled=pd.DataFrame(X_num_scaled,columns=X_num.columns,index=X_num.index)"
   ]
  },
  {
   "cell_type": "code",
   "execution_count": 50,
   "id": "d763b93e",
   "metadata": {},
   "outputs": [
    {
     "data": {
      "text/html": [
       "<div>\n",
       "<style scoped>\n",
       "    .dataframe tbody tr th:only-of-type {\n",
       "        vertical-align: middle;\n",
       "    }\n",
       "\n",
       "    .dataframe tbody tr th {\n",
       "        vertical-align: top;\n",
       "    }\n",
       "\n",
       "    .dataframe thead th {\n",
       "        text-align: right;\n",
       "    }\n",
       "</style>\n",
       "<table border=\"1\" class=\"dataframe\">\n",
       "  <thead>\n",
       "    <tr style=\"text-align: right;\">\n",
       "      <th></th>\n",
       "      <th>Meta_score</th>\n",
       "      <th>No_of_Votes</th>\n",
       "    </tr>\n",
       "  </thead>\n",
       "  <tbody>\n",
       "    <tr>\n",
       "      <th>count</th>\n",
       "      <td>671.000000</td>\n",
       "      <td>671.000000</td>\n",
       "    </tr>\n",
       "    <tr>\n",
       "      <th>mean</th>\n",
       "      <td>0.584837</td>\n",
       "      <td>0.256763</td>\n",
       "    </tr>\n",
       "    <tr>\n",
       "      <th>std</th>\n",
       "      <td>0.214855</td>\n",
       "      <td>0.237381</td>\n",
       "    </tr>\n",
       "    <tr>\n",
       "      <th>min</th>\n",
       "      <td>0.000000</td>\n",
       "      <td>0.000000</td>\n",
       "    </tr>\n",
       "    <tr>\n",
       "      <th>25%</th>\n",
       "      <td>0.444444</td>\n",
       "      <td>0.062258</td>\n",
       "    </tr>\n",
       "    <tr>\n",
       "      <th>50%</th>\n",
       "      <td>0.592593</td>\n",
       "      <td>0.181494</td>\n",
       "    </tr>\n",
       "    <tr>\n",
       "      <th>75%</th>\n",
       "      <td>0.740741</td>\n",
       "      <td>0.399361</td>\n",
       "    </tr>\n",
       "    <tr>\n",
       "      <th>max</th>\n",
       "      <td>1.000000</td>\n",
       "      <td>1.000000</td>\n",
       "    </tr>\n",
       "  </tbody>\n",
       "</table>\n",
       "</div>"
      ],
      "text/plain": [
       "       Meta_score  No_of_Votes\n",
       "count  671.000000   671.000000\n",
       "mean     0.584837     0.256763\n",
       "std      0.214855     0.237381\n",
       "min      0.000000     0.000000\n",
       "25%      0.444444     0.062258\n",
       "50%      0.592593     0.181494\n",
       "75%      0.740741     0.399361\n",
       "max      1.000000     1.000000"
      ]
     },
     "execution_count": 50,
     "metadata": {},
     "output_type": "execute_result"
    }
   ],
   "source": [
    "X_num_scaled.describe()"
   ]
  },
  {
   "cell_type": "code",
   "execution_count": 167,
   "id": "9368a737",
   "metadata": {},
   "outputs": [],
   "source": [
    "X_cat_encoded=pd.get_dummies(X_cat,drop_first=False,dtype=int)"
   ]
  },
  {
   "cell_type": "code",
   "execution_count": 168,
   "id": "25d7e800",
   "metadata": {},
   "outputs": [],
   "source": [
    "X=pd.concat([X_num_scaled,X_cat_encoded],axis=1)"
   ]
  },
  {
   "cell_type": "code",
   "execution_count": 169,
   "id": "585a7819",
   "metadata": {},
   "outputs": [
    {
     "data": {
      "text/plain": [
       "((604, 3231), (604, 4), (604, 3227))"
      ]
     },
     "execution_count": 169,
     "metadata": {},
     "output_type": "execute_result"
    }
   ],
   "source": [
    "X.shape, X_num_scaled.shape, X_cat_encoded.shape"
   ]
  },
  {
   "cell_type": "code",
   "execution_count": 170,
   "id": "51de9dcf",
   "metadata": {},
   "outputs": [
    {
     "name": "stdout",
     "output_type": "stream",
     "text": [
      "Runtime                              0\n",
      "Meta_score                           0\n",
      "No_of_Votes                          0\n",
      "Gross                                0\n",
      "Series_Title_(500) Days of Summer    0\n",
      "                                    ..\n",
      "Star4_Yvonne Furneaux                0\n",
      "Star4_Zac Mattoon O'Brien            0\n",
      "Star4_Ziyi Zhang                     0\n",
      "Star4_Zoë Kravitz                    0\n",
      "Star4_Álvaro Guerrero                0\n",
      "Length: 3231, dtype: int64\n",
      "0\n",
      "(604, 3231)\n",
      "(604,)\n"
     ]
    }
   ],
   "source": [
    "print(X.isnull().sum())\n",
    "print(y.isnull().sum())\n",
    "print(X.shape)\n",
    "print(y.shape)"
   ]
  },
  {
   "cell_type": "code",
   "execution_count": 171,
   "id": "c141f1ff",
   "metadata": {},
   "outputs": [
    {
     "data": {
      "text/html": [
       "<div>\n",
       "<style scoped>\n",
       "    .dataframe tbody tr th:only-of-type {\n",
       "        vertical-align: middle;\n",
       "    }\n",
       "\n",
       "    .dataframe tbody tr th {\n",
       "        vertical-align: top;\n",
       "    }\n",
       "\n",
       "    .dataframe thead th {\n",
       "        text-align: right;\n",
       "    }\n",
       "</style>\n",
       "<table border=\"1\" class=\"dataframe\">\n",
       "  <thead>\n",
       "    <tr style=\"text-align: right;\">\n",
       "      <th></th>\n",
       "      <th>Runtime</th>\n",
       "      <th>Meta_score</th>\n",
       "      <th>No_of_Votes</th>\n",
       "      <th>Gross</th>\n",
       "      <th>Series_Title_(500) Days of Summer</th>\n",
       "      <th>Series_Title_12 Years a Slave</th>\n",
       "      <th>Series_Title_1917</th>\n",
       "      <th>Series_Title_2001: A Space Odyssey</th>\n",
       "      <th>Series_Title_21 Grams</th>\n",
       "      <th>Series_Title_25th Hour</th>\n",
       "      <th>...</th>\n",
       "      <th>Star4_Winona Ryder</th>\n",
       "      <th>Star4_Wolfgang Lukschy</th>\n",
       "      <th>Star4_Wotan Wilke Möhring</th>\n",
       "      <th>Star4_Xolani Mali</th>\n",
       "      <th>Star4_Yun Qu</th>\n",
       "      <th>Star4_Yvonne Furneaux</th>\n",
       "      <th>Star4_Zac Mattoon O'Brien</th>\n",
       "      <th>Star4_Ziyi Zhang</th>\n",
       "      <th>Star4_Zoë Kravitz</th>\n",
       "      <th>Star4_Álvaro Guerrero</th>\n",
       "    </tr>\n",
       "  </thead>\n",
       "  <tbody>\n",
       "    <tr>\n",
       "      <th>count</th>\n",
       "      <td>604.000000</td>\n",
       "      <td>604.000000</td>\n",
       "      <td>604.000000</td>\n",
       "      <td>604.000000</td>\n",
       "      <td>604.000000</td>\n",
       "      <td>604.000000</td>\n",
       "      <td>604.000000</td>\n",
       "      <td>604.000000</td>\n",
       "      <td>604.000000</td>\n",
       "      <td>604.000000</td>\n",
       "      <td>...</td>\n",
       "      <td>604.000000</td>\n",
       "      <td>604.000000</td>\n",
       "      <td>604.000000</td>\n",
       "      <td>604.000000</td>\n",
       "      <td>604.000000</td>\n",
       "      <td>604.000000</td>\n",
       "      <td>604.000000</td>\n",
       "      <td>604.000000</td>\n",
       "      <td>604.000000</td>\n",
       "      <td>604.000000</td>\n",
       "    </tr>\n",
       "    <tr>\n",
       "      <th>mean</th>\n",
       "      <td>0.432015</td>\n",
       "      <td>0.584253</td>\n",
       "      <td>0.242825</td>\n",
       "      <td>0.202568</td>\n",
       "      <td>0.001656</td>\n",
       "      <td>0.001656</td>\n",
       "      <td>0.001656</td>\n",
       "      <td>0.001656</td>\n",
       "      <td>0.001656</td>\n",
       "      <td>0.001656</td>\n",
       "      <td>...</td>\n",
       "      <td>0.001656</td>\n",
       "      <td>0.001656</td>\n",
       "      <td>0.001656</td>\n",
       "      <td>0.001656</td>\n",
       "      <td>0.001656</td>\n",
       "      <td>0.001656</td>\n",
       "      <td>0.001656</td>\n",
       "      <td>0.001656</td>\n",
       "      <td>0.001656</td>\n",
       "      <td>0.001656</td>\n",
       "    </tr>\n",
       "    <tr>\n",
       "      <th>std</th>\n",
       "      <td>0.193555</td>\n",
       "      <td>0.214918</td>\n",
       "      <td>0.228728</td>\n",
       "      <td>0.239555</td>\n",
       "      <td>0.040689</td>\n",
       "      <td>0.040689</td>\n",
       "      <td>0.040689</td>\n",
       "      <td>0.040689</td>\n",
       "      <td>0.040689</td>\n",
       "      <td>0.040689</td>\n",
       "      <td>...</td>\n",
       "      <td>0.040689</td>\n",
       "      <td>0.040689</td>\n",
       "      <td>0.040689</td>\n",
       "      <td>0.040689</td>\n",
       "      <td>0.040689</td>\n",
       "      <td>0.040689</td>\n",
       "      <td>0.040689</td>\n",
       "      <td>0.040689</td>\n",
       "      <td>0.040689</td>\n",
       "      <td>0.040689</td>\n",
       "    </tr>\n",
       "    <tr>\n",
       "      <th>min</th>\n",
       "      <td>0.000000</td>\n",
       "      <td>0.000000</td>\n",
       "      <td>0.000000</td>\n",
       "      <td>0.000000</td>\n",
       "      <td>0.000000</td>\n",
       "      <td>0.000000</td>\n",
       "      <td>0.000000</td>\n",
       "      <td>0.000000</td>\n",
       "      <td>0.000000</td>\n",
       "      <td>0.000000</td>\n",
       "      <td>...</td>\n",
       "      <td>0.000000</td>\n",
       "      <td>0.000000</td>\n",
       "      <td>0.000000</td>\n",
       "      <td>0.000000</td>\n",
       "      <td>0.000000</td>\n",
       "      <td>0.000000</td>\n",
       "      <td>0.000000</td>\n",
       "      <td>0.000000</td>\n",
       "      <td>0.000000</td>\n",
       "      <td>0.000000</td>\n",
       "    </tr>\n",
       "    <tr>\n",
       "      <th>25%</th>\n",
       "      <td>0.279279</td>\n",
       "      <td>0.444444</td>\n",
       "      <td>0.061014</td>\n",
       "      <td>0.021526</td>\n",
       "      <td>0.000000</td>\n",
       "      <td>0.000000</td>\n",
       "      <td>0.000000</td>\n",
       "      <td>0.000000</td>\n",
       "      <td>0.000000</td>\n",
       "      <td>0.000000</td>\n",
       "      <td>...</td>\n",
       "      <td>0.000000</td>\n",
       "      <td>0.000000</td>\n",
       "      <td>0.000000</td>\n",
       "      <td>0.000000</td>\n",
       "      <td>0.000000</td>\n",
       "      <td>0.000000</td>\n",
       "      <td>0.000000</td>\n",
       "      <td>0.000000</td>\n",
       "      <td>0.000000</td>\n",
       "      <td>0.000000</td>\n",
       "    </tr>\n",
       "    <tr>\n",
       "      <th>50%</th>\n",
       "      <td>0.414414</td>\n",
       "      <td>0.592593</td>\n",
       "      <td>0.167597</td>\n",
       "      <td>0.107046</td>\n",
       "      <td>0.000000</td>\n",
       "      <td>0.000000</td>\n",
       "      <td>0.000000</td>\n",
       "      <td>0.000000</td>\n",
       "      <td>0.000000</td>\n",
       "      <td>0.000000</td>\n",
       "      <td>...</td>\n",
       "      <td>0.000000</td>\n",
       "      <td>0.000000</td>\n",
       "      <td>0.000000</td>\n",
       "      <td>0.000000</td>\n",
       "      <td>0.000000</td>\n",
       "      <td>0.000000</td>\n",
       "      <td>0.000000</td>\n",
       "      <td>0.000000</td>\n",
       "      <td>0.000000</td>\n",
       "      <td>0.000000</td>\n",
       "    </tr>\n",
       "    <tr>\n",
       "      <th>75%</th>\n",
       "      <td>0.540541</td>\n",
       "      <td>0.740741</td>\n",
       "      <td>0.373267</td>\n",
       "      <td>0.289029</td>\n",
       "      <td>0.000000</td>\n",
       "      <td>0.000000</td>\n",
       "      <td>0.000000</td>\n",
       "      <td>0.000000</td>\n",
       "      <td>0.000000</td>\n",
       "      <td>0.000000</td>\n",
       "      <td>...</td>\n",
       "      <td>0.000000</td>\n",
       "      <td>0.000000</td>\n",
       "      <td>0.000000</td>\n",
       "      <td>0.000000</td>\n",
       "      <td>0.000000</td>\n",
       "      <td>0.000000</td>\n",
       "      <td>0.000000</td>\n",
       "      <td>0.000000</td>\n",
       "      <td>0.000000</td>\n",
       "      <td>0.000000</td>\n",
       "    </tr>\n",
       "    <tr>\n",
       "      <th>max</th>\n",
       "      <td>1.000000</td>\n",
       "      <td>1.000000</td>\n",
       "      <td>1.000000</td>\n",
       "      <td>1.000000</td>\n",
       "      <td>1.000000</td>\n",
       "      <td>1.000000</td>\n",
       "      <td>1.000000</td>\n",
       "      <td>1.000000</td>\n",
       "      <td>1.000000</td>\n",
       "      <td>1.000000</td>\n",
       "      <td>...</td>\n",
       "      <td>1.000000</td>\n",
       "      <td>1.000000</td>\n",
       "      <td>1.000000</td>\n",
       "      <td>1.000000</td>\n",
       "      <td>1.000000</td>\n",
       "      <td>1.000000</td>\n",
       "      <td>1.000000</td>\n",
       "      <td>1.000000</td>\n",
       "      <td>1.000000</td>\n",
       "      <td>1.000000</td>\n",
       "    </tr>\n",
       "  </tbody>\n",
       "</table>\n",
       "<p>8 rows × 3231 columns</p>\n",
       "</div>"
      ],
      "text/plain": [
       "          Runtime  Meta_score  No_of_Votes       Gross  \\\n",
       "count  604.000000  604.000000   604.000000  604.000000   \n",
       "mean     0.432015    0.584253     0.242825    0.202568   \n",
       "std      0.193555    0.214918     0.228728    0.239555   \n",
       "min      0.000000    0.000000     0.000000    0.000000   \n",
       "25%      0.279279    0.444444     0.061014    0.021526   \n",
       "50%      0.414414    0.592593     0.167597    0.107046   \n",
       "75%      0.540541    0.740741     0.373267    0.289029   \n",
       "max      1.000000    1.000000     1.000000    1.000000   \n",
       "\n",
       "       Series_Title_(500) Days of Summer  Series_Title_12 Years a Slave  \\\n",
       "count                         604.000000                     604.000000   \n",
       "mean                            0.001656                       0.001656   \n",
       "std                             0.040689                       0.040689   \n",
       "min                             0.000000                       0.000000   \n",
       "25%                             0.000000                       0.000000   \n",
       "50%                             0.000000                       0.000000   \n",
       "75%                             0.000000                       0.000000   \n",
       "max                             1.000000                       1.000000   \n",
       "\n",
       "       Series_Title_1917  Series_Title_2001: A Space Odyssey  \\\n",
       "count         604.000000                          604.000000   \n",
       "mean            0.001656                            0.001656   \n",
       "std             0.040689                            0.040689   \n",
       "min             0.000000                            0.000000   \n",
       "25%             0.000000                            0.000000   \n",
       "50%             0.000000                            0.000000   \n",
       "75%             0.000000                            0.000000   \n",
       "max             1.000000                            1.000000   \n",
       "\n",
       "       Series_Title_21 Grams  Series_Title_25th Hour  ...  Star4_Winona Ryder  \\\n",
       "count             604.000000              604.000000  ...          604.000000   \n",
       "mean                0.001656                0.001656  ...            0.001656   \n",
       "std                 0.040689                0.040689  ...            0.040689   \n",
       "min                 0.000000                0.000000  ...            0.000000   \n",
       "25%                 0.000000                0.000000  ...            0.000000   \n",
       "50%                 0.000000                0.000000  ...            0.000000   \n",
       "75%                 0.000000                0.000000  ...            0.000000   \n",
       "max                 1.000000                1.000000  ...            1.000000   \n",
       "\n",
       "       Star4_Wolfgang Lukschy  Star4_Wotan Wilke Möhring  Star4_Xolani Mali  \\\n",
       "count              604.000000                 604.000000         604.000000   \n",
       "mean                 0.001656                   0.001656           0.001656   \n",
       "std                  0.040689                   0.040689           0.040689   \n",
       "min                  0.000000                   0.000000           0.000000   \n",
       "25%                  0.000000                   0.000000           0.000000   \n",
       "50%                  0.000000                   0.000000           0.000000   \n",
       "75%                  0.000000                   0.000000           0.000000   \n",
       "max                  1.000000                   1.000000           1.000000   \n",
       "\n",
       "       Star4_Yun Qu  Star4_Yvonne Furneaux  Star4_Zac Mattoon O'Brien  \\\n",
       "count    604.000000             604.000000                 604.000000   \n",
       "mean       0.001656               0.001656                   0.001656   \n",
       "std        0.040689               0.040689                   0.040689   \n",
       "min        0.000000               0.000000                   0.000000   \n",
       "25%        0.000000               0.000000                   0.000000   \n",
       "50%        0.000000               0.000000                   0.000000   \n",
       "75%        0.000000               0.000000                   0.000000   \n",
       "max        1.000000               1.000000                   1.000000   \n",
       "\n",
       "       Star4_Ziyi Zhang  Star4_Zoë Kravitz  Star4_Álvaro Guerrero  \n",
       "count        604.000000         604.000000             604.000000  \n",
       "mean           0.001656           0.001656               0.001656  \n",
       "std            0.040689           0.040689               0.040689  \n",
       "min            0.000000           0.000000               0.000000  \n",
       "25%            0.000000           0.000000               0.000000  \n",
       "50%            0.000000           0.000000               0.000000  \n",
       "75%            0.000000           0.000000               0.000000  \n",
       "max            1.000000           1.000000               1.000000  \n",
       "\n",
       "[8 rows x 3231 columns]"
      ]
     },
     "execution_count": 171,
     "metadata": {},
     "output_type": "execute_result"
    }
   ],
   "source": [
    "X.describe()"
   ]
  },
  {
   "cell_type": "code",
   "execution_count": 172,
   "id": "c7824ae9",
   "metadata": {},
   "outputs": [],
   "source": [
    "X_train, X_test, y_train, y_test = train_test_split(X, y, test_size=0.2, random_state=42)"
   ]
  },
  {
   "cell_type": "code",
   "execution_count": 173,
   "id": "1826e8cb",
   "metadata": {},
   "outputs": [
    {
     "name": "stdout",
     "output_type": "stream",
     "text": [
      "(483, 3231)\n",
      "(121, 3231)\n",
      "(483,)\n",
      "(121,)\n"
     ]
    }
   ],
   "source": [
    "print(X_train.shape)\n",
    "print(X_test.shape)\n",
    "print(y_train.shape) \n",
    "print(y_test.shape)"
   ]
  },
  {
   "cell_type": "raw",
   "id": "c252d440",
   "metadata": {},
   "source": [
    "Observations after preprocessing\n",
    "3 columns have been removed\n",
    "Rows with missing values have been removed\n",
    "Numeric and categorical features have been seperated into X and y resp\n",
    "Categorical columns have been one-hot encoded to be used in the model\n",
    "The data has been split into train and test sets for model evaluation"
   ]
  },
  {
   "cell_type": "code",
   "execution_count": 175,
   "id": "52e8e61d",
   "metadata": {},
   "outputs": [],
   "source": [
    "X.to_csv('imdb_rating_features.csv', index=False)\n",
    "y.to_csv('imdb_rating_label.csv',index=False)"
   ]
  },
  {
   "cell_type": "markdown",
   "id": "1c32d9f1",
   "metadata": {},
   "source": []
  },
  {
   "cell_type": "code",
   "execution_count": null,
   "id": "f1336d8a",
   "metadata": {},
   "outputs": [],
   "source": []
  },
  {
   "cell_type": "code",
   "execution_count": null,
   "id": "a94ed393",
   "metadata": {},
   "outputs": [],
   "source": []
  },
  {
   "cell_type": "code",
   "execution_count": null,
   "id": "a1244156",
   "metadata": {},
   "outputs": [],
   "source": []
  },
  {
   "cell_type": "code",
   "execution_count": null,
   "id": "131844e1",
   "metadata": {},
   "outputs": [],
   "source": []
  },
  {
   "cell_type": "code",
   "execution_count": null,
   "id": "0b1654ce",
   "metadata": {},
   "outputs": [],
   "source": []
  },
  {
   "cell_type": "code",
   "execution_count": null,
   "id": "3d24ab8a",
   "metadata": {},
   "outputs": [],
   "source": []
  },
  {
   "cell_type": "code",
   "execution_count": null,
   "id": "8a5cc133",
   "metadata": {},
   "outputs": [],
   "source": []
  },
  {
   "cell_type": "code",
   "execution_count": null,
   "id": "26cbde1a",
   "metadata": {},
   "outputs": [],
   "source": []
  },
  {
   "cell_type": "code",
   "execution_count": null,
   "id": "40321ac1",
   "metadata": {},
   "outputs": [],
   "source": []
  },
  {
   "cell_type": "code",
   "execution_count": null,
   "id": "48e60424",
   "metadata": {},
   "outputs": [],
   "source": []
  },
  {
   "cell_type": "code",
   "execution_count": null,
   "id": "d66a7cce",
   "metadata": {},
   "outputs": [],
   "source": []
  },
  {
   "cell_type": "code",
   "execution_count": null,
   "id": "37569209",
   "metadata": {},
   "outputs": [],
   "source": []
  },
  {
   "cell_type": "code",
   "execution_count": null,
   "id": "70d03304",
   "metadata": {},
   "outputs": [],
   "source": []
  },
  {
   "cell_type": "code",
   "execution_count": null,
   "id": "393f4fed",
   "metadata": {},
   "outputs": [],
   "source": []
  },
  {
   "cell_type": "code",
   "execution_count": null,
   "id": "6ff07bc4",
   "metadata": {},
   "outputs": [],
   "source": []
  },
  {
   "cell_type": "code",
   "execution_count": null,
   "id": "995c1895",
   "metadata": {},
   "outputs": [],
   "source": []
  },
  {
   "cell_type": "code",
   "execution_count": null,
   "id": "ac2dd455",
   "metadata": {},
   "outputs": [],
   "source": []
  },
  {
   "cell_type": "code",
   "execution_count": null,
   "id": "3ee88dd8",
   "metadata": {},
   "outputs": [],
   "source": []
  },
  {
   "cell_type": "code",
   "execution_count": null,
   "id": "5f684d39",
   "metadata": {},
   "outputs": [],
   "source": []
  },
  {
   "cell_type": "code",
   "execution_count": null,
   "id": "b8714444",
   "metadata": {},
   "outputs": [],
   "source": []
  },
  {
   "cell_type": "code",
   "execution_count": null,
   "id": "f4eebcf7",
   "metadata": {},
   "outputs": [],
   "source": []
  },
  {
   "cell_type": "code",
   "execution_count": null,
   "id": "a3a23d96",
   "metadata": {},
   "outputs": [],
   "source": []
  },
  {
   "cell_type": "code",
   "execution_count": null,
   "id": "d47d7001",
   "metadata": {},
   "outputs": [],
   "source": []
  },
  {
   "cell_type": "code",
   "execution_count": null,
   "id": "18d3cd83",
   "metadata": {},
   "outputs": [],
   "source": []
  },
  {
   "cell_type": "code",
   "execution_count": null,
   "id": "3c4d3127",
   "metadata": {},
   "outputs": [],
   "source": []
  },
  {
   "cell_type": "code",
   "execution_count": null,
   "id": "05a45172",
   "metadata": {},
   "outputs": [],
   "source": []
  },
  {
   "cell_type": "code",
   "execution_count": null,
   "id": "2a213fe5",
   "metadata": {},
   "outputs": [],
   "source": []
  },
  {
   "cell_type": "code",
   "execution_count": null,
   "id": "b903866b",
   "metadata": {},
   "outputs": [],
   "source": []
  },
  {
   "cell_type": "code",
   "execution_count": null,
   "id": "49d5b271",
   "metadata": {},
   "outputs": [],
   "source": []
  },
  {
   "cell_type": "code",
   "execution_count": null,
   "id": "1b09ee88",
   "metadata": {},
   "outputs": [],
   "source": []
  },
  {
   "cell_type": "code",
   "execution_count": null,
   "id": "83fbe585",
   "metadata": {},
   "outputs": [],
   "source": []
  },
  {
   "cell_type": "code",
   "execution_count": null,
   "id": "6d6cbddf",
   "metadata": {},
   "outputs": [],
   "source": []
  },
  {
   "cell_type": "code",
   "execution_count": null,
   "id": "5afd5465",
   "metadata": {},
   "outputs": [],
   "source": []
  },
  {
   "cell_type": "code",
   "execution_count": null,
   "id": "204b0fea",
   "metadata": {},
   "outputs": [],
   "source": []
  },
  {
   "cell_type": "code",
   "execution_count": null,
   "id": "520eb40d",
   "metadata": {},
   "outputs": [],
   "source": []
  },
  {
   "cell_type": "code",
   "execution_count": null,
   "id": "b0019ea1",
   "metadata": {},
   "outputs": [],
   "source": []
  },
  {
   "cell_type": "code",
   "execution_count": null,
   "id": "b79c8f8b",
   "metadata": {},
   "outputs": [],
   "source": []
  },
  {
   "cell_type": "code",
   "execution_count": null,
   "id": "f4995847",
   "metadata": {},
   "outputs": [],
   "source": []
  },
  {
   "cell_type": "code",
   "execution_count": null,
   "id": "ef3854b8",
   "metadata": {},
   "outputs": [],
   "source": []
  },
  {
   "cell_type": "code",
   "execution_count": null,
   "id": "547ec578",
   "metadata": {},
   "outputs": [],
   "source": []
  },
  {
   "cell_type": "code",
   "execution_count": null,
   "id": "14d8a0f2",
   "metadata": {},
   "outputs": [],
   "source": []
  },
  {
   "cell_type": "code",
   "execution_count": null,
   "id": "29f7676f",
   "metadata": {},
   "outputs": [],
   "source": []
  },
  {
   "cell_type": "code",
   "execution_count": null,
   "id": "156adf9f",
   "metadata": {},
   "outputs": [],
   "source": []
  },
  {
   "cell_type": "code",
   "execution_count": null,
   "id": "4a51fe73",
   "metadata": {},
   "outputs": [],
   "source": []
  },
  {
   "cell_type": "code",
   "execution_count": null,
   "id": "29849cfc",
   "metadata": {},
   "outputs": [],
   "source": []
  },
  {
   "cell_type": "code",
   "execution_count": null,
   "id": "c4e9b5ee",
   "metadata": {},
   "outputs": [],
   "source": []
  },
  {
   "cell_type": "code",
   "execution_count": null,
   "id": "3deec6d5",
   "metadata": {},
   "outputs": [],
   "source": []
  },
  {
   "cell_type": "code",
   "execution_count": null,
   "id": "d5e4c80c",
   "metadata": {},
   "outputs": [],
   "source": []
  },
  {
   "cell_type": "code",
   "execution_count": null,
   "id": "6b5090a1",
   "metadata": {},
   "outputs": [],
   "source": []
  },
  {
   "cell_type": "code",
   "execution_count": null,
   "id": "49756ad3",
   "metadata": {},
   "outputs": [],
   "source": []
  },
  {
   "cell_type": "code",
   "execution_count": null,
   "id": "7153feea",
   "metadata": {},
   "outputs": [],
   "source": []
  },
  {
   "cell_type": "code",
   "execution_count": null,
   "id": "dbabe5a2",
   "metadata": {},
   "outputs": [],
   "source": []
  },
  {
   "cell_type": "code",
   "execution_count": null,
   "id": "31ea5863",
   "metadata": {},
   "outputs": [],
   "source": []
  },
  {
   "cell_type": "code",
   "execution_count": null,
   "id": "2dc9bcec",
   "metadata": {},
   "outputs": [],
   "source": []
  },
  {
   "cell_type": "code",
   "execution_count": null,
   "id": "e41e2073",
   "metadata": {},
   "outputs": [],
   "source": []
  },
  {
   "cell_type": "code",
   "execution_count": null,
   "id": "e07f5885",
   "metadata": {},
   "outputs": [],
   "source": []
  },
  {
   "cell_type": "code",
   "execution_count": null,
   "id": "b225e126",
   "metadata": {},
   "outputs": [],
   "source": []
  },
  {
   "cell_type": "code",
   "execution_count": null,
   "id": "abd4ce37",
   "metadata": {},
   "outputs": [],
   "source": []
  },
  {
   "cell_type": "code",
   "execution_count": null,
   "id": "de6990b7",
   "metadata": {},
   "outputs": [],
   "source": []
  },
  {
   "cell_type": "code",
   "execution_count": null,
   "id": "ca915303",
   "metadata": {},
   "outputs": [],
   "source": []
  },
  {
   "cell_type": "code",
   "execution_count": null,
   "id": "ea67c8ac",
   "metadata": {},
   "outputs": [],
   "source": []
  },
  {
   "cell_type": "code",
   "execution_count": null,
   "id": "deb3c7a2",
   "metadata": {},
   "outputs": [],
   "source": []
  },
  {
   "cell_type": "code",
   "execution_count": null,
   "id": "17dfc3c7",
   "metadata": {},
   "outputs": [],
   "source": []
  },
  {
   "cell_type": "code",
   "execution_count": null,
   "id": "d812edf7",
   "metadata": {},
   "outputs": [],
   "source": []
  },
  {
   "cell_type": "code",
   "execution_count": null,
   "id": "3930d8e4",
   "metadata": {},
   "outputs": [],
   "source": []
  },
  {
   "cell_type": "code",
   "execution_count": null,
   "id": "8e0d3fd5",
   "metadata": {},
   "outputs": [],
   "source": []
  },
  {
   "cell_type": "code",
   "execution_count": null,
   "id": "bcd10a0a",
   "metadata": {},
   "outputs": [],
   "source": []
  },
  {
   "cell_type": "code",
   "execution_count": null,
   "id": "f7ab0b66",
   "metadata": {},
   "outputs": [],
   "source": []
  },
  {
   "cell_type": "code",
   "execution_count": null,
   "id": "52a2b01d",
   "metadata": {},
   "outputs": [],
   "source": []
  },
  {
   "cell_type": "code",
   "execution_count": null,
   "id": "749d4690",
   "metadata": {},
   "outputs": [],
   "source": []
  },
  {
   "cell_type": "code",
   "execution_count": null,
   "id": "b737da7a",
   "metadata": {},
   "outputs": [],
   "source": []
  },
  {
   "cell_type": "code",
   "execution_count": null,
   "id": "18c48749",
   "metadata": {},
   "outputs": [],
   "source": []
  },
  {
   "cell_type": "code",
   "execution_count": null,
   "id": "7bd00014",
   "metadata": {},
   "outputs": [],
   "source": []
  },
  {
   "cell_type": "code",
   "execution_count": null,
   "id": "92644356",
   "metadata": {},
   "outputs": [],
   "source": []
  },
  {
   "cell_type": "code",
   "execution_count": null,
   "id": "33e2b2b9",
   "metadata": {},
   "outputs": [],
   "source": []
  },
  {
   "cell_type": "code",
   "execution_count": null,
   "id": "ef00250b",
   "metadata": {},
   "outputs": [],
   "source": []
  }
 ],
 "metadata": {
  "kernelspec": {
   "display_name": "Python 3 (ipykernel)",
   "language": "python",
   "name": "python3"
  },
  "language_info": {
   "codemirror_mode": {
    "name": "ipython",
    "version": 3
   },
   "file_extension": ".py",
   "mimetype": "text/x-python",
   "name": "python",
   "nbconvert_exporter": "python",
   "pygments_lexer": "ipython3",
   "version": "3.11.3"
  }
 },
 "nbformat": 4,
 "nbformat_minor": 5
}
