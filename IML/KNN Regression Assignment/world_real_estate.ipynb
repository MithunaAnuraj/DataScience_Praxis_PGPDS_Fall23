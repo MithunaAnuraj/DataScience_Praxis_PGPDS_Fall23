{
 "cells": [
  {
   "cell_type": "code",
   "execution_count": 1,
   "id": "1233ab48",
   "metadata": {},
   "outputs": [],
   "source": [
    "import pandas as pd\n",
    "import numpy as np\n",
    "import seaborn as sns\n",
    "import matplotlib.pyplot as plt\n",
    "from sklearn.model_selection import train_test_split,cross_val_score\n",
    "from sklearn.preprocessing import MinMaxScaler\n",
    "from sklearn.neighbors import KNeighborsRegressor\n",
    "from sklearn.metrics import mean_absolute_percentage_error\n",
    "from math import sqrt\n",
    "import warnings"
   ]
  },
  {
   "cell_type": "markdown",
   "id": "489a44c5",
   "metadata": {},
   "source": [
    "# Exploratory Data Analysis"
   ]
  },
  {
   "cell_type": "code",
   "execution_count": 2,
   "id": "5e929467",
   "metadata": {},
   "outputs": [],
   "source": [
    "# Step 1: Read the dataset and basic dataframe exploration"
   ]
  },
  {
   "cell_type": "code",
   "execution_count": 3,
   "id": "685a8168",
   "metadata": {},
   "outputs": [],
   "source": [
    "df=pd.read_csv(\"world_real_estate_data(147k).csv\")"
   ]
  },
  {
   "cell_type": "code",
   "execution_count": 4,
   "id": "0e585504",
   "metadata": {},
   "outputs": [
    {
     "data": {
      "text/html": [
       "<div>\n",
       "<style scoped>\n",
       "    .dataframe tbody tr th:only-of-type {\n",
       "        vertical-align: middle;\n",
       "    }\n",
       "\n",
       "    .dataframe tbody tr th {\n",
       "        vertical-align: top;\n",
       "    }\n",
       "\n",
       "    .dataframe thead th {\n",
       "        text-align: right;\n",
       "    }\n",
       "</style>\n",
       "<table border=\"1\" class=\"dataframe\">\n",
       "  <thead>\n",
       "    <tr style=\"text-align: right;\">\n",
       "      <th></th>\n",
       "      <th>title</th>\n",
       "      <th>country</th>\n",
       "      <th>location</th>\n",
       "      <th>building_construction_year</th>\n",
       "      <th>building_total_floors</th>\n",
       "      <th>apartment_floor</th>\n",
       "      <th>apartment_rooms</th>\n",
       "      <th>apartment_bedrooms</th>\n",
       "      <th>apartment_bathrooms</th>\n",
       "      <th>apartment_total_area</th>\n",
       "      <th>apartment_living_area</th>\n",
       "      <th>price_in_USD</th>\n",
       "      <th>image</th>\n",
       "      <th>url</th>\n",
       "    </tr>\n",
       "  </thead>\n",
       "  <tbody>\n",
       "    <tr>\n",
       "      <th>0</th>\n",
       "      <td>2 room apartment 120 m² in Mediterranean Regio...</td>\n",
       "      <td>Turkey</td>\n",
       "      <td>Mediterranean Region, Turkey</td>\n",
       "      <td>NaN</td>\n",
       "      <td>5.0</td>\n",
       "      <td>1.0</td>\n",
       "      <td>3.0</td>\n",
       "      <td>2.0</td>\n",
       "      <td>2.0</td>\n",
       "      <td>120 m²</td>\n",
       "      <td>110 m²</td>\n",
       "      <td>315209.0</td>\n",
       "      <td>https://realting.com/uploads/bigSlider/ab3/888...</td>\n",
       "      <td>https://realting.com/property-for-sale/turkey/...</td>\n",
       "    </tr>\n",
       "    <tr>\n",
       "      <th>1</th>\n",
       "      <td>4 room villa 500 m² in Kalkan, Turkey</td>\n",
       "      <td>Turkey</td>\n",
       "      <td>Kalkan, Mediterranean Region, Kas, Turkey</td>\n",
       "      <td>2021.0</td>\n",
       "      <td>2.0</td>\n",
       "      <td>NaN</td>\n",
       "      <td>NaN</td>\n",
       "      <td>NaN</td>\n",
       "      <td>NaN</td>\n",
       "      <td>500 m²</td>\n",
       "      <td>480 m²</td>\n",
       "      <td>1108667.0</td>\n",
       "      <td>https://realting.com/uploads/bigSlider/87b/679...</td>\n",
       "      <td>https://realting.com/property-for-sale/turkey/...</td>\n",
       "    </tr>\n",
       "    <tr>\n",
       "      <th>2</th>\n",
       "      <td>1 room apartment 65 m² in Antalya, Turkey</td>\n",
       "      <td>Turkey</td>\n",
       "      <td>Mediterranean Region, Antalya, Turkey</td>\n",
       "      <td>NaN</td>\n",
       "      <td>5.0</td>\n",
       "      <td>2.0</td>\n",
       "      <td>2.0</td>\n",
       "      <td>1.0</td>\n",
       "      <td>1.0</td>\n",
       "      <td>65 m²</td>\n",
       "      <td>60 m²</td>\n",
       "      <td>173211.0</td>\n",
       "      <td>https://realting.com/uploads/bigSlider/030/a11...</td>\n",
       "      <td>https://realting.com/property-for-sale/turkey/...</td>\n",
       "    </tr>\n",
       "    <tr>\n",
       "      <th>3</th>\n",
       "      <td>1 room apartment  in Pattaya, Thailand</td>\n",
       "      <td>Thailand</td>\n",
       "      <td>Chon Buri Province, Pattaya, Thailand</td>\n",
       "      <td>2020.0</td>\n",
       "      <td>15.0</td>\n",
       "      <td>5.0</td>\n",
       "      <td>2.0</td>\n",
       "      <td>1.0</td>\n",
       "      <td>1.0</td>\n",
       "      <td>NaN</td>\n",
       "      <td>40 m²</td>\n",
       "      <td>99900.0</td>\n",
       "      <td>https://realting.com/uploads/bigSlider/e9a/e06...</td>\n",
       "      <td>https://realting.com/property-for-sale/thailan...</td>\n",
       "    </tr>\n",
       "    <tr>\n",
       "      <th>4</th>\n",
       "      <td>2 room apartment  in Pattaya, Thailand</td>\n",
       "      <td>Thailand</td>\n",
       "      <td>Chon Buri Province, Pattaya, Thailand</td>\n",
       "      <td>2026.0</td>\n",
       "      <td>8.0</td>\n",
       "      <td>3.0</td>\n",
       "      <td>3.0</td>\n",
       "      <td>2.0</td>\n",
       "      <td>1.0</td>\n",
       "      <td>NaN</td>\n",
       "      <td>36 m²</td>\n",
       "      <td>67000.0</td>\n",
       "      <td>https://realting.com/uploads/bigSlider/453/aa2...</td>\n",
       "      <td>https://realting.com/property-for-sale/thailan...</td>\n",
       "    </tr>\n",
       "  </tbody>\n",
       "</table>\n",
       "</div>"
      ],
      "text/plain": [
       "                                               title   country  \\\n",
       "0  2 room apartment 120 m² in Mediterranean Regio...    Turkey   \n",
       "1              4 room villa 500 m² in Kalkan, Turkey    Turkey   \n",
       "2          1 room apartment 65 m² in Antalya, Turkey    Turkey   \n",
       "3             1 room apartment  in Pattaya, Thailand  Thailand   \n",
       "4             2 room apartment  in Pattaya, Thailand  Thailand   \n",
       "\n",
       "                                    location  building_construction_year  \\\n",
       "0               Mediterranean Region, Turkey                         NaN   \n",
       "1  Kalkan, Mediterranean Region, Kas, Turkey                      2021.0   \n",
       "2      Mediterranean Region, Antalya, Turkey                         NaN   \n",
       "3      Chon Buri Province, Pattaya, Thailand                      2020.0   \n",
       "4      Chon Buri Province, Pattaya, Thailand                      2026.0   \n",
       "\n",
       "   building_total_floors  apartment_floor  apartment_rooms  \\\n",
       "0                    5.0              1.0              3.0   \n",
       "1                    2.0              NaN              NaN   \n",
       "2                    5.0              2.0              2.0   \n",
       "3                   15.0              5.0              2.0   \n",
       "4                    8.0              3.0              3.0   \n",
       "\n",
       "   apartment_bedrooms  apartment_bathrooms apartment_total_area  \\\n",
       "0                 2.0                  2.0               120 m²   \n",
       "1                 NaN                  NaN               500 m²   \n",
       "2                 1.0                  1.0                65 m²   \n",
       "3                 1.0                  1.0                  NaN   \n",
       "4                 2.0                  1.0                  NaN   \n",
       "\n",
       "  apartment_living_area  price_in_USD  \\\n",
       "0                110 m²      315209.0   \n",
       "1                480 m²     1108667.0   \n",
       "2                 60 m²      173211.0   \n",
       "3                 40 m²       99900.0   \n",
       "4                 36 m²       67000.0   \n",
       "\n",
       "                                               image  \\\n",
       "0  https://realting.com/uploads/bigSlider/ab3/888...   \n",
       "1  https://realting.com/uploads/bigSlider/87b/679...   \n",
       "2  https://realting.com/uploads/bigSlider/030/a11...   \n",
       "3  https://realting.com/uploads/bigSlider/e9a/e06...   \n",
       "4  https://realting.com/uploads/bigSlider/453/aa2...   \n",
       "\n",
       "                                                 url  \n",
       "0  https://realting.com/property-for-sale/turkey/...  \n",
       "1  https://realting.com/property-for-sale/turkey/...  \n",
       "2  https://realting.com/property-for-sale/turkey/...  \n",
       "3  https://realting.com/property-for-sale/thailan...  \n",
       "4  https://realting.com/property-for-sale/thailan...  "
      ]
     },
     "execution_count": 4,
     "metadata": {},
     "output_type": "execute_result"
    }
   ],
   "source": [
    "df.head()"
   ]
  },
  {
   "cell_type": "code",
   "execution_count": 5,
   "id": "064b8c1b",
   "metadata": {},
   "outputs": [],
   "source": [
    "# there are missing values\n",
    "# there are categorical and numeric values\n",
    "# the y label is price_in_USD\n",
    "# columns title,location,image,url to be dropped"
   ]
  },
  {
   "cell_type": "code",
   "execution_count": 6,
   "id": "d73ad62a",
   "metadata": {},
   "outputs": [
    {
     "data": {
      "text/plain": [
       "(147536, 14)"
      ]
     },
     "execution_count": 6,
     "metadata": {},
     "output_type": "execute_result"
    }
   ],
   "source": [
    "df.shape"
   ]
  },
  {
   "cell_type": "code",
   "execution_count": 7,
   "id": "ccba1e58",
   "metadata": {},
   "outputs": [],
   "source": [
    "#there are 147536 observations and 14 variables"
   ]
  },
  {
   "cell_type": "code",
   "execution_count": 8,
   "id": "69a1b347",
   "metadata": {},
   "outputs": [
    {
     "data": {
      "text/plain": [
       "title                          object\n",
       "country                        object\n",
       "location                       object\n",
       "building_construction_year    float64\n",
       "building_total_floors         float64\n",
       "apartment_floor               float64\n",
       "apartment_rooms               float64\n",
       "apartment_bedrooms            float64\n",
       "apartment_bathrooms           float64\n",
       "apartment_total_area           object\n",
       "apartment_living_area          object\n",
       "price_in_USD                  float64\n",
       "image                          object\n",
       "url                            object\n",
       "dtype: object"
      ]
     },
     "execution_count": 8,
     "metadata": {},
     "output_type": "execute_result"
    }
   ],
   "source": [
    "df.dtypes"
   ]
  },
  {
   "cell_type": "code",
   "execution_count": 9,
   "id": "9a27b882",
   "metadata": {},
   "outputs": [],
   "source": [
    "#the datatypes of columns apartment_total_area  has to be converted to float"
   ]
  },
  {
   "cell_type": "code",
   "execution_count": 10,
   "id": "63185657",
   "metadata": {},
   "outputs": [],
   "source": [
    "df['apartment_total_area'] = pd.to_numeric(df['apartment_total_area'].str.replace(' m²', ''), errors='coerce')"
   ]
  },
  {
   "cell_type": "code",
   "execution_count": 11,
   "id": "9f075d9f",
   "metadata": {},
   "outputs": [
    {
     "data": {
      "text/html": [
       "<div>\n",
       "<style scoped>\n",
       "    .dataframe tbody tr th:only-of-type {\n",
       "        vertical-align: middle;\n",
       "    }\n",
       "\n",
       "    .dataframe tbody tr th {\n",
       "        vertical-align: top;\n",
       "    }\n",
       "\n",
       "    .dataframe thead th {\n",
       "        text-align: right;\n",
       "    }\n",
       "</style>\n",
       "<table border=\"1\" class=\"dataframe\">\n",
       "  <thead>\n",
       "    <tr style=\"text-align: right;\">\n",
       "      <th></th>\n",
       "      <th>title</th>\n",
       "      <th>country</th>\n",
       "      <th>location</th>\n",
       "      <th>building_construction_year</th>\n",
       "      <th>building_total_floors</th>\n",
       "      <th>apartment_floor</th>\n",
       "      <th>apartment_rooms</th>\n",
       "      <th>apartment_bedrooms</th>\n",
       "      <th>apartment_bathrooms</th>\n",
       "      <th>apartment_total_area</th>\n",
       "      <th>apartment_living_area</th>\n",
       "      <th>price_in_USD</th>\n",
       "      <th>image</th>\n",
       "      <th>url</th>\n",
       "    </tr>\n",
       "  </thead>\n",
       "  <tbody>\n",
       "    <tr>\n",
       "      <th>0</th>\n",
       "      <td>2 room apartment 120 m² in Mediterranean Regio...</td>\n",
       "      <td>Turkey</td>\n",
       "      <td>Mediterranean Region, Turkey</td>\n",
       "      <td>NaN</td>\n",
       "      <td>5.0</td>\n",
       "      <td>1.0</td>\n",
       "      <td>3.0</td>\n",
       "      <td>2.0</td>\n",
       "      <td>2.0</td>\n",
       "      <td>120.0</td>\n",
       "      <td>110 m²</td>\n",
       "      <td>315209.0</td>\n",
       "      <td>https://realting.com/uploads/bigSlider/ab3/888...</td>\n",
       "      <td>https://realting.com/property-for-sale/turkey/...</td>\n",
       "    </tr>\n",
       "    <tr>\n",
       "      <th>1</th>\n",
       "      <td>4 room villa 500 m² in Kalkan, Turkey</td>\n",
       "      <td>Turkey</td>\n",
       "      <td>Kalkan, Mediterranean Region, Kas, Turkey</td>\n",
       "      <td>2021.0</td>\n",
       "      <td>2.0</td>\n",
       "      <td>NaN</td>\n",
       "      <td>NaN</td>\n",
       "      <td>NaN</td>\n",
       "      <td>NaN</td>\n",
       "      <td>500.0</td>\n",
       "      <td>480 m²</td>\n",
       "      <td>1108667.0</td>\n",
       "      <td>https://realting.com/uploads/bigSlider/87b/679...</td>\n",
       "      <td>https://realting.com/property-for-sale/turkey/...</td>\n",
       "    </tr>\n",
       "    <tr>\n",
       "      <th>2</th>\n",
       "      <td>1 room apartment 65 m² in Antalya, Turkey</td>\n",
       "      <td>Turkey</td>\n",
       "      <td>Mediterranean Region, Antalya, Turkey</td>\n",
       "      <td>NaN</td>\n",
       "      <td>5.0</td>\n",
       "      <td>2.0</td>\n",
       "      <td>2.0</td>\n",
       "      <td>1.0</td>\n",
       "      <td>1.0</td>\n",
       "      <td>65.0</td>\n",
       "      <td>60 m²</td>\n",
       "      <td>173211.0</td>\n",
       "      <td>https://realting.com/uploads/bigSlider/030/a11...</td>\n",
       "      <td>https://realting.com/property-for-sale/turkey/...</td>\n",
       "    </tr>\n",
       "    <tr>\n",
       "      <th>3</th>\n",
       "      <td>1 room apartment  in Pattaya, Thailand</td>\n",
       "      <td>Thailand</td>\n",
       "      <td>Chon Buri Province, Pattaya, Thailand</td>\n",
       "      <td>2020.0</td>\n",
       "      <td>15.0</td>\n",
       "      <td>5.0</td>\n",
       "      <td>2.0</td>\n",
       "      <td>1.0</td>\n",
       "      <td>1.0</td>\n",
       "      <td>NaN</td>\n",
       "      <td>40 m²</td>\n",
       "      <td>99900.0</td>\n",
       "      <td>https://realting.com/uploads/bigSlider/e9a/e06...</td>\n",
       "      <td>https://realting.com/property-for-sale/thailan...</td>\n",
       "    </tr>\n",
       "    <tr>\n",
       "      <th>4</th>\n",
       "      <td>2 room apartment  in Pattaya, Thailand</td>\n",
       "      <td>Thailand</td>\n",
       "      <td>Chon Buri Province, Pattaya, Thailand</td>\n",
       "      <td>2026.0</td>\n",
       "      <td>8.0</td>\n",
       "      <td>3.0</td>\n",
       "      <td>3.0</td>\n",
       "      <td>2.0</td>\n",
       "      <td>1.0</td>\n",
       "      <td>NaN</td>\n",
       "      <td>36 m²</td>\n",
       "      <td>67000.0</td>\n",
       "      <td>https://realting.com/uploads/bigSlider/453/aa2...</td>\n",
       "      <td>https://realting.com/property-for-sale/thailan...</td>\n",
       "    </tr>\n",
       "  </tbody>\n",
       "</table>\n",
       "</div>"
      ],
      "text/plain": [
       "                                               title   country  \\\n",
       "0  2 room apartment 120 m² in Mediterranean Regio...    Turkey   \n",
       "1              4 room villa 500 m² in Kalkan, Turkey    Turkey   \n",
       "2          1 room apartment 65 m² in Antalya, Turkey    Turkey   \n",
       "3             1 room apartment  in Pattaya, Thailand  Thailand   \n",
       "4             2 room apartment  in Pattaya, Thailand  Thailand   \n",
       "\n",
       "                                    location  building_construction_year  \\\n",
       "0               Mediterranean Region, Turkey                         NaN   \n",
       "1  Kalkan, Mediterranean Region, Kas, Turkey                      2021.0   \n",
       "2      Mediterranean Region, Antalya, Turkey                         NaN   \n",
       "3      Chon Buri Province, Pattaya, Thailand                      2020.0   \n",
       "4      Chon Buri Province, Pattaya, Thailand                      2026.0   \n",
       "\n",
       "   building_total_floors  apartment_floor  apartment_rooms  \\\n",
       "0                    5.0              1.0              3.0   \n",
       "1                    2.0              NaN              NaN   \n",
       "2                    5.0              2.0              2.0   \n",
       "3                   15.0              5.0              2.0   \n",
       "4                    8.0              3.0              3.0   \n",
       "\n",
       "   apartment_bedrooms  apartment_bathrooms  apartment_total_area  \\\n",
       "0                 2.0                  2.0                 120.0   \n",
       "1                 NaN                  NaN                 500.0   \n",
       "2                 1.0                  1.0                  65.0   \n",
       "3                 1.0                  1.0                   NaN   \n",
       "4                 2.0                  1.0                   NaN   \n",
       "\n",
       "  apartment_living_area  price_in_USD  \\\n",
       "0                110 m²      315209.0   \n",
       "1                480 m²     1108667.0   \n",
       "2                 60 m²      173211.0   \n",
       "3                 40 m²       99900.0   \n",
       "4                 36 m²       67000.0   \n",
       "\n",
       "                                               image  \\\n",
       "0  https://realting.com/uploads/bigSlider/ab3/888...   \n",
       "1  https://realting.com/uploads/bigSlider/87b/679...   \n",
       "2  https://realting.com/uploads/bigSlider/030/a11...   \n",
       "3  https://realting.com/uploads/bigSlider/e9a/e06...   \n",
       "4  https://realting.com/uploads/bigSlider/453/aa2...   \n",
       "\n",
       "                                                 url  \n",
       "0  https://realting.com/property-for-sale/turkey/...  \n",
       "1  https://realting.com/property-for-sale/turkey/...  \n",
       "2  https://realting.com/property-for-sale/turkey/...  \n",
       "3  https://realting.com/property-for-sale/thailan...  \n",
       "4  https://realting.com/property-for-sale/thailan...  "
      ]
     },
     "execution_count": 11,
     "metadata": {},
     "output_type": "execute_result"
    }
   ],
   "source": [
    "df.head()"
   ]
  },
  {
   "cell_type": "code",
   "execution_count": 12,
   "id": "e18c7568",
   "metadata": {},
   "outputs": [
    {
     "data": {
      "text/plain": [
       "title                          object\n",
       "country                        object\n",
       "location                       object\n",
       "building_construction_year    float64\n",
       "building_total_floors         float64\n",
       "apartment_floor               float64\n",
       "apartment_rooms               float64\n",
       "apartment_bedrooms            float64\n",
       "apartment_bathrooms           float64\n",
       "apartment_total_area          float64\n",
       "apartment_living_area          object\n",
       "price_in_USD                  float64\n",
       "image                          object\n",
       "url                            object\n",
       "dtype: object"
      ]
     },
     "execution_count": 12,
     "metadata": {},
     "output_type": "execute_result"
    }
   ],
   "source": [
    "df.dtypes"
   ]
  },
  {
   "cell_type": "code",
   "execution_count": 13,
   "id": "fcec0bc9",
   "metadata": {},
   "outputs": [],
   "source": [
    "#summary statistics of numeric columns"
   ]
  },
  {
   "cell_type": "code",
   "execution_count": 14,
   "id": "2916e0f1",
   "metadata": {},
   "outputs": [
    {
     "data": {
      "text/html": [
       "<div>\n",
       "<style scoped>\n",
       "    .dataframe tbody tr th:only-of-type {\n",
       "        vertical-align: middle;\n",
       "    }\n",
       "\n",
       "    .dataframe tbody tr th {\n",
       "        vertical-align: top;\n",
       "    }\n",
       "\n",
       "    .dataframe thead th {\n",
       "        text-align: right;\n",
       "    }\n",
       "</style>\n",
       "<table border=\"1\" class=\"dataframe\">\n",
       "  <thead>\n",
       "    <tr style=\"text-align: right;\">\n",
       "      <th></th>\n",
       "      <th>building_construction_year</th>\n",
       "      <th>building_total_floors</th>\n",
       "      <th>apartment_floor</th>\n",
       "      <th>apartment_rooms</th>\n",
       "      <th>apartment_bedrooms</th>\n",
       "      <th>apartment_bathrooms</th>\n",
       "      <th>apartment_total_area</th>\n",
       "      <th>price_in_USD</th>\n",
       "    </tr>\n",
       "  </thead>\n",
       "  <tbody>\n",
       "    <tr>\n",
       "      <th>count</th>\n",
       "      <td>64719.000000</td>\n",
       "      <td>68224.000000</td>\n",
       "      <td>54592.000000</td>\n",
       "      <td>74178.000000</td>\n",
       "      <td>36982.000000</td>\n",
       "      <td>55973.000000</td>\n",
       "      <td>140762.000000</td>\n",
       "      <td>1.449610e+05</td>\n",
       "    </tr>\n",
       "    <tr>\n",
       "      <th>mean</th>\n",
       "      <td>1996.921754</td>\n",
       "      <td>8.575692</td>\n",
       "      <td>5.791709</td>\n",
       "      <td>2.572097</td>\n",
       "      <td>2.289222</td>\n",
       "      <td>1.364229</td>\n",
       "      <td>127.337953</td>\n",
       "      <td>4.121722e+05</td>\n",
       "    </tr>\n",
       "    <tr>\n",
       "      <th>std</th>\n",
       "      <td>157.527635</td>\n",
       "      <td>8.356781</td>\n",
       "      <td>5.541368</td>\n",
       "      <td>1.319545</td>\n",
       "      <td>18.276913</td>\n",
       "      <td>0.745019</td>\n",
       "      <td>118.293861</td>\n",
       "      <td>8.420984e+05</td>\n",
       "    </tr>\n",
       "    <tr>\n",
       "      <th>min</th>\n",
       "      <td>1.000000</td>\n",
       "      <td>-1.000000</td>\n",
       "      <td>-2.000000</td>\n",
       "      <td>-1.000000</td>\n",
       "      <td>-1.000000</td>\n",
       "      <td>1.000000</td>\n",
       "      <td>1.000000</td>\n",
       "      <td>0.000000e+00</td>\n",
       "    </tr>\n",
       "    <tr>\n",
       "      <th>25%</th>\n",
       "      <td>2004.000000</td>\n",
       "      <td>2.000000</td>\n",
       "      <td>2.000000</td>\n",
       "      <td>2.000000</td>\n",
       "      <td>1.000000</td>\n",
       "      <td>1.000000</td>\n",
       "      <td>57.000000</td>\n",
       "      <td>1.054200e+05</td>\n",
       "    </tr>\n",
       "    <tr>\n",
       "      <th>50%</th>\n",
       "      <td>2021.000000</td>\n",
       "      <td>5.000000</td>\n",
       "      <td>4.000000</td>\n",
       "      <td>2.000000</td>\n",
       "      <td>2.000000</td>\n",
       "      <td>1.000000</td>\n",
       "      <td>88.000000</td>\n",
       "      <td>1.902120e+05</td>\n",
       "    </tr>\n",
       "    <tr>\n",
       "      <th>75%</th>\n",
       "      <td>2024.000000</td>\n",
       "      <td>14.000000</td>\n",
       "      <td>8.000000</td>\n",
       "      <td>3.000000</td>\n",
       "      <td>3.000000</td>\n",
       "      <td>2.000000</td>\n",
       "      <td>150.000000</td>\n",
       "      <td>3.989300e+05</td>\n",
       "    </tr>\n",
       "    <tr>\n",
       "      <th>max</th>\n",
       "      <td>2316.000000</td>\n",
       "      <td>124.000000</td>\n",
       "      <td>202.000000</td>\n",
       "      <td>124.000000</td>\n",
       "      <td>2009.000000</td>\n",
       "      <td>43.000000</td>\n",
       "      <td>998.000000</td>\n",
       "      <td>3.060283e+07</td>\n",
       "    </tr>\n",
       "  </tbody>\n",
       "</table>\n",
       "</div>"
      ],
      "text/plain": [
       "       building_construction_year  building_total_floors  apartment_floor  \\\n",
       "count                64719.000000           68224.000000     54592.000000   \n",
       "mean                  1996.921754               8.575692         5.791709   \n",
       "std                    157.527635               8.356781         5.541368   \n",
       "min                      1.000000              -1.000000        -2.000000   \n",
       "25%                   2004.000000               2.000000         2.000000   \n",
       "50%                   2021.000000               5.000000         4.000000   \n",
       "75%                   2024.000000              14.000000         8.000000   \n",
       "max                   2316.000000             124.000000       202.000000   \n",
       "\n",
       "       apartment_rooms  apartment_bedrooms  apartment_bathrooms  \\\n",
       "count     74178.000000        36982.000000         55973.000000   \n",
       "mean          2.572097            2.289222             1.364229   \n",
       "std           1.319545           18.276913             0.745019   \n",
       "min          -1.000000           -1.000000             1.000000   \n",
       "25%           2.000000            1.000000             1.000000   \n",
       "50%           2.000000            2.000000             1.000000   \n",
       "75%           3.000000            3.000000             2.000000   \n",
       "max         124.000000         2009.000000            43.000000   \n",
       "\n",
       "       apartment_total_area  price_in_USD  \n",
       "count         140762.000000  1.449610e+05  \n",
       "mean             127.337953  4.121722e+05  \n",
       "std              118.293861  8.420984e+05  \n",
       "min                1.000000  0.000000e+00  \n",
       "25%               57.000000  1.054200e+05  \n",
       "50%               88.000000  1.902120e+05  \n",
       "75%              150.000000  3.989300e+05  \n",
       "max              998.000000  3.060283e+07  "
      ]
     },
     "execution_count": 14,
     "metadata": {},
     "output_type": "execute_result"
    }
   ],
   "source": [
    "df.describe()"
   ]
  },
  {
   "cell_type": "code",
   "execution_count": 15,
   "id": "b138b5e6",
   "metadata": {},
   "outputs": [],
   "source": [
    "# there are missing values in lots of columns\n",
    "# there may be outliers in many columns\n",
    "\n"
   ]
  },
  {
   "cell_type": "code",
   "execution_count": 16,
   "id": "8fd089ac",
   "metadata": {},
   "outputs": [
    {
     "data": {
      "text/plain": [
       "title                          0.000000\n",
       "country                        0.088114\n",
       "location                       0.088792\n",
       "building_construction_year    56.133418\n",
       "building_total_floors         53.757727\n",
       "apartment_floor               62.997506\n",
       "apartment_rooms               49.722102\n",
       "apartment_bedrooms            74.933576\n",
       "apartment_bathrooms           62.061463\n",
       "apartment_total_area           4.591422\n",
       "apartment_living_area         81.216788\n",
       "price_in_USD                   1.745337\n",
       "image                          0.000000\n",
       "url                            0.000000\n",
       "dtype: float64"
      ]
     },
     "execution_count": 16,
     "metadata": {},
     "output_type": "execute_result"
    }
   ],
   "source": [
    "df.isnull().sum()*100/df.shape[0]"
   ]
  },
  {
   "cell_type": "code",
   "execution_count": 17,
   "id": "d4d8dfa4",
   "metadata": {},
   "outputs": [],
   "source": [
    "# drop columns apartment_living_area,apartment_bedrooms,apartment_bathroom as they have a lot of null values\n",
    "# drop the rows with missing values"
   ]
  },
  {
   "cell_type": "code",
   "execution_count": 18,
   "id": "6861e792",
   "metadata": {},
   "outputs": [],
   "source": [
    "# Step 3: Value counts of category columns"
   ]
  },
  {
   "cell_type": "code",
   "execution_count": 19,
   "id": "7f6abb4a",
   "metadata": {},
   "outputs": [
    {
     "data": {
      "text/plain": [
       "Index(['title', 'country', 'location', 'apartment_living_area', 'image',\n",
       "       'url'],\n",
       "      dtype='object')"
      ]
     },
     "execution_count": 19,
     "metadata": {},
     "output_type": "execute_result"
    }
   ],
   "source": [
    "df.select_dtypes(include='object').columns"
   ]
  },
  {
   "cell_type": "code",
   "execution_count": 20,
   "id": "e3bafee3",
   "metadata": {},
   "outputs": [
    {
     "data": {
      "text/plain": [
       "Turkey             25724\n",
       "Hungary            22325\n",
       "Russia             18491\n",
       "Spain              14939\n",
       "Belarus            14217\n",
       "Greece             12404\n",
       "Montenegro         10702\n",
       "Italy               3335\n",
       "Georgia             3292\n",
       "UAE                 2675\n",
       "Lithuania           2567\n",
       "Latvia              2295\n",
       "Thailand            2224\n",
       "Portugal            2103\n",
       "Croatia             2032\n",
       "Uzbekistan          1952\n",
       "Finland             1751\n",
       "Czech Republic      1371\n",
       "Poland              1210\n",
       "Northern Cyprus      750\n",
       "United States        414\n",
       "Austria              237\n",
       "Armenia              110\n",
       "Serbia               104\n",
       "Indonesia            102\n",
       "Cyprus                79\n",
       "Australia              1\n",
       "Name: country, dtype: int64"
      ]
     },
     "execution_count": 20,
     "metadata": {},
     "output_type": "execute_result"
    }
   ],
   "source": [
    "# include one for each column:\n",
    "df.country.value_counts()"
   ]
  },
  {
   "cell_type": "code",
   "execution_count": 21,
   "id": "17efc15b",
   "metadata": {},
   "outputs": [],
   "source": [
    "# since there are lot of sub category for country, countries with lower value count needs to be removed"
   ]
  },
  {
   "cell_type": "code",
   "execution_count": 22,
   "id": "336b320e",
   "metadata": {},
   "outputs": [
    {
     "data": {
      "text/plain": [
       "country\n",
       "Armenia            2.102339e+05\n",
       "Australia          5.590000e+05\n",
       "Austria            4.818492e+05\n",
       "Belarus            7.185711e+04\n",
       "Croatia            7.147181e+05\n",
       "Cyprus             1.955894e+05\n",
       "Czech Republic     2.751573e+05\n",
       "Finland            2.231320e+05\n",
       "Georgia            9.378740e+04\n",
       "Greece             6.550324e+05\n",
       "Hungary            2.032099e+05\n",
       "Indonesia          3.440110e+05\n",
       "Italy              1.631403e+06\n",
       "Latvia             5.443125e+05\n",
       "Lithuania          1.759416e+05\n",
       "Montenegro         5.171142e+05\n",
       "Northern Cyprus    1.877211e+05\n",
       "Poland             3.629315e+05\n",
       "Portugal           9.649344e+05\n",
       "Russia             1.924342e+05\n",
       "Serbia             1.318079e+05\n",
       "Spain              7.388327e+05\n",
       "Thailand           2.807266e+05\n",
       "Turkey             3.772402e+05\n",
       "UAE                1.308989e+06\n",
       "United States      1.232923e+06\n",
       "Uzbekistan         1.127489e+05\n",
       "Name: price_in_USD, dtype: float64"
      ]
     },
     "execution_count": 22,
     "metadata": {},
     "output_type": "execute_result"
    }
   ],
   "source": [
    "df['price_in_USD'].groupby([df['country']]).mean()"
   ]
  },
  {
   "cell_type": "code",
   "execution_count": 23,
   "id": "19b1677b",
   "metadata": {},
   "outputs": [],
   "source": [
    "# Step 4: Data Visualization"
   ]
  },
  {
   "cell_type": "code",
   "execution_count": 24,
   "id": "d81a280d",
   "metadata": {},
   "outputs": [
    {
     "data": {
      "image/png": "[encoded data removed]",
      "text/plain": [
       "<Figure size 800x500 with 1 Axes>"
      ]
     },
     "metadata": {},
     "output_type": "display_data"
    }
   ],
   "source": [
    "# Univariate Histogram\n",
    "plt.figure(figsize=(8, 5))\n",
    "sns.histplot(df['price_in_USD'], bins=20, kde=True)\n",
    "plt.title('Histogram of price in USD')\n",
    "plt.xlabel('price in USD')\n",
    "plt.ylabel('Frequency')\n",
    "plt.show()"
   ]
  },
  {
   "cell_type": "code",
   "execution_count": 25,
   "id": "9a4c3c6e",
   "metadata": {},
   "outputs": [],
   "source": [
    "# price in USD may have some upper side outliers"
   ]
  },
  {
   "cell_type": "code",
   "execution_count": 26,
   "id": "ed4bc627",
   "metadata": {},
   "outputs": [
    {
     "data": {
      "image/png": "[encoded data removed]",
      "text/plain": [
       "<Figure size 800x500 with 1 Axes>"
      ]
     },
     "metadata": {},
     "output_type": "display_data"
    }
   ],
   "source": [
    "# Univariate Histogram\n",
    "plt.figure(figsize=(8, 5))\n",
    "sns.histplot(df['apartment_total_area'], bins=20, kde=True)\n",
    "plt.title('Histogram of apartment total area')\n",
    "plt.xlabel('apartment total area')\n",
    "plt.ylabel('Frequency')\n",
    "plt.show()"
   ]
  },
  {
   "cell_type": "code",
   "execution_count": 27,
   "id": "ade22d84",
   "metadata": {},
   "outputs": [],
   "source": [
    "# The histogram is right skewed and may have some outliers"
   ]
  },
  {
   "cell_type": "code",
   "execution_count": 28,
   "id": "a5df31a8",
   "metadata": {},
   "outputs": [
    {
     "data": {
      "image/png": "[encoded data removed]",
      "text/plain": [
       "<Figure size 800x500 with 1 Axes>"
      ]
     },
     "metadata": {},
     "output_type": "display_data"
    }
   ],
   "source": [
    "# Univariate Histogram\n",
    "plt.figure(figsize=(8, 5))\n",
    "sns.histplot(df['apartment_floor'], bins=20, kde=True)\n",
    "plt.title('Histogram of apartment floor')\n",
    "plt.xlabel('apartment floor')\n",
    "plt.ylabel('Frequency')\n",
    "plt.show()"
   ]
  },
  {
   "cell_type": "code",
   "execution_count": 29,
   "id": "cb8ae504",
   "metadata": {},
   "outputs": [],
   "source": [
    "# there ara a lot of outliers in apartment floor"
   ]
  },
  {
   "cell_type": "code",
   "execution_count": 30,
   "id": "af069659",
   "metadata": {},
   "outputs": [
    {
     "data": {
      "image/png": "[encoded data removed]",
      "text/plain": [
       "<Figure size 800x500 with 1 Axes>"
      ]
     },
     "metadata": {},
     "output_type": "display_data"
    }
   ],
   "source": [
    "# Univariate Box Plot\n",
    "plt.figure(figsize=(8, 5))\n",
    "sns.boxplot(x=df['price_in_USD'])\n",
    "plt.title('Box Plot of price in USD')\n",
    "plt.xlabel('price in USD')\n",
    "plt.show()"
   ]
  },
  {
   "cell_type": "code",
   "execution_count": 31,
   "id": "8a440f90",
   "metadata": {},
   "outputs": [],
   "source": [
    "# there may be lot of  outliers in price in USD column"
   ]
  },
  {
   "cell_type": "code",
   "execution_count": 32,
   "id": "59013f8b",
   "metadata": {},
   "outputs": [
    {
     "data": {
      "image/png": "[encoded data removed]",
      "text/plain": [
       "<Figure size 800x500 with 1 Axes>"
      ]
     },
     "metadata": {},
     "output_type": "display_data"
    }
   ],
   "source": [
    "# Univariate Box Plot\n",
    "plt.figure(figsize=(8, 5))\n",
    "sns.boxplot(x=df['apartment_total_area'])\n",
    "plt.title('Box Plot of apartment_total_area ')\n",
    "plt.xlabel('apartment_total_area')\n",
    "plt.show()"
   ]
  },
  {
   "cell_type": "code",
   "execution_count": 33,
   "id": "4a93b864",
   "metadata": {},
   "outputs": [
    {
     "data": {
      "text/plain": [
       "<Axes: xlabel='apartment_total_area', ylabel='price_in_USD'>"
      ]
     },
     "execution_count": 33,
     "metadata": {},
     "output_type": "execute_result"
    },
    {
     "data": {
      "image/png": "[encoded data removed]",
      "text/plain": [
       "<Figure size 640x480 with 1 Axes>"
      ]
     },
     "metadata": {},
     "output_type": "display_data"
    }
   ],
   "source": [
    "sns.scatterplot(x=df.apartment_total_area, y=df.price_in_USD)"
   ]
  },
  {
   "cell_type": "code",
   "execution_count": 34,
   "id": "c9d04492",
   "metadata": {},
   "outputs": [],
   "source": [
    "# price_in_USD seems to have increasing with apartment_total_area"
   ]
  },
  {
   "cell_type": "code",
   "execution_count": 35,
   "id": "f80da973",
   "metadata": {},
   "outputs": [
    {
     "data": {
      "text/plain": [
       "<Axes: xlabel='apartment_rooms', ylabel='price_in_USD'>"
      ]
     },
     "execution_count": 35,
     "metadata": {},
     "output_type": "execute_result"
    },
    {
     "data": {
      "image/png": "[encoded data removed]",
      "text/plain": [
       "<Figure size 640x480 with 1 Axes>"
      ]
     },
     "metadata": {},
     "output_type": "display_data"
    }
   ],
   "source": [
    "sns.scatterplot(x=df.apartment_rooms, y=df.price_in_USD)"
   ]
  },
  {
   "cell_type": "code",
   "execution_count": 36,
   "id": "f93cd22a",
   "metadata": {},
   "outputs": [],
   "source": [
    "# apartmnet rooms do not seem to have any significant impact on price in USD"
   ]
  },
  {
   "cell_type": "code",
   "execution_count": 37,
   "id": "bd93fe67",
   "metadata": {},
   "outputs": [
    {
     "data": {
      "text/plain": [
       "<Axes: xlabel='building_construction_year', ylabel='price_in_USD'>"
      ]
     },
     "execution_count": 37,
     "metadata": {},
     "output_type": "execute_result"
    },
    {
     "data": {
      "image/png": "[encoded data removed]",
      "text/plain": [
       "<Figure size 640x480 with 1 Axes>"
      ]
     },
     "metadata": {},
     "output_type": "display_data"
    }
   ],
   "source": [
    "sns.scatterplot(x=df.building_construction_year, y=df.price_in_USD)"
   ]
  },
  {
   "cell_type": "code",
   "execution_count": 38,
   "id": "629b7395",
   "metadata": {},
   "outputs": [],
   "source": [
    "# Step 5: Observations from data visualization\n",
    "# - The columns title,location,image,url,apartment_living_area,apartment_bedrooms,apartment_bathroom are to be dropped\n",
    "# - Rows with missing values are to be removed\n",
    "# - Outliers require rows to be trimmed\n",
    "# - Country is categorical with lots of sub categories. They have to be clustered\n"
   ]
  },
  {
   "cell_type": "markdown",
   "id": "2548df4e",
   "metadata": {},
   "source": [
    "# Data Preprocessing"
   ]
  },
  {
   "cell_type": "code",
   "execution_count": 39,
   "id": "88eb7dc0",
   "metadata": {},
   "outputs": [],
   "source": [
    "# Step 1: Remove columns:title', 'location','image','url','apartment_living_area','apartment_bedrooms','apartment_bathrooms'\n",
    "df = df.drop(columns=['title', 'location','image','url','apartment_living_area','apartment_bedrooms','apartment_bathrooms'])"
   ]
  },
  {
   "cell_type": "code",
   "execution_count": 40,
   "id": "17260432",
   "metadata": {},
   "outputs": [
    {
     "data": {
      "text/plain": [
       "(147536, 7)"
      ]
     },
     "execution_count": 40,
     "metadata": {},
     "output_type": "execute_result"
    }
   ],
   "source": [
    "df.shape"
   ]
  },
  {
   "cell_type": "code",
   "execution_count": 41,
   "id": "4343c917",
   "metadata": {},
   "outputs": [],
   "source": [
    "df = df.dropna()"
   ]
  },
  {
   "cell_type": "code",
   "execution_count": 42,
   "id": "137e8d57",
   "metadata": {},
   "outputs": [
    {
     "data": {
      "text/plain": [
       "(28891, 7)"
      ]
     },
     "execution_count": 42,
     "metadata": {},
     "output_type": "execute_result"
    }
   ],
   "source": [
    "df.shape"
   ]
  },
  {
   "cell_type": "code",
   "execution_count": 43,
   "id": "9276804b",
   "metadata": {},
   "outputs": [
    {
     "data": {
      "text/html": [
       "<div>\n",
       "<style scoped>\n",
       "    .dataframe tbody tr th:only-of-type {\n",
       "        vertical-align: middle;\n",
       "    }\n",
       "\n",
       "    .dataframe tbody tr th {\n",
       "        vertical-align: top;\n",
       "    }\n",
       "\n",
       "    .dataframe thead th {\n",
       "        text-align: right;\n",
       "    }\n",
       "</style>\n",
       "<table border=\"1\" class=\"dataframe\">\n",
       "  <thead>\n",
       "    <tr style=\"text-align: right;\">\n",
       "      <th></th>\n",
       "      <th>building_construction_year</th>\n",
       "      <th>building_total_floors</th>\n",
       "      <th>apartment_floor</th>\n",
       "      <th>apartment_rooms</th>\n",
       "      <th>apartment_total_area</th>\n",
       "      <th>price_in_USD</th>\n",
       "    </tr>\n",
       "  </thead>\n",
       "  <tbody>\n",
       "    <tr>\n",
       "      <th>6</th>\n",
       "      <td>2007.0</td>\n",
       "      <td>2.0</td>\n",
       "      <td>3.0</td>\n",
       "      <td>5.0</td>\n",
       "      <td>245.0</td>\n",
       "      <td>274415.0</td>\n",
       "    </tr>\n",
       "    <tr>\n",
       "      <th>15</th>\n",
       "      <td>2023.0</td>\n",
       "      <td>4.0</td>\n",
       "      <td>2.0</td>\n",
       "      <td>4.0</td>\n",
       "      <td>54.0</td>\n",
       "      <td>314990.0</td>\n",
       "    </tr>\n",
       "    <tr>\n",
       "      <th>23</th>\n",
       "      <td>1955.0</td>\n",
       "      <td>4.0</td>\n",
       "      <td>4.0</td>\n",
       "      <td>3.0</td>\n",
       "      <td>72.0</td>\n",
       "      <td>122000.0</td>\n",
       "    </tr>\n",
       "    <tr>\n",
       "      <th>26</th>\n",
       "      <td>2013.0</td>\n",
       "      <td>16.0</td>\n",
       "      <td>2.0</td>\n",
       "      <td>3.0</td>\n",
       "      <td>100.0</td>\n",
       "      <td>159000.0</td>\n",
       "    </tr>\n",
       "    <tr>\n",
       "      <th>73</th>\n",
       "      <td>2021.0</td>\n",
       "      <td>6.0</td>\n",
       "      <td>2.0</td>\n",
       "      <td>2.0</td>\n",
       "      <td>55.0</td>\n",
       "      <td>314122.0</td>\n",
       "    </tr>\n",
       "  </tbody>\n",
       "</table>\n",
       "</div>"
      ],
      "text/plain": [
       "    building_construction_year  building_total_floors  apartment_floor  \\\n",
       "6                       2007.0                    2.0              3.0   \n",
       "15                      2023.0                    4.0              2.0   \n",
       "23                      1955.0                    4.0              4.0   \n",
       "26                      2013.0                   16.0              2.0   \n",
       "73                      2021.0                    6.0              2.0   \n",
       "\n",
       "    apartment_rooms  apartment_total_area  price_in_USD  \n",
       "6               5.0                 245.0      274415.0  \n",
       "15              4.0                  54.0      314990.0  \n",
       "23              3.0                  72.0      122000.0  \n",
       "26              3.0                 100.0      159000.0  \n",
       "73              2.0                  55.0      314122.0  "
      ]
     },
     "execution_count": 43,
     "metadata": {},
     "output_type": "execute_result"
    }
   ],
   "source": [
    "# Step 3: Split numeric columns into X\n",
    "df_num = df.select_dtypes(include='number')\n",
    "df_num.head()\n"
   ]
  },
  {
   "cell_type": "code",
   "execution_count": 44,
   "id": "e3d37262",
   "metadata": {},
   "outputs": [],
   "source": [
    "# outlier filter\n",
    "\n",
    "# get thresholds for outlier\n",
    "Q1 = df_num.quantile(0.25)\n",
    "Q3 = df_num.quantile(0.75)\n",
    "IQR = Q3 - Q1\n",
    "lower_bound = Q1 - 1.5 * IQR\n",
    "upper_bound = Q3 + 1.5 * IQR"
   ]
  },
  {
   "cell_type": "code",
   "execution_count": 45,
   "id": "53b6071e",
   "metadata": {},
   "outputs": [],
   "source": [
    "df = df[~((df_num < lower_bound) | (df_num > upper_bound)).any(axis=1)]"
   ]
  },
  {
   "cell_type": "code",
   "execution_count": 46,
   "id": "2952da28",
   "metadata": {},
   "outputs": [
    {
     "data": {
      "text/plain": [
       "(21074, 7)"
      ]
     },
     "execution_count": 46,
     "metadata": {},
     "output_type": "execute_result"
    }
   ],
   "source": [
    "df.shape"
   ]
  },
  {
   "cell_type": "code",
   "execution_count": 47,
   "id": "39f132df",
   "metadata": {},
   "outputs": [
    {
     "data": {
      "text/plain": [
       "<Axes: xlabel='price_in_USD'>"
      ]
     },
     "execution_count": 47,
     "metadata": {},
     "output_type": "execute_result"
    },
    {
     "data": {
      "image/png": "[encoded data removed]",
      "text/plain": [
       "<Figure size 640x480 with 1 Axes>"
      ]
     },
     "metadata": {},
     "output_type": "display_data"
    }
   ],
   "source": [
    "sns.boxplot(x=df['price_in_USD'])"
   ]
  },
  {
   "cell_type": "code",
   "execution_count": 48,
   "id": "76180c02",
   "metadata": {},
   "outputs": [
    {
     "data": {
      "text/plain": [
       "(21074, 6)"
      ]
     },
     "execution_count": 48,
     "metadata": {},
     "output_type": "execute_result"
    }
   ],
   "source": [
    "df_num = df.select_dtypes(include='number')\n",
    "df_num.shape"
   ]
  },
  {
   "cell_type": "code",
   "execution_count": 49,
   "id": "9d4bf333",
   "metadata": {},
   "outputs": [],
   "source": [
    "# outlier filter\n",
    "\n",
    "# get thresholds for outlier\n",
    "Q1 = df_num.quantile(0.25)\n",
    "Q3 = df_num.quantile(0.75)\n",
    "IQR = Q3 - Q1\n",
    "lower_bound = Q1 - 1.5 * IQR\n",
    "upper_bound = Q3 + 1.5 * IQR"
   ]
  },
  {
   "cell_type": "code",
   "execution_count": 50,
   "id": "5720a76e",
   "metadata": {},
   "outputs": [],
   "source": [
    "df = df[~((df_num < lower_bound) | (df_num > upper_bound)).any(axis=1)]"
   ]
  },
  {
   "cell_type": "code",
   "execution_count": 51,
   "id": "f8988815",
   "metadata": {},
   "outputs": [
    {
     "data": {
      "text/plain": [
       "(17404, 7)"
      ]
     },
     "execution_count": 51,
     "metadata": {},
     "output_type": "execute_result"
    }
   ],
   "source": [
    "df.shape"
   ]
  },
  {
   "cell_type": "code",
   "execution_count": 52,
   "id": "d0523ce4",
   "metadata": {},
   "outputs": [
    {
     "data": {
      "text/plain": [
       "<Axes: xlabel='price_in_USD'>"
      ]
     },
     "execution_count": 52,
     "metadata": {},
     "output_type": "execute_result"
    },
    {
     "data": {
      "image/png": "[encoded data removed]",
      "text/plain": [
       "<Figure size 640x480 with 1 Axes>"
      ]
     },
     "metadata": {},
     "output_type": "display_data"
    }
   ],
   "source": [
    "sns.boxplot(x=df['price_in_USD'])"
   ]
  },
  {
   "cell_type": "code",
   "execution_count": 53,
   "id": "6e3d4386",
   "metadata": {},
   "outputs": [
    {
     "data": {
      "text/html": [
       "<div>\n",
       "<style scoped>\n",
       "    .dataframe tbody tr th:only-of-type {\n",
       "        vertical-align: middle;\n",
       "    }\n",
       "\n",
       "    .dataframe tbody tr th {\n",
       "        vertical-align: top;\n",
       "    }\n",
       "\n",
       "    .dataframe thead th {\n",
       "        text-align: right;\n",
       "    }\n",
       "</style>\n",
       "<table border=\"1\" class=\"dataframe\">\n",
       "  <thead>\n",
       "    <tr style=\"text-align: right;\">\n",
       "      <th></th>\n",
       "      <th>country</th>\n",
       "      <th>building_construction_year</th>\n",
       "      <th>building_total_floors</th>\n",
       "      <th>apartment_floor</th>\n",
       "      <th>apartment_rooms</th>\n",
       "      <th>apartment_total_area</th>\n",
       "    </tr>\n",
       "  </thead>\n",
       "  <tbody>\n",
       "    <tr>\n",
       "      <th>74</th>\n",
       "      <td>Thailand</td>\n",
       "      <td>2021.0</td>\n",
       "      <td>8.0</td>\n",
       "      <td>1.0</td>\n",
       "      <td>1.0</td>\n",
       "      <td>23.0</td>\n",
       "    </tr>\n",
       "    <tr>\n",
       "      <th>138</th>\n",
       "      <td>Uzbekistan</td>\n",
       "      <td>2024.0</td>\n",
       "      <td>9.0</td>\n",
       "      <td>3.0</td>\n",
       "      <td>1.0</td>\n",
       "      <td>43.0</td>\n",
       "    </tr>\n",
       "    <tr>\n",
       "      <th>146</th>\n",
       "      <td>Turkey</td>\n",
       "      <td>2020.0</td>\n",
       "      <td>4.0</td>\n",
       "      <td>4.0</td>\n",
       "      <td>3.0</td>\n",
       "      <td>93.0</td>\n",
       "    </tr>\n",
       "    <tr>\n",
       "      <th>154</th>\n",
       "      <td>Uzbekistan</td>\n",
       "      <td>2024.0</td>\n",
       "      <td>7.0</td>\n",
       "      <td>4.0</td>\n",
       "      <td>1.0</td>\n",
       "      <td>43.0</td>\n",
       "    </tr>\n",
       "    <tr>\n",
       "      <th>156</th>\n",
       "      <td>Uzbekistan</td>\n",
       "      <td>2025.0</td>\n",
       "      <td>11.0</td>\n",
       "      <td>8.0</td>\n",
       "      <td>2.0</td>\n",
       "      <td>76.0</td>\n",
       "    </tr>\n",
       "  </tbody>\n",
       "</table>\n",
       "</div>"
      ],
      "text/plain": [
       "        country  building_construction_year  building_total_floors  \\\n",
       "74     Thailand                      2021.0                    8.0   \n",
       "138  Uzbekistan                      2024.0                    9.0   \n",
       "146      Turkey                      2020.0                    4.0   \n",
       "154  Uzbekistan                      2024.0                    7.0   \n",
       "156  Uzbekistan                      2025.0                   11.0   \n",
       "\n",
       "     apartment_floor  apartment_rooms  apartment_total_area  \n",
       "74               1.0              1.0                  23.0  \n",
       "138              3.0              1.0                  43.0  \n",
       "146              4.0              3.0                  93.0  \n",
       "154              4.0              1.0                  43.0  \n",
       "156              8.0              2.0                  76.0  "
      ]
     },
     "execution_count": 53,
     "metadata": {},
     "output_type": "execute_result"
    }
   ],
   "source": [
    "X = df.drop('price_in_USD', axis=1)\n",
    "y = df.price_in_USD\n",
    "X.head()"
   ]
  },
  {
   "cell_type": "code",
   "execution_count": 54,
   "id": "c4048c27",
   "metadata": {},
   "outputs": [
    {
     "data": {
      "text/html": [
       "<div>\n",
       "<style scoped>\n",
       "    .dataframe tbody tr th:only-of-type {\n",
       "        vertical-align: middle;\n",
       "    }\n",
       "\n",
       "    .dataframe tbody tr th {\n",
       "        vertical-align: top;\n",
       "    }\n",
       "\n",
       "    .dataframe thead th {\n",
       "        text-align: right;\n",
       "    }\n",
       "</style>\n",
       "<table border=\"1\" class=\"dataframe\">\n",
       "  <thead>\n",
       "    <tr style=\"text-align: right;\">\n",
       "      <th></th>\n",
       "      <th>building_construction_year</th>\n",
       "      <th>building_total_floors</th>\n",
       "      <th>apartment_floor</th>\n",
       "      <th>apartment_rooms</th>\n",
       "      <th>apartment_total_area</th>\n",
       "    </tr>\n",
       "  </thead>\n",
       "  <tbody>\n",
       "    <tr>\n",
       "      <th>74</th>\n",
       "      <td>2021.0</td>\n",
       "      <td>8.0</td>\n",
       "      <td>1.0</td>\n",
       "      <td>1.0</td>\n",
       "      <td>23.0</td>\n",
       "    </tr>\n",
       "    <tr>\n",
       "      <th>138</th>\n",
       "      <td>2024.0</td>\n",
       "      <td>9.0</td>\n",
       "      <td>3.0</td>\n",
       "      <td>1.0</td>\n",
       "      <td>43.0</td>\n",
       "    </tr>\n",
       "    <tr>\n",
       "      <th>146</th>\n",
       "      <td>2020.0</td>\n",
       "      <td>4.0</td>\n",
       "      <td>4.0</td>\n",
       "      <td>3.0</td>\n",
       "      <td>93.0</td>\n",
       "    </tr>\n",
       "    <tr>\n",
       "      <th>154</th>\n",
       "      <td>2024.0</td>\n",
       "      <td>7.0</td>\n",
       "      <td>4.0</td>\n",
       "      <td>1.0</td>\n",
       "      <td>43.0</td>\n",
       "    </tr>\n",
       "    <tr>\n",
       "      <th>156</th>\n",
       "      <td>2025.0</td>\n",
       "      <td>11.0</td>\n",
       "      <td>8.0</td>\n",
       "      <td>2.0</td>\n",
       "      <td>76.0</td>\n",
       "    </tr>\n",
       "  </tbody>\n",
       "</table>\n",
       "</div>"
      ],
      "text/plain": [
       "     building_construction_year  building_total_floors  apartment_floor  \\\n",
       "74                       2021.0                    8.0              1.0   \n",
       "138                      2024.0                    9.0              3.0   \n",
       "146                      2020.0                    4.0              4.0   \n",
       "154                      2024.0                    7.0              4.0   \n",
       "156                      2025.0                   11.0              8.0   \n",
       "\n",
       "     apartment_rooms  apartment_total_area  \n",
       "74               1.0                  23.0  \n",
       "138              1.0                  43.0  \n",
       "146              3.0                  93.0  \n",
       "154              1.0                  43.0  \n",
       "156              2.0                  76.0  "
      ]
     },
     "execution_count": 54,
     "metadata": {},
     "output_type": "execute_result"
    }
   ],
   "source": [
    "X_num = X.select_dtypes('number')\n",
    "X_num.head()"
   ]
  },
  {
   "cell_type": "code",
   "execution_count": 55,
   "id": "a24edc55",
   "metadata": {},
   "outputs": [],
   "source": [
    "# Step 4: Rescale numeric columns (optional, based on the algorithm used)\n",
    "scaler = MinMaxScaler()\n",
    "X_num_scaled = scaler.fit_transform(X_num)"
   ]
  },
  {
   "cell_type": "code",
   "execution_count": 56,
   "id": "6284ac7a",
   "metadata": {},
   "outputs": [],
   "source": [
    "# Convert the scaled numpy array back to a DataFrame\n",
    "X_num_scaled = pd.DataFrame(X_num_scaled, columns=X_num.columns, index=X_num.index)"
   ]
  },
  {
   "cell_type": "code",
   "execution_count": 57,
   "id": "48b2ef6a",
   "metadata": {},
   "outputs": [
    {
     "data": {
      "text/html": [
       "<div>\n",
       "<style scoped>\n",
       "    .dataframe tbody tr th:only-of-type {\n",
       "        vertical-align: middle;\n",
       "    }\n",
       "\n",
       "    .dataframe tbody tr th {\n",
       "        vertical-align: top;\n",
       "    }\n",
       "\n",
       "    .dataframe thead th {\n",
       "        text-align: right;\n",
       "    }\n",
       "</style>\n",
       "<table border=\"1\" class=\"dataframe\">\n",
       "  <thead>\n",
       "    <tr style=\"text-align: right;\">\n",
       "      <th></th>\n",
       "      <th>building_construction_year</th>\n",
       "      <th>building_total_floors</th>\n",
       "      <th>apartment_floor</th>\n",
       "      <th>apartment_rooms</th>\n",
       "      <th>apartment_total_area</th>\n",
       "    </tr>\n",
       "  </thead>\n",
       "  <tbody>\n",
       "    <tr>\n",
       "      <th>count</th>\n",
       "      <td>17404.000000</td>\n",
       "      <td>17404.000000</td>\n",
       "      <td>17404.000000</td>\n",
       "      <td>17404.000000</td>\n",
       "      <td>17404.000000</td>\n",
       "    </tr>\n",
       "    <tr>\n",
       "      <th>mean</th>\n",
       "      <td>0.620616</td>\n",
       "      <td>0.517783</td>\n",
       "      <td>0.356162</td>\n",
       "      <td>0.359324</td>\n",
       "      <td>0.362335</td>\n",
       "    </tr>\n",
       "    <tr>\n",
       "      <th>std</th>\n",
       "      <td>0.174107</td>\n",
       "      <td>0.197544</td>\n",
       "      <td>0.239153</td>\n",
       "      <td>0.296906</td>\n",
       "      <td>0.212176</td>\n",
       "    </tr>\n",
       "    <tr>\n",
       "      <th>min</th>\n",
       "      <td>0.000000</td>\n",
       "      <td>0.000000</td>\n",
       "      <td>0.000000</td>\n",
       "      <td>0.000000</td>\n",
       "      <td>0.000000</td>\n",
       "    </tr>\n",
       "    <tr>\n",
       "      <th>25%</th>\n",
       "      <td>0.500000</td>\n",
       "      <td>0.423077</td>\n",
       "      <td>0.150000</td>\n",
       "      <td>0.000000</td>\n",
       "      <td>0.206522</td>\n",
       "    </tr>\n",
       "    <tr>\n",
       "      <th>50%</th>\n",
       "      <td>0.700000</td>\n",
       "      <td>0.538462</td>\n",
       "      <td>0.350000</td>\n",
       "      <td>0.333333</td>\n",
       "      <td>0.358696</td>\n",
       "    </tr>\n",
       "    <tr>\n",
       "      <th>75%</th>\n",
       "      <td>0.700000</td>\n",
       "      <td>0.615385</td>\n",
       "      <td>0.550000</td>\n",
       "      <td>0.666667</td>\n",
       "      <td>0.500000</td>\n",
       "    </tr>\n",
       "    <tr>\n",
       "      <th>max</th>\n",
       "      <td>1.000000</td>\n",
       "      <td>1.000000</td>\n",
       "      <td>1.000000</td>\n",
       "      <td>1.000000</td>\n",
       "      <td>1.000000</td>\n",
       "    </tr>\n",
       "  </tbody>\n",
       "</table>\n",
       "</div>"
      ],
      "text/plain": [
       "       building_construction_year  building_total_floors  apartment_floor  \\\n",
       "count                17404.000000           17404.000000     17404.000000   \n",
       "mean                     0.620616               0.517783         0.356162   \n",
       "std                      0.174107               0.197544         0.239153   \n",
       "min                      0.000000               0.000000         0.000000   \n",
       "25%                      0.500000               0.423077         0.150000   \n",
       "50%                      0.700000               0.538462         0.350000   \n",
       "75%                      0.700000               0.615385         0.550000   \n",
       "max                      1.000000               1.000000         1.000000   \n",
       "\n",
       "       apartment_rooms  apartment_total_area  \n",
       "count     17404.000000          17404.000000  \n",
       "mean          0.359324              0.362335  \n",
       "std           0.296906              0.212176  \n",
       "min           0.000000              0.000000  \n",
       "25%           0.000000              0.206522  \n",
       "50%           0.333333              0.358696  \n",
       "75%           0.666667              0.500000  \n",
       "max           1.000000              1.000000  "
      ]
     },
     "execution_count": 57,
     "metadata": {},
     "output_type": "execute_result"
    }
   ],
   "source": [
    "X_num_scaled.describe()"
   ]
  },
  {
   "cell_type": "code",
   "execution_count": 58,
   "id": "16368e75",
   "metadata": {},
   "outputs": [
    {
     "data": {
      "text/html": [
       "<div>\n",
       "<style scoped>\n",
       "    .dataframe tbody tr th:only-of-type {\n",
       "        vertical-align: middle;\n",
       "    }\n",
       "\n",
       "    .dataframe tbody tr th {\n",
       "        vertical-align: top;\n",
       "    }\n",
       "\n",
       "    .dataframe thead th {\n",
       "        text-align: right;\n",
       "    }\n",
       "</style>\n",
       "<table border=\"1\" class=\"dataframe\">\n",
       "  <thead>\n",
       "    <tr style=\"text-align: right;\">\n",
       "      <th></th>\n",
       "      <th>country</th>\n",
       "    </tr>\n",
       "  </thead>\n",
       "  <tbody>\n",
       "    <tr>\n",
       "      <th>74</th>\n",
       "      <td>Thailand</td>\n",
       "    </tr>\n",
       "    <tr>\n",
       "      <th>138</th>\n",
       "      <td>Uzbekistan</td>\n",
       "    </tr>\n",
       "    <tr>\n",
       "      <th>146</th>\n",
       "      <td>Turkey</td>\n",
       "    </tr>\n",
       "    <tr>\n",
       "      <th>154</th>\n",
       "      <td>Uzbekistan</td>\n",
       "    </tr>\n",
       "    <tr>\n",
       "      <th>156</th>\n",
       "      <td>Uzbekistan</td>\n",
       "    </tr>\n",
       "  </tbody>\n",
       "</table>\n",
       "</div>"
      ],
      "text/plain": [
       "        country\n",
       "74     Thailand\n",
       "138  Uzbekistan\n",
       "146      Turkey\n",
       "154  Uzbekistan\n",
       "156  Uzbekistan"
      ]
     },
     "execution_count": 58,
     "metadata": {},
     "output_type": "execute_result"
    }
   ],
   "source": [
    "X_cat = X.select_dtypes('object')\n",
    "X_cat.head()"
   ]
  },
  {
   "cell_type": "code",
   "execution_count": 59,
   "id": "0fd1624e",
   "metadata": {},
   "outputs": [
    {
     "data": {
      "text/plain": [
       "Russia             11064\n",
       "Belarus             2503\n",
       "Turkey              1687\n",
       "Georgia              708\n",
       "Uzbekistan           637\n",
       "Lithuania            230\n",
       "Northern Cyprus      185\n",
       "Thailand             123\n",
       "Montenegro            60\n",
       "Greece                60\n",
       "Croatia               56\n",
       "UAE                   24\n",
       "Indonesia             23\n",
       "Spain                 12\n",
       "Cyprus                11\n",
       "Serbia                 9\n",
       "Poland                 4\n",
       "Portugal               3\n",
       "Italy                  3\n",
       "Czech Republic         2\n",
       "Name: country, dtype: int64"
      ]
     },
     "execution_count": 59,
     "metadata": {},
     "output_type": "execute_result"
    }
   ],
   "source": [
    "df.country.value_counts()"
   ]
  },
  {
   "cell_type": "code",
   "execution_count": 60,
   "id": "52d80ed7",
   "metadata": {},
   "outputs": [
    {
     "data": {
      "text/plain": [
       "Russia             63.571593\n",
       "Belarus            14.381751\n",
       "Turkey              9.693174\n",
       "Georgia             4.068030\n",
       "Uzbekistan          3.660078\n",
       "Lithuania           1.321535\n",
       "Northern Cyprus     1.062974\n",
       "Thailand            0.706734\n",
       "Montenegro          0.344748\n",
       "Greece              0.344748\n",
       "Croatia             0.321765\n",
       "UAE                 0.137899\n",
       "Indonesia           0.132154\n",
       "Spain               0.068950\n",
       "Cyprus              0.063204\n",
       "Serbia              0.051712\n",
       "Poland              0.022983\n",
       "Portugal            0.017237\n",
       "Italy               0.017237\n",
       "Czech Republic      0.011492\n",
       "Name: country, dtype: float64"
      ]
     },
     "execution_count": 60,
     "metadata": {},
     "output_type": "execute_result"
    }
   ],
   "source": [
    "# clustering countries\n",
    "# finding percentage of each cuntry's occurence\n",
    "country_percentages=df.country.value_counts()* 100/ len(df)\n",
    "country_percentages"
   ]
  },
  {
   "cell_type": "code",
   "execution_count": 61,
   "id": "1d85feef",
   "metadata": {},
   "outputs": [],
   "source": [
    "# Filter the DataFrame to include rows where the country occurs more than 3%\n",
    "df = df[df['country'].isin(country_percentages[country_percentages > 3].index)]"
   ]
  },
  {
   "cell_type": "code",
   "execution_count": 62,
   "id": "cf3284d3",
   "metadata": {},
   "outputs": [
    {
     "data": {
      "text/plain": [
       "Russia        11064\n",
       "Belarus        2503\n",
       "Turkey         1687\n",
       "Georgia         708\n",
       "Uzbekistan      637\n",
       "Name: country, dtype: int64"
      ]
     },
     "execution_count": 62,
     "metadata": {},
     "output_type": "execute_result"
    }
   ],
   "source": [
    "df.country.value_counts()"
   ]
  },
  {
   "cell_type": "code",
   "execution_count": 63,
   "id": "5a89138e",
   "metadata": {},
   "outputs": [],
   "source": [
    "# Step 5: One-hot encode category columns\n",
    "X_cat_encoded = pd.get_dummies(X_cat, drop_first=False, dtype=int)  "
   ]
  },
  {
   "cell_type": "code",
   "execution_count": 64,
   "id": "892069c9",
   "metadata": {},
   "outputs": [],
   "source": [
    "# Step 6: Merge df_num and df_cat_encoded into X\n",
    "X = pd.concat([X_num_scaled, X_cat_encoded], axis=1)"
   ]
  },
  {
   "cell_type": "code",
   "execution_count": 65,
   "id": "f07fbbac",
   "metadata": {},
   "outputs": [
    {
     "data": {
      "text/plain": [
       "((17404, 25), (17404, 5), (17404, 20))"
      ]
     },
     "execution_count": 65,
     "metadata": {},
     "output_type": "execute_result"
    }
   ],
   "source": [
    " X.shape, X_num_scaled.shape, X_cat_encoded.shape"
   ]
  },
  {
   "cell_type": "code",
   "execution_count": 66,
   "id": "557dc287",
   "metadata": {},
   "outputs": [
    {
     "name": "stdout",
     "output_type": "stream",
     "text": [
      "\n",
      "Step 7: Checking for NAs and Shape Compatibility\n",
      "building_construction_year    0\n",
      "building_total_floors         0\n",
      "apartment_floor               0\n",
      "apartment_rooms               0\n",
      "apartment_total_area          0\n",
      "country_Belarus               0\n",
      "country_Croatia               0\n",
      "country_Cyprus                0\n",
      "country_Czech Republic        0\n",
      "country_Georgia               0\n",
      "country_Greece                0\n",
      "country_Indonesia             0\n",
      "country_Italy                 0\n",
      "country_Lithuania             0\n",
      "country_Montenegro            0\n",
      "country_Northern Cyprus       0\n",
      "country_Poland                0\n",
      "country_Portugal              0\n",
      "country_Russia                0\n",
      "country_Serbia                0\n",
      "country_Spain                 0\n",
      "country_Thailand              0\n",
      "country_Turkey                0\n",
      "country_UAE                   0\n",
      "country_Uzbekistan            0\n",
      "dtype: int64\n",
      "0\n",
      "(17404, 25)\n",
      "(17404,)\n"
     ]
    }
   ],
   "source": [
    "# Step 7: Check for NA in X and y; Check for shape compatibility\n",
    "print(\"\\nStep 7: Checking for NAs and Shape Compatibility\")\n",
    "print(X.isnull().sum())\n",
    "print(y.isnull().sum())\n",
    "print(X.shape)\n",
    "print(y.shape)"
   ]
  },
  {
   "cell_type": "code",
   "execution_count": 67,
   "id": "684cae1a",
   "metadata": {},
   "outputs": [
    {
     "data": {
      "text/html": [
       "<div>\n",
       "<style scoped>\n",
       "    .dataframe tbody tr th:only-of-type {\n",
       "        vertical-align: middle;\n",
       "    }\n",
       "\n",
       "    .dataframe tbody tr th {\n",
       "        vertical-align: top;\n",
       "    }\n",
       "\n",
       "    .dataframe thead th {\n",
       "        text-align: right;\n",
       "    }\n",
       "</style>\n",
       "<table border=\"1\" class=\"dataframe\">\n",
       "  <thead>\n",
       "    <tr style=\"text-align: right;\">\n",
       "      <th></th>\n",
       "      <th>building_construction_year</th>\n",
       "      <th>building_total_floors</th>\n",
       "      <th>apartment_floor</th>\n",
       "      <th>apartment_rooms</th>\n",
       "      <th>apartment_total_area</th>\n",
       "      <th>country_Belarus</th>\n",
       "      <th>country_Croatia</th>\n",
       "      <th>country_Cyprus</th>\n",
       "      <th>country_Czech Republic</th>\n",
       "      <th>country_Georgia</th>\n",
       "      <th>...</th>\n",
       "      <th>country_Northern Cyprus</th>\n",
       "      <th>country_Poland</th>\n",
       "      <th>country_Portugal</th>\n",
       "      <th>country_Russia</th>\n",
       "      <th>country_Serbia</th>\n",
       "      <th>country_Spain</th>\n",
       "      <th>country_Thailand</th>\n",
       "      <th>country_Turkey</th>\n",
       "      <th>country_UAE</th>\n",
       "      <th>country_Uzbekistan</th>\n",
       "    </tr>\n",
       "  </thead>\n",
       "  <tbody>\n",
       "    <tr>\n",
       "      <th>count</th>\n",
       "      <td>17404.000000</td>\n",
       "      <td>17404.000000</td>\n",
       "      <td>17404.000000</td>\n",
       "      <td>17404.000000</td>\n",
       "      <td>17404.000000</td>\n",
       "      <td>17404.000000</td>\n",
       "      <td>17404.000000</td>\n",
       "      <td>17404.000000</td>\n",
       "      <td>17404.000000</td>\n",
       "      <td>17404.000000</td>\n",
       "      <td>...</td>\n",
       "      <td>17404.000000</td>\n",
       "      <td>17404.000000</td>\n",
       "      <td>17404.000000</td>\n",
       "      <td>17404.000000</td>\n",
       "      <td>17404.000000</td>\n",
       "      <td>17404.000000</td>\n",
       "      <td>17404.000000</td>\n",
       "      <td>17404.000000</td>\n",
       "      <td>17404.000000</td>\n",
       "      <td>17404.000000</td>\n",
       "    </tr>\n",
       "    <tr>\n",
       "      <th>mean</th>\n",
       "      <td>0.620616</td>\n",
       "      <td>0.517783</td>\n",
       "      <td>0.356162</td>\n",
       "      <td>0.359324</td>\n",
       "      <td>0.362335</td>\n",
       "      <td>0.143818</td>\n",
       "      <td>0.003218</td>\n",
       "      <td>0.000632</td>\n",
       "      <td>0.000115</td>\n",
       "      <td>0.040680</td>\n",
       "      <td>...</td>\n",
       "      <td>0.010630</td>\n",
       "      <td>0.000230</td>\n",
       "      <td>0.000172</td>\n",
       "      <td>0.635716</td>\n",
       "      <td>0.000517</td>\n",
       "      <td>0.000689</td>\n",
       "      <td>0.007067</td>\n",
       "      <td>0.096932</td>\n",
       "      <td>0.001379</td>\n",
       "      <td>0.036601</td>\n",
       "    </tr>\n",
       "    <tr>\n",
       "      <th>std</th>\n",
       "      <td>0.174107</td>\n",
       "      <td>0.197544</td>\n",
       "      <td>0.239153</td>\n",
       "      <td>0.296906</td>\n",
       "      <td>0.212176</td>\n",
       "      <td>0.350915</td>\n",
       "      <td>0.056635</td>\n",
       "      <td>0.025133</td>\n",
       "      <td>0.010720</td>\n",
       "      <td>0.197554</td>\n",
       "      <td>...</td>\n",
       "      <td>0.102554</td>\n",
       "      <td>0.015159</td>\n",
       "      <td>0.013128</td>\n",
       "      <td>0.481243</td>\n",
       "      <td>0.022735</td>\n",
       "      <td>0.026250</td>\n",
       "      <td>0.083772</td>\n",
       "      <td>0.295873</td>\n",
       "      <td>0.037110</td>\n",
       "      <td>0.187785</td>\n",
       "    </tr>\n",
       "    <tr>\n",
       "      <th>min</th>\n",
       "      <td>0.000000</td>\n",
       "      <td>0.000000</td>\n",
       "      <td>0.000000</td>\n",
       "      <td>0.000000</td>\n",
       "      <td>0.000000</td>\n",
       "      <td>0.000000</td>\n",
       "      <td>0.000000</td>\n",
       "      <td>0.000000</td>\n",
       "      <td>0.000000</td>\n",
       "      <td>0.000000</td>\n",
       "      <td>...</td>\n",
       "      <td>0.000000</td>\n",
       "      <td>0.000000</td>\n",
       "      <td>0.000000</td>\n",
       "      <td>0.000000</td>\n",
       "      <td>0.000000</td>\n",
       "      <td>0.000000</td>\n",
       "      <td>0.000000</td>\n",
       "      <td>0.000000</td>\n",
       "      <td>0.000000</td>\n",
       "      <td>0.000000</td>\n",
       "    </tr>\n",
       "    <tr>\n",
       "      <th>25%</th>\n",
       "      <td>0.500000</td>\n",
       "      <td>0.423077</td>\n",
       "      <td>0.150000</td>\n",
       "      <td>0.000000</td>\n",
       "      <td>0.206522</td>\n",
       "      <td>0.000000</td>\n",
       "      <td>0.000000</td>\n",
       "      <td>0.000000</td>\n",
       "      <td>0.000000</td>\n",
       "      <td>0.000000</td>\n",
       "      <td>...</td>\n",
       "      <td>0.000000</td>\n",
       "      <td>0.000000</td>\n",
       "      <td>0.000000</td>\n",
       "      <td>0.000000</td>\n",
       "      <td>0.000000</td>\n",
       "      <td>0.000000</td>\n",
       "      <td>0.000000</td>\n",
       "      <td>0.000000</td>\n",
       "      <td>0.000000</td>\n",
       "      <td>0.000000</td>\n",
       "    </tr>\n",
       "    <tr>\n",
       "      <th>50%</th>\n",
       "      <td>0.700000</td>\n",
       "      <td>0.538462</td>\n",
       "      <td>0.350000</td>\n",
       "      <td>0.333333</td>\n",
       "      <td>0.358696</td>\n",
       "      <td>0.000000</td>\n",
       "      <td>0.000000</td>\n",
       "      <td>0.000000</td>\n",
       "      <td>0.000000</td>\n",
       "      <td>0.000000</td>\n",
       "      <td>...</td>\n",
       "      <td>0.000000</td>\n",
       "      <td>0.000000</td>\n",
       "      <td>0.000000</td>\n",
       "      <td>1.000000</td>\n",
       "      <td>0.000000</td>\n",
       "      <td>0.000000</td>\n",
       "      <td>0.000000</td>\n",
       "      <td>0.000000</td>\n",
       "      <td>0.000000</td>\n",
       "      <td>0.000000</td>\n",
       "    </tr>\n",
       "    <tr>\n",
       "      <th>75%</th>\n",
       "      <td>0.700000</td>\n",
       "      <td>0.615385</td>\n",
       "      <td>0.550000</td>\n",
       "      <td>0.666667</td>\n",
       "      <td>0.500000</td>\n",
       "      <td>0.000000</td>\n",
       "      <td>0.000000</td>\n",
       "      <td>0.000000</td>\n",
       "      <td>0.000000</td>\n",
       "      <td>0.000000</td>\n",
       "      <td>...</td>\n",
       "      <td>0.000000</td>\n",
       "      <td>0.000000</td>\n",
       "      <td>0.000000</td>\n",
       "      <td>1.000000</td>\n",
       "      <td>0.000000</td>\n",
       "      <td>0.000000</td>\n",
       "      <td>0.000000</td>\n",
       "      <td>0.000000</td>\n",
       "      <td>0.000000</td>\n",
       "      <td>0.000000</td>\n",
       "    </tr>\n",
       "    <tr>\n",
       "      <th>max</th>\n",
       "      <td>1.000000</td>\n",
       "      <td>1.000000</td>\n",
       "      <td>1.000000</td>\n",
       "      <td>1.000000</td>\n",
       "      <td>1.000000</td>\n",
       "      <td>1.000000</td>\n",
       "      <td>1.000000</td>\n",
       "      <td>1.000000</td>\n",
       "      <td>1.000000</td>\n",
       "      <td>1.000000</td>\n",
       "      <td>...</td>\n",
       "      <td>1.000000</td>\n",
       "      <td>1.000000</td>\n",
       "      <td>1.000000</td>\n",
       "      <td>1.000000</td>\n",
       "      <td>1.000000</td>\n",
       "      <td>1.000000</td>\n",
       "      <td>1.000000</td>\n",
       "      <td>1.000000</td>\n",
       "      <td>1.000000</td>\n",
       "      <td>1.000000</td>\n",
       "    </tr>\n",
       "  </tbody>\n",
       "</table>\n",
       "<p>8 rows × 25 columns</p>\n",
       "</div>"
      ],
      "text/plain": [
       "       building_construction_year  building_total_floors  apartment_floor  \\\n",
       "count                17404.000000           17404.000000     17404.000000   \n",
       "mean                     0.620616               0.517783         0.356162   \n",
       "std                      0.174107               0.197544         0.239153   \n",
       "min                      0.000000               0.000000         0.000000   \n",
       "25%                      0.500000               0.423077         0.150000   \n",
       "50%                      0.700000               0.538462         0.350000   \n",
       "75%                      0.700000               0.615385         0.550000   \n",
       "max                      1.000000               1.000000         1.000000   \n",
       "\n",
       "       apartment_rooms  apartment_total_area  country_Belarus  \\\n",
       "count     17404.000000          17404.000000     17404.000000   \n",
       "mean          0.359324              0.362335         0.143818   \n",
       "std           0.296906              0.212176         0.350915   \n",
       "min           0.000000              0.000000         0.000000   \n",
       "25%           0.000000              0.206522         0.000000   \n",
       "50%           0.333333              0.358696         0.000000   \n",
       "75%           0.666667              0.500000         0.000000   \n",
       "max           1.000000              1.000000         1.000000   \n",
       "\n",
       "       country_Croatia  country_Cyprus  country_Czech Republic  \\\n",
       "count     17404.000000    17404.000000            17404.000000   \n",
       "mean          0.003218        0.000632                0.000115   \n",
       "std           0.056635        0.025133                0.010720   \n",
       "min           0.000000        0.000000                0.000000   \n",
       "25%           0.000000        0.000000                0.000000   \n",
       "50%           0.000000        0.000000                0.000000   \n",
       "75%           0.000000        0.000000                0.000000   \n",
       "max           1.000000        1.000000                1.000000   \n",
       "\n",
       "       country_Georgia  ...  country_Northern Cyprus  country_Poland  \\\n",
       "count     17404.000000  ...             17404.000000    17404.000000   \n",
       "mean          0.040680  ...                 0.010630        0.000230   \n",
       "std           0.197554  ...                 0.102554        0.015159   \n",
       "min           0.000000  ...                 0.000000        0.000000   \n",
       "25%           0.000000  ...                 0.000000        0.000000   \n",
       "50%           0.000000  ...                 0.000000        0.000000   \n",
       "75%           0.000000  ...                 0.000000        0.000000   \n",
       "max           1.000000  ...                 1.000000        1.000000   \n",
       "\n",
       "       country_Portugal  country_Russia  country_Serbia  country_Spain  \\\n",
       "count      17404.000000    17404.000000    17404.000000   17404.000000   \n",
       "mean           0.000172        0.635716        0.000517       0.000689   \n",
       "std            0.013128        0.481243        0.022735       0.026250   \n",
       "min            0.000000        0.000000        0.000000       0.000000   \n",
       "25%            0.000000        0.000000        0.000000       0.000000   \n",
       "50%            0.000000        1.000000        0.000000       0.000000   \n",
       "75%            0.000000        1.000000        0.000000       0.000000   \n",
       "max            1.000000        1.000000        1.000000       1.000000   \n",
       "\n",
       "       country_Thailand  country_Turkey   country_UAE  country_Uzbekistan  \n",
       "count      17404.000000    17404.000000  17404.000000        17404.000000  \n",
       "mean           0.007067        0.096932      0.001379            0.036601  \n",
       "std            0.083772        0.295873      0.037110            0.187785  \n",
       "min            0.000000        0.000000      0.000000            0.000000  \n",
       "25%            0.000000        0.000000      0.000000            0.000000  \n",
       "50%            0.000000        0.000000      0.000000            0.000000  \n",
       "75%            0.000000        0.000000      0.000000            0.000000  \n",
       "max            1.000000        1.000000      1.000000            1.000000  \n",
       "\n",
       "[8 rows x 25 columns]"
      ]
     },
     "execution_count": 67,
     "metadata": {},
     "output_type": "execute_result"
    }
   ],
   "source": [
    "X.describe()"
   ]
  },
  {
   "cell_type": "code",
   "execution_count": 68,
   "id": "ec0768b3",
   "metadata": {},
   "outputs": [],
   "source": [
    "# Step 8: Train-test split\n",
    "X_train, X_test, y_train, y_test = train_test_split(X, y, test_size=0.2, random_state=42)"
   ]
  },
  {
   "cell_type": "code",
   "execution_count": 69,
   "id": "21b09ca0",
   "metadata": {},
   "outputs": [
    {
     "name": "stdout",
     "output_type": "stream",
     "text": [
      "(13923, 25)\n",
      "(3481, 25)\n",
      "(13923,)\n",
      "(3481,)\n"
     ]
    }
   ],
   "source": [
    "print(X_train.shape)\n",
    "print(X_test.shape)\n",
    "print(y_train.shape) \n",
    "print(y_test.shape)"
   ]
  },
  {
   "cell_type": "code",
   "execution_count": 70,
   "id": "4ce00bec",
   "metadata": {},
   "outputs": [],
   "source": [
    "# Step 9: Observations after preprocessing\n",
    "# - 'title', 'location','image','url','apartment_living_area','apartment_bedrooms','apartment_bathrooms' are removed\n",
    "# - sub categories in country has been clustered to group and countries with data less than 3% has been removed\n",
    "# - missing rows are removed\n",
    "# - Numeric and categorical features have been separated into X and y, respectively.\n",
    "# - Numeric columns have been rescaled\n",
    "# - Category columns have been one-hot encoded to be used in the model.\n",
    "# - The dataset has been split into train and test sets for model evaluation."
   ]
  },
  {
   "cell_type": "markdown",
   "id": "9c916585",
   "metadata": {},
   "source": [
    "# KNN Regression"
   ]
  },
  {
   "cell_type": "code",
   "execution_count": 71,
   "id": "ca1f0766",
   "metadata": {},
   "outputs": [],
   "source": [
    "# Train the model with different K values and calculate MAPE scores using CV"
   ]
  },
  {
   "cell_type": "code",
   "execution_count": 72,
   "id": "a0f01a98",
   "metadata": {},
   "outputs": [],
   "source": [
    "def find_mape(y,y_pred):\n",
    "    return np.mean(((np.abs(y-y_pred)/y)))"
   ]
  },
  {
   "cell_type": "code",
   "execution_count": 73,
   "id": "ef1764df",
   "metadata": {},
   "outputs": [],
   "source": [
    "def test_holdout(k_list,X_train, X_test, y_train, y_test):\n",
    "    train_mape_scores=[]\n",
    "    test_mape_scores=[]\n",
    "    for k in k_list:\n",
    "        knn = KNeighborsRegressor(n_neighbors=k)\n",
    "        knn.fit(X_train,y_train)\n",
    "        y_train_pred = knn.predict(X_train)\n",
    "        train_mape = find_mape(y_train, y_train_pred)\n",
    "        train_mape_scores.append(train_mape)\n",
    "        y_test_pred = knn.predict(X_test)\n",
    "        test_mape = find_mape(y_test,y_test_pred)\n",
    "        test_mape_scores.append(test_mape)\n",
    "    best_k = k_list[np.argmin(test_mape_scores)]\n",
    "    print(\"best k with holdout test is {0} and minimum test score is {1}\".format(best_k,np.min(test_mape_scores)))\n",
    "    return best_k,train_mape_scores,test_mape_scores"
   ]
  },
  {
   "cell_type": "code",
   "execution_count": 74,
   "id": "3ab29305",
   "metadata": {},
   "outputs": [],
   "source": [
    "def cross_validation(X,y):\n",
    "    cv_mape_scores=[]\n",
    "    for k in k_list:\n",
    "        knn = KNeighborsRegressor(n_neighbors = k)\n",
    "        cv_scores = -cross_val_score(knn,X,y,cv=5,scoring='neg_mean_absolute_percentage_error')\n",
    "        #print(\"for k = {}, cv_scores = {}\".format(k,cv_scores))\n",
    "        cv_mape = np.mean(cv_scores)\n",
    "        cv_mape_scores.append(cv_mape)\n",
    "    best_k_CV = k_list[np.argmin(cv_mape_scores)]\n",
    "    print(\"best k with cross validation is {0} and minimum test score is {1}\".format(best_k_CV,np.min(cv_mape_scores)))\n",
    "    return best_k_CV,cv_mape_scores"
   ]
  },
  {
   "cell_type": "code",
   "execution_count": 75,
   "id": "89e9cbbe",
   "metadata": {},
   "outputs": [],
   "source": [
    "# user defined function for Cross Validation \n",
    "def custom_cross_validation(X,y,no_of_fold):\n",
    "    warnings.filterwarnings('ignore', category=UserWarning)\n",
    "    fold_size=len(X)//no_of_fold\n",
    "    cv_mape_scores = []\n",
    "    for k in k_list: \n",
    "        knn = KNeighborsRegressor(n_neighbors = k)\n",
    "        scores = []\n",
    "        for i in range(no_of_fold):\n",
    "            start = i * fold_size\n",
    "            end = (i + 1) * fold_size\n",
    "            X_test_fold = X[start:end]\n",
    "            y_test_fold = y[start:end]\n",
    "\n",
    "            X_train_fold = np.concatenate([X[:start], X[end:]])\n",
    "            y_train_fold = np.concatenate([y[:start], y[end:]])\n",
    "\n",
    "            # Fit the model on the training data\n",
    "            knn.fit(X_train_fold, y_train_fold)\n",
    "\n",
    "            # Make predictions and calculate a custom score on the test data\n",
    "            predictions = knn.predict(X_test_fold)\n",
    "            custom_score = find_mape(predictions, y_test_fold)\n",
    "            scores.append(custom_score)\n",
    "        cv_mape_scores.append(np.mean(scores))\n",
    "    \n",
    "    # Calculate and return the average score\n",
    "    best_k_CV = k_list[np.argmin(cv_mape_scores)]\n",
    "    print(\"best k with Custom cross validation is {0} and minimum test score is {1}\".format(best_k_CV,np.min(cv_mape_scores)))\n",
    "    return best_k_CV,cv_mape_scores    \n",
    "        \n",
    "    "
   ]
  },
  {
   "cell_type": "code",
   "execution_count": 76,
   "id": "e1b592ed",
   "metadata": {},
   "outputs": [
    {
     "name": "stdout",
     "output_type": "stream",
     "text": [
      "Starting test with Hold Out Data\n",
      "------------------------------------------\n",
      "best k with holdout test is 5 and minimum test score is 0.12281876779365972\n",
      "\n",
      "\n",
      "Starting test Cross-Validation\n",
      "------------------------------------------\n",
      "best k with cross validation is 5 and minimum test score is 0.2256758549057985\n",
      "\n",
      "\n",
      "Starting test with Custom Cross-Validation\n",
      "------------------------------------------\n",
      "best k with Custom cross validation is 3 and minimum test score is 0.18896628967076248\n"
     ]
    }
   ],
   "source": [
    "#validate_hold_out(X_train,X_test,y_train,y_test)\n",
    "k_list=np.arange(1,10,2)\n",
    "print(\"Starting test with Hold Out Data\")\n",
    "print(\"------------------------------------------\")\n",
    "best_k,train_mape_scores,test_mape_scores = test_holdout(k_list,X_train,X_test,y_train,y_test)\n",
    "print(\"\\n\")\n",
    "print(\"Starting test Cross-Validation\")\n",
    "print(\"------------------------------------------\")\n",
    "best_k_CV,cv_mape_scores= cross_validation(X,y)\n",
    "print(\"\\n\")\n",
    "print(\"Starting test with Custom Cross-Validation\")\n",
    "print(\"------------------------------------------\")\n",
    "best_k_CV_custom,cv_mape_scores_custom = custom_cross_validation( X, y, 5)\n"
   ]
  },
  {
   "cell_type": "code",
   "execution_count": 77,
   "id": "bc003662",
   "metadata": {},
   "outputs": [
    {
     "data": {
      "image/png": "[encoded data removed]",
      "text/plain": [
       "<Figure size 1000x600 with 1 Axes>"
      ]
     },
     "metadata": {},
     "output_type": "display_data"
    }
   ],
   "source": [
    "#plot CV MAPE, Train MAPE, Test MAPE for different values of K\n",
    "plt.figure(figsize=(10,6))\n",
    "plt.plot(k_list,cv_mape_scores,label='CV MAPE', marker='o')\n",
    "plt.plot(k_list,train_mape_scores,label='Train  MAPE', marker='s')\n",
    "plt.plot(k_list,test_mape_scores,label='Test MAPE', marker='x')\n",
    "plt.plot(k_list,cv_mape_scores_custom,label='Custom CV MAPE', marker='^')\n",
    "plt.xlabel('k')\n",
    "plt.ylabel('MAPE Score')\n",
    "plt.title('MAPE Scores for differentk values in KNN Regressor')\n",
    "plt.legend()\n",
    "plt.grid(True)\n",
    "plt.show()\n",
    "\n"
   ]
  },
  {
   "cell_type": "markdown",
   "id": "097caf11",
   "metadata": {},
   "source": [
    "### CUSTOM IMPLEMENTATION OF KNN"
   ]
  },
  {
   "cell_type": "code",
   "execution_count": 78,
   "id": "33489749",
   "metadata": {},
   "outputs": [],
   "source": [
    "# function to compute euclidean distance\n",
    "def euclidean_distance(row1, row2):\n",
    "    return np.linalg.norm(row1 - row2)"
   ]
  },
  {
   "cell_type": "code",
   "execution_count": 79,
   "id": "a6aa80a1",
   "metadata": {},
   "outputs": [],
   "source": [
    "#custom function to implement KNN\n",
    "def knn(X_train,X_test,y_train,k):\n",
    "    mape_list = []\n",
    "    y_pred_list = []\n",
    "    \n",
    "    for idx, test_row in X_test.iterrows():        \n",
    "        distances = []\n",
    "        for index,row in X_train.iterrows():\n",
    "            distance = euclidean_distance(test_row,row)\n",
    "            distances.append([distance,y_train[index]])\n",
    "        distances.sort(key=lambda x: x[0])\n",
    "        neighbors=distances[:k]\n",
    "        target_values = np.take(np.array(neighbors),1,axis=1) #select only corresponding y_train values from nested list\n",
    "        pred_val=np.mean(target_values)\n",
    "        y_pred_list.append(pred_val)\n",
    "    #mape = find_mape(y_test,y_pred_list)\n",
    "    #mape_list.append(mape)\n",
    "    \n",
    "    return y_pred_list"
   ]
  },
  {
   "cell_type": "code",
   "execution_count": null,
   "id": "3c231b6f",
   "metadata": {},
   "outputs": [],
   "source": [
    "#calling custom functions for KNN\n",
    "test_mape_scores=[]\n",
    "train_mape_scores=[]\n",
    "for k in k_list:\n",
    "    y_pred_test =knn(X_train,X_test,y_train,k)\n",
    "    y_pred_train =knn(X_train,X_train,y_train,k)\n",
    "    test_mape = find_mape(y_test,y_pred_test)\n",
    "    test_mape_scores.append(test_mape)\n",
    "    train_mape = find_mape(y_train,y_pred_train)\n",
    "    train_mape_scores.append(train_mape)\n"
   ]
  },
  {
   "cell_type": "code",
   "execution_count": null,
   "id": "73473f03",
   "metadata": {},
   "outputs": [],
   "source": [
    "best_k = k_list[np.argmin(test_mape_scores)]\n",
    "print(\"best k with Custom KNN implementation is {0} and minimum test score is {1}\".format(best_k,np.min(test_mape_scores)))"
   ]
  },
  {
   "cell_type": "code",
   "execution_count": null,
   "id": "46f5516f",
   "metadata": {},
   "outputs": [],
   "source": [
    "#plot with custom KNN function\n",
    "plt.figure(figsize=(10, 6))\n",
    "#plt.plot(k_values, train_mape_scores, marker='o', label='Train MAPE')\n",
    "plt.plot(k_list, train_mape_scores, marker='o', label='Train MAPE')\n",
    "plt.plot(k_list, test_mape_scores, marker='o', label='Test MAPE')\n",
    "plt.xlabel('K value')\n",
    "plt.ylabel('MAPE Score')\n",
    "plt.title('MAPE Scores for different K values in KNN Regressor')\n",
    "plt.legend()\n",
    "plt.grid(True)\n",
    "plt.show()"
   ]
  },
  {
   "cell_type": "code",
   "execution_count": null,
   "id": "16672cf7",
   "metadata": {},
   "outputs": [],
   "source": [
    "# Inference:\n",
    "# - best k with holdout test is 5 \n",
    "# - best k with cross validation is 5 \n"
   ]
  },
  {
   "cell_type": "code",
   "execution_count": null,
   "id": "a0b1e471",
   "metadata": {},
   "outputs": [],
   "source": []
  },
  {
   "cell_type": "code",
   "execution_count": null,
   "id": "09672d3f",
   "metadata": {},
   "outputs": [],
   "source": []
  },
  {
   "cell_type": "code",
   "execution_count": null,
   "id": "ef2cb780",
   "metadata": {},
   "outputs": [],
   "source": []
  },
  {
   "cell_type": "code",
   "execution_count": null,
   "id": "6ba2e21c",
   "metadata": {},
   "outputs": [],
   "source": []
  },
  {
   "cell_type": "code",
   "execution_count": null,
   "id": "2e22e9aa",
   "metadata": {},
   "outputs": [],
   "source": []
  },
  {
   "cell_type": "code",
   "execution_count": null,
   "id": "fef32c23",
   "metadata": {},
   "outputs": [],
   "source": []
  },
  {
   "cell_type": "code",
   "execution_count": null,
   "id": "5ea3235f",
   "metadata": {},
   "outputs": [],
   "source": []
  },
  {
   "cell_type": "code",
   "execution_count": null,
   "id": "bf6fc0f3",
   "metadata": {},
   "outputs": [],
   "source": []
  },
  {
   "cell_type": "code",
   "execution_count": null,
   "id": "660ee0e8",
   "metadata": {},
   "outputs": [],
   "source": []
  },
  {
   "cell_type": "code",
   "execution_count": null,
   "id": "5c26cb29",
   "metadata": {},
   "outputs": [],
   "source": []
  },
  {
   "cell_type": "code",
   "execution_count": null,
   "id": "341f6492",
   "metadata": {},
   "outputs": [],
   "source": []
  },
  {
   "cell_type": "code",
   "execution_count": null,
   "id": "497875c5",
   "metadata": {},
   "outputs": [],
   "source": []
  },
  {
   "cell_type": "code",
   "execution_count": null,
   "id": "47251569",
   "metadata": {},
   "outputs": [],
   "source": []
  },
  {
   "cell_type": "code",
   "execution_count": null,
   "id": "2b5507bb",
   "metadata": {},
   "outputs": [],
   "source": []
  },
  {
   "cell_type": "code",
   "execution_count": null,
   "id": "77f03cc4",
   "metadata": {},
   "outputs": [],
   "source": []
  },
  {
   "cell_type": "code",
   "execution_count": null,
   "id": "3718db16",
   "metadata": {},
   "outputs": [],
   "source": []
  },
  {
   "cell_type": "code",
   "execution_count": null,
   "id": "e17f0ed5",
   "metadata": {},
   "outputs": [],
   "source": []
  },
  {
   "cell_type": "code",
   "execution_count": null,
   "id": "0a3340a8",
   "metadata": {},
   "outputs": [],
   "source": []
  },
  {
   "cell_type": "code",
   "execution_count": null,
   "id": "18d5287e",
   "metadata": {},
   "outputs": [],
   "source": []
  },
  {
   "cell_type": "code",
   "execution_count": null,
   "id": "e28c42d2",
   "metadata": {},
   "outputs": [],
   "source": []
  },
  {
   "cell_type": "code",
   "execution_count": null,
   "id": "69559cf2",
   "metadata": {},
   "outputs": [],
   "source": []
  },
  {
   "cell_type": "code",
   "execution_count": null,
   "id": "250b819b",
   "metadata": {},
   "outputs": [],
   "source": []
  },
  {
   "cell_type": "code",
   "execution_count": null,
   "id": "76403b18",
   "metadata": {},
   "outputs": [],
   "source": []
  },
  {
   "cell_type": "code",
   "execution_count": null,
   "id": "c06b3f54",
   "metadata": {},
   "outputs": [],
   "source": []
  },
  {
   "cell_type": "code",
   "execution_count": null,
   "id": "c3757cd0",
   "metadata": {},
   "outputs": [],
   "source": []
  },
  {
   "cell_type": "code",
   "execution_count": null,
   "id": "d5ef72c1",
   "metadata": {},
   "outputs": [],
   "source": []
  },
  {
   "cell_type": "code",
   "execution_count": null,
   "id": "e30095c5",
   "metadata": {},
   "outputs": [],
   "source": []
  },
  {
   "cell_type": "code",
   "execution_count": null,
   "id": "1c94d9fc",
   "metadata": {},
   "outputs": [],
   "source": []
  },
  {
   "cell_type": "code",
   "execution_count": null,
   "id": "cf403f14",
   "metadata": {},
   "outputs": [],
   "source": []
  },
  {
   "cell_type": "code",
   "execution_count": null,
   "id": "08d98a80",
   "metadata": {},
   "outputs": [],
   "source": []
  },
  {
   "cell_type": "code",
   "execution_count": null,
   "id": "020ab1c8",
   "metadata": {},
   "outputs": [],
   "source": []
  },
  {
   "cell_type": "code",
   "execution_count": null,
   "id": "c60b29f5",
   "metadata": {},
   "outputs": [],
   "source": []
  },
  {
   "cell_type": "code",
   "execution_count": null,
   "id": "9dff2802",
   "metadata": {},
   "outputs": [],
   "source": []
  },
  {
   "cell_type": "code",
   "execution_count": null,
   "id": "649e1c76",
   "metadata": {},
   "outputs": [],
   "source": []
  },
  {
   "cell_type": "code",
   "execution_count": null,
   "id": "532bd8e4",
   "metadata": {},
   "outputs": [],
   "source": []
  },
  {
   "cell_type": "code",
   "execution_count": null,
   "id": "a6921ef3",
   "metadata": {},
   "outputs": [],
   "source": []
  },
  {
   "cell_type": "code",
   "execution_count": null,
   "id": "81812a65",
   "metadata": {},
   "outputs": [],
   "source": []
  },
  {
   "cell_type": "code",
   "execution_count": null,
   "id": "34e5bdd1",
   "metadata": {},
   "outputs": [],
   "source": []
  },
  {
   "cell_type": "code",
   "execution_count": null,
   "id": "ba1bb9dc",
   "metadata": {},
   "outputs": [],
   "source": []
  },
  {
   "cell_type": "code",
   "execution_count": null,
   "id": "0fbd7f90",
   "metadata": {},
   "outputs": [],
   "source": []
  },
  {
   "cell_type": "code",
   "execution_count": null,
   "id": "55ade268",
   "metadata": {},
   "outputs": [],
   "source": []
  },
  {
   "cell_type": "code",
   "execution_count": null,
   "id": "127b17f0",
   "metadata": {},
   "outputs": [],
   "source": []
  },
  {
   "cell_type": "code",
   "execution_count": null,
   "id": "1482bb15",
   "metadata": {},
   "outputs": [],
   "source": []
  },
  {
   "cell_type": "code",
   "execution_count": null,
   "id": "693630b4",
   "metadata": {},
   "outputs": [],
   "source": []
  },
  {
   "cell_type": "code",
   "execution_count": null,
   "id": "f8e60567",
   "metadata": {},
   "outputs": [],
   "source": []
  },
  {
   "cell_type": "code",
   "execution_count": null,
   "id": "1cdca081",
   "metadata": {},
   "outputs": [],
   "source": []
  },
  {
   "cell_type": "code",
   "execution_count": null,
   "id": "244c86e9",
   "metadata": {},
   "outputs": [],
   "source": []
  },
  {
   "cell_type": "code",
   "execution_count": null,
   "id": "2b5fc10e",
   "metadata": {},
   "outputs": [],
   "source": []
  },
  {
   "cell_type": "code",
   "execution_count": null,
   "id": "6338a89a",
   "metadata": {},
   "outputs": [],
   "source": []
  },
  {
   "cell_type": "code",
   "execution_count": null,
   "id": "7b8d42a8",
   "metadata": {},
   "outputs": [],
   "source": []
  },
  {
   "cell_type": "code",
   "execution_count": null,
   "id": "cd5e4110",
   "metadata": {},
   "outputs": [],
   "source": []
  },
  {
   "cell_type": "code",
   "execution_count": null,
   "id": "c3dacc40",
   "metadata": {},
   "outputs": [],
   "source": []
  },
  {
   "cell_type": "code",
   "execution_count": null,
   "id": "6de6fc36",
   "metadata": {},
   "outputs": [],
   "source": []
  },
  {
   "cell_type": "code",
   "execution_count": null,
   "id": "87a414e7",
   "metadata": {},
   "outputs": [],
   "source": []
  },
  {
   "cell_type": "code",
   "execution_count": null,
   "id": "1488986a",
   "metadata": {},
   "outputs": [],
   "source": []
  },
  {
   "cell_type": "code",
   "execution_count": null,
   "id": "d59e73c7",
   "metadata": {},
   "outputs": [],
   "source": []
  },
  {
   "cell_type": "code",
   "execution_count": null,
   "id": "da67db53",
   "metadata": {},
   "outputs": [],
   "source": []
  },
  {
   "cell_type": "code",
   "execution_count": null,
   "id": "16969071",
   "metadata": {},
   "outputs": [],
   "source": []
  },
  {
   "cell_type": "code",
   "execution_count": null,
   "id": "f9e60a6d",
   "metadata": {},
   "outputs": [],
   "source": []
  },
  {
   "cell_type": "code",
   "execution_count": null,
   "id": "79eb44b7",
   "metadata": {},
   "outputs": [],
   "source": []
  }
 ],
 "metadata": {
  "kernelspec": {
   "display_name": "Python 3 (ipykernel)",
   "language": "python",
   "name": "python3"
  },
  "language_info": {
   "codemirror_mode": {
    "name": "ipython",
    "version": 3
   },
   "file_extension": ".py",
   "mimetype": "text/x-python",
   "name": "python",
   "nbconvert_exporter": "python",
   "pygments_lexer": "ipython3",
   "version": "3.11.3"
  }
 },
 "nbformat": 4,
 "nbformat_minor": 5
}
