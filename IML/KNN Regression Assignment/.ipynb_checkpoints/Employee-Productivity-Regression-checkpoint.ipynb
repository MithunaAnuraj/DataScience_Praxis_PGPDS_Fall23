{
 "cells": [
  {
   "cell_type": "code",
   "execution_count": 1,
   "id": "ffc39672",
   "metadata": {},
   "outputs": [],
   "source": [
    "import pandas as pd\n",
    "import numpy as np\n",
    "import seaborn as sns\n",
    "import matplotlib.pyplot as plt\n",
    "from sklearn.model_selection import train_test_split,cross_val_score\n",
    "from sklearn.preprocessing import MinMaxScaler\n",
    "from sklearn.neighbors import KNeighborsRegressor\n",
    "from sklearn.metrics import mean_absolute_percentage_error\n",
    "from math import sqrt\n",
    "import warnings"
   ]
  },
  {
   "cell_type": "markdown",
   "id": "d4930e5c",
   "metadata": {},
   "source": [
    "# Exploratory Data Analysis"
   ]
  },
  {
   "cell_type": "code",
   "execution_count": 2,
   "id": "c2d27671",
   "metadata": {},
   "outputs": [],
   "source": [
    "# Step 1: Read the dataset and basic dataframe exploration\n",
    "df = pd.read_csv('garments_worker_productivity.csv')"
   ]
  },
  {
   "cell_type": "code",
   "execution_count": 3,
   "id": "60789007",
   "metadata": {},
   "outputs": [
    {
     "data": {
      "text/html": [
       "<div>\n",
       "<style scoped>\n",
       "    .dataframe tbody tr th:only-of-type {\n",
       "        vertical-align: middle;\n",
       "    }\n",
       "\n",
       "    .dataframe tbody tr th {\n",
       "        vertical-align: top;\n",
       "    }\n",
       "\n",
       "    .dataframe thead th {\n",
       "        text-align: right;\n",
       "    }\n",
       "</style>\n",
       "<table border=\"1\" class=\"dataframe\">\n",
       "  <thead>\n",
       "    <tr style=\"text-align: right;\">\n",
       "      <th></th>\n",
       "      <th>date</th>\n",
       "      <th>quarter</th>\n",
       "      <th>department</th>\n",
       "      <th>day</th>\n",
       "      <th>team</th>\n",
       "      <th>targeted_productivity</th>\n",
       "      <th>smv</th>\n",
       "      <th>wip</th>\n",
       "      <th>over_time</th>\n",
       "      <th>incentive</th>\n",
       "      <th>idle_time</th>\n",
       "      <th>idle_men</th>\n",
       "      <th>no_of_style_change</th>\n",
       "      <th>no_of_workers</th>\n",
       "      <th>actual_productivity</th>\n",
       "    </tr>\n",
       "  </thead>\n",
       "  <tbody>\n",
       "    <tr>\n",
       "      <th>0</th>\n",
       "      <td>1/1/2015</td>\n",
       "      <td>Quarter1</td>\n",
       "      <td>sweing</td>\n",
       "      <td>Thursday</td>\n",
       "      <td>8</td>\n",
       "      <td>0.80</td>\n",
       "      <td>26.16</td>\n",
       "      <td>1108.0</td>\n",
       "      <td>7080</td>\n",
       "      <td>98</td>\n",
       "      <td>0.0</td>\n",
       "      <td>0</td>\n",
       "      <td>0</td>\n",
       "      <td>59.0</td>\n",
       "      <td>0.940725</td>\n",
       "    </tr>\n",
       "    <tr>\n",
       "      <th>1</th>\n",
       "      <td>1/1/2015</td>\n",
       "      <td>Quarter1</td>\n",
       "      <td>finishing</td>\n",
       "      <td>Thursday</td>\n",
       "      <td>1</td>\n",
       "      <td>0.75</td>\n",
       "      <td>3.94</td>\n",
       "      <td>NaN</td>\n",
       "      <td>960</td>\n",
       "      <td>0</td>\n",
       "      <td>0.0</td>\n",
       "      <td>0</td>\n",
       "      <td>0</td>\n",
       "      <td>8.0</td>\n",
       "      <td>0.886500</td>\n",
       "    </tr>\n",
       "    <tr>\n",
       "      <th>2</th>\n",
       "      <td>1/1/2015</td>\n",
       "      <td>Quarter1</td>\n",
       "      <td>sweing</td>\n",
       "      <td>Thursday</td>\n",
       "      <td>11</td>\n",
       "      <td>0.80</td>\n",
       "      <td>11.41</td>\n",
       "      <td>968.0</td>\n",
       "      <td>3660</td>\n",
       "      <td>50</td>\n",
       "      <td>0.0</td>\n",
       "      <td>0</td>\n",
       "      <td>0</td>\n",
       "      <td>30.5</td>\n",
       "      <td>0.800570</td>\n",
       "    </tr>\n",
       "    <tr>\n",
       "      <th>3</th>\n",
       "      <td>1/1/2015</td>\n",
       "      <td>Quarter1</td>\n",
       "      <td>sweing</td>\n",
       "      <td>Thursday</td>\n",
       "      <td>12</td>\n",
       "      <td>0.80</td>\n",
       "      <td>11.41</td>\n",
       "      <td>968.0</td>\n",
       "      <td>3660</td>\n",
       "      <td>50</td>\n",
       "      <td>0.0</td>\n",
       "      <td>0</td>\n",
       "      <td>0</td>\n",
       "      <td>30.5</td>\n",
       "      <td>0.800570</td>\n",
       "    </tr>\n",
       "    <tr>\n",
       "      <th>4</th>\n",
       "      <td>1/1/2015</td>\n",
       "      <td>Quarter1</td>\n",
       "      <td>sweing</td>\n",
       "      <td>Thursday</td>\n",
       "      <td>6</td>\n",
       "      <td>0.80</td>\n",
       "      <td>25.90</td>\n",
       "      <td>1170.0</td>\n",
       "      <td>1920</td>\n",
       "      <td>50</td>\n",
       "      <td>0.0</td>\n",
       "      <td>0</td>\n",
       "      <td>0</td>\n",
       "      <td>56.0</td>\n",
       "      <td>0.800382</td>\n",
       "    </tr>\n",
       "  </tbody>\n",
       "</table>\n",
       "</div>"
      ],
      "text/plain": [
       "       date   quarter  department       day  team  targeted_productivity  \\\n",
       "0  1/1/2015  Quarter1      sweing  Thursday     8                   0.80   \n",
       "1  1/1/2015  Quarter1  finishing   Thursday     1                   0.75   \n",
       "2  1/1/2015  Quarter1      sweing  Thursday    11                   0.80   \n",
       "3  1/1/2015  Quarter1      sweing  Thursday    12                   0.80   \n",
       "4  1/1/2015  Quarter1      sweing  Thursday     6                   0.80   \n",
       "\n",
       "     smv     wip  over_time  incentive  idle_time  idle_men  \\\n",
       "0  26.16  1108.0       7080         98        0.0         0   \n",
       "1   3.94     NaN        960          0        0.0         0   \n",
       "2  11.41   968.0       3660         50        0.0         0   \n",
       "3  11.41   968.0       3660         50        0.0         0   \n",
       "4  25.90  1170.0       1920         50        0.0         0   \n",
       "\n",
       "   no_of_style_change  no_of_workers  actual_productivity  \n",
       "0                   0           59.0             0.940725  \n",
       "1                   0            8.0             0.886500  \n",
       "2                   0           30.5             0.800570  \n",
       "3                   0           30.5             0.800570  \n",
       "4                   0           56.0             0.800382  "
      ]
     },
     "execution_count": 3,
     "metadata": {},
     "output_type": "execute_result"
    }
   ],
   "source": [
    "df.head()"
   ]
  },
  {
   "cell_type": "code",
   "execution_count": 4,
   "id": "34423aa0",
   "metadata": {},
   "outputs": [],
   "source": [
    "# there are a mix of categorical and numeric columns\n",
    "# label column is actual productivity\n",
    "\n"
   ]
  },
  {
   "cell_type": "code",
   "execution_count": 5,
   "id": "daf53ba5",
   "metadata": {},
   "outputs": [
    {
     "data": {
      "text/plain": [
       "(1197, 15)"
      ]
     },
     "execution_count": 5,
     "metadata": {},
     "output_type": "execute_result"
    }
   ],
   "source": [
    "df.shape"
   ]
  },
  {
   "cell_type": "code",
   "execution_count": 6,
   "id": "a37af050",
   "metadata": {},
   "outputs": [],
   "source": [
    "# there are 1197 observations and 15 features"
   ]
  },
  {
   "cell_type": "code",
   "execution_count": 7,
   "id": "97b26119",
   "metadata": {},
   "outputs": [
    {
     "data": {
      "text/plain": [
       "date                      object\n",
       "quarter                   object\n",
       "department                object\n",
       "day                       object\n",
       "team                       int64\n",
       "targeted_productivity    float64\n",
       "smv                      float64\n",
       "wip                      float64\n",
       "over_time                  int64\n",
       "incentive                  int64\n",
       "idle_time                float64\n",
       "idle_men                   int64\n",
       "no_of_style_change         int64\n",
       "no_of_workers            float64\n",
       "actual_productivity      float64\n",
       "dtype: object"
      ]
     },
     "execution_count": 7,
     "metadata": {},
     "output_type": "execute_result"
    }
   ],
   "source": [
    "df.dtypes"
   ]
  },
  {
   "cell_type": "code",
   "execution_count": 8,
   "id": "2b2d73b8",
   "metadata": {},
   "outputs": [],
   "source": [
    "# some columns require encoding as they are categorical"
   ]
  },
  {
   "cell_type": "code",
   "execution_count": 9,
   "id": "16188c69",
   "metadata": {},
   "outputs": [
    {
     "name": "stdout",
     "output_type": "stream",
     "text": [
      "Index(['date', 'quarter', 'department', 'day', 'team', 'targeted_productivity',\n",
      "       'smv', 'wip', 'over_time', 'incentive', 'idle_time', 'idle_men',\n",
      "       'no_of_style_change', 'no_of_workers', 'actual_productivity'],\n",
      "      dtype='object')\n"
     ]
    }
   ],
   "source": [
    "print(df.columns)"
   ]
  },
  {
   "cell_type": "code",
   "execution_count": 10,
   "id": "233b69e2",
   "metadata": {},
   "outputs": [],
   "source": [
    "# Step 2: Summary statistics of numeric columns"
   ]
  },
  {
   "cell_type": "code",
   "execution_count": 11,
   "id": "5dcbdda4",
   "metadata": {},
   "outputs": [
    {
     "data": {
      "text/html": [
       "<div>\n",
       "<style scoped>\n",
       "    .dataframe tbody tr th:only-of-type {\n",
       "        vertical-align: middle;\n",
       "    }\n",
       "\n",
       "    .dataframe tbody tr th {\n",
       "        vertical-align: top;\n",
       "    }\n",
       "\n",
       "    .dataframe thead th {\n",
       "        text-align: right;\n",
       "    }\n",
       "</style>\n",
       "<table border=\"1\" class=\"dataframe\">\n",
       "  <thead>\n",
       "    <tr style=\"text-align: right;\">\n",
       "      <th></th>\n",
       "      <th>team</th>\n",
       "      <th>targeted_productivity</th>\n",
       "      <th>smv</th>\n",
       "      <th>wip</th>\n",
       "      <th>over_time</th>\n",
       "      <th>incentive</th>\n",
       "      <th>idle_time</th>\n",
       "      <th>idle_men</th>\n",
       "      <th>no_of_style_change</th>\n",
       "      <th>no_of_workers</th>\n",
       "      <th>actual_productivity</th>\n",
       "    </tr>\n",
       "  </thead>\n",
       "  <tbody>\n",
       "    <tr>\n",
       "      <th>count</th>\n",
       "      <td>1197.000000</td>\n",
       "      <td>1197.000000</td>\n",
       "      <td>1197.000000</td>\n",
       "      <td>691.000000</td>\n",
       "      <td>1197.000000</td>\n",
       "      <td>1197.000000</td>\n",
       "      <td>1197.000000</td>\n",
       "      <td>1197.000000</td>\n",
       "      <td>1197.000000</td>\n",
       "      <td>1197.000000</td>\n",
       "      <td>1197.000000</td>\n",
       "    </tr>\n",
       "    <tr>\n",
       "      <th>mean</th>\n",
       "      <td>6.426901</td>\n",
       "      <td>0.729632</td>\n",
       "      <td>15.062172</td>\n",
       "      <td>1190.465991</td>\n",
       "      <td>4567.460317</td>\n",
       "      <td>38.210526</td>\n",
       "      <td>0.730159</td>\n",
       "      <td>0.369256</td>\n",
       "      <td>0.150376</td>\n",
       "      <td>34.609858</td>\n",
       "      <td>0.735091</td>\n",
       "    </tr>\n",
       "    <tr>\n",
       "      <th>std</th>\n",
       "      <td>3.463963</td>\n",
       "      <td>0.097891</td>\n",
       "      <td>10.943219</td>\n",
       "      <td>1837.455001</td>\n",
       "      <td>3348.823563</td>\n",
       "      <td>160.182643</td>\n",
       "      <td>12.709757</td>\n",
       "      <td>3.268987</td>\n",
       "      <td>0.427848</td>\n",
       "      <td>22.197687</td>\n",
       "      <td>0.174488</td>\n",
       "    </tr>\n",
       "    <tr>\n",
       "      <th>min</th>\n",
       "      <td>1.000000</td>\n",
       "      <td>0.070000</td>\n",
       "      <td>2.900000</td>\n",
       "      <td>7.000000</td>\n",
       "      <td>0.000000</td>\n",
       "      <td>0.000000</td>\n",
       "      <td>0.000000</td>\n",
       "      <td>0.000000</td>\n",
       "      <td>0.000000</td>\n",
       "      <td>2.000000</td>\n",
       "      <td>0.233705</td>\n",
       "    </tr>\n",
       "    <tr>\n",
       "      <th>25%</th>\n",
       "      <td>3.000000</td>\n",
       "      <td>0.700000</td>\n",
       "      <td>3.940000</td>\n",
       "      <td>774.500000</td>\n",
       "      <td>1440.000000</td>\n",
       "      <td>0.000000</td>\n",
       "      <td>0.000000</td>\n",
       "      <td>0.000000</td>\n",
       "      <td>0.000000</td>\n",
       "      <td>9.000000</td>\n",
       "      <td>0.650307</td>\n",
       "    </tr>\n",
       "    <tr>\n",
       "      <th>50%</th>\n",
       "      <td>6.000000</td>\n",
       "      <td>0.750000</td>\n",
       "      <td>15.260000</td>\n",
       "      <td>1039.000000</td>\n",
       "      <td>3960.000000</td>\n",
       "      <td>0.000000</td>\n",
       "      <td>0.000000</td>\n",
       "      <td>0.000000</td>\n",
       "      <td>0.000000</td>\n",
       "      <td>34.000000</td>\n",
       "      <td>0.773333</td>\n",
       "    </tr>\n",
       "    <tr>\n",
       "      <th>75%</th>\n",
       "      <td>9.000000</td>\n",
       "      <td>0.800000</td>\n",
       "      <td>24.260000</td>\n",
       "      <td>1252.500000</td>\n",
       "      <td>6960.000000</td>\n",
       "      <td>50.000000</td>\n",
       "      <td>0.000000</td>\n",
       "      <td>0.000000</td>\n",
       "      <td>0.000000</td>\n",
       "      <td>57.000000</td>\n",
       "      <td>0.850253</td>\n",
       "    </tr>\n",
       "    <tr>\n",
       "      <th>max</th>\n",
       "      <td>12.000000</td>\n",
       "      <td>0.800000</td>\n",
       "      <td>54.560000</td>\n",
       "      <td>23122.000000</td>\n",
       "      <td>25920.000000</td>\n",
       "      <td>3600.000000</td>\n",
       "      <td>300.000000</td>\n",
       "      <td>45.000000</td>\n",
       "      <td>2.000000</td>\n",
       "      <td>89.000000</td>\n",
       "      <td>1.120437</td>\n",
       "    </tr>\n",
       "  </tbody>\n",
       "</table>\n",
       "</div>"
      ],
      "text/plain": [
       "              team  targeted_productivity          smv           wip  \\\n",
       "count  1197.000000            1197.000000  1197.000000    691.000000   \n",
       "mean      6.426901               0.729632    15.062172   1190.465991   \n",
       "std       3.463963               0.097891    10.943219   1837.455001   \n",
       "min       1.000000               0.070000     2.900000      7.000000   \n",
       "25%       3.000000               0.700000     3.940000    774.500000   \n",
       "50%       6.000000               0.750000    15.260000   1039.000000   \n",
       "75%       9.000000               0.800000    24.260000   1252.500000   \n",
       "max      12.000000               0.800000    54.560000  23122.000000   \n",
       "\n",
       "          over_time    incentive    idle_time     idle_men  \\\n",
       "count   1197.000000  1197.000000  1197.000000  1197.000000   \n",
       "mean    4567.460317    38.210526     0.730159     0.369256   \n",
       "std     3348.823563   160.182643    12.709757     3.268987   \n",
       "min        0.000000     0.000000     0.000000     0.000000   \n",
       "25%     1440.000000     0.000000     0.000000     0.000000   \n",
       "50%     3960.000000     0.000000     0.000000     0.000000   \n",
       "75%     6960.000000    50.000000     0.000000     0.000000   \n",
       "max    25920.000000  3600.000000   300.000000    45.000000   \n",
       "\n",
       "       no_of_style_change  no_of_workers  actual_productivity  \n",
       "count         1197.000000    1197.000000          1197.000000  \n",
       "mean             0.150376      34.609858             0.735091  \n",
       "std              0.427848      22.197687             0.174488  \n",
       "min              0.000000       2.000000             0.233705  \n",
       "25%              0.000000       9.000000             0.650307  \n",
       "50%              0.000000      34.000000             0.773333  \n",
       "75%              0.000000      57.000000             0.850253  \n",
       "max              2.000000      89.000000             1.120437  "
      ]
     },
     "execution_count": 11,
     "metadata": {},
     "output_type": "execute_result"
    }
   ],
   "source": [
    "df.describe()"
   ]
  },
  {
   "cell_type": "code",
   "execution_count": 12,
   "id": "cef8d738",
   "metadata": {},
   "outputs": [],
   "source": [
    "# There are some missing values in wip\n",
    "# columns wip,over_time,incentive,idle_time,idle_men may have outliers"
   ]
  },
  {
   "cell_type": "code",
   "execution_count": 13,
   "id": "0e3d9a83",
   "metadata": {},
   "outputs": [
    {
     "data": {
      "text/plain": [
       "date                      0.000000\n",
       "quarter                   0.000000\n",
       "department                0.000000\n",
       "day                       0.000000\n",
       "team                      0.000000\n",
       "targeted_productivity     0.000000\n",
       "smv                       0.000000\n",
       "wip                      42.272348\n",
       "over_time                 0.000000\n",
       "incentive                 0.000000\n",
       "idle_time                 0.000000\n",
       "idle_men                  0.000000\n",
       "no_of_style_change        0.000000\n",
       "no_of_workers             0.000000\n",
       "actual_productivity       0.000000\n",
       "dtype: float64"
      ]
     },
     "execution_count": 13,
     "metadata": {},
     "output_type": "execute_result"
    }
   ],
   "source": [
    "df.isnull().sum()*100/df.shape[0]"
   ]
  },
  {
   "cell_type": "code",
   "execution_count": 14,
   "id": "ab138d0e",
   "metadata": {},
   "outputs": [],
   "source": [
    "# 1197 rows in the dataset. \n",
    "# wip has 42 % missing values and it can be dropped\n",
    "# Several columns are expected to have outliers as per the descriptive statistics\n",
    "# date information can be dropped since it is already considered with quarter and day of the week"
   ]
  },
  {
   "cell_type": "code",
   "execution_count": 15,
   "id": "6861e792",
   "metadata": {},
   "outputs": [],
   "source": [
    "# Step 3: Value counts of category columns"
   ]
  },
  {
   "cell_type": "code",
   "execution_count": 16,
   "id": "7f6abb4a",
   "metadata": {},
   "outputs": [
    {
     "data": {
      "text/plain": [
       "Index(['date', 'quarter', 'department', 'day'], dtype='object')"
      ]
     },
     "execution_count": 16,
     "metadata": {},
     "output_type": "execute_result"
    }
   ],
   "source": [
    "df.select_dtypes(include='object').columns"
   ]
  },
  {
   "cell_type": "code",
   "execution_count": 17,
   "id": "e3bafee3",
   "metadata": {},
   "outputs": [
    {
     "data": {
      "text/plain": [
       "Quarter1    360\n",
       "Quarter2    335\n",
       "Quarter4    248\n",
       "Quarter3    210\n",
       "Quarter5     44\n",
       "Name: quarter, dtype: int64"
      ]
     },
     "execution_count": 17,
     "metadata": {},
     "output_type": "execute_result"
    }
   ],
   "source": [
    "\n",
    "df.quarter.value_counts()"
   ]
  },
  {
   "cell_type": "code",
   "execution_count": 18,
   "id": "be9dafd2",
   "metadata": {},
   "outputs": [],
   "source": [
    "# quarter 5 has less observations"
   ]
  },
  {
   "cell_type": "code",
   "execution_count": 19,
   "id": "f76cc5b1",
   "metadata": {},
   "outputs": [
    {
     "data": {
      "text/plain": [
       "sweing        691\n",
       "finishing     257\n",
       "finishing     249\n",
       "Name: department, dtype: int64"
      ]
     },
     "execution_count": 19,
     "metadata": {},
     "output_type": "execute_result"
    }
   ],
   "source": [
    "df.department.value_counts()"
   ]
  },
  {
   "cell_type": "code",
   "execution_count": 20,
   "id": "2c5b1749",
   "metadata": {},
   "outputs": [],
   "source": [
    "# have to merge the categories 'finishing ' and 'finishing'  to one "
   ]
  },
  {
   "cell_type": "code",
   "execution_count": 21,
   "id": "b69205f7",
   "metadata": {},
   "outputs": [
    {
     "data": {
      "text/plain": [
       "Wednesday    208\n",
       "Sunday       203\n",
       "Tuesday      201\n",
       "Thursday     199\n",
       "Monday       199\n",
       "Saturday     187\n",
       "Name: day, dtype: int64"
      ]
     },
     "execution_count": 21,
     "metadata": {},
     "output_type": "execute_result"
    }
   ],
   "source": [
    "df.day.value_counts()"
   ]
  },
  {
   "cell_type": "code",
   "execution_count": 22,
   "id": "4ec9f41b",
   "metadata": {},
   "outputs": [
    {
     "data": {
      "text/plain": [
       "Index(['date', 'quarter', 'department', 'day', 'team', 'targeted_productivity',\n",
       "       'smv', 'wip', 'over_time', 'incentive', 'idle_time', 'idle_men',\n",
       "       'no_of_style_change', 'no_of_workers', 'actual_productivity'],\n",
       "      dtype='object')"
      ]
     },
     "execution_count": 22,
     "metadata": {},
     "output_type": "execute_result"
    }
   ],
   "source": [
    "df.columns"
   ]
  },
  {
   "cell_type": "code",
   "execution_count": 23,
   "id": "111e1c28",
   "metadata": {},
   "outputs": [
    {
     "data": {
      "text/plain": [
       "day\n",
       "Monday       0.735488\n",
       "Saturday     0.751929\n",
       "Sunday       0.728604\n",
       "Thursday     0.722641\n",
       "Tuesday      0.742701\n",
       "Wednesday    0.730462\n",
       "Name: actual_productivity, dtype: float64"
      ]
     },
     "execution_count": 23,
     "metadata": {},
     "output_type": "execute_result"
    }
   ],
   "source": [
    "df['actual_productivity'].groupby([df['day']]).mean()"
   ]
  },
  {
   "cell_type": "code",
   "execution_count": 24,
   "id": "1a73eb08",
   "metadata": {},
   "outputs": [
    {
     "data": {
      "text/plain": [
       "no_of_workers  day      \n",
       "2.0            Saturday     0.971867\n",
       "               Sunday       0.760833\n",
       "               Thursday     0.580000\n",
       "               Tuesday      0.951420\n",
       "               Wednesday    0.870000\n",
       "                              ...   \n",
       "60.0           Saturday     0.667447\n",
       "               Sunday       0.307501\n",
       "               Thursday     0.521180\n",
       "               Tuesday      0.775157\n",
       "89.0           Wednesday    0.850411\n",
       "Name: actual_productivity, Length: 223, dtype: float64"
      ]
     },
     "execution_count": 24,
     "metadata": {},
     "output_type": "execute_result"
    }
   ],
   "source": [
    "df['actual_productivity'].groupby([df['no_of_workers'],df['day']]).mean()"
   ]
  },
  {
   "cell_type": "code",
   "execution_count": 25,
   "id": "8dab9fbc",
   "metadata": {},
   "outputs": [
    {
     "data": {
      "text/html": [
       "<div>\n",
       "<style scoped>\n",
       "    .dataframe tbody tr th:only-of-type {\n",
       "        vertical-align: middle;\n",
       "    }\n",
       "\n",
       "    .dataframe tbody tr th {\n",
       "        vertical-align: top;\n",
       "    }\n",
       "\n",
       "    .dataframe thead th {\n",
       "        text-align: right;\n",
       "    }\n",
       "</style>\n",
       "<table border=\"1\" class=\"dataframe\">\n",
       "  <thead>\n",
       "    <tr style=\"text-align: right;\">\n",
       "      <th></th>\n",
       "      <th>date</th>\n",
       "      <th>quarter</th>\n",
       "      <th>department</th>\n",
       "      <th>day</th>\n",
       "      <th>team</th>\n",
       "      <th>targeted_productivity</th>\n",
       "      <th>smv</th>\n",
       "      <th>wip</th>\n",
       "      <th>over_time</th>\n",
       "      <th>incentive</th>\n",
       "      <th>idle_time</th>\n",
       "      <th>idle_men</th>\n",
       "      <th>no_of_style_change</th>\n",
       "      <th>no_of_workers</th>\n",
       "      <th>actual_productivity</th>\n",
       "    </tr>\n",
       "  </thead>\n",
       "  <tbody>\n",
       "    <tr>\n",
       "      <th>0</th>\n",
       "      <td>1/1/2015</td>\n",
       "      <td>Quarter1</td>\n",
       "      <td>sweing</td>\n",
       "      <td>Thursday</td>\n",
       "      <td>8</td>\n",
       "      <td>0.80</td>\n",
       "      <td>26.16</td>\n",
       "      <td>1108.0</td>\n",
       "      <td>7080</td>\n",
       "      <td>98</td>\n",
       "      <td>0.0</td>\n",
       "      <td>0</td>\n",
       "      <td>0</td>\n",
       "      <td>59.0</td>\n",
       "      <td>0.940725</td>\n",
       "    </tr>\n",
       "    <tr>\n",
       "      <th>1</th>\n",
       "      <td>1/1/2015</td>\n",
       "      <td>Quarter1</td>\n",
       "      <td>finishing</td>\n",
       "      <td>Thursday</td>\n",
       "      <td>1</td>\n",
       "      <td>0.75</td>\n",
       "      <td>3.94</td>\n",
       "      <td>NaN</td>\n",
       "      <td>960</td>\n",
       "      <td>0</td>\n",
       "      <td>0.0</td>\n",
       "      <td>0</td>\n",
       "      <td>0</td>\n",
       "      <td>8.0</td>\n",
       "      <td>0.886500</td>\n",
       "    </tr>\n",
       "    <tr>\n",
       "      <th>2</th>\n",
       "      <td>1/1/2015</td>\n",
       "      <td>Quarter1</td>\n",
       "      <td>sweing</td>\n",
       "      <td>Thursday</td>\n",
       "      <td>11</td>\n",
       "      <td>0.80</td>\n",
       "      <td>11.41</td>\n",
       "      <td>968.0</td>\n",
       "      <td>3660</td>\n",
       "      <td>50</td>\n",
       "      <td>0.0</td>\n",
       "      <td>0</td>\n",
       "      <td>0</td>\n",
       "      <td>30.5</td>\n",
       "      <td>0.800570</td>\n",
       "    </tr>\n",
       "    <tr>\n",
       "      <th>3</th>\n",
       "      <td>1/1/2015</td>\n",
       "      <td>Quarter1</td>\n",
       "      <td>sweing</td>\n",
       "      <td>Thursday</td>\n",
       "      <td>12</td>\n",
       "      <td>0.80</td>\n",
       "      <td>11.41</td>\n",
       "      <td>968.0</td>\n",
       "      <td>3660</td>\n",
       "      <td>50</td>\n",
       "      <td>0.0</td>\n",
       "      <td>0</td>\n",
       "      <td>0</td>\n",
       "      <td>30.5</td>\n",
       "      <td>0.800570</td>\n",
       "    </tr>\n",
       "    <tr>\n",
       "      <th>4</th>\n",
       "      <td>1/1/2015</td>\n",
       "      <td>Quarter1</td>\n",
       "      <td>sweing</td>\n",
       "      <td>Thursday</td>\n",
       "      <td>6</td>\n",
       "      <td>0.80</td>\n",
       "      <td>25.90</td>\n",
       "      <td>1170.0</td>\n",
       "      <td>1920</td>\n",
       "      <td>50</td>\n",
       "      <td>0.0</td>\n",
       "      <td>0</td>\n",
       "      <td>0</td>\n",
       "      <td>56.0</td>\n",
       "      <td>0.800382</td>\n",
       "    </tr>\n",
       "  </tbody>\n",
       "</table>\n",
       "</div>"
      ],
      "text/plain": [
       "       date   quarter  department       day  team  targeted_productivity  \\\n",
       "0  1/1/2015  Quarter1      sweing  Thursday     8                   0.80   \n",
       "1  1/1/2015  Quarter1  finishing   Thursday     1                   0.75   \n",
       "2  1/1/2015  Quarter1      sweing  Thursday    11                   0.80   \n",
       "3  1/1/2015  Quarter1      sweing  Thursday    12                   0.80   \n",
       "4  1/1/2015  Quarter1      sweing  Thursday     6                   0.80   \n",
       "\n",
       "     smv     wip  over_time  incentive  idle_time  idle_men  \\\n",
       "0  26.16  1108.0       7080         98        0.0         0   \n",
       "1   3.94     NaN        960          0        0.0         0   \n",
       "2  11.41   968.0       3660         50        0.0         0   \n",
       "3  11.41   968.0       3660         50        0.0         0   \n",
       "4  25.90  1170.0       1920         50        0.0         0   \n",
       "\n",
       "   no_of_style_change  no_of_workers  actual_productivity  \n",
       "0                   0           59.0             0.940725  \n",
       "1                   0            8.0             0.886500  \n",
       "2                   0           30.5             0.800570  \n",
       "3                   0           30.5             0.800570  \n",
       "4                   0           56.0             0.800382  "
      ]
     },
     "execution_count": 25,
     "metadata": {},
     "output_type": "execute_result"
    }
   ],
   "source": [
    "df.head()"
   ]
  },
  {
   "cell_type": "code",
   "execution_count": 26,
   "id": "426dfea6",
   "metadata": {},
   "outputs": [
    {
     "data": {
      "text/html": [
       "<div>\n",
       "<style scoped>\n",
       "    .dataframe tbody tr th:only-of-type {\n",
       "        vertical-align: middle;\n",
       "    }\n",
       "\n",
       "    .dataframe tbody tr th {\n",
       "        vertical-align: top;\n",
       "    }\n",
       "\n",
       "    .dataframe thead th {\n",
       "        text-align: right;\n",
       "    }\n",
       "</style>\n",
       "<table border=\"1\" class=\"dataframe\">\n",
       "  <thead>\n",
       "    <tr style=\"text-align: right;\">\n",
       "      <th>day</th>\n",
       "      <th>Monday</th>\n",
       "      <th>Saturday</th>\n",
       "      <th>Sunday</th>\n",
       "      <th>Thursday</th>\n",
       "      <th>Tuesday</th>\n",
       "      <th>Wednesday</th>\n",
       "    </tr>\n",
       "    <tr>\n",
       "      <th>department</th>\n",
       "      <th></th>\n",
       "      <th></th>\n",
       "      <th></th>\n",
       "      <th></th>\n",
       "      <th></th>\n",
       "      <th></th>\n",
       "    </tr>\n",
       "  </thead>\n",
       "  <tbody>\n",
       "    <tr>\n",
       "      <th>finishing</th>\n",
       "      <td>0.712026</td>\n",
       "      <td>0.690843</td>\n",
       "      <td>0.725270</td>\n",
       "      <td>0.728957</td>\n",
       "      <td>0.718827</td>\n",
       "      <td>0.747741</td>\n",
       "    </tr>\n",
       "    <tr>\n",
       "      <th>finishing</th>\n",
       "      <td>0.787850</td>\n",
       "      <td>0.826654</td>\n",
       "      <td>0.771552</td>\n",
       "      <td>0.750122</td>\n",
       "      <td>0.811395</td>\n",
       "      <td>0.731104</td>\n",
       "    </tr>\n",
       "    <tr>\n",
       "      <th>sweing</th>\n",
       "      <td>0.724169</td>\n",
       "      <td>0.734080</td>\n",
       "      <td>0.713549</td>\n",
       "      <td>0.710772</td>\n",
       "      <td>0.728115</td>\n",
       "      <td>0.722712</td>\n",
       "    </tr>\n",
       "  </tbody>\n",
       "</table>\n",
       "</div>"
      ],
      "text/plain": [
       "day           Monday  Saturday    Sunday  Thursday   Tuesday  Wednesday\n",
       "department                                                             \n",
       "finishing   0.712026  0.690843  0.725270  0.728957  0.718827   0.747741\n",
       "finishing   0.787850  0.826654  0.771552  0.750122  0.811395   0.731104\n",
       "sweing      0.724169  0.734080  0.713549  0.710772  0.728115   0.722712"
      ]
     },
     "execution_count": 26,
     "metadata": {},
     "output_type": "execute_result"
    }
   ],
   "source": [
    "pd.crosstab(df.department,df.day,values=df.actual_productivity,aggfunc='mean')"
   ]
  },
  {
   "cell_type": "code",
   "execution_count": 27,
   "id": "19b1677b",
   "metadata": {},
   "outputs": [],
   "source": [
    "# Step 4: Data Visualization"
   ]
  },
  {
   "cell_type": "code",
   "execution_count": 28,
   "id": "d81a280d",
   "metadata": {},
   "outputs": [
    {
     "data": {
      "image/png": "[encoded data removed]",
      "text/plain": [
       "<Figure size 800x500 with 1 Axes>"
      ]
     },
     "metadata": {},
     "output_type": "display_data"
    }
   ],
   "source": [
    "# Univariate Histogram\n",
    "plt.figure(figsize=(8, 5))\n",
    "sns.histplot(df['actual_productivity'], bins=20, kde=True)\n",
    "plt.title('Histogram of Actual Productivity')\n",
    "plt.xlabel('Actual Productivity')\n",
    "plt.ylabel('Frequency')\n",
    "plt.show()"
   ]
  },
  {
   "cell_type": "code",
   "execution_count": 29,
   "id": "9a4c3c6e",
   "metadata": {},
   "outputs": [],
   "source": [
    "# the actual productivity is normally distributed with mean around .8 and left skewed"
   ]
  },
  {
   "cell_type": "code",
   "execution_count": 30,
   "id": "ed4bc627",
   "metadata": {},
   "outputs": [
    {
     "data": {
      "image/png": "[encoded data removed]",
      "text/plain": [
       "<Figure size 800x500 with 1 Axes>"
      ]
     },
     "metadata": {},
     "output_type": "display_data"
    }
   ],
   "source": [
    "# Univariate Histogram\n",
    "plt.figure(figsize=(8, 5))\n",
    "sns.histplot(df['no_of_workers'], bins=20, kde=True)\n",
    "plt.title('Histogram of workers')\n",
    "plt.xlabel('no of workers')\n",
    "plt.ylabel('Frequency')\n",
    "plt.show()"
   ]
  },
  {
   "cell_type": "code",
   "execution_count": 31,
   "id": "ade22d84",
   "metadata": {},
   "outputs": [],
   "source": [
    "# the distribution is bimodal with 2 peaks"
   ]
  },
  {
   "cell_type": "code",
   "execution_count": 32,
   "id": "a5df31a8",
   "metadata": {},
   "outputs": [
    {
     "data": {
      "image/png": "[encoded data removed]",
      "text/plain": [
       "<Figure size 800x500 with 1 Axes>"
      ]
     },
     "metadata": {},
     "output_type": "display_data"
    }
   ],
   "source": [
    "# Univariate Histogram\n",
    "plt.figure(figsize=(8, 5))\n",
    "sns.histplot(df['incentive'], bins=20, kde=True)\n",
    "plt.title('Histogram of incentive')\n",
    "plt.xlabel('incentive')\n",
    "plt.ylabel('Frequency')\n",
    "plt.show()"
   ]
  },
  {
   "cell_type": "code",
   "execution_count": 33,
   "id": "e28c0790",
   "metadata": {},
   "outputs": [],
   "source": [
    "#there are a lot of outliers in incentive"
   ]
  },
  {
   "cell_type": "code",
   "execution_count": 34,
   "id": "2fad8316",
   "metadata": {},
   "outputs": [
    {
     "data": {
      "image/png": "[encoded data removed]",
      "text/plain": [
       "<Figure size 800x500 with 1 Axes>"
      ]
     },
     "metadata": {},
     "output_type": "display_data"
    }
   ],
   "source": [
    "# Univariate Histogram\n",
    "plt.figure(figsize=(8, 5))\n",
    "sns.histplot(df['smv'], bins=20, kde=True)\n",
    "plt.title('Histogram of smv')\n",
    "plt.xlabel('smv')\n",
    "plt.ylabel('Frequency')\n",
    "plt.show()"
   ]
  },
  {
   "cell_type": "code",
   "execution_count": 35,
   "id": "81fafa70",
   "metadata": {},
   "outputs": [],
   "source": [
    "# there may be outliers in upper end"
   ]
  },
  {
   "cell_type": "code",
   "execution_count": 36,
   "id": "fea4392e",
   "metadata": {},
   "outputs": [
    {
     "data": {
      "image/png": "[encoded data removed]",
      "text/plain": [
       "<Figure size 800x500 with 1 Axes>"
      ]
     },
     "metadata": {},
     "output_type": "display_data"
    }
   ],
   "source": [
    "# Univariate Histogram\n",
    "plt.figure(figsize=(8, 5))\n",
    "sns.histplot(df['idle_time'], bins=20, kde=True)\n",
    "plt.title('Histogram of idle time')\n",
    "plt.xlabel('idle time')\n",
    "plt.ylabel('Frequency')\n",
    "plt.show()"
   ]
  },
  {
   "cell_type": "code",
   "execution_count": 37,
   "id": "1b593816",
   "metadata": {},
   "outputs": [],
   "source": [
    "# there may be outliers"
   ]
  },
  {
   "cell_type": "code",
   "execution_count": 38,
   "id": "fd873d01",
   "metadata": {},
   "outputs": [
    {
     "data": {
      "image/png": "[encoded data removed]",
      "text/plain": [
       "<Figure size 800x500 with 1 Axes>"
      ]
     },
     "metadata": {},
     "output_type": "display_data"
    }
   ],
   "source": [
    "# Univariate Pie Chart\n",
    "plt.figure(figsize=(8, 5))\n",
    "df['department'].value_counts().plot(kind='pie', autopct='%1.1f%%', colors=sns.color_palette('pastel'))\n",
    "plt.title('Pie Chart of Department')\n",
    "plt.ylabel('')\n",
    "plt.show()"
   ]
  },
  {
   "cell_type": "code",
   "execution_count": 39,
   "id": "79a47849",
   "metadata": {},
   "outputs": [],
   "source": [
    "#productivity is more in finishing dept\n",
    "#both finishing department has to be merged"
   ]
  },
  {
   "cell_type": "code",
   "execution_count": 40,
   "id": "af069659",
   "metadata": {},
   "outputs": [
    {
     "data": {
      "image/png": "[encoded data removed]",
      "text/plain": [
       "<Figure size 800x500 with 1 Axes>"
      ]
     },
     "metadata": {},
     "output_type": "display_data"
    }
   ],
   "source": [
    "# Univariate Box Plot\n",
    "plt.figure(figsize=(8, 5))\n",
    "sns.boxplot(x=df['actual_productivity'])\n",
    "plt.title('Box Plot of actual productivity')\n",
    "plt.xlabel('actual productivity')\n",
    "plt.show()"
   ]
  },
  {
   "cell_type": "code",
   "execution_count": 41,
   "id": "8a440f90",
   "metadata": {},
   "outputs": [],
   "source": [
    "# shows some outliers in actual productivity column"
   ]
  },
  {
   "cell_type": "code",
   "execution_count": 42,
   "id": "59013f8b",
   "metadata": {},
   "outputs": [
    {
     "data": {
      "image/png": "[encoded data removed]",
      "text/plain": [
       "<Figure size 800x500 with 1 Axes>"
      ]
     },
     "metadata": {},
     "output_type": "display_data"
    }
   ],
   "source": [
    "\n",
    "# Univariate Box Plot\n",
    "plt.figure(figsize=(8, 5))\n",
    "sns.boxplot(x=df['over_time'])\n",
    "plt.title('Box Plot of over time')\n",
    "plt.xlabel('over time')\n",
    "plt.show()"
   ]
  },
  {
   "cell_type": "code",
   "execution_count": 43,
   "id": "4a93b864",
   "metadata": {},
   "outputs": [
    {
     "data": {
      "text/plain": [
       "<Axes: xlabel='targeted_productivity', ylabel='actual_productivity'>"
      ]
     },
     "execution_count": 43,
     "metadata": {},
     "output_type": "execute_result"
    },
    {
     "data": {
      "image/png": "[encoded data removed]",
      "text/plain": [
       "<Figure size 640x480 with 1 Axes>"
      ]
     },
     "metadata": {},
     "output_type": "display_data"
    }
   ],
   "source": [
    "sns.scatterplot(x=df.targeted_productivity, y=df.actual_productivity)"
   ]
  },
  {
   "cell_type": "code",
   "execution_count": 44,
   "id": "f80da973",
   "metadata": {},
   "outputs": [
    {
     "data": {
      "text/plain": [
       "<Axes: xlabel='incentive', ylabel='actual_productivity'>"
      ]
     },
     "execution_count": 44,
     "metadata": {},
     "output_type": "execute_result"
    },
    {
     "data": {
      "image/png": "[encoded data removed]",
      "text/plain": [
       "<Figure size 640x480 with 1 Axes>"
      ]
     },
     "metadata": {},
     "output_type": "display_data"
    }
   ],
   "source": [
    "sns.scatterplot(x='incentive', y='actual_productivity', data=df)"
   ]
  },
  {
   "cell_type": "code",
   "execution_count": 45,
   "id": "bd93fe67",
   "metadata": {},
   "outputs": [
    {
     "data": {
      "text/plain": [
       "<Axes: xlabel='over_time', ylabel='actual_productivity'>"
      ]
     },
     "execution_count": 45,
     "metadata": {},
     "output_type": "execute_result"
    },
    {
     "data": {
      "image/png": "[encoded data removed]",
      "text/plain": [
       "<Figure size 640x480 with 1 Axes>"
      ]
     },
     "metadata": {},
     "output_type": "display_data"
    }
   ],
   "source": [
    "sns.scatterplot(x=df.over_time, y=df.actual_productivity)"
   ]
  },
  {
   "cell_type": "code",
   "execution_count": 46,
   "id": "629b7395",
   "metadata": {},
   "outputs": [],
   "source": [
    "# Step 5: Observations from data visualization\n",
    "# - The date and wip columns has to be removed\n",
    "# - Outliers require rows to be trimmed\n",
    "# - actual_productivity seems to have a normal distribution with most values clustered around the mean.\n",
    "# - Department is categorical with 3  values but 2 of them have to merged since only 2 distinct values are there\n"
   ]
  },
  {
   "cell_type": "markdown",
   "id": "2548df4e",
   "metadata": {},
   "source": [
    "# Data Preprocessing"
   ]
  },
  {
   "cell_type": "code",
   "execution_count": 47,
   "id": "88eb7dc0",
   "metadata": {},
   "outputs": [],
   "source": [
    "# Step 1: Remove ID columns - index and PatientID\n",
    "df = df.drop(columns=['date', 'wip'])"
   ]
  },
  {
   "cell_type": "code",
   "execution_count": 48,
   "id": "17260432",
   "metadata": {},
   "outputs": [
    {
     "data": {
      "text/plain": [
       "(1197, 13)"
      ]
     },
     "execution_count": 48,
     "metadata": {},
     "output_type": "execute_result"
    }
   ],
   "source": [
    "df.shape"
   ]
  },
  {
   "cell_type": "code",
   "execution_count": 49,
   "id": "08c9ad1f",
   "metadata": {},
   "outputs": [
    {
     "data": {
      "text/plain": [
       "quarter                  0\n",
       "department               0\n",
       "day                      0\n",
       "team                     0\n",
       "targeted_productivity    0\n",
       "smv                      0\n",
       "over_time                0\n",
       "incentive                0\n",
       "idle_time                0\n",
       "idle_men                 0\n",
       "no_of_style_change       0\n",
       "no_of_workers            0\n",
       "actual_productivity      0\n",
       "dtype: int64"
      ]
     },
     "execution_count": 49,
     "metadata": {},
     "output_type": "execute_result"
    }
   ],
   "source": [
    "df.isnull().sum()"
   ]
  },
  {
   "cell_type": "code",
   "execution_count": 50,
   "id": "12598a1e",
   "metadata": {},
   "outputs": [],
   "source": [
    "# Step 2: replace finishing  with finishing\n",
    "df.replace(to_replace=\"finishing \", value=\"finishing\", inplace=True)"
   ]
  },
  {
   "cell_type": "code",
   "execution_count": 51,
   "id": "16e4d9e1",
   "metadata": {},
   "outputs": [
    {
     "data": {
      "text/plain": [
       "0          sweing\n",
       "1       finishing\n",
       "2          sweing\n",
       "3          sweing\n",
       "4          sweing\n",
       "          ...    \n",
       "1192    finishing\n",
       "1193    finishing\n",
       "1194    finishing\n",
       "1195    finishing\n",
       "1196    finishing\n",
       "Name: department, Length: 1197, dtype: object"
      ]
     },
     "execution_count": 51,
     "metadata": {},
     "output_type": "execute_result"
    }
   ],
   "source": [
    "df.department"
   ]
  },
  {
   "cell_type": "code",
   "execution_count": 52,
   "id": "4343c917",
   "metadata": {},
   "outputs": [
    {
     "data": {
      "text/plain": [
       "(1197, 13)"
      ]
     },
     "execution_count": 52,
     "metadata": {},
     "output_type": "execute_result"
    }
   ],
   "source": [
    "df.shape"
   ]
  },
  {
   "cell_type": "code",
   "execution_count": 53,
   "id": "9276804b",
   "metadata": {},
   "outputs": [
    {
     "data": {
      "text/html": [
       "<div>\n",
       "<style scoped>\n",
       "    .dataframe tbody tr th:only-of-type {\n",
       "        vertical-align: middle;\n",
       "    }\n",
       "\n",
       "    .dataframe tbody tr th {\n",
       "        vertical-align: top;\n",
       "    }\n",
       "\n",
       "    .dataframe thead th {\n",
       "        text-align: right;\n",
       "    }\n",
       "</style>\n",
       "<table border=\"1\" class=\"dataframe\">\n",
       "  <thead>\n",
       "    <tr style=\"text-align: right;\">\n",
       "      <th></th>\n",
       "      <th>team</th>\n",
       "      <th>targeted_productivity</th>\n",
       "      <th>smv</th>\n",
       "      <th>over_time</th>\n",
       "      <th>incentive</th>\n",
       "      <th>idle_time</th>\n",
       "      <th>idle_men</th>\n",
       "      <th>no_of_style_change</th>\n",
       "      <th>no_of_workers</th>\n",
       "      <th>actual_productivity</th>\n",
       "    </tr>\n",
       "  </thead>\n",
       "  <tbody>\n",
       "    <tr>\n",
       "      <th>0</th>\n",
       "      <td>8</td>\n",
       "      <td>0.80</td>\n",
       "      <td>26.16</td>\n",
       "      <td>7080</td>\n",
       "      <td>98</td>\n",
       "      <td>0.0</td>\n",
       "      <td>0</td>\n",
       "      <td>0</td>\n",
       "      <td>59.0</td>\n",
       "      <td>0.940725</td>\n",
       "    </tr>\n",
       "    <tr>\n",
       "      <th>1</th>\n",
       "      <td>1</td>\n",
       "      <td>0.75</td>\n",
       "      <td>3.94</td>\n",
       "      <td>960</td>\n",
       "      <td>0</td>\n",
       "      <td>0.0</td>\n",
       "      <td>0</td>\n",
       "      <td>0</td>\n",
       "      <td>8.0</td>\n",
       "      <td>0.886500</td>\n",
       "    </tr>\n",
       "    <tr>\n",
       "      <th>2</th>\n",
       "      <td>11</td>\n",
       "      <td>0.80</td>\n",
       "      <td>11.41</td>\n",
       "      <td>3660</td>\n",
       "      <td>50</td>\n",
       "      <td>0.0</td>\n",
       "      <td>0</td>\n",
       "      <td>0</td>\n",
       "      <td>30.5</td>\n",
       "      <td>0.800570</td>\n",
       "    </tr>\n",
       "    <tr>\n",
       "      <th>3</th>\n",
       "      <td>12</td>\n",
       "      <td>0.80</td>\n",
       "      <td>11.41</td>\n",
       "      <td>3660</td>\n",
       "      <td>50</td>\n",
       "      <td>0.0</td>\n",
       "      <td>0</td>\n",
       "      <td>0</td>\n",
       "      <td>30.5</td>\n",
       "      <td>0.800570</td>\n",
       "    </tr>\n",
       "    <tr>\n",
       "      <th>4</th>\n",
       "      <td>6</td>\n",
       "      <td>0.80</td>\n",
       "      <td>25.90</td>\n",
       "      <td>1920</td>\n",
       "      <td>50</td>\n",
       "      <td>0.0</td>\n",
       "      <td>0</td>\n",
       "      <td>0</td>\n",
       "      <td>56.0</td>\n",
       "      <td>0.800382</td>\n",
       "    </tr>\n",
       "  </tbody>\n",
       "</table>\n",
       "</div>"
      ],
      "text/plain": [
       "   team  targeted_productivity    smv  over_time  incentive  idle_time  \\\n",
       "0     8                   0.80  26.16       7080         98        0.0   \n",
       "1     1                   0.75   3.94        960          0        0.0   \n",
       "2    11                   0.80  11.41       3660         50        0.0   \n",
       "3    12                   0.80  11.41       3660         50        0.0   \n",
       "4     6                   0.80  25.90       1920         50        0.0   \n",
       "\n",
       "   idle_men  no_of_style_change  no_of_workers  actual_productivity  \n",
       "0         0                   0           59.0             0.940725  \n",
       "1         0                   0            8.0             0.886500  \n",
       "2         0                   0           30.5             0.800570  \n",
       "3         0                   0           30.5             0.800570  \n",
       "4         0                   0           56.0             0.800382  "
      ]
     },
     "execution_count": 53,
     "metadata": {},
     "output_type": "execute_result"
    }
   ],
   "source": [
    "# Step 3: Split numeric columns into X\n",
    "df_num = df.select_dtypes(include='number')\n",
    "df_num.head()\n"
   ]
  },
  {
   "cell_type": "code",
   "execution_count": 54,
   "id": "e3d37262",
   "metadata": {},
   "outputs": [],
   "source": [
    "# function to remove outlier\n",
    "def outlier_remover(df_num,df):\n",
    "    Q1 = df_num.quantile(0.25)\n",
    "    Q3 = df_num.quantile(0.75)\n",
    "    IQR = Q3 - Q1\n",
    "    lower_bound = Q1 - 1.5 * IQR\n",
    "    upper_bound = Q3 + 1.5 * IQR\n",
    "    df = df[~((df_num < lower_bound) | (df_num > upper_bound)).any(axis=1)]\n",
    "    return df\n"
   ]
  },
  {
   "cell_type": "code",
   "execution_count": 55,
   "id": "53b6071e",
   "metadata": {},
   "outputs": [],
   "source": [
    "df = outlier_remover(df_num,df)"
   ]
  },
  {
   "cell_type": "code",
   "execution_count": 56,
   "id": "2952da28",
   "metadata": {},
   "outputs": [
    {
     "data": {
      "text/plain": [
       "(945, 13)"
      ]
     },
     "execution_count": 56,
     "metadata": {},
     "output_type": "execute_result"
    }
   ],
   "source": [
    "df.shape"
   ]
  },
  {
   "cell_type": "code",
   "execution_count": 57,
   "id": "60d19c09",
   "metadata": {},
   "outputs": [
    {
     "data": {
      "text/plain": [
       "<Axes: xlabel='actual_productivity'>"
      ]
     },
     "execution_count": 57,
     "metadata": {},
     "output_type": "execute_result"
    },
    {
     "data": {
      "image/png": "[encoded data removed]",
      "text/plain": [
       "<Figure size 640x480 with 1 Axes>"
      ]
     },
     "metadata": {},
     "output_type": "display_data"
    }
   ],
   "source": [
    "sns.boxplot(x=df['actual_productivity'])"
   ]
  },
  {
   "cell_type": "code",
   "execution_count": 58,
   "id": "61efdb5c",
   "metadata": {},
   "outputs": [],
   "source": [
    "df_num = df.select_dtypes(include='number')\n",
    "df = outlier_remover(df_num,df)"
   ]
  },
  {
   "cell_type": "code",
   "execution_count": 59,
   "id": "3382b8ff",
   "metadata": {},
   "outputs": [
    {
     "data": {
      "text/plain": [
       "<Axes: xlabel='actual_productivity'>"
      ]
     },
     "execution_count": 59,
     "metadata": {},
     "output_type": "execute_result"
    },
    {
     "data": {
      "image/png": "[encoded data removed]",
      "text/plain": [
       "<Figure size 640x480 with 1 Axes>"
      ]
     },
     "metadata": {},
     "output_type": "display_data"
    }
   ],
   "source": [
    "sns.boxplot(x=df['actual_productivity'])"
   ]
  },
  {
   "cell_type": "code",
   "execution_count": 60,
   "id": "2a2124ab",
   "metadata": {},
   "outputs": [
    {
     "data": {
      "text/plain": [
       "(898, 13)"
      ]
     },
     "execution_count": 60,
     "metadata": {},
     "output_type": "execute_result"
    }
   ],
   "source": [
    "df.shape"
   ]
  },
  {
   "cell_type": "code",
   "execution_count": 61,
   "id": "6e3d4386",
   "metadata": {},
   "outputs": [
    {
     "data": {
      "text/html": [
       "<div>\n",
       "<style scoped>\n",
       "    .dataframe tbody tr th:only-of-type {\n",
       "        vertical-align: middle;\n",
       "    }\n",
       "\n",
       "    .dataframe tbody tr th {\n",
       "        vertical-align: top;\n",
       "    }\n",
       "\n",
       "    .dataframe thead th {\n",
       "        text-align: right;\n",
       "    }\n",
       "</style>\n",
       "<table border=\"1\" class=\"dataframe\">\n",
       "  <thead>\n",
       "    <tr style=\"text-align: right;\">\n",
       "      <th></th>\n",
       "      <th>quarter</th>\n",
       "      <th>department</th>\n",
       "      <th>day</th>\n",
       "      <th>team</th>\n",
       "      <th>targeted_productivity</th>\n",
       "      <th>smv</th>\n",
       "      <th>over_time</th>\n",
       "      <th>incentive</th>\n",
       "      <th>idle_time</th>\n",
       "      <th>idle_men</th>\n",
       "      <th>no_of_style_change</th>\n",
       "      <th>no_of_workers</th>\n",
       "    </tr>\n",
       "  </thead>\n",
       "  <tbody>\n",
       "    <tr>\n",
       "      <th>0</th>\n",
       "      <td>Quarter1</td>\n",
       "      <td>sweing</td>\n",
       "      <td>Thursday</td>\n",
       "      <td>8</td>\n",
       "      <td>0.80</td>\n",
       "      <td>26.16</td>\n",
       "      <td>7080</td>\n",
       "      <td>98</td>\n",
       "      <td>0.0</td>\n",
       "      <td>0</td>\n",
       "      <td>0</td>\n",
       "      <td>59.0</td>\n",
       "    </tr>\n",
       "    <tr>\n",
       "      <th>1</th>\n",
       "      <td>Quarter1</td>\n",
       "      <td>finishing</td>\n",
       "      <td>Thursday</td>\n",
       "      <td>1</td>\n",
       "      <td>0.75</td>\n",
       "      <td>3.94</td>\n",
       "      <td>960</td>\n",
       "      <td>0</td>\n",
       "      <td>0.0</td>\n",
       "      <td>0</td>\n",
       "      <td>0</td>\n",
       "      <td>8.0</td>\n",
       "    </tr>\n",
       "    <tr>\n",
       "      <th>2</th>\n",
       "      <td>Quarter1</td>\n",
       "      <td>sweing</td>\n",
       "      <td>Thursday</td>\n",
       "      <td>11</td>\n",
       "      <td>0.80</td>\n",
       "      <td>11.41</td>\n",
       "      <td>3660</td>\n",
       "      <td>50</td>\n",
       "      <td>0.0</td>\n",
       "      <td>0</td>\n",
       "      <td>0</td>\n",
       "      <td>30.5</td>\n",
       "    </tr>\n",
       "    <tr>\n",
       "      <th>3</th>\n",
       "      <td>Quarter1</td>\n",
       "      <td>sweing</td>\n",
       "      <td>Thursday</td>\n",
       "      <td>12</td>\n",
       "      <td>0.80</td>\n",
       "      <td>11.41</td>\n",
       "      <td>3660</td>\n",
       "      <td>50</td>\n",
       "      <td>0.0</td>\n",
       "      <td>0</td>\n",
       "      <td>0</td>\n",
       "      <td>30.5</td>\n",
       "    </tr>\n",
       "    <tr>\n",
       "      <th>4</th>\n",
       "      <td>Quarter1</td>\n",
       "      <td>sweing</td>\n",
       "      <td>Thursday</td>\n",
       "      <td>6</td>\n",
       "      <td>0.80</td>\n",
       "      <td>25.90</td>\n",
       "      <td>1920</td>\n",
       "      <td>50</td>\n",
       "      <td>0.0</td>\n",
       "      <td>0</td>\n",
       "      <td>0</td>\n",
       "      <td>56.0</td>\n",
       "    </tr>\n",
       "  </tbody>\n",
       "</table>\n",
       "</div>"
      ],
      "text/plain": [
       "    quarter department       day  team  targeted_productivity    smv  \\\n",
       "0  Quarter1     sweing  Thursday     8                   0.80  26.16   \n",
       "1  Quarter1  finishing  Thursday     1                   0.75   3.94   \n",
       "2  Quarter1     sweing  Thursday    11                   0.80  11.41   \n",
       "3  Quarter1     sweing  Thursday    12                   0.80  11.41   \n",
       "4  Quarter1     sweing  Thursday     6                   0.80  25.90   \n",
       "\n",
       "   over_time  incentive  idle_time  idle_men  no_of_style_change  \\\n",
       "0       7080         98        0.0         0                   0   \n",
       "1        960          0        0.0         0                   0   \n",
       "2       3660         50        0.0         0                   0   \n",
       "3       3660         50        0.0         0                   0   \n",
       "4       1920         50        0.0         0                   0   \n",
       "\n",
       "   no_of_workers  \n",
       "0           59.0  \n",
       "1            8.0  \n",
       "2           30.5  \n",
       "3           30.5  \n",
       "4           56.0  "
      ]
     },
     "execution_count": 61,
     "metadata": {},
     "output_type": "execute_result"
    }
   ],
   "source": [
    "X = df.drop('actual_productivity', axis=1)\n",
    "y = df.actual_productivity\n",
    "X.head()"
   ]
  },
  {
   "cell_type": "code",
   "execution_count": 62,
   "id": "c4048c27",
   "metadata": {},
   "outputs": [
    {
     "data": {
      "text/html": [
       "<div>\n",
       "<style scoped>\n",
       "    .dataframe tbody tr th:only-of-type {\n",
       "        vertical-align: middle;\n",
       "    }\n",
       "\n",
       "    .dataframe tbody tr th {\n",
       "        vertical-align: top;\n",
       "    }\n",
       "\n",
       "    .dataframe thead th {\n",
       "        text-align: right;\n",
       "    }\n",
       "</style>\n",
       "<table border=\"1\" class=\"dataframe\">\n",
       "  <thead>\n",
       "    <tr style=\"text-align: right;\">\n",
       "      <th></th>\n",
       "      <th>team</th>\n",
       "      <th>targeted_productivity</th>\n",
       "      <th>smv</th>\n",
       "      <th>over_time</th>\n",
       "      <th>incentive</th>\n",
       "      <th>idle_time</th>\n",
       "      <th>idle_men</th>\n",
       "      <th>no_of_style_change</th>\n",
       "      <th>no_of_workers</th>\n",
       "    </tr>\n",
       "  </thead>\n",
       "  <tbody>\n",
       "    <tr>\n",
       "      <th>0</th>\n",
       "      <td>8</td>\n",
       "      <td>0.80</td>\n",
       "      <td>26.16</td>\n",
       "      <td>7080</td>\n",
       "      <td>98</td>\n",
       "      <td>0.0</td>\n",
       "      <td>0</td>\n",
       "      <td>0</td>\n",
       "      <td>59.0</td>\n",
       "    </tr>\n",
       "    <tr>\n",
       "      <th>1</th>\n",
       "      <td>1</td>\n",
       "      <td>0.75</td>\n",
       "      <td>3.94</td>\n",
       "      <td>960</td>\n",
       "      <td>0</td>\n",
       "      <td>0.0</td>\n",
       "      <td>0</td>\n",
       "      <td>0</td>\n",
       "      <td>8.0</td>\n",
       "    </tr>\n",
       "    <tr>\n",
       "      <th>2</th>\n",
       "      <td>11</td>\n",
       "      <td>0.80</td>\n",
       "      <td>11.41</td>\n",
       "      <td>3660</td>\n",
       "      <td>50</td>\n",
       "      <td>0.0</td>\n",
       "      <td>0</td>\n",
       "      <td>0</td>\n",
       "      <td>30.5</td>\n",
       "    </tr>\n",
       "    <tr>\n",
       "      <th>3</th>\n",
       "      <td>12</td>\n",
       "      <td>0.80</td>\n",
       "      <td>11.41</td>\n",
       "      <td>3660</td>\n",
       "      <td>50</td>\n",
       "      <td>0.0</td>\n",
       "      <td>0</td>\n",
       "      <td>0</td>\n",
       "      <td>30.5</td>\n",
       "    </tr>\n",
       "    <tr>\n",
       "      <th>4</th>\n",
       "      <td>6</td>\n",
       "      <td>0.80</td>\n",
       "      <td>25.90</td>\n",
       "      <td>1920</td>\n",
       "      <td>50</td>\n",
       "      <td>0.0</td>\n",
       "      <td>0</td>\n",
       "      <td>0</td>\n",
       "      <td>56.0</td>\n",
       "    </tr>\n",
       "  </tbody>\n",
       "</table>\n",
       "</div>"
      ],
      "text/plain": [
       "   team  targeted_productivity    smv  over_time  incentive  idle_time  \\\n",
       "0     8                   0.80  26.16       7080         98        0.0   \n",
       "1     1                   0.75   3.94        960          0        0.0   \n",
       "2    11                   0.80  11.41       3660         50        0.0   \n",
       "3    12                   0.80  11.41       3660         50        0.0   \n",
       "4     6                   0.80  25.90       1920         50        0.0   \n",
       "\n",
       "   idle_men  no_of_style_change  no_of_workers  \n",
       "0         0                   0           59.0  \n",
       "1         0                   0            8.0  \n",
       "2         0                   0           30.5  \n",
       "3         0                   0           30.5  \n",
       "4         0                   0           56.0  "
      ]
     },
     "execution_count": 62,
     "metadata": {},
     "output_type": "execute_result"
    }
   ],
   "source": [
    "X_num = X.select_dtypes('number')\n",
    "X_num.head()"
   ]
  },
  {
   "cell_type": "code",
   "execution_count": 63,
   "id": "8a4ba7d1",
   "metadata": {},
   "outputs": [
    {
     "data": {
      "text/html": [
       "<div>\n",
       "<style scoped>\n",
       "    .dataframe tbody tr th:only-of-type {\n",
       "        vertical-align: middle;\n",
       "    }\n",
       "\n",
       "    .dataframe tbody tr th {\n",
       "        vertical-align: top;\n",
       "    }\n",
       "\n",
       "    .dataframe thead th {\n",
       "        text-align: right;\n",
       "    }\n",
       "</style>\n",
       "<table border=\"1\" class=\"dataframe\">\n",
       "  <thead>\n",
       "    <tr style=\"text-align: right;\">\n",
       "      <th></th>\n",
       "      <th>quarter</th>\n",
       "      <th>department</th>\n",
       "      <th>day</th>\n",
       "    </tr>\n",
       "  </thead>\n",
       "  <tbody>\n",
       "    <tr>\n",
       "      <th>0</th>\n",
       "      <td>Quarter1</td>\n",
       "      <td>sweing</td>\n",
       "      <td>Thursday</td>\n",
       "    </tr>\n",
       "    <tr>\n",
       "      <th>1</th>\n",
       "      <td>Quarter1</td>\n",
       "      <td>finishing</td>\n",
       "      <td>Thursday</td>\n",
       "    </tr>\n",
       "    <tr>\n",
       "      <th>2</th>\n",
       "      <td>Quarter1</td>\n",
       "      <td>sweing</td>\n",
       "      <td>Thursday</td>\n",
       "    </tr>\n",
       "    <tr>\n",
       "      <th>3</th>\n",
       "      <td>Quarter1</td>\n",
       "      <td>sweing</td>\n",
       "      <td>Thursday</td>\n",
       "    </tr>\n",
       "    <tr>\n",
       "      <th>4</th>\n",
       "      <td>Quarter1</td>\n",
       "      <td>sweing</td>\n",
       "      <td>Thursday</td>\n",
       "    </tr>\n",
       "  </tbody>\n",
       "</table>\n",
       "</div>"
      ],
      "text/plain": [
       "    quarter department       day\n",
       "0  Quarter1     sweing  Thursday\n",
       "1  Quarter1  finishing  Thursday\n",
       "2  Quarter1     sweing  Thursday\n",
       "3  Quarter1     sweing  Thursday\n",
       "4  Quarter1     sweing  Thursday"
      ]
     },
     "execution_count": 63,
     "metadata": {},
     "output_type": "execute_result"
    }
   ],
   "source": [
    "X_cat = X.select_dtypes('object')\n",
    "X_cat.head()"
   ]
  },
  {
   "cell_type": "code",
   "execution_count": 64,
   "id": "a24edc55",
   "metadata": {},
   "outputs": [],
   "source": [
    "# Step 4: Rescale numeric columns (optional, based on the algorithm used)\n",
    "scaler = MinMaxScaler()\n",
    "X_num_scaled = scaler.fit_transform(X_num)"
   ]
  },
  {
   "cell_type": "code",
   "execution_count": 65,
   "id": "6284ac7a",
   "metadata": {},
   "outputs": [],
   "source": [
    "# Convert the scaled numpy array back to a DataFrame\n",
    "X_num_scaled = pd.DataFrame(X_num_scaled, columns=X_num.columns, index=X_num.index)"
   ]
  },
  {
   "cell_type": "code",
   "execution_count": 66,
   "id": "48b2ef6a",
   "metadata": {},
   "outputs": [
    {
     "data": {
      "text/html": [
       "<div>\n",
       "<style scoped>\n",
       "    .dataframe tbody tr th:only-of-type {\n",
       "        vertical-align: middle;\n",
       "    }\n",
       "\n",
       "    .dataframe tbody tr th {\n",
       "        vertical-align: top;\n",
       "    }\n",
       "\n",
       "    .dataframe thead th {\n",
       "        text-align: right;\n",
       "    }\n",
       "</style>\n",
       "<table border=\"1\" class=\"dataframe\">\n",
       "  <thead>\n",
       "    <tr style=\"text-align: right;\">\n",
       "      <th></th>\n",
       "      <th>team</th>\n",
       "      <th>targeted_productivity</th>\n",
       "      <th>smv</th>\n",
       "      <th>over_time</th>\n",
       "      <th>incentive</th>\n",
       "      <th>idle_time</th>\n",
       "      <th>idle_men</th>\n",
       "      <th>no_of_style_change</th>\n",
       "      <th>no_of_workers</th>\n",
       "    </tr>\n",
       "  </thead>\n",
       "  <tbody>\n",
       "    <tr>\n",
       "      <th>count</th>\n",
       "      <td>898.000000</td>\n",
       "      <td>898.000000</td>\n",
       "      <td>898.000000</td>\n",
       "      <td>898.000000</td>\n",
       "      <td>898.000000</td>\n",
       "      <td>898.0</td>\n",
       "      <td>898.0</td>\n",
       "      <td>898.0</td>\n",
       "      <td>898.000000</td>\n",
       "    </tr>\n",
       "    <tr>\n",
       "      <th>mean</th>\n",
       "      <td>0.495343</td>\n",
       "      <td>0.790646</td>\n",
       "      <td>0.236080</td>\n",
       "      <td>0.303949</td>\n",
       "      <td>0.242219</td>\n",
       "      <td>0.0</td>\n",
       "      <td>0.0</td>\n",
       "      <td>0.0</td>\n",
       "      <td>0.351132</td>\n",
       "    </tr>\n",
       "    <tr>\n",
       "      <th>std</th>\n",
       "      <td>0.326949</td>\n",
       "      <td>0.273334</td>\n",
       "      <td>0.222288</td>\n",
       "      <td>0.226984</td>\n",
       "      <td>0.272072</td>\n",
       "      <td>0.0</td>\n",
       "      <td>0.0</td>\n",
       "      <td>0.0</td>\n",
       "      <td>0.253041</td>\n",
       "    </tr>\n",
       "    <tr>\n",
       "      <th>min</th>\n",
       "      <td>0.000000</td>\n",
       "      <td>0.000000</td>\n",
       "      <td>0.000000</td>\n",
       "      <td>0.000000</td>\n",
       "      <td>0.000000</td>\n",
       "      <td>0.0</td>\n",
       "      <td>0.0</td>\n",
       "      <td>0.0</td>\n",
       "      <td>0.000000</td>\n",
       "    </tr>\n",
       "    <tr>\n",
       "      <th>25%</th>\n",
       "      <td>0.181818</td>\n",
       "      <td>0.500000</td>\n",
       "      <td>0.022638</td>\n",
       "      <td>0.095238</td>\n",
       "      <td>0.000000</td>\n",
       "      <td>0.0</td>\n",
       "      <td>0.0</td>\n",
       "      <td>0.0</td>\n",
       "      <td>0.080460</td>\n",
       "    </tr>\n",
       "    <tr>\n",
       "      <th>50%</th>\n",
       "      <td>0.454545</td>\n",
       "      <td>1.000000</td>\n",
       "      <td>0.189595</td>\n",
       "      <td>0.261905</td>\n",
       "      <td>0.193277</td>\n",
       "      <td>0.0</td>\n",
       "      <td>0.0</td>\n",
       "      <td>0.0</td>\n",
       "      <td>0.344828</td>\n",
       "    </tr>\n",
       "    <tr>\n",
       "      <th>75%</th>\n",
       "      <td>0.818182</td>\n",
       "      <td>1.000000</td>\n",
       "      <td>0.427079</td>\n",
       "      <td>0.460317</td>\n",
       "      <td>0.420168</td>\n",
       "      <td>0.0</td>\n",
       "      <td>0.0</td>\n",
       "      <td>0.0</td>\n",
       "      <td>0.632184</td>\n",
       "    </tr>\n",
       "    <tr>\n",
       "      <th>max</th>\n",
       "      <td>1.000000</td>\n",
       "      <td>1.000000</td>\n",
       "      <td>1.000000</td>\n",
       "      <td>1.000000</td>\n",
       "      <td>1.000000</td>\n",
       "      <td>0.0</td>\n",
       "      <td>0.0</td>\n",
       "      <td>0.0</td>\n",
       "      <td>1.000000</td>\n",
       "    </tr>\n",
       "  </tbody>\n",
       "</table>\n",
       "</div>"
      ],
      "text/plain": [
       "             team  targeted_productivity         smv   over_time   incentive  \\\n",
       "count  898.000000             898.000000  898.000000  898.000000  898.000000   \n",
       "mean     0.495343               0.790646    0.236080    0.303949    0.242219   \n",
       "std      0.326949               0.273334    0.222288    0.226984    0.272072   \n",
       "min      0.000000               0.000000    0.000000    0.000000    0.000000   \n",
       "25%      0.181818               0.500000    0.022638    0.095238    0.000000   \n",
       "50%      0.454545               1.000000    0.189595    0.261905    0.193277   \n",
       "75%      0.818182               1.000000    0.427079    0.460317    0.420168   \n",
       "max      1.000000               1.000000    1.000000    1.000000    1.000000   \n",
       "\n",
       "       idle_time  idle_men  no_of_style_change  no_of_workers  \n",
       "count      898.0     898.0               898.0     898.000000  \n",
       "mean         0.0       0.0                 0.0       0.351132  \n",
       "std          0.0       0.0                 0.0       0.253041  \n",
       "min          0.0       0.0                 0.0       0.000000  \n",
       "25%          0.0       0.0                 0.0       0.080460  \n",
       "50%          0.0       0.0                 0.0       0.344828  \n",
       "75%          0.0       0.0                 0.0       0.632184  \n",
       "max          0.0       0.0                 0.0       1.000000  "
      ]
     },
     "execution_count": 66,
     "metadata": {},
     "output_type": "execute_result"
    }
   ],
   "source": [
    "X_num_scaled.describe()"
   ]
  },
  {
   "cell_type": "code",
   "execution_count": 67,
   "id": "5a89138e",
   "metadata": {},
   "outputs": [],
   "source": [
    "# Step 5: One-hot encode category columns\n",
    "X_cat_encoded = pd.get_dummies(X_cat, drop_first=False, dtype=int)  # Drop_first to avoid multicollinearity"
   ]
  },
  {
   "cell_type": "code",
   "execution_count": 68,
   "id": "892069c9",
   "metadata": {},
   "outputs": [],
   "source": [
    "# Step 6: Merge df_num and df_cat_encoded into X\n",
    "X = pd.concat([X_num_scaled, X_cat_encoded], axis=1)"
   ]
  },
  {
   "cell_type": "code",
   "execution_count": 69,
   "id": "f07fbbac",
   "metadata": {},
   "outputs": [
    {
     "data": {
      "text/plain": [
       "((898, 22), (898, 9), (898, 13))"
      ]
     },
     "execution_count": 69,
     "metadata": {},
     "output_type": "execute_result"
    }
   ],
   "source": [
    " X.shape, X_num_scaled.shape, X_cat_encoded.shape"
   ]
  },
  {
   "cell_type": "code",
   "execution_count": 70,
   "id": "557dc287",
   "metadata": {},
   "outputs": [
    {
     "name": "stdout",
     "output_type": "stream",
     "text": [
      "\n",
      "Step 7: Checking for NAs and Shape Compatibility\n",
      "team                     0\n",
      "targeted_productivity    0\n",
      "smv                      0\n",
      "over_time                0\n",
      "incentive                0\n",
      "idle_time                0\n",
      "idle_men                 0\n",
      "no_of_style_change       0\n",
      "no_of_workers            0\n",
      "quarter_Quarter1         0\n",
      "quarter_Quarter2         0\n",
      "quarter_Quarter3         0\n",
      "quarter_Quarter4         0\n",
      "quarter_Quarter5         0\n",
      "department_finishing     0\n",
      "department_sweing        0\n",
      "day_Monday               0\n",
      "day_Saturday             0\n",
      "day_Sunday               0\n",
      "day_Thursday             0\n",
      "day_Tuesday              0\n",
      "day_Wednesday            0\n",
      "dtype: int64\n",
      "0\n",
      "(898, 22)\n",
      "(898,)\n"
     ]
    }
   ],
   "source": [
    "# Step 7: Check for NA in X and y; Check for shape compatibility\n",
    "print(\"\\nStep 7: Checking for NAs and Shape Compatibility\")\n",
    "print(X.isnull().sum())\n",
    "print(y.isnull().sum())\n",
    "print(X.shape)\n",
    "print(y.shape)"
   ]
  },
  {
   "cell_type": "code",
   "execution_count": 71,
   "id": "684cae1a",
   "metadata": {},
   "outputs": [
    {
     "data": {
      "text/html": [
       "<div>\n",
       "<style scoped>\n",
       "    .dataframe tbody tr th:only-of-type {\n",
       "        vertical-align: middle;\n",
       "    }\n",
       "\n",
       "    .dataframe tbody tr th {\n",
       "        vertical-align: top;\n",
       "    }\n",
       "\n",
       "    .dataframe thead th {\n",
       "        text-align: right;\n",
       "    }\n",
       "</style>\n",
       "<table border=\"1\" class=\"dataframe\">\n",
       "  <thead>\n",
       "    <tr style=\"text-align: right;\">\n",
       "      <th></th>\n",
       "      <th>team</th>\n",
       "      <th>targeted_productivity</th>\n",
       "      <th>smv</th>\n",
       "      <th>over_time</th>\n",
       "      <th>incentive</th>\n",
       "      <th>idle_time</th>\n",
       "      <th>idle_men</th>\n",
       "      <th>no_of_style_change</th>\n",
       "      <th>no_of_workers</th>\n",
       "      <th>quarter_Quarter1</th>\n",
       "      <th>...</th>\n",
       "      <th>quarter_Quarter4</th>\n",
       "      <th>quarter_Quarter5</th>\n",
       "      <th>department_finishing</th>\n",
       "      <th>department_sweing</th>\n",
       "      <th>day_Monday</th>\n",
       "      <th>day_Saturday</th>\n",
       "      <th>day_Sunday</th>\n",
       "      <th>day_Thursday</th>\n",
       "      <th>day_Tuesday</th>\n",
       "      <th>day_Wednesday</th>\n",
       "    </tr>\n",
       "  </thead>\n",
       "  <tbody>\n",
       "    <tr>\n",
       "      <th>count</th>\n",
       "      <td>898.000000</td>\n",
       "      <td>898.000000</td>\n",
       "      <td>898.000000</td>\n",
       "      <td>898.000000</td>\n",
       "      <td>898.000000</td>\n",
       "      <td>898.0</td>\n",
       "      <td>898.0</td>\n",
       "      <td>898.0</td>\n",
       "      <td>898.000000</td>\n",
       "      <td>898.000000</td>\n",
       "      <td>...</td>\n",
       "      <td>898.000000</td>\n",
       "      <td>898.000000</td>\n",
       "      <td>898.000000</td>\n",
       "      <td>898.000000</td>\n",
       "      <td>898.000000</td>\n",
       "      <td>898.000000</td>\n",
       "      <td>898.000000</td>\n",
       "      <td>898.000000</td>\n",
       "      <td>898.000000</td>\n",
       "      <td>898.000000</td>\n",
       "    </tr>\n",
       "    <tr>\n",
       "      <th>mean</th>\n",
       "      <td>0.495343</td>\n",
       "      <td>0.790646</td>\n",
       "      <td>0.236080</td>\n",
       "      <td>0.303949</td>\n",
       "      <td>0.242219</td>\n",
       "      <td>0.0</td>\n",
       "      <td>0.0</td>\n",
       "      <td>0.0</td>\n",
       "      <td>0.351132</td>\n",
       "      <td>0.353007</td>\n",
       "      <td>...</td>\n",
       "      <td>0.170379</td>\n",
       "      <td>0.043430</td>\n",
       "      <td>0.461024</td>\n",
       "      <td>0.538976</td>\n",
       "      <td>0.160356</td>\n",
       "      <td>0.162584</td>\n",
       "      <td>0.171492</td>\n",
       "      <td>0.164811</td>\n",
       "      <td>0.172606</td>\n",
       "      <td>0.168151</td>\n",
       "    </tr>\n",
       "    <tr>\n",
       "      <th>std</th>\n",
       "      <td>0.326949</td>\n",
       "      <td>0.273334</td>\n",
       "      <td>0.222288</td>\n",
       "      <td>0.226984</td>\n",
       "      <td>0.272072</td>\n",
       "      <td>0.0</td>\n",
       "      <td>0.0</td>\n",
       "      <td>0.0</td>\n",
       "      <td>0.253041</td>\n",
       "      <td>0.478171</td>\n",
       "      <td>...</td>\n",
       "      <td>0.376175</td>\n",
       "      <td>0.203936</td>\n",
       "      <td>0.498756</td>\n",
       "      <td>0.498756</td>\n",
       "      <td>0.367141</td>\n",
       "      <td>0.369191</td>\n",
       "      <td>0.377149</td>\n",
       "      <td>0.371216</td>\n",
       "      <td>0.378117</td>\n",
       "      <td>0.374209</td>\n",
       "    </tr>\n",
       "    <tr>\n",
       "      <th>min</th>\n",
       "      <td>0.000000</td>\n",
       "      <td>0.000000</td>\n",
       "      <td>0.000000</td>\n",
       "      <td>0.000000</td>\n",
       "      <td>0.000000</td>\n",
       "      <td>0.0</td>\n",
       "      <td>0.0</td>\n",
       "      <td>0.0</td>\n",
       "      <td>0.000000</td>\n",
       "      <td>0.000000</td>\n",
       "      <td>...</td>\n",
       "      <td>0.000000</td>\n",
       "      <td>0.000000</td>\n",
       "      <td>0.000000</td>\n",
       "      <td>0.000000</td>\n",
       "      <td>0.000000</td>\n",
       "      <td>0.000000</td>\n",
       "      <td>0.000000</td>\n",
       "      <td>0.000000</td>\n",
       "      <td>0.000000</td>\n",
       "      <td>0.000000</td>\n",
       "    </tr>\n",
       "    <tr>\n",
       "      <th>25%</th>\n",
       "      <td>0.181818</td>\n",
       "      <td>0.500000</td>\n",
       "      <td>0.022638</td>\n",
       "      <td>0.095238</td>\n",
       "      <td>0.000000</td>\n",
       "      <td>0.0</td>\n",
       "      <td>0.0</td>\n",
       "      <td>0.0</td>\n",
       "      <td>0.080460</td>\n",
       "      <td>0.000000</td>\n",
       "      <td>...</td>\n",
       "      <td>0.000000</td>\n",
       "      <td>0.000000</td>\n",
       "      <td>0.000000</td>\n",
       "      <td>0.000000</td>\n",
       "      <td>0.000000</td>\n",
       "      <td>0.000000</td>\n",
       "      <td>0.000000</td>\n",
       "      <td>0.000000</td>\n",
       "      <td>0.000000</td>\n",
       "      <td>0.000000</td>\n",
       "    </tr>\n",
       "    <tr>\n",
       "      <th>50%</th>\n",
       "      <td>0.454545</td>\n",
       "      <td>1.000000</td>\n",
       "      <td>0.189595</td>\n",
       "      <td>0.261905</td>\n",
       "      <td>0.193277</td>\n",
       "      <td>0.0</td>\n",
       "      <td>0.0</td>\n",
       "      <td>0.0</td>\n",
       "      <td>0.344828</td>\n",
       "      <td>0.000000</td>\n",
       "      <td>...</td>\n",
       "      <td>0.000000</td>\n",
       "      <td>0.000000</td>\n",
       "      <td>0.000000</td>\n",
       "      <td>1.000000</td>\n",
       "      <td>0.000000</td>\n",
       "      <td>0.000000</td>\n",
       "      <td>0.000000</td>\n",
       "      <td>0.000000</td>\n",
       "      <td>0.000000</td>\n",
       "      <td>0.000000</td>\n",
       "    </tr>\n",
       "    <tr>\n",
       "      <th>75%</th>\n",
       "      <td>0.818182</td>\n",
       "      <td>1.000000</td>\n",
       "      <td>0.427079</td>\n",
       "      <td>0.460317</td>\n",
       "      <td>0.420168</td>\n",
       "      <td>0.0</td>\n",
       "      <td>0.0</td>\n",
       "      <td>0.0</td>\n",
       "      <td>0.632184</td>\n",
       "      <td>1.000000</td>\n",
       "      <td>...</td>\n",
       "      <td>0.000000</td>\n",
       "      <td>0.000000</td>\n",
       "      <td>1.000000</td>\n",
       "      <td>1.000000</td>\n",
       "      <td>0.000000</td>\n",
       "      <td>0.000000</td>\n",
       "      <td>0.000000</td>\n",
       "      <td>0.000000</td>\n",
       "      <td>0.000000</td>\n",
       "      <td>0.000000</td>\n",
       "    </tr>\n",
       "    <tr>\n",
       "      <th>max</th>\n",
       "      <td>1.000000</td>\n",
       "      <td>1.000000</td>\n",
       "      <td>1.000000</td>\n",
       "      <td>1.000000</td>\n",
       "      <td>1.000000</td>\n",
       "      <td>0.0</td>\n",
       "      <td>0.0</td>\n",
       "      <td>0.0</td>\n",
       "      <td>1.000000</td>\n",
       "      <td>1.000000</td>\n",
       "      <td>...</td>\n",
       "      <td>1.000000</td>\n",
       "      <td>1.000000</td>\n",
       "      <td>1.000000</td>\n",
       "      <td>1.000000</td>\n",
       "      <td>1.000000</td>\n",
       "      <td>1.000000</td>\n",
       "      <td>1.000000</td>\n",
       "      <td>1.000000</td>\n",
       "      <td>1.000000</td>\n",
       "      <td>1.000000</td>\n",
       "    </tr>\n",
       "  </tbody>\n",
       "</table>\n",
       "<p>8 rows × 22 columns</p>\n",
       "</div>"
      ],
      "text/plain": [
       "             team  targeted_productivity         smv   over_time   incentive  \\\n",
       "count  898.000000             898.000000  898.000000  898.000000  898.000000   \n",
       "mean     0.495343               0.790646    0.236080    0.303949    0.242219   \n",
       "std      0.326949               0.273334    0.222288    0.226984    0.272072   \n",
       "min      0.000000               0.000000    0.000000    0.000000    0.000000   \n",
       "25%      0.181818               0.500000    0.022638    0.095238    0.000000   \n",
       "50%      0.454545               1.000000    0.189595    0.261905    0.193277   \n",
       "75%      0.818182               1.000000    0.427079    0.460317    0.420168   \n",
       "max      1.000000               1.000000    1.000000    1.000000    1.000000   \n",
       "\n",
       "       idle_time  idle_men  no_of_style_change  no_of_workers  \\\n",
       "count      898.0     898.0               898.0     898.000000   \n",
       "mean         0.0       0.0                 0.0       0.351132   \n",
       "std          0.0       0.0                 0.0       0.253041   \n",
       "min          0.0       0.0                 0.0       0.000000   \n",
       "25%          0.0       0.0                 0.0       0.080460   \n",
       "50%          0.0       0.0                 0.0       0.344828   \n",
       "75%          0.0       0.0                 0.0       0.632184   \n",
       "max          0.0       0.0                 0.0       1.000000   \n",
       "\n",
       "       quarter_Quarter1  ...  quarter_Quarter4  quarter_Quarter5  \\\n",
       "count        898.000000  ...        898.000000        898.000000   \n",
       "mean           0.353007  ...          0.170379          0.043430   \n",
       "std            0.478171  ...          0.376175          0.203936   \n",
       "min            0.000000  ...          0.000000          0.000000   \n",
       "25%            0.000000  ...          0.000000          0.000000   \n",
       "50%            0.000000  ...          0.000000          0.000000   \n",
       "75%            1.000000  ...          0.000000          0.000000   \n",
       "max            1.000000  ...          1.000000          1.000000   \n",
       "\n",
       "       department_finishing  department_sweing  day_Monday  day_Saturday  \\\n",
       "count            898.000000         898.000000  898.000000    898.000000   \n",
       "mean               0.461024           0.538976    0.160356      0.162584   \n",
       "std                0.498756           0.498756    0.367141      0.369191   \n",
       "min                0.000000           0.000000    0.000000      0.000000   \n",
       "25%                0.000000           0.000000    0.000000      0.000000   \n",
       "50%                0.000000           1.000000    0.000000      0.000000   \n",
       "75%                1.000000           1.000000    0.000000      0.000000   \n",
       "max                1.000000           1.000000    1.000000      1.000000   \n",
       "\n",
       "       day_Sunday  day_Thursday  day_Tuesday  day_Wednesday  \n",
       "count  898.000000    898.000000   898.000000     898.000000  \n",
       "mean     0.171492      0.164811     0.172606       0.168151  \n",
       "std      0.377149      0.371216     0.378117       0.374209  \n",
       "min      0.000000      0.000000     0.000000       0.000000  \n",
       "25%      0.000000      0.000000     0.000000       0.000000  \n",
       "50%      0.000000      0.000000     0.000000       0.000000  \n",
       "75%      0.000000      0.000000     0.000000       0.000000  \n",
       "max      1.000000      1.000000     1.000000       1.000000  \n",
       "\n",
       "[8 rows x 22 columns]"
      ]
     },
     "execution_count": 71,
     "metadata": {},
     "output_type": "execute_result"
    }
   ],
   "source": [
    "X.describe()"
   ]
  },
  {
   "cell_type": "code",
   "execution_count": 72,
   "id": "ec0768b3",
   "metadata": {},
   "outputs": [],
   "source": [
    "# Step 8: Train-test split\n",
    "X_train, X_test, y_train, y_test = train_test_split(X, y, test_size=0.2, random_state=42)"
   ]
  },
  {
   "cell_type": "code",
   "execution_count": 73,
   "id": "21b09ca0",
   "metadata": {},
   "outputs": [
    {
     "name": "stdout",
     "output_type": "stream",
     "text": [
      "(718, 22)\n",
      "(180, 22)\n",
      "(718,)\n",
      "(180,)\n"
     ]
    }
   ],
   "source": [
    "print(X_train.shape)\n",
    "print(X_test.shape)\n",
    "print(y_train.shape) \n",
    "print(y_test.shape)"
   ]
  },
  {
   "cell_type": "code",
   "execution_count": 74,
   "id": "4ce00bec",
   "metadata": {},
   "outputs": [],
   "source": [
    "# Step 9: Observations after preprocessing\n",
    "# - Date and wip columns have been removed.\n",
    "# - Inconsistency in Department categories has been rectified\n",
    "# - Numeric and categorical features have been separated into X and y, respectively.\n",
    "# - Numeric columns have been rescaled\n",
    "# - Category columns have been one-hot encoded to be used in the model.\n",
    "# - The dataset has been split into train and test sets for model evaluation."
   ]
  },
  {
   "cell_type": "markdown",
   "id": "be5ab01b",
   "metadata": {},
   "source": [
    "# KNN Regression"
   ]
  },
  {
   "cell_type": "code",
   "execution_count": 75,
   "id": "ca1f0766",
   "metadata": {},
   "outputs": [],
   "source": [
    "# Train the model with different K values and calculate MAPE scores using CV"
   ]
  },
  {
   "cell_type": "code",
   "execution_count": 76,
   "id": "a0f01a98",
   "metadata": {},
   "outputs": [],
   "source": [
    "def find_mape(y,y_pred):\n",
    "    return np.mean(((np.abs(y-y_pred)/y)))"
   ]
  },
  {
   "cell_type": "code",
   "execution_count": 77,
   "id": "ef1764df",
   "metadata": {},
   "outputs": [],
   "source": [
    "def test_holdout(k_list,X_train, X_test, y_train, y_test):\n",
    "    train_mape_scores=[]\n",
    "    test_mape_scores=[]\n",
    "    for k in k_list:\n",
    "        knn = KNeighborsRegressor(n_neighbors=k)\n",
    "        knn.fit(X_train,y_train)\n",
    "        y_train_pred = knn.predict(X_train)\n",
    "        train_mape = find_mape(y_train, y_train_pred)\n",
    "        train_mape_scores.append(train_mape)\n",
    "        y_test_pred = knn.predict(X_test)\n",
    "        test_mape = find_mape(y_test,y_test_pred)\n",
    "        test_mape_scores.append(test_mape)\n",
    "    best_k = k_list[np.argmin(test_mape_scores)]\n",
    "    print(\"best k with holdout test is {0} and minimum test score is {1}\".format(best_k,np.min(test_mape_scores)))\n",
    "    return best_k,train_mape_scores,test_mape_scores"
   ]
  },
  {
   "cell_type": "code",
   "execution_count": 78,
   "id": "3ab29305",
   "metadata": {},
   "outputs": [],
   "source": [
    "def cross_validation(X,y):\n",
    "    cv_mape_scores=[]\n",
    "    for k in k_list:\n",
    "        knn = KNeighborsRegressor(n_neighbors = k)\n",
    "        cv_scores = -cross_val_score(knn,X,y,cv=5,scoring='neg_mean_absolute_percentage_error')\n",
    "        #print(\"for k = {}, cv_scores = {}\".format(k,cv_scores))\n",
    "        cv_mape = np.mean(cv_scores)\n",
    "        cv_mape_scores.append(cv_mape)\n",
    "    best_k_CV = k_list[np.argmin(cv_mape_scores)]\n",
    "    print(\"best k with cross validation is {0} and minimum test score is {1}\".format(best_k_CV,np.min(cv_mape_scores)))\n",
    "    return best_k_CV,cv_mape_scores"
   ]
  },
  {
   "cell_type": "code",
   "execution_count": 79,
   "id": "89e9cbbe",
   "metadata": {},
   "outputs": [],
   "source": [
    "# user defined function for Cross Validation \n",
    "def custom_cross_validation(X,y,no_of_fold):\n",
    "    warnings.filterwarnings('ignore', category=UserWarning)\n",
    "    fold_size=len(X)//no_of_fold\n",
    "    cv_mape_scores = []\n",
    "    for k in k_list: \n",
    "        knn = KNeighborsRegressor(n_neighbors = k)\n",
    "        scores = []\n",
    "        for i in range(no_of_fold):\n",
    "            start = i * fold_size\n",
    "            end = (i + 1) * fold_size\n",
    "            X_test_fold = X[start:end]\n",
    "            y_test_fold = y[start:end]\n",
    "\n",
    "            X_train_fold = np.concatenate([X[:start], X[end:]])\n",
    "            y_train_fold = np.concatenate([y[:start], y[end:]])\n",
    "\n",
    "            # Fit the model on the training data\n",
    "            knn.fit(X_train_fold, y_train_fold)\n",
    "\n",
    "            # Make predictions and calculate a custom score on the test data\n",
    "            predictions = knn.predict(X_test_fold)\n",
    "            custom_score = find_mape(predictions,y_test_fold)\n",
    "            scores.append(custom_score)\n",
    "        cv_mape_scores.append(np.mean(scores))\n",
    "    \n",
    "    # Calculate and return the average score\n",
    "    best_k_CV = k_list[np.argmin(cv_mape_scores)]\n",
    "    print(\"best k with Custom cross validation is {0} and minimum test score is {1}\".format(best_k_CV,np.min(cv_mape_scores)))\n",
    "    return best_k_CV,cv_mape_scores    \n",
    "        \n",
    "    "
   ]
  },
  {
   "cell_type": "code",
   "execution_count": 80,
   "id": "e1b592ed",
   "metadata": {},
   "outputs": [
    {
     "name": "stdout",
     "output_type": "stream",
     "text": [
      "Starting test with Hold Out Data\n",
      "------------------------------------------\n",
      "best k with holdout test is 9 and minimum test score is 0.1052761620975954\n",
      "\n",
      "\n",
      "Starting test Cross-Validation\n",
      "------------------------------------------\n",
      "best k with cross validation is 9 and minimum test score is 0.11632754551643502\n",
      "\n",
      "\n",
      "Starting test with Custom Cross-Validation\n",
      "------------------------------------------\n",
      "best k with Custom cross validation is 9 and minimum test score is 0.10953729743745884\n"
     ]
    }
   ],
   "source": [
    "#validate_hold_out(X_train,X_test,y_train,y_test)\n",
    "k_list=np.arange(1,10,2)\n",
    "print(\"Starting test with Hold Out Data\")\n",
    "print(\"------------------------------------------\")\n",
    "best_k,train_mape_scores,test_mape_scores = test_holdout(k_list,X_train,X_test,y_train,y_test)\n",
    "print(\"\\n\")\n",
    "print(\"Starting test Cross-Validation\")\n",
    "print(\"------------------------------------------\")\n",
    "best_k_CV,cv_mape_scores= cross_validation(X,y)\n",
    "print(\"\\n\")\n",
    "print(\"Starting test with Custom Cross-Validation\")\n",
    "print(\"------------------------------------------\")\n",
    "best_k_CV_custom,cv_mape_scores_custom = custom_cross_validation( X, y, 5)\n"
   ]
  },
  {
   "cell_type": "code",
   "execution_count": 81,
   "id": "bc003662",
   "metadata": {},
   "outputs": [
    {
     "data": {
      "image/png": "[encoded data removed]",
      "text/plain": [
       "<Figure size 1000x600 with 1 Axes>"
      ]
     },
     "metadata": {},
     "output_type": "display_data"
    }
   ],
   "source": [
    "#plot CV MAPE, Train MAPE, Test MAPE for different values of K\n",
    "plt.figure(figsize=(10,6))\n",
    "plt.plot(k_list,cv_mape_scores,label='CV MAPE', marker='o')\n",
    "plt.plot(k_list,train_mape_scores,label='Train  MAPE', marker='s')\n",
    "plt.plot(k_list,test_mape_scores,label='Test MAPE', marker='x')\n",
    "plt.plot(k_list,cv_mape_scores_custom,label='Custom CV MAPE', marker='^')\n",
    "plt.xlabel('k')\n",
    "plt.ylabel('MAPE Score')\n",
    "plt.title('MAPE Scores for differentk values in KNN Regressor')\n",
    "plt.legend()\n",
    "plt.grid(True)\n",
    "plt.show()\n",
    "\n"
   ]
  },
  {
   "cell_type": "markdown",
   "id": "097caf11",
   "metadata": {},
   "source": [
    "### CUSTOM IMPLEMENTATION OF KNN"
   ]
  },
  {
   "cell_type": "code",
   "execution_count": 82,
   "id": "33489749",
   "metadata": {},
   "outputs": [],
   "source": [
    "# function to compute euclidean distance\n",
    "def euclidean_distance(row1, row2):\n",
    "    return np.linalg.norm(row1 - row2)"
   ]
  },
  {
   "cell_type": "code",
   "execution_count": 83,
   "id": "a6aa80a1",
   "metadata": {},
   "outputs": [],
   "source": [
    "#custom function to implement KNN\n",
    "def knn(X_train,X_test,y_train,k):\n",
    "    mape_list = []\n",
    "    y_pred_list = []\n",
    "    \n",
    "    for idx, test_row in X_test.iterrows():        \n",
    "        distances = []\n",
    "        for index,row in X_train.iterrows():\n",
    "            distance = euclidean_distance(test_row,row)\n",
    "            distances.append([distance,y_train[index]])\n",
    "        distances.sort(key=lambda x: x[0])\n",
    "        neighbors=distances[:k]\n",
    "        target_values = np.take(np.array(neighbors),1,axis=1) #select only corresponding y_train values from nested list\n",
    "        pred_val=np.mean(target_values)\n",
    "        y_pred_list.append(pred_val)\n",
    "    #mape = find_mape(y_test,y_pred_list)\n",
    "    #mape_list.append(mape)\n",
    "    \n",
    "    return y_pred_list"
   ]
  },
  {
   "cell_type": "code",
   "execution_count": 84,
   "id": "3c231b6f",
   "metadata": {},
   "outputs": [],
   "source": [
    "#calling custom functions for KNN\n",
    "test_mape_scores=[]\n",
    "train_mape_scores=[]\n",
    "for k in k_list:\n",
    "    y_pred_test =knn(X_train,X_test,y_train,k)\n",
    "    y_pred_train =knn(X_train,X_train,y_train,k)\n",
    "    test_mape = find_mape(y_test,y_pred_test)\n",
    "    test_mape_scores.append(test_mape)\n",
    "    train_mape = find_mape(y_train,y_pred_train)\n",
    "    train_mape_scores.append(train_mape)\n"
   ]
  },
  {
   "cell_type": "code",
   "execution_count": 85,
   "id": "73473f03",
   "metadata": {},
   "outputs": [
    {
     "name": "stdout",
     "output_type": "stream",
     "text": [
      "best k with Custom KNN implementation is 9 and minimum test score is 0.10527086352314387\n"
     ]
    }
   ],
   "source": [
    "best_k = k_list[np.argmin(test_mape_scores)]\n",
    "print(\"best k with Custom KNN implementation is {0} and minimum test score is {1}\".format(best_k,np.min(test_mape_scores)))"
   ]
  },
  {
   "cell_type": "code",
   "execution_count": 86,
   "id": "46f5516f",
   "metadata": {},
   "outputs": [
    {
     "data": {
      "image/png": "[encoded data removed]",
      "text/plain": [
       "<Figure size 1000x600 with 1 Axes>"
      ]
     },
     "metadata": {},
     "output_type": "display_data"
    }
   ],
   "source": [
    "#plot with custom KNN function\n",
    "plt.figure(figsize=(10, 6))\n",
    "#plt.plot(k_values, train_mape_scores, marker='o', label='Train MAPE')\n",
    "plt.plot(k_list, train_mape_scores, marker='o', label='Train MAPE')\n",
    "plt.plot(k_list, test_mape_scores, marker='o', label='Test MAPE')\n",
    "plt.xlabel('K value')\n",
    "plt.ylabel('MAPE Score')\n",
    "plt.title('MAPE Scores for different K values in KNN Regressor')\n",
    "plt.legend()\n",
    "plt.grid(True)\n",
    "plt.show()"
   ]
  },
  {
   "cell_type": "code",
   "execution_count": 87,
   "id": "d4863647",
   "metadata": {},
   "outputs": [],
   "source": [
    "#Results of custom Knn implementation is similar to the results from standard implementation from sklearn, Optimum K value is 9"
   ]
  },
  {
   "cell_type": "code",
   "execution_count": 88,
   "id": "16672cf7",
   "metadata": {},
   "outputs": [],
   "source": [
    "# Inference:\n",
    "# - best k with holdout test is 9 and minimum test score is 0.1052761620975954\n",
    "# - best k with cross validation is 9 and minimum test score is 0.11632754551643502\n"
   ]
  }
 ],
 "metadata": {
  "kernelspec": {
   "display_name": "Python 3 (ipykernel)",
   "language": "python",
   "name": "python3"
  },
  "language_info": {
   "codemirror_mode": {
    "name": "ipython",
    "version": 3
   },
   "file_extension": ".py",
   "mimetype": "text/x-python",
   "name": "python",
   "nbconvert_exporter": "python",
   "pygments_lexer": "ipython3",
   "version": "3.11.3"
  }
 },
 "nbformat": 4,
 "nbformat_minor": 5
}
