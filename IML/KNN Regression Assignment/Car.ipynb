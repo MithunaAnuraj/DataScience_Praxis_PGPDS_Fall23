{
 "cells": [
  {
   "cell_type": "code",
   "execution_count": 1,
   "id": "ffc39672",
   "metadata": {},
   "outputs": [],
   "source": [
    "import pandas as pd\n",
    "import numpy as np\n",
    "import seaborn as sns\n",
    "import matplotlib.pyplot as plt\n",
    "from sklearn.model_selection import train_test_split,cross_val_score\n",
    "from sklearn.preprocessing import MinMaxScaler\n",
    "from sklearn.neighbors import KNeighborsRegressor\n",
    "from sklearn.metrics import mean_absolute_percentage_error\n",
    "from math import sqrt\n",
    "import warnings"
   ]
  },
  {
   "cell_type": "markdown",
   "id": "d4930e5c",
   "metadata": {},
   "source": [
    "# Exploratory Data Analysis"
   ]
  },
  {
   "cell_type": "code",
   "execution_count": 75,
   "id": "c2d27671",
   "metadata": {},
   "outputs": [],
   "source": [
    "# Step 1: Read the dataset and basic dataframe exploration\n",
    "df = pd.read_csv('car.csv')"
   ]
  },
  {
   "cell_type": "code",
   "execution_count": 76,
   "id": "60789007",
   "metadata": {},
   "outputs": [
    {
     "data": {
      "text/html": [
       "<div>\n",
       "<style scoped>\n",
       "    .dataframe tbody tr th:only-of-type {\n",
       "        vertical-align: middle;\n",
       "    }\n",
       "\n",
       "    .dataframe tbody tr th {\n",
       "        vertical-align: top;\n",
       "    }\n",
       "\n",
       "    .dataframe thead th {\n",
       "        text-align: right;\n",
       "    }\n",
       "</style>\n",
       "<table border=\"1\" class=\"dataframe\">\n",
       "  <thead>\n",
       "    <tr style=\"text-align: right;\">\n",
       "      <th></th>\n",
       "      <th>Unnamed: 0</th>\n",
       "      <th>Manuf</th>\n",
       "      <th>Model</th>\n",
       "      <th>Desc</th>\n",
       "      <th>Engine_Capacity</th>\n",
       "      <th>Fuel_Type</th>\n",
       "      <th>Powertrain</th>\n",
       "      <th>Euro_Standard</th>\n",
       "      <th>Diesel_VED_Supplement</th>\n",
       "      <th>Fuel_Cost</th>\n",
       "      <th>Electric_Cost</th>\n",
       "      <th>Total_Cost</th>\n",
       "      <th>Noise_Level</th>\n",
       "    </tr>\n",
       "  </thead>\n",
       "  <tbody>\n",
       "    <tr>\n",
       "      <th>0</th>\n",
       "      <td>0</td>\n",
       "      <td>ABARTH</td>\n",
       "      <td>595</td>\n",
       "      <td>595 1.4 145 BHP Convertible</td>\n",
       "      <td>1368</td>\n",
       "      <td>Petrol</td>\n",
       "      <td>Internal Combustion Engine (ICE)</td>\n",
       "      <td>Euro 6d-TEMP</td>\n",
       "      <td>False</td>\n",
       "      <td>£1,935</td>\n",
       "      <td>£0</td>\n",
       "      <td>£1,935</td>\n",
       "      <td>73.5</td>\n",
       "    </tr>\n",
       "    <tr>\n",
       "      <th>1</th>\n",
       "      <td>1</td>\n",
       "      <td>ABARTH</td>\n",
       "      <td>595</td>\n",
       "      <td>595 1.4 145 BHP Convertible</td>\n",
       "      <td>1368</td>\n",
       "      <td>Petrol</td>\n",
       "      <td>Internal Combustion Engine (ICE)</td>\n",
       "      <td>Euro 6d-TEMP</td>\n",
       "      <td>False</td>\n",
       "      <td>£2,043</td>\n",
       "      <td>£0</td>\n",
       "      <td>£2,043</td>\n",
       "      <td>73.5</td>\n",
       "    </tr>\n",
       "    <tr>\n",
       "      <th>2</th>\n",
       "      <td>2</td>\n",
       "      <td>ABARTH</td>\n",
       "      <td>595</td>\n",
       "      <td>595 1.4 145 BHP Hatchback</td>\n",
       "      <td>1368</td>\n",
       "      <td>Petrol</td>\n",
       "      <td>Internal Combustion Engine (ICE)</td>\n",
       "      <td>Euro 6d-TEMP</td>\n",
       "      <td>False</td>\n",
       "      <td>£1,935</td>\n",
       "      <td>£0</td>\n",
       "      <td>£1,935</td>\n",
       "      <td>73.5</td>\n",
       "    </tr>\n",
       "    <tr>\n",
       "      <th>3</th>\n",
       "      <td>3</td>\n",
       "      <td>ABARTH</td>\n",
       "      <td>595</td>\n",
       "      <td>595 1.4 145 BHP Hatchback</td>\n",
       "      <td>1368</td>\n",
       "      <td>Petrol</td>\n",
       "      <td>Internal Combustion Engine (ICE)</td>\n",
       "      <td>Euro 6d-TEMP</td>\n",
       "      <td>False</td>\n",
       "      <td>£2,043</td>\n",
       "      <td>£0</td>\n",
       "      <td>£2,043</td>\n",
       "      <td>73.5</td>\n",
       "    </tr>\n",
       "    <tr>\n",
       "      <th>4</th>\n",
       "      <td>4</td>\n",
       "      <td>ABARTH</td>\n",
       "      <td>595</td>\n",
       "      <td>595 1.4 TJET 145bhp</td>\n",
       "      <td>1368</td>\n",
       "      <td>Petrol</td>\n",
       "      <td>Internal Combustion Engine (ICE)</td>\n",
       "      <td>Euro 6d</td>\n",
       "      <td>False</td>\n",
       "      <td>£1,828</td>\n",
       "      <td>£0</td>\n",
       "      <td>£1,828</td>\n",
       "      <td>74.0</td>\n",
       "    </tr>\n",
       "  </tbody>\n",
       "</table>\n",
       "</div>"
      ],
      "text/plain": [
       "   Unnamed: 0   Manuf Model                         Desc  Engine_Capacity  \\\n",
       "0           0  ABARTH   595  595 1.4 145 BHP Convertible             1368   \n",
       "1           1  ABARTH   595  595 1.4 145 BHP Convertible             1368   \n",
       "2           2  ABARTH   595    595 1.4 145 BHP Hatchback             1368   \n",
       "3           3  ABARTH   595    595 1.4 145 BHP Hatchback             1368   \n",
       "4           4  ABARTH   595          595 1.4 TJET 145bhp             1368   \n",
       "\n",
       "  Fuel_Type                        Powertrain Euro_Standard  \\\n",
       "0    Petrol  Internal Combustion Engine (ICE)  Euro 6d-TEMP   \n",
       "1    Petrol  Internal Combustion Engine (ICE)  Euro 6d-TEMP   \n",
       "2    Petrol  Internal Combustion Engine (ICE)  Euro 6d-TEMP   \n",
       "3    Petrol  Internal Combustion Engine (ICE)  Euro 6d-TEMP   \n",
       "4    Petrol  Internal Combustion Engine (ICE)       Euro 6d   \n",
       "\n",
       "   Diesel_VED_Supplement Fuel_Cost Electric_Cost Total_Cost  Noise_Level  \n",
       "0                  False    £1,935            £0     £1,935         73.5  \n",
       "1                  False    £2,043            £0     £2,043         73.5  \n",
       "2                  False    £1,935            £0     £1,935         73.5  \n",
       "3                  False    £2,043            £0     £2,043         73.5  \n",
       "4                  False    £1,828            £0     £1,828         74.0  "
      ]
     },
     "execution_count": 76,
     "metadata": {},
     "output_type": "execute_result"
    }
   ],
   "source": [
    "df.head()"
   ]
  },
  {
   "cell_type": "code",
   "execution_count": 4,
   "id": "34423aa0",
   "metadata": {},
   "outputs": [],
   "source": [
    "# there are a mix of categorical and numeric columns\n",
    "# label column is Total_Cost\n",
    "# columns Unnamed,Desc,Diesel_VED_Supplement may be removed"
   ]
  },
  {
   "cell_type": "code",
   "execution_count": 77,
   "id": "daf53ba5",
   "metadata": {},
   "outputs": [
    {
     "data": {
      "text/plain": [
       "(4625, 13)"
      ]
     },
     "execution_count": 77,
     "metadata": {},
     "output_type": "execute_result"
    }
   ],
   "source": [
    "df.shape"
   ]
  },
  {
   "cell_type": "code",
   "execution_count": 78,
   "id": "a37af050",
   "metadata": {},
   "outputs": [],
   "source": [
    "# there are 4625 observations and 13 features"
   ]
  },
  {
   "cell_type": "code",
   "execution_count": 79,
   "id": "97b26119",
   "metadata": {},
   "outputs": [
    {
     "data": {
      "text/plain": [
       "Unnamed: 0                 int64\n",
       "Manuf                     object\n",
       "Model                     object\n",
       "Desc                      object\n",
       "Engine_Capacity            int64\n",
       "Fuel_Type                 object\n",
       "Powertrain                object\n",
       "Euro_Standard             object\n",
       "Diesel_VED_Supplement       bool\n",
       "Fuel_Cost                 object\n",
       "Electric_Cost             object\n",
       "Total_Cost                object\n",
       "Noise_Level              float64\n",
       "dtype: object"
      ]
     },
     "execution_count": 79,
     "metadata": {},
     "output_type": "execute_result"
    }
   ],
   "source": [
    "df.dtypes"
   ]
  },
  {
   "cell_type": "code",
   "execution_count": 8,
   "id": "2b2d73b8",
   "metadata": {},
   "outputs": [],
   "source": [
    "# columns Electric_Cost,Total_Cost,Fuel_Cost has to be converted to float\n",
    "# some columns require encoding as they are categorical"
   ]
  },
  {
   "cell_type": "code",
   "execution_count": 9,
   "id": "5bd800bb",
   "metadata": {},
   "outputs": [],
   "source": [
    "# Converting columns Electric_Cost,Total_Cost,Fuel_Cost  to float in eda itself as it is important for eda of these columns"
   ]
  },
  {
   "cell_type": "code",
   "execution_count": 80,
   "id": "edef7796",
   "metadata": {},
   "outputs": [],
   "source": [
    "df['Electric_Cost'] = pd.to_numeric(df['Electric_Cost'].astype(str).str.replace('£', '').str.replace(',', ''), errors='coerce')\n",
    "df['Total_Cost'] = pd.to_numeric(df['Total_Cost'].astype(str).str.replace('£', '').str.replace(',', ''), errors='coerce')\n",
    "df['Fuel_Cost'] = pd.to_numeric(df['Fuel_Cost'].astype(str).str.replace('£', '').str.replace(',', ''), errors='coerce')"
   ]
  },
  {
   "cell_type": "code",
   "execution_count": 81,
   "id": "6ad7a53a",
   "metadata": {},
   "outputs": [
    {
     "data": {
      "text/html": [
       "<div>\n",
       "<style scoped>\n",
       "    .dataframe tbody tr th:only-of-type {\n",
       "        vertical-align: middle;\n",
       "    }\n",
       "\n",
       "    .dataframe tbody tr th {\n",
       "        vertical-align: top;\n",
       "    }\n",
       "\n",
       "    .dataframe thead th {\n",
       "        text-align: right;\n",
       "    }\n",
       "</style>\n",
       "<table border=\"1\" class=\"dataframe\">\n",
       "  <thead>\n",
       "    <tr style=\"text-align: right;\">\n",
       "      <th></th>\n",
       "      <th>Unnamed: 0</th>\n",
       "      <th>Manuf</th>\n",
       "      <th>Model</th>\n",
       "      <th>Desc</th>\n",
       "      <th>Engine_Capacity</th>\n",
       "      <th>Fuel_Type</th>\n",
       "      <th>Powertrain</th>\n",
       "      <th>Euro_Standard</th>\n",
       "      <th>Diesel_VED_Supplement</th>\n",
       "      <th>Fuel_Cost</th>\n",
       "      <th>Electric_Cost</th>\n",
       "      <th>Total_Cost</th>\n",
       "      <th>Noise_Level</th>\n",
       "    </tr>\n",
       "  </thead>\n",
       "  <tbody>\n",
       "    <tr>\n",
       "      <th>0</th>\n",
       "      <td>0</td>\n",
       "      <td>ABARTH</td>\n",
       "      <td>595</td>\n",
       "      <td>595 1.4 145 BHP Convertible</td>\n",
       "      <td>1368</td>\n",
       "      <td>Petrol</td>\n",
       "      <td>Internal Combustion Engine (ICE)</td>\n",
       "      <td>Euro 6d-TEMP</td>\n",
       "      <td>False</td>\n",
       "      <td>1935</td>\n",
       "      <td>0</td>\n",
       "      <td>1935</td>\n",
       "      <td>73.5</td>\n",
       "    </tr>\n",
       "    <tr>\n",
       "      <th>1</th>\n",
       "      <td>1</td>\n",
       "      <td>ABARTH</td>\n",
       "      <td>595</td>\n",
       "      <td>595 1.4 145 BHP Convertible</td>\n",
       "      <td>1368</td>\n",
       "      <td>Petrol</td>\n",
       "      <td>Internal Combustion Engine (ICE)</td>\n",
       "      <td>Euro 6d-TEMP</td>\n",
       "      <td>False</td>\n",
       "      <td>2043</td>\n",
       "      <td>0</td>\n",
       "      <td>2043</td>\n",
       "      <td>73.5</td>\n",
       "    </tr>\n",
       "    <tr>\n",
       "      <th>2</th>\n",
       "      <td>2</td>\n",
       "      <td>ABARTH</td>\n",
       "      <td>595</td>\n",
       "      <td>595 1.4 145 BHP Hatchback</td>\n",
       "      <td>1368</td>\n",
       "      <td>Petrol</td>\n",
       "      <td>Internal Combustion Engine (ICE)</td>\n",
       "      <td>Euro 6d-TEMP</td>\n",
       "      <td>False</td>\n",
       "      <td>1935</td>\n",
       "      <td>0</td>\n",
       "      <td>1935</td>\n",
       "      <td>73.5</td>\n",
       "    </tr>\n",
       "    <tr>\n",
       "      <th>3</th>\n",
       "      <td>3</td>\n",
       "      <td>ABARTH</td>\n",
       "      <td>595</td>\n",
       "      <td>595 1.4 145 BHP Hatchback</td>\n",
       "      <td>1368</td>\n",
       "      <td>Petrol</td>\n",
       "      <td>Internal Combustion Engine (ICE)</td>\n",
       "      <td>Euro 6d-TEMP</td>\n",
       "      <td>False</td>\n",
       "      <td>2043</td>\n",
       "      <td>0</td>\n",
       "      <td>2043</td>\n",
       "      <td>73.5</td>\n",
       "    </tr>\n",
       "    <tr>\n",
       "      <th>4</th>\n",
       "      <td>4</td>\n",
       "      <td>ABARTH</td>\n",
       "      <td>595</td>\n",
       "      <td>595 1.4 TJET 145bhp</td>\n",
       "      <td>1368</td>\n",
       "      <td>Petrol</td>\n",
       "      <td>Internal Combustion Engine (ICE)</td>\n",
       "      <td>Euro 6d</td>\n",
       "      <td>False</td>\n",
       "      <td>1828</td>\n",
       "      <td>0</td>\n",
       "      <td>1828</td>\n",
       "      <td>74.0</td>\n",
       "    </tr>\n",
       "  </tbody>\n",
       "</table>\n",
       "</div>"
      ],
      "text/plain": [
       "   Unnamed: 0   Manuf Model                         Desc  Engine_Capacity  \\\n",
       "0           0  ABARTH   595  595 1.4 145 BHP Convertible             1368   \n",
       "1           1  ABARTH   595  595 1.4 145 BHP Convertible             1368   \n",
       "2           2  ABARTH   595    595 1.4 145 BHP Hatchback             1368   \n",
       "3           3  ABARTH   595    595 1.4 145 BHP Hatchback             1368   \n",
       "4           4  ABARTH   595          595 1.4 TJET 145bhp             1368   \n",
       "\n",
       "  Fuel_Type                        Powertrain Euro_Standard  \\\n",
       "0    Petrol  Internal Combustion Engine (ICE)  Euro 6d-TEMP   \n",
       "1    Petrol  Internal Combustion Engine (ICE)  Euro 6d-TEMP   \n",
       "2    Petrol  Internal Combustion Engine (ICE)  Euro 6d-TEMP   \n",
       "3    Petrol  Internal Combustion Engine (ICE)  Euro 6d-TEMP   \n",
       "4    Petrol  Internal Combustion Engine (ICE)       Euro 6d   \n",
       "\n",
       "   Diesel_VED_Supplement  Fuel_Cost  Electric_Cost  Total_Cost  Noise_Level  \n",
       "0                  False       1935              0        1935         73.5  \n",
       "1                  False       2043              0        2043         73.5  \n",
       "2                  False       1935              0        1935         73.5  \n",
       "3                  False       2043              0        2043         73.5  \n",
       "4                  False       1828              0        1828         74.0  "
      ]
     },
     "execution_count": 81,
     "metadata": {},
     "output_type": "execute_result"
    }
   ],
   "source": [
    "df.head()"
   ]
  },
  {
   "cell_type": "code",
   "execution_count": 82,
   "id": "97663433",
   "metadata": {},
   "outputs": [
    {
     "data": {
      "text/plain": [
       "Unnamed: 0                 int64\n",
       "Manuf                     object\n",
       "Model                     object\n",
       "Desc                      object\n",
       "Engine_Capacity            int64\n",
       "Fuel_Type                 object\n",
       "Powertrain                object\n",
       "Euro_Standard             object\n",
       "Diesel_VED_Supplement       bool\n",
       "Fuel_Cost                  int64\n",
       "Electric_Cost              int64\n",
       "Total_Cost                 int64\n",
       "Noise_Level              float64\n",
       "dtype: object"
      ]
     },
     "execution_count": 82,
     "metadata": {},
     "output_type": "execute_result"
    }
   ],
   "source": [
    "df.dtypes"
   ]
  },
  {
   "cell_type": "code",
   "execution_count": 83,
   "id": "16188c69",
   "metadata": {},
   "outputs": [
    {
     "name": "stdout",
     "output_type": "stream",
     "text": [
      "Index(['Unnamed: 0', 'Manuf', 'Model', 'Desc', 'Engine_Capacity', 'Fuel_Type',\n",
      "       'Powertrain', 'Euro_Standard', 'Diesel_VED_Supplement', 'Fuel_Cost',\n",
      "       'Electric_Cost', 'Total_Cost', 'Noise_Level'],\n",
      "      dtype='object')\n"
     ]
    }
   ],
   "source": [
    "print(df.columns)"
   ]
  },
  {
   "cell_type": "code",
   "execution_count": 15,
   "id": "233b69e2",
   "metadata": {},
   "outputs": [],
   "source": [
    "# Step 2: Summary statistics of numeric columns"
   ]
  },
  {
   "cell_type": "code",
   "execution_count": 84,
   "id": "c534dc98",
   "metadata": {},
   "outputs": [
    {
     "data": {
      "text/html": [
       "<div>\n",
       "<style scoped>\n",
       "    .dataframe tbody tr th:only-of-type {\n",
       "        vertical-align: middle;\n",
       "    }\n",
       "\n",
       "    .dataframe tbody tr th {\n",
       "        vertical-align: top;\n",
       "    }\n",
       "\n",
       "    .dataframe thead th {\n",
       "        text-align: right;\n",
       "    }\n",
       "</style>\n",
       "<table border=\"1\" class=\"dataframe\">\n",
       "  <thead>\n",
       "    <tr style=\"text-align: right;\">\n",
       "      <th></th>\n",
       "      <th>Unnamed: 0</th>\n",
       "      <th>Manuf</th>\n",
       "      <th>Model</th>\n",
       "      <th>Desc</th>\n",
       "      <th>Engine_Capacity</th>\n",
       "      <th>Fuel_Type</th>\n",
       "      <th>Powertrain</th>\n",
       "      <th>Euro_Standard</th>\n",
       "      <th>Diesel_VED_Supplement</th>\n",
       "      <th>Fuel_Cost</th>\n",
       "      <th>Electric_Cost</th>\n",
       "      <th>Total_Cost</th>\n",
       "      <th>Noise_Level</th>\n",
       "    </tr>\n",
       "  </thead>\n",
       "  <tbody>\n",
       "    <tr>\n",
       "      <th>0</th>\n",
       "      <td>0</td>\n",
       "      <td>ABARTH</td>\n",
       "      <td>595</td>\n",
       "      <td>595 1.4 145 BHP Convertible</td>\n",
       "      <td>1368</td>\n",
       "      <td>Petrol</td>\n",
       "      <td>Internal Combustion Engine (ICE)</td>\n",
       "      <td>Euro 6d-TEMP</td>\n",
       "      <td>False</td>\n",
       "      <td>1935</td>\n",
       "      <td>0</td>\n",
       "      <td>1935</td>\n",
       "      <td>73.5</td>\n",
       "    </tr>\n",
       "    <tr>\n",
       "      <th>1</th>\n",
       "      <td>1</td>\n",
       "      <td>ABARTH</td>\n",
       "      <td>595</td>\n",
       "      <td>595 1.4 145 BHP Convertible</td>\n",
       "      <td>1368</td>\n",
       "      <td>Petrol</td>\n",
       "      <td>Internal Combustion Engine (ICE)</td>\n",
       "      <td>Euro 6d-TEMP</td>\n",
       "      <td>False</td>\n",
       "      <td>2043</td>\n",
       "      <td>0</td>\n",
       "      <td>2043</td>\n",
       "      <td>73.5</td>\n",
       "    </tr>\n",
       "    <tr>\n",
       "      <th>2</th>\n",
       "      <td>2</td>\n",
       "      <td>ABARTH</td>\n",
       "      <td>595</td>\n",
       "      <td>595 1.4 145 BHP Hatchback</td>\n",
       "      <td>1368</td>\n",
       "      <td>Petrol</td>\n",
       "      <td>Internal Combustion Engine (ICE)</td>\n",
       "      <td>Euro 6d-TEMP</td>\n",
       "      <td>False</td>\n",
       "      <td>1935</td>\n",
       "      <td>0</td>\n",
       "      <td>1935</td>\n",
       "      <td>73.5</td>\n",
       "    </tr>\n",
       "    <tr>\n",
       "      <th>3</th>\n",
       "      <td>3</td>\n",
       "      <td>ABARTH</td>\n",
       "      <td>595</td>\n",
       "      <td>595 1.4 145 BHP Hatchback</td>\n",
       "      <td>1368</td>\n",
       "      <td>Petrol</td>\n",
       "      <td>Internal Combustion Engine (ICE)</td>\n",
       "      <td>Euro 6d-TEMP</td>\n",
       "      <td>False</td>\n",
       "      <td>2043</td>\n",
       "      <td>0</td>\n",
       "      <td>2043</td>\n",
       "      <td>73.5</td>\n",
       "    </tr>\n",
       "    <tr>\n",
       "      <th>4</th>\n",
       "      <td>4</td>\n",
       "      <td>ABARTH</td>\n",
       "      <td>595</td>\n",
       "      <td>595 1.4 TJET 145bhp</td>\n",
       "      <td>1368</td>\n",
       "      <td>Petrol</td>\n",
       "      <td>Internal Combustion Engine (ICE)</td>\n",
       "      <td>Euro 6d</td>\n",
       "      <td>False</td>\n",
       "      <td>1828</td>\n",
       "      <td>0</td>\n",
       "      <td>1828</td>\n",
       "      <td>74.0</td>\n",
       "    </tr>\n",
       "  </tbody>\n",
       "</table>\n",
       "</div>"
      ],
      "text/plain": [
       "   Unnamed: 0   Manuf Model                         Desc  Engine_Capacity  \\\n",
       "0           0  ABARTH   595  595 1.4 145 BHP Convertible             1368   \n",
       "1           1  ABARTH   595  595 1.4 145 BHP Convertible             1368   \n",
       "2           2  ABARTH   595    595 1.4 145 BHP Hatchback             1368   \n",
       "3           3  ABARTH   595    595 1.4 145 BHP Hatchback             1368   \n",
       "4           4  ABARTH   595          595 1.4 TJET 145bhp             1368   \n",
       "\n",
       "  Fuel_Type                        Powertrain Euro_Standard  \\\n",
       "0    Petrol  Internal Combustion Engine (ICE)  Euro 6d-TEMP   \n",
       "1    Petrol  Internal Combustion Engine (ICE)  Euro 6d-TEMP   \n",
       "2    Petrol  Internal Combustion Engine (ICE)  Euro 6d-TEMP   \n",
       "3    Petrol  Internal Combustion Engine (ICE)  Euro 6d-TEMP   \n",
       "4    Petrol  Internal Combustion Engine (ICE)       Euro 6d   \n",
       "\n",
       "   Diesel_VED_Supplement  Fuel_Cost  Electric_Cost  Total_Cost  Noise_Level  \n",
       "0                  False       1935              0        1935         73.5  \n",
       "1                  False       2043              0        2043         73.5  \n",
       "2                  False       1935              0        1935         73.5  \n",
       "3                  False       2043              0        2043         73.5  \n",
       "4                  False       1828              0        1828         74.0  "
      ]
     },
     "execution_count": 84,
     "metadata": {},
     "output_type": "execute_result"
    }
   ],
   "source": [
    "df.head()"
   ]
  },
  {
   "cell_type": "code",
   "execution_count": 85,
   "id": "5dcbdda4",
   "metadata": {},
   "outputs": [
    {
     "data": {
      "text/html": [
       "<div>\n",
       "<style scoped>\n",
       "    .dataframe tbody tr th:only-of-type {\n",
       "        vertical-align: middle;\n",
       "    }\n",
       "\n",
       "    .dataframe tbody tr th {\n",
       "        vertical-align: top;\n",
       "    }\n",
       "\n",
       "    .dataframe thead th {\n",
       "        text-align: right;\n",
       "    }\n",
       "</style>\n",
       "<table border=\"1\" class=\"dataframe\">\n",
       "  <thead>\n",
       "    <tr style=\"text-align: right;\">\n",
       "      <th></th>\n",
       "      <th>Unnamed: 0</th>\n",
       "      <th>Engine_Capacity</th>\n",
       "      <th>Fuel_Cost</th>\n",
       "      <th>Electric_Cost</th>\n",
       "      <th>Total_Cost</th>\n",
       "      <th>Noise_Level</th>\n",
       "    </tr>\n",
       "  </thead>\n",
       "  <tbody>\n",
       "    <tr>\n",
       "      <th>count</th>\n",
       "      <td>4625.000000</td>\n",
       "      <td>4625.000000</td>\n",
       "      <td>4625.000000</td>\n",
       "      <td>4625.000000</td>\n",
       "      <td>4625.000000</td>\n",
       "      <td>4625.000000</td>\n",
       "    </tr>\n",
       "    <tr>\n",
       "      <th>mean</th>\n",
       "      <td>2312.000000</td>\n",
       "      <td>1706.910270</td>\n",
       "      <td>1721.316541</td>\n",
       "      <td>67.032649</td>\n",
       "      <td>1788.346595</td>\n",
       "      <td>65.141492</td>\n",
       "    </tr>\n",
       "    <tr>\n",
       "      <th>std</th>\n",
       "      <td>1335.266827</td>\n",
       "      <td>916.609954</td>\n",
       "      <td>711.430744</td>\n",
       "      <td>233.811409</td>\n",
       "      <td>598.873474</td>\n",
       "      <td>15.319174</td>\n",
       "    </tr>\n",
       "    <tr>\n",
       "      <th>min</th>\n",
       "      <td>0.000000</td>\n",
       "      <td>0.000000</td>\n",
       "      <td>0.000000</td>\n",
       "      <td>0.000000</td>\n",
       "      <td>586.000000</td>\n",
       "      <td>0.000000</td>\n",
       "    </tr>\n",
       "    <tr>\n",
       "      <th>25%</th>\n",
       "      <td>1156.000000</td>\n",
       "      <td>1199.000000</td>\n",
       "      <td>1424.000000</td>\n",
       "      <td>0.000000</td>\n",
       "      <td>1424.000000</td>\n",
       "      <td>67.000000</td>\n",
       "    </tr>\n",
       "    <tr>\n",
       "      <th>50%</th>\n",
       "      <td>2312.000000</td>\n",
       "      <td>1499.000000</td>\n",
       "      <td>1666.000000</td>\n",
       "      <td>0.000000</td>\n",
       "      <td>1680.000000</td>\n",
       "      <td>68.000000</td>\n",
       "    </tr>\n",
       "    <tr>\n",
       "      <th>75%</th>\n",
       "      <td>3468.000000</td>\n",
       "      <td>1997.000000</td>\n",
       "      <td>1989.000000</td>\n",
       "      <td>0.000000</td>\n",
       "      <td>1999.000000</td>\n",
       "      <td>69.000000</td>\n",
       "    </tr>\n",
       "    <tr>\n",
       "      <th>max</th>\n",
       "      <td>4624.000000</td>\n",
       "      <td>6749.000000</td>\n",
       "      <td>4488.000000</td>\n",
       "      <td>1748.000000</td>\n",
       "      <td>4488.000000</td>\n",
       "      <td>89.200000</td>\n",
       "    </tr>\n",
       "  </tbody>\n",
       "</table>\n",
       "</div>"
      ],
      "text/plain": [
       "        Unnamed: 0  Engine_Capacity    Fuel_Cost  Electric_Cost   Total_Cost  \\\n",
       "count  4625.000000      4625.000000  4625.000000    4625.000000  4625.000000   \n",
       "mean   2312.000000      1706.910270  1721.316541      67.032649  1788.346595   \n",
       "std    1335.266827       916.609954   711.430744     233.811409   598.873474   \n",
       "min       0.000000         0.000000     0.000000       0.000000   586.000000   \n",
       "25%    1156.000000      1199.000000  1424.000000       0.000000  1424.000000   \n",
       "50%    2312.000000      1499.000000  1666.000000       0.000000  1680.000000   \n",
       "75%    3468.000000      1997.000000  1989.000000       0.000000  1999.000000   \n",
       "max    4624.000000      6749.000000  4488.000000    1748.000000  4488.000000   \n",
       "\n",
       "       Noise_Level  \n",
       "count  4625.000000  \n",
       "mean     65.141492  \n",
       "std      15.319174  \n",
       "min       0.000000  \n",
       "25%      67.000000  \n",
       "50%      68.000000  \n",
       "75%      69.000000  \n",
       "max      89.200000  "
      ]
     },
     "execution_count": 85,
     "metadata": {},
     "output_type": "execute_result"
    }
   ],
   "source": [
    "df.describe()"
   ]
  },
  {
   "cell_type": "code",
   "execution_count": 17,
   "id": "cef8d738",
   "metadata": {},
   "outputs": [],
   "source": [
    "\n",
    "# columns Engine_Capacity,Fuel_Cost,Electric_Cost,Total_Cost may have outliers"
   ]
  },
  {
   "cell_type": "code",
   "execution_count": 86,
   "id": "0e3d9a83",
   "metadata": {},
   "outputs": [
    {
     "data": {
      "text/plain": [
       "Unnamed: 0               0.0\n",
       "Manuf                    0.0\n",
       "Model                    0.0\n",
       "Desc                     0.0\n",
       "Engine_Capacity          0.0\n",
       "Fuel_Type                0.0\n",
       "Powertrain               0.0\n",
       "Euro_Standard            0.0\n",
       "Diesel_VED_Supplement    0.0\n",
       "Fuel_Cost                0.0\n",
       "Electric_Cost            0.0\n",
       "Total_Cost               0.0\n",
       "Noise_Level              0.0\n",
       "dtype: float64"
      ]
     },
     "execution_count": 86,
     "metadata": {},
     "output_type": "execute_result"
    }
   ],
   "source": [
    "df.isnull().sum()*100/df.shape[0]"
   ]
  },
  {
   "cell_type": "code",
   "execution_count": 19,
   "id": "81bd3458",
   "metadata": {},
   "outputs": [],
   "source": [
    "# There are no null missing values"
   ]
  },
  {
   "cell_type": "code",
   "execution_count": 20,
   "id": "6861e792",
   "metadata": {},
   "outputs": [],
   "source": [
    "# Step 3: Value counts of category columns"
   ]
  },
  {
   "cell_type": "code",
   "execution_count": 87,
   "id": "7f6abb4a",
   "metadata": {},
   "outputs": [
    {
     "data": {
      "text/plain": [
       "Index(['Manuf', 'Model', 'Desc', 'Fuel_Type', 'Powertrain', 'Euro_Standard'], dtype='object')"
      ]
     },
     "execution_count": 87,
     "metadata": {},
     "output_type": "execute_result"
    }
   ],
   "source": [
    "df.select_dtypes(include='object').columns"
   ]
  },
  {
   "cell_type": "code",
   "execution_count": 88,
   "id": "63efdbc0",
   "metadata": {},
   "outputs": [
    {
     "data": {
      "text/html": [
       "<div>\n",
       "<style scoped>\n",
       "    .dataframe tbody tr th:only-of-type {\n",
       "        vertical-align: middle;\n",
       "    }\n",
       "\n",
       "    .dataframe tbody tr th {\n",
       "        vertical-align: top;\n",
       "    }\n",
       "\n",
       "    .dataframe thead th {\n",
       "        text-align: right;\n",
       "    }\n",
       "</style>\n",
       "<table border=\"1\" class=\"dataframe\">\n",
       "  <thead>\n",
       "    <tr style=\"text-align: right;\">\n",
       "      <th></th>\n",
       "      <th>Manuf</th>\n",
       "      <th>Model</th>\n",
       "      <th>Desc</th>\n",
       "      <th>Fuel_Type</th>\n",
       "      <th>Powertrain</th>\n",
       "      <th>Euro_Standard</th>\n",
       "    </tr>\n",
       "  </thead>\n",
       "  <tbody>\n",
       "    <tr>\n",
       "      <th>count</th>\n",
       "      <td>4625</td>\n",
       "      <td>4625</td>\n",
       "      <td>4625</td>\n",
       "      <td>4625</td>\n",
       "      <td>4625</td>\n",
       "      <td>4625</td>\n",
       "    </tr>\n",
       "    <tr>\n",
       "      <th>unique</th>\n",
       "      <td>41</td>\n",
       "      <td>324</td>\n",
       "      <td>2218</td>\n",
       "      <td>8</td>\n",
       "      <td>6</td>\n",
       "      <td>4</td>\n",
       "    </tr>\n",
       "    <tr>\n",
       "      <th>top</th>\n",
       "      <td>RENAULT</td>\n",
       "      <td>Captur</td>\n",
       "      <td>2.0 EcoBlue</td>\n",
       "      <td>Petrol</td>\n",
       "      <td>Internal Combustion Engine (ICE)</td>\n",
       "      <td>Euro 6d</td>\n",
       "    </tr>\n",
       "    <tr>\n",
       "      <th>freq</th>\n",
       "      <td>934</td>\n",
       "      <td>210</td>\n",
       "      <td>81</td>\n",
       "      <td>2308</td>\n",
       "      <td>3344</td>\n",
       "      <td>2945</td>\n",
       "    </tr>\n",
       "  </tbody>\n",
       "</table>\n",
       "</div>"
      ],
      "text/plain": [
       "          Manuf   Model         Desc Fuel_Type  \\\n",
       "count      4625    4625         4625      4625   \n",
       "unique       41     324         2218         8   \n",
       "top     RENAULT  Captur  2.0 EcoBlue    Petrol   \n",
       "freq        934     210           81      2308   \n",
       "\n",
       "                              Powertrain Euro_Standard  \n",
       "count                               4625          4625  \n",
       "unique                                 6             4  \n",
       "top     Internal Combustion Engine (ICE)       Euro 6d  \n",
       "freq                                3344          2945  "
      ]
     },
     "execution_count": 88,
     "metadata": {},
     "output_type": "execute_result"
    }
   ],
   "source": [
    "df.select_dtypes(include='object').describe()"
   ]
  },
  {
   "cell_type": "code",
   "execution_count": 89,
   "id": "e3bafee3",
   "metadata": {},
   "outputs": [
    {
     "data": {
      "text/plain": [
       "RENAULT                 934\n",
       "DACIA                   410\n",
       "TOYOTA                  354\n",
       "FORD                    322\n",
       "HONDA                   294\n",
       "MERCEDES-BENZ           292\n",
       "LAND ROVER              289\n",
       "MAZDA                   217\n",
       "SEAT                    187\n",
       "PEUGEOT                 142\n",
       "KIA                     136\n",
       "FIAT                    111\n",
       "JAGUAR                  105\n",
       "LEXUS                   105\n",
       "CITROEN                  98\n",
       "HYUNDAI                  94\n",
       "CHRYSLER JEEP            62\n",
       "VOLVO                    53\n",
       "NISSAN                   50\n",
       "GENESIS                  44\n",
       "ABARTH                   42\n",
       "ALPINE                   34\n",
       "SUZUKI                   32\n",
       "MASERATI                 31\n",
       "MG MOTORS UK             25\n",
       "ALFA ROMEO               25\n",
       "Rolls Royce              21\n",
       "SSANGYONG                19\n",
       "FERRARI                  16\n",
       "ASTON MARTIN LAGONDA     13\n",
       "TESLA                    12\n",
       "McLaren                  11\n",
       "SUBARU                    9\n",
       "BENTLEY MOTORS            9\n",
       "LOTUS                     9\n",
       "SMART                     4\n",
       "INEOS Automotive Ltd      4\n",
       "CADILLAC                  3\n",
       "MORGAN MOTOR COMPANY      3\n",
       "CHEVROLET                 2\n",
       "DS                        2\n",
       "Name: Manuf, dtype: int64"
      ]
     },
     "execution_count": 89,
     "metadata": {},
     "output_type": "execute_result"
    }
   ],
   "source": [
    "\n",
    "df.Manuf.value_counts()"
   ]
  },
  {
   "cell_type": "code",
   "execution_count": 90,
   "id": "e0c568e8",
   "metadata": {},
   "outputs": [
    {
     "data": {
      "text/plain": [
       "RENAULT                 20.194595\n",
       "DACIA                    8.864865\n",
       "TOYOTA                   7.654054\n",
       "FORD                     6.962162\n",
       "HONDA                    6.356757\n",
       "MERCEDES-BENZ            6.313514\n",
       "LAND ROVER               6.248649\n",
       "MAZDA                    4.691892\n",
       "SEAT                     4.043243\n",
       "PEUGEOT                  3.070270\n",
       "KIA                      2.940541\n",
       "FIAT                     2.400000\n",
       "JAGUAR                   2.270270\n",
       "LEXUS                    2.270270\n",
       "CITROEN                  2.118919\n",
       "HYUNDAI                  2.032432\n",
       "CHRYSLER JEEP            1.340541\n",
       "VOLVO                    1.145946\n",
       "NISSAN                   1.081081\n",
       "GENESIS                  0.951351\n",
       "ABARTH                   0.908108\n",
       "ALPINE                   0.735135\n",
       "SUZUKI                   0.691892\n",
       "MASERATI                 0.670270\n",
       "MG MOTORS UK             0.540541\n",
       "ALFA ROMEO               0.540541\n",
       "Rolls Royce              0.454054\n",
       "SSANGYONG                0.410811\n",
       "FERRARI                  0.345946\n",
       "ASTON MARTIN LAGONDA     0.281081\n",
       "TESLA                    0.259459\n",
       "McLaren                  0.237838\n",
       "SUBARU                   0.194595\n",
       "BENTLEY MOTORS           0.194595\n",
       "LOTUS                    0.194595\n",
       "SMART                    0.086486\n",
       "INEOS Automotive Ltd     0.086486\n",
       "CADILLAC                 0.064865\n",
       "MORGAN MOTOR COMPANY     0.064865\n",
       "CHEVROLET                0.043243\n",
       "DS                       0.043243\n",
       "Name: Manuf, dtype: float64"
      ]
     },
     "execution_count": 90,
     "metadata": {},
     "output_type": "execute_result"
    }
   ],
   "source": [
    "df.Manuf.value_counts()*100/len(df)"
   ]
  },
  {
   "cell_type": "code",
   "execution_count": 25,
   "id": "a3f0ab27",
   "metadata": {},
   "outputs": [],
   "source": [
    "# There are lot of unique values, all the Manuf with rows less than 1% may be removed"
   ]
  },
  {
   "cell_type": "code",
   "execution_count": 91,
   "id": "f76cc5b1",
   "metadata": {},
   "outputs": [
    {
     "data": {
      "text/plain": [
       "Captur                                            210\n",
       "Duster                                            208\n",
       "Clio                                              202\n",
       "Kadjar                                            112\n",
       "Mégane Hatch                                       82\n",
       "Defender, 20MY                                     80\n",
       "CR-V 2021                                          79\n",
       "Mazda CX-5                                         79\n",
       "Civic 2021                                         73\n",
       "Sandero Stepway                                    66\n",
       "Logan MCV                                          66\n",
       "CR-V Hybrid 2022                                   65\n",
       "Trafic Passenger                                   62\n",
       "Sandero                                            62\n",
       "Range Rover Sport, 20MY                            58\n",
       "Mégane Sport Tourer                                52\n",
       "New Zoe                                            50\n",
       "500                                                48\n",
       "Arkana                                             44\n",
       "595                                                42\n",
       "Yaris Cross                                        41\n",
       "Grand Scénic                                       40\n",
       "Mazda CX-30                                        40\n",
       "Ateca                                              40\n",
       "E-PACE, 20MY                                       36\n",
       "Scénic                                             36\n",
       "Tarraco                                            35\n",
       "A110                                               34\n",
       "F-TYPE, 20MY                                       30\n",
       "Evoque, 20MY                                       30\n",
       "Range Rover, 20MY                                  29\n",
       "Mazda3                                             29\n",
       "Leon Estate                                        29\n",
       "Leon Hatch                                         29\n",
       "C-HR MY21                                          29\n",
       "Focus Model Year Pre 2021.75                       28\n",
       "Jazz 2022                                          27\n",
       "Corolla Hatchback Hybrid                           27\n",
       "Discovery Sport, 20MY                              26\n",
       "Mazda CX-60                                        24\n",
       "Evoque, 20.25MY                                    24\n",
       "Sportage MY22                                      23\n",
       "Focus Model Year Post 2021.75                      22\n",
       "Land Cruiser                                       21\n",
       "RAV 4 MY22                                         21\n",
       "RAV 4 MY21                                         21\n",
       "Sportage MY21.5                                    21\n",
       "BZ4X                                               20\n",
       "Tourneo Custom Model Year Pre 2022.50              20\n",
       "Aygo X                                             20\n",
       "UX                                                 20\n",
       "RAV 4                                              19\n",
       "XF Saloon, 20MY                                    18\n",
       "Yaris Hybrid                                       18\n",
       "E-Class Saloon Model Year 2023                     18\n",
       "Tourneo Custom Model Year Post 2022.50             18\n",
       "Traveller                                          18\n",
       "GV70                                               18\n",
       "Compass                                            18\n",
       "Tucson                                             18\n",
       "Panda                                              18\n",
       "SpaceTourer                                        18\n",
       "Ibiza                                              18\n",
       "500X                                               18\n",
       "C5 Aircross                                        18\n",
       "508 Fastback                                       17\n",
       "Proace Verso                                       17\n",
       "C-HR                                               17\n",
       "508 SW                                             17\n",
       "QASHQAI                                            17\n",
       "Corolla Touring Sports Hybrid                      17\n",
       "Renegade MY21                                      16\n",
       "XF Sportbrake, 20MY                                16\n",
       "Mazda2                                             16\n",
       "New 208                                            16\n",
       "S-Class Saloon MY 2023                             16\n",
       "Koleos                                             16\n",
       "Zoe                                                16\n",
       "Jazz 2023                                          16\n",
       "RX                                                 16\n",
       "NX 350h                                            16\n",
       "Wrangler                                           16\n",
       "JUKE                                               15\n",
       "Jazz 2021                                          15\n",
       "Picanto MY22                                       15\n",
       "F-PACE, 20MY                                       14\n",
       "New 3008 SUV                                       14\n",
       "Berlingo                                           14\n",
       "A-Class Hatchback Model Year 2023                  14\n",
       "Arona                                              14\n",
       "GLA Model Year 2023                                14\n",
       "New Focus Model Year Post 2022.25                  14\n",
       "E-Class Estate Model Year 2023                     14\n",
       "New C4                                             14\n",
       "XC40, MY23                                         14\n",
       "308 SW                                             14\n",
       "Kuga Model Year Pre 2023.25                        14\n",
       "New 2008 SUV                                       14\n",
       "GLC Coupe Model Year 2023                          14\n",
       "Civic 2023                                         13\n",
       "E-Class Cabriolet Model Year 2023                  12\n",
       "Mazda MX-5                                         12\n",
       "C-Class Cabriolet Model Year 2023                  12\n",
       "C-Class Coupe Model Year 2023                      12\n",
       "CLA Shooting Brake Model Year 2023                 12\n",
       "V-Class MPV MY 2022                                12\n",
       "C-Class Saloon Model Year 2023                     12\n",
       "GLE Estate Model Year 2023                         12\n",
       "CLA Coupe Model Year 2023                          12\n",
       "Discovery, 20MY                                    12\n",
       "Velar, 20MY                                        12\n",
       "E-Class Coupe Model Year 2023                      12\n",
       "C-Class Estate Model Year 2023                     12\n",
       "A-Class Saloon Model Year 2023                     12\n",
       "Puma Model Year Post 2023.25                       12\n",
       "New 5008 SUV                                       12\n",
       "Fiesta Model Year Pre 2023                         12\n",
       "RC F                                               11\n",
       "Stelvio MY21                                       11\n",
       "Vitara                                             11\n",
       "Proace Verso MY21                                  11\n",
       "C-HR MY22                                          11\n",
       "Galaxy Model Year Pre 2022.50                      10\n",
       "Galaxy Model Year Post 2022.50                     10\n",
       "S-MAX Model Year Post 2022.50                      10\n",
       "Giulia MY21                                        10\n",
       "Mustang Model Year Post 2022.50                    10\n",
       "Mustang Model Year Pre 2022.50                     10\n",
       "New Grand Tourneo Connect Model Year Post 2023     10\n",
       "Fiesta Model Year Post 2023                        10\n",
       "New Tourneo Connect Model Year Post 2023           10\n",
       "NX 450h+                                           10\n",
       "Tipo Hatchback                                     10\n",
       "Puma Model Year Pre 2023.25                        10\n",
       "S-MAX Model Year Pre 2022.50                       10\n",
       "i30 Hatchback                                      10\n",
       "308                                                10\n",
       "New C3                                             10\n",
       "i10                                                10\n",
       "Mazda MX-30                                        10\n",
       "Bayon                                              10\n",
       "Levante                                             9\n",
       "Cupra Formentor                                     9\n",
       "Kona                                                9\n",
       "Ghibli                                              9\n",
       "EV6 MY22                                            9\n",
       "Quattroporte                                        9\n",
       "C4 Cactus Hatch                                     8\n",
       "Grand C4 SpaceTourer                                8\n",
       "Cupra Leon Hatch                                    8\n",
       "Model 3                                             8\n",
       "XC60, MY23                                          8\n",
       "B-Class MPV Model Year 2023                         8\n",
       "Jogger                                              8\n",
       "RX L                                                8\n",
       "Korando                                             8\n",
       "Grand Tourneo Connect Model Year Pre 2021           8\n",
       "New Twingo                                          8\n",
       "GLE Coupe Model Year 2023                           8\n",
       "i20                                                 8\n",
       "XE Saloon, 20MY                                     8\n",
       "All-new Niro                                        8\n",
       "V60, MY23                                           8\n",
       "GV80                                                8\n",
       "Tourneo Courier Kombi Model Year Pre 2019¾          8\n",
       "Tourneo Connect Model Year Pre 2021                 8\n",
       "Tourneo Connect Model Year Post 2021                8\n",
       "GLB Model Year 2023                                 8\n",
       "Stonic MY22                                         8\n",
       "Mondeo Model Year Pre 2021                          8\n",
       "Mondeo Model Year Post 2021                         8\n",
       "i30 Tourer                                          8\n",
       "Grand Tourneo Connect Model Year Post 2021          8\n",
       "LS                                                  8\n",
       "Rifter                                              8\n",
       "Prius                                               7\n",
       "MICRA                                               7\n",
       "XC90, MY23                                          7\n",
       "Ceed MY22                                           7\n",
       "500e                                                7\n",
       "IONIQ 5                                             7\n",
       "XCeed MY22                                          7\n",
       "Mazda6                                              7\n",
       "Rio MY22                                            7\n",
       "Aygo                                                6\n",
       "C3 Aircross SUV                                     6\n",
       "EQA Model Year 2023                                 6\n",
       "500eC                                               6\n",
       "Ignis                                               6\n",
       "Swift                                               6\n",
       "Stinger                                             6\n",
       "G70                                                 6\n",
       "Renegade MY22                                       6\n",
       "Renegade 4xe                                        6\n",
       "GLS Model Year 2023                                 6\n",
       "MG ZS 2021MY                                        6\n",
       "GT86                                                6\n",
       "SL Model Year 2023                                  6\n",
       "Kuga Model Year Post 2023.25                        6\n",
       "XTRAIL                                              6\n",
       "Mustang Mach-E Model Year Pre 2022.50               5\n",
       "LEAF                                                5\n",
       "Santa Fe                                            5\n",
       "G70 Shooting Brake                                  5\n",
       "Ghost                                               5\n",
       "S-Cross                                             5\n",
       "Corolla Saloon Hybrid                               5\n",
       "GR Supra                                            5\n",
       "Vantage 2021MY                                      5\n",
       "C40, MY23                                           5\n",
       "Mustang Mach-E Model Year Post 2022.50              5\n",
       "G80                                                 4\n",
       "Megane E-TECH 100% Electric                         4\n",
       "Grenadier 23MY                                      4\n",
       "Tipo Station Wagon                                  4\n",
       "EcoSport Model Year Pre 2022.50                     4\n",
       "EcoSport Model Year Post 2022.50                    4\n",
       "Cullinan                                            4\n",
       "Ceed Sportswagon MY22                               4\n",
       "Phantom                                             4\n",
       "Wraith                                              4\n",
       "Musso                                               4\n",
       "Tivoli                                              4\n",
       "S60, MY23                                           4\n",
       "V90, MY23                                           4\n",
       "Dawn                                                4\n",
       "Exige                                               4\n",
       "Niro EV MY22                                        4\n",
       "CLS Coupe Model Year 2023                           4\n",
       "EQE Model Year 2023                                 4\n",
       "EQC Model Year 2023                                 4\n",
       "EQB Model Year 2023                                 4\n",
       "ProCeed MY22                                        4\n",
       "Niro MY22                                           4\n",
       "MG HS 2021MY                                        4\n",
       "XCeed MY23                                          4\n",
       "LC 500                                              4\n",
       "G-Class Model Year 2023                             4\n",
       "LC 500h                                             4\n",
       "LC Convertible                                      4\n",
       "UX 300e                                             4\n",
       "AMG GT 4 Door Coupe Model Year 2023                 4\n",
       "EQS Model Year 2023                                 4\n",
       "Outback 21MY                                        3\n",
       "Elise                                               3\n",
       "Rexton                                              3\n",
       "XT4                                                 3\n",
       "Cupra Ateca                                         3\n",
       "SF90                                                3\n",
       "GR Yaris                                            3\n",
       "RAV 4 PHEV                                          3\n",
       "Supra                                               3\n",
       "S90, MY23                                           3\n",
       "DB11 2021MY                                         3\n",
       "Forester e-BOXER                                    3\n",
       "IONIQ                                               3\n",
       "HR-V 2023                                           3\n",
       "Sorento MY22                                        3\n",
       "HR-V 2022                                           3\n",
       "GV60                                                3\n",
       "MG3 2021MY                                          3\n",
       "i30 Fastback N                                      2\n",
       "Model X                                             2\n",
       "C1                                                  2\n",
       "Evora                                               2\n",
       "GranCabrio                                          2\n",
       "CORVETTE                                            2\n",
       "i30 N                                               2\n",
       "GranTurismo                                         2\n",
       "Flying Spur MY22                                    2\n",
       "MG5 ev 52.5kWh 2020MY                               2\n",
       "i30 Fastback                                        2\n",
       "Highlander MY22                                     2\n",
       "Continental GT V8 MY22                              2\n",
       "Continental GT MY22                                 2\n",
       "Prius +                                             2\n",
       "MG5 ev 61.1kWh 2021MY                               2\n",
       "Plus 4                                              2\n",
       "DBS Superleggera 2021MY                             2\n",
       "Senna                                               2\n",
       "108                                                 2\n",
       "720S                                                2\n",
       "Stelvio MY22                                        2\n",
       "Giulia MY22                                         2\n",
       "Model S                                             2\n",
       "570S                                                2\n",
       "DS 3 CROSSBACK                                      2\n",
       "Tourneo Courier Kombi Model Year Post 2019¾         2\n",
       "600LT                                               2\n",
       "MG HS Plug-in 2021MY                                2\n",
       "MG ZS ev 105kW 44.5kWh 2019MY                       2\n",
       "Cupra Leon Estate                                   2\n",
       "Monza                                               2\n",
       "GTC4                                                2\n",
       "812                                                 2\n",
       "EQ fortwo cabrio MY2022                             2\n",
       "EQ fortwo coupe MY2022                              2\n",
       "488                                                 2\n",
       "F8                                                  2\n",
       "Solterra 23MY                                       2\n",
       "Swace                                               2\n",
       "MG ZS ev 130kW 52.5kWh 2021MY                       2\n",
       "MG ZS ev 115kW 71kWh 2021MY                         2\n",
       "Corolla Touring Sports                              1\n",
       "Soul EV                                             1\n",
       "Roma                                                1\n",
       "Across                                              1\n",
       "I-PACE, 20MY                                        1\n",
       "GT                                                  1\n",
       "Portofino                                           1\n",
       "XV AWD                                              1\n",
       "DBX V8 MY2021                                       1\n",
       "DBX707 MY2023                                       1\n",
       "Plus 6                                              1\n",
       "Speedster                                           1\n",
       "570GT                                               1\n",
       "Bentayga MY21                                       1\n",
       "Bentayga V8 22MY                                    1\n",
       "F90                                                 1\n",
       "Swift Sport                                         1\n",
       "Flying Spur MY22.5                                  1\n",
       "Highlander                                          1\n",
       "540C                                                1\n",
       "Soul EV MY22                                        1\n",
       "Name: Model, dtype: int64"
      ]
     },
     "execution_count": 91,
     "metadata": {},
     "output_type": "execute_result"
    }
   ],
   "source": [
    "df.Model.value_counts()"
   ]
  },
  {
   "cell_type": "code",
   "execution_count": 27,
   "id": "c2b08516",
   "metadata": {},
   "outputs": [
    {
     "data": {
      "text/plain": [
       "Captur                4.540541\n",
       "Duster                4.497297\n",
       "Clio                  4.367568\n",
       "Kadjar                2.421622\n",
       "Mégane Hatch          1.772973\n",
       "                        ...   \n",
       "Swift Sport           0.021622\n",
       "Flying Spur MY22.5    0.021622\n",
       "Highlander            0.021622\n",
       "540C                  0.021622\n",
       "Soul EV MY22          0.021622\n",
       "Name: Model, Length: 324, dtype: float64"
      ]
     },
     "execution_count": 27,
     "metadata": {},
     "output_type": "execute_result"
    }
   ],
   "source": [
    "df.Model.value_counts()*100/len(df)"
   ]
  },
  {
   "cell_type": "code",
   "execution_count": 28,
   "id": "ce889286",
   "metadata": {},
   "outputs": [],
   "source": [
    "# column Model to be dropped "
   ]
  },
  {
   "cell_type": "code",
   "execution_count": 29,
   "id": "2c5b1749",
   "metadata": {},
   "outputs": [],
   "source": [
    "pd.set_option('display.max_rows', None)"
   ]
  },
  {
   "cell_type": "code",
   "execution_count": 92,
   "id": "b69205f7",
   "metadata": {},
   "outputs": [
    {
     "data": {
      "text/plain": [
       "Petrol                  2308\n",
       "Diesel                  1066\n",
       "Petrol Electric          748\n",
       "Electricity              239\n",
       "Electricity / Petrol     122\n",
       "Diesel Electric           70\n",
       "Petrol / LPG              62\n",
       "Electricity / Diesel      10\n",
       "Name: Fuel_Type, dtype: int64"
      ]
     },
     "execution_count": 92,
     "metadata": {},
     "output_type": "execute_result"
    }
   ],
   "source": [
    "df.Fuel_Type.value_counts()"
   ]
  },
  {
   "cell_type": "code",
   "execution_count": 93,
   "id": "4d10349f",
   "metadata": {},
   "outputs": [
    {
     "data": {
      "text/plain": [
       "Internal Combustion Engine (ICE)          3344\n",
       "Hybrid Electric Vehicle (HEV)              557\n",
       "Mild Hybrid Electric Vehicle (MHEV)        341\n",
       "Battery Electric Vehicle (BEV)             239\n",
       "Plug-in Hybrid Electric Vehicle (PHEV)     132\n",
       "Micro-hybrid                                12\n",
       "Name: Powertrain, dtype: int64"
      ]
     },
     "execution_count": 93,
     "metadata": {},
     "output_type": "execute_result"
    }
   ],
   "source": [
    "df.Powertrain.value_counts()"
   ]
  },
  {
   "cell_type": "code",
   "execution_count": 94,
   "id": "8d946152",
   "metadata": {},
   "outputs": [
    {
     "data": {
      "text/plain": [
       "Euro 6d                        2945\n",
       "Euro 6d-TEMP                   1299\n",
       "Euro 6-WLTP (for BEVs only)     239\n",
       "Euro 6c                         142\n",
       "Name: Euro_Standard, dtype: int64"
      ]
     },
     "execution_count": 94,
     "metadata": {},
     "output_type": "execute_result"
    }
   ],
   "source": [
    "df.Euro_Standard.value_counts()"
   ]
  },
  {
   "cell_type": "code",
   "execution_count": 95,
   "id": "4ec9f41b",
   "metadata": {},
   "outputs": [
    {
     "data": {
      "text/plain": [
       "Index(['Unnamed: 0', 'Manuf', 'Model', 'Desc', 'Engine_Capacity', 'Fuel_Type',\n",
       "       'Powertrain', 'Euro_Standard', 'Diesel_VED_Supplement', 'Fuel_Cost',\n",
       "       'Electric_Cost', 'Total_Cost', 'Noise_Level'],\n",
       "      dtype='object')"
      ]
     },
     "execution_count": 95,
     "metadata": {},
     "output_type": "execute_result"
    }
   ],
   "source": [
    "df.columns"
   ]
  },
  {
   "cell_type": "code",
   "execution_count": 34,
   "id": "19b1677b",
   "metadata": {},
   "outputs": [],
   "source": [
    "# Step 4: Data Visualization"
   ]
  },
  {
   "cell_type": "code",
   "execution_count": 96,
   "id": "d81a280d",
   "metadata": {},
   "outputs": [
    {
     "data": {
      "image/png": "[encoded data removed]",
      "text/plain": [
       "<Figure size 800x500 with 1 Axes>"
      ]
     },
     "metadata": {},
     "output_type": "display_data"
    }
   ],
   "source": [
    "# Univariate Histogram\n",
    "plt.figure(figsize=(8, 5))\n",
    "sns.histplot(df['Total_Cost'], bins=20, kde=True)\n",
    "plt.title('Histogram of Total COst')\n",
    "plt.xlabel('Total Cost')\n",
    "plt.ylabel('Frequency')\n",
    "plt.show()"
   ]
  },
  {
   "cell_type": "code",
   "execution_count": 36,
   "id": "9a4c3c6e",
   "metadata": {},
   "outputs": [],
   "source": [
    "# there may be lot of upper end outliers in Total Cost and it forms a uniform distribution"
   ]
  },
  {
   "cell_type": "code",
   "execution_count": 97,
   "id": "ed4bc627",
   "metadata": {},
   "outputs": [
    {
     "data": {
      "image/png": "[encoded data removed]",
      "text/plain": [
       "<Figure size 800x500 with 1 Axes>"
      ]
     },
     "metadata": {},
     "output_type": "display_data"
    }
   ],
   "source": [
    "# Univariate Histogram\n",
    "plt.figure(figsize=(8, 5))\n",
    "sns.histplot(df['Fuel_Cost'], bins=20, kde=True)\n",
    "plt.title('Histogram of Fuel_Cost')\n",
    "plt.xlabel('Fuel_Cost')\n",
    "plt.ylabel('Frequency')\n",
    "plt.show()"
   ]
  },
  {
   "cell_type": "code",
   "execution_count": 38,
   "id": "ade22d84",
   "metadata": {},
   "outputs": [],
   "source": [
    "# there may be  outliers in Fuel Cost"
   ]
  },
  {
   "cell_type": "code",
   "execution_count": 98,
   "id": "a5df31a8",
   "metadata": {},
   "outputs": [
    {
     "data": {
      "image/png": "[encoded data removed]",
      "text/plain": [
       "<Figure size 800x500 with 1 Axes>"
      ]
     },
     "metadata": {},
     "output_type": "display_data"
    }
   ],
   "source": [
    "# Univariate Histogram\n",
    "plt.figure(figsize=(8, 5))\n",
    "sns.histplot(df['Engine_Capacity'], bins=20, kde=True)\n",
    "plt.title('Histogram of Engine Capacity')\n",
    "plt.xlabel('Engine Capacity')\n",
    "plt.ylabel('Frequency')\n",
    "plt.show()"
   ]
  },
  {
   "cell_type": "code",
   "execution_count": 40,
   "id": "2fad8316",
   "metadata": {},
   "outputs": [
    {
     "data": {
      "image/png": "[encoded data removed]",
      "text/plain": [
       "<Figure size 800x500 with 1 Axes>"
      ]
     },
     "metadata": {},
     "output_type": "display_data"
    }
   ],
   "source": [
    "# Univariate Histogram\n",
    "plt.figure(figsize=(8, 5))\n",
    "sns.histplot(df['Electric_Cost'], bins=20, kde=True)\n",
    "plt.title('Histogram of Electric Cost')\n",
    "plt.xlabel('Electric Cost')\n",
    "plt.ylabel('Frequency')\n",
    "plt.show()"
   ]
  },
  {
   "cell_type": "code",
   "execution_count": 41,
   "id": "81fafa70",
   "metadata": {},
   "outputs": [],
   "source": [
    "# there may be outliers in upper end"
   ]
  },
  {
   "cell_type": "code",
   "execution_count": 100,
   "id": "fd873d01",
   "metadata": {},
   "outputs": [
    {
     "data": {
      "image/png": "[encoded data removed]",
      "text/plain": [
       "<Figure size 800x500 with 1 Axes>"
      ]
     },
     "metadata": {},
     "output_type": "display_data"
    }
   ],
   "source": [
    "# Univariate Pie Chart\n",
    "plt.figure(figsize=(8, 5))\n",
    "df['Fuel_Type'].value_counts().plot(kind='pie', autopct='%1.1f%%', colors=sns.color_palette('pastel'))\n",
    "plt.title('Pie Chart of Fuel Type')\n",
    "plt.ylabel('')\n",
    "plt.show()"
   ]
  },
  {
   "cell_type": "code",
   "execution_count": 44,
   "id": "79a47849",
   "metadata": {},
   "outputs": [],
   "source": [
    "# sub categories are not equally distributed"
   ]
  },
  {
   "cell_type": "code",
   "execution_count": 101,
   "id": "ae824a6a",
   "metadata": {},
   "outputs": [
    {
     "data": {
      "image/png": "[encoded data removed]",
      "text/plain": [
       "<Figure size 800x500 with 1 Axes>"
      ]
     },
     "metadata": {},
     "output_type": "display_data"
    }
   ],
   "source": [
    "# Univariate Pie Chart\n",
    "plt.figure(figsize=(8, 5))\n",
    "df['Euro_Standard'].value_counts().plot(kind='pie', autopct='%1.1f%%', colors=sns.color_palette('pastel'))\n",
    "plt.title('Pie Chart of Euro Standard')\n",
    "plt.ylabel('')\n",
    "plt.show()"
   ]
  },
  {
   "cell_type": "code",
   "execution_count": 46,
   "id": "9357778b",
   "metadata": {},
   "outputs": [],
   "source": [
    "# Euro standards is not equally distributed"
   ]
  },
  {
   "cell_type": "code",
   "execution_count": 102,
   "id": "8f5bdaa0",
   "metadata": {},
   "outputs": [
    {
     "data": {
      "image/png": "[encoded data removed]",
      "text/plain": [
       "<Figure size 800x500 with 1 Axes>"
      ]
     },
     "metadata": {},
     "output_type": "display_data"
    }
   ],
   "source": [
    "# Univariate Pie Chart\n",
    "plt.figure(figsize=(8, 5))\n",
    "df['Powertrain'].value_counts().plot(kind='pie', autopct='%1.1f%%', colors=sns.color_palette('pastel'))\n",
    "plt.title('Pie Chart of Power Train')\n",
    "plt.ylabel('')\n",
    "plt.show()"
   ]
  },
  {
   "cell_type": "code",
   "execution_count": 103,
   "id": "af069659",
   "metadata": {},
   "outputs": [
    {
     "data": {
      "image/png": "[encoded data removed]",
      "text/plain": [
       "<Figure size 800x500 with 1 Axes>"
      ]
     },
     "metadata": {},
     "output_type": "display_data"
    }
   ],
   "source": [
    "# Univariate Box Plot\n",
    "plt.figure(figsize=(8, 5))\n",
    "sns.boxplot(x=df['Total_Cost'])\n",
    "plt.title('Box Plot of Total_Cost')\n",
    "plt.xlabel('Total Cost')\n",
    "plt.show()"
   ]
  },
  {
   "cell_type": "code",
   "execution_count": 50,
   "id": "8a440f90",
   "metadata": {},
   "outputs": [],
   "source": [
    "# there are outliers in total cost column"
   ]
  },
  {
   "cell_type": "code",
   "execution_count": 104,
   "id": "59013f8b",
   "metadata": {},
   "outputs": [
    {
     "data": {
      "image/png": "[encoded data removed]",
      "text/plain": [
       "<Figure size 800x500 with 1 Axes>"
      ]
     },
     "metadata": {},
     "output_type": "display_data"
    }
   ],
   "source": [
    "\n",
    "# Univariate Box Plot\n",
    "plt.figure(figsize=(8, 5))\n",
    "sns.boxplot(x=df['Fuel_Cost'])\n",
    "plt.title('Box Plot of Fuel cost')\n",
    "plt.xlabel('fuel cost')\n",
    "plt.show()"
   ]
  },
  {
   "cell_type": "code",
   "execution_count": 105,
   "id": "4a93b864",
   "metadata": {},
   "outputs": [
    {
     "data": {
      "text/plain": [
       "<Axes: xlabel='Fuel_Cost', ylabel='Total_Cost'>"
      ]
     },
     "execution_count": 105,
     "metadata": {},
     "output_type": "execute_result"
    },
    {
     "data": {
      "image/png": "[encoded data removed]",
      "text/plain": [
       "<Figure size 640x480 with 1 Axes>"
      ]
     },
     "metadata": {},
     "output_type": "display_data"
    }
   ],
   "source": [
    "sns.scatterplot(x=df.Fuel_Cost, y=df.Total_Cost)"
   ]
  },
  {
   "cell_type": "code",
   "execution_count": null,
   "id": "f4ad68d2",
   "metadata": {},
   "outputs": [],
   "source": [
    "# total cost seems to be incrasing with fuel cost"
   ]
  },
  {
   "cell_type": "code",
   "execution_count": 106,
   "id": "bd93fe67",
   "metadata": {},
   "outputs": [
    {
     "data": {
      "text/plain": [
       "<Axes: xlabel='Engine_Capacity', ylabel='Total_Cost'>"
      ]
     },
     "execution_count": 106,
     "metadata": {},
     "output_type": "execute_result"
    },
    {
     "data": {
      "image/png": "[encoded data removed]",
      "text/plain": [
       "<Figure size 640x480 with 1 Axes>"
      ]
     },
     "metadata": {},
     "output_type": "display_data"
    }
   ],
   "source": [
    "sns.scatterplot(x=df.Engine_Capacity, y=df.Total_Cost)"
   ]
  },
  {
   "cell_type": "code",
   "execution_count": null,
   "id": "629b7395",
   "metadata": {},
   "outputs": [],
   "source": [
    "# Step 5: Observations from data visualization\n",
    "# - The Unnamed,Desc,Diesel_VED_Supplement,model columns has to be removed\n",
    "# - Outliers require rows to be trimmed\n",
    "# - all the Manuf with rows less than 1% may be removed\n",
    "\n"
   ]
  },
  {
   "cell_type": "markdown",
   "id": "2548df4e",
   "metadata": {},
   "source": [
    "# Data Preprocessing"
   ]
  },
  {
   "cell_type": "code",
   "execution_count": 107,
   "id": "88eb7dc0",
   "metadata": {},
   "outputs": [],
   "source": [
    "# Step 1: Remove columns - Unnamed,Desc,Diesel_VED_Supplement\n",
    "df = df.drop(columns=['Unnamed: 0', 'Diesel_VED_Supplement','Desc','Model'])"
   ]
  },
  {
   "cell_type": "code",
   "execution_count": 108,
   "id": "17260432",
   "metadata": {},
   "outputs": [
    {
     "data": {
      "text/plain": [
       "(4625, 9)"
      ]
     },
     "execution_count": 108,
     "metadata": {},
     "output_type": "execute_result"
    }
   ],
   "source": [
    "df.shape"
   ]
  },
  {
   "cell_type": "code",
   "execution_count": 109,
   "id": "8d3e74fa",
   "metadata": {},
   "outputs": [],
   "source": [
    "# Step 2: remove less frequent manufacturers from the dataframe\n",
    "common_manufacturers = df['Manuf'].value_counts() * 100 / len(df) > 1\n",
    "df = df[df['Manuf'].isin(common_manufacturers[common_manufacturers].index)]"
   ]
  },
  {
   "cell_type": "code",
   "execution_count": 110,
   "id": "4343c917",
   "metadata": {},
   "outputs": [
    {
     "data": {
      "text/plain": [
       "(4255, 9)"
      ]
     },
     "execution_count": 110,
     "metadata": {},
     "output_type": "execute_result"
    }
   ],
   "source": [
    "df.shape"
   ]
  },
  {
   "cell_type": "code",
   "execution_count": 111,
   "id": "9c3d8ad8",
   "metadata": {},
   "outputs": [
    {
     "data": {
      "text/plain": [
       "RENAULT          934\n",
       "DACIA            410\n",
       "TOYOTA           354\n",
       "FORD             322\n",
       "HONDA            294\n",
       "MERCEDES-BENZ    292\n",
       "LAND ROVER       289\n",
       "MAZDA            217\n",
       "SEAT             187\n",
       "PEUGEOT          142\n",
       "KIA              136\n",
       "FIAT             111\n",
       "JAGUAR           105\n",
       "LEXUS            105\n",
       "CITROEN           98\n",
       "HYUNDAI           94\n",
       "CHRYSLER JEEP     62\n",
       "VOLVO             53\n",
       "NISSAN            50\n",
       "Name: Manuf, dtype: int64"
      ]
     },
     "execution_count": 111,
     "metadata": {},
     "output_type": "execute_result"
    }
   ],
   "source": [
    "df.Manuf.value_counts()"
   ]
  },
  {
   "cell_type": "code",
   "execution_count": 112,
   "id": "9276804b",
   "metadata": {},
   "outputs": [
    {
     "data": {
      "text/html": [
       "<div>\n",
       "<style scoped>\n",
       "    .dataframe tbody tr th:only-of-type {\n",
       "        vertical-align: middle;\n",
       "    }\n",
       "\n",
       "    .dataframe tbody tr th {\n",
       "        vertical-align: top;\n",
       "    }\n",
       "\n",
       "    .dataframe thead th {\n",
       "        text-align: right;\n",
       "    }\n",
       "</style>\n",
       "<table border=\"1\" class=\"dataframe\">\n",
       "  <thead>\n",
       "    <tr style=\"text-align: right;\">\n",
       "      <th></th>\n",
       "      <th>Engine_Capacity</th>\n",
       "      <th>Fuel_Cost</th>\n",
       "      <th>Electric_Cost</th>\n",
       "      <th>Total_Cost</th>\n",
       "      <th>Noise_Level</th>\n",
       "    </tr>\n",
       "  </thead>\n",
       "  <tbody>\n",
       "    <tr>\n",
       "      <th>128</th>\n",
       "      <td>1332</td>\n",
       "      <td>1801</td>\n",
       "      <td>0</td>\n",
       "      <td>1801</td>\n",
       "      <td>70.0</td>\n",
       "    </tr>\n",
       "    <tr>\n",
       "      <th>129</th>\n",
       "      <td>1332</td>\n",
       "      <td>1935</td>\n",
       "      <td>0</td>\n",
       "      <td>1935</td>\n",
       "      <td>70.0</td>\n",
       "    </tr>\n",
       "    <tr>\n",
       "      <th>130</th>\n",
       "      <td>1469</td>\n",
       "      <td>1532</td>\n",
       "      <td>0</td>\n",
       "      <td>1532</td>\n",
       "      <td>68.0</td>\n",
       "    </tr>\n",
       "    <tr>\n",
       "      <th>131</th>\n",
       "      <td>1469</td>\n",
       "      <td>1639</td>\n",
       "      <td>0</td>\n",
       "      <td>1639</td>\n",
       "      <td>68.0</td>\n",
       "    </tr>\n",
       "    <tr>\n",
       "      <th>132</th>\n",
       "      <td>1332</td>\n",
       "      <td>1801</td>\n",
       "      <td>0</td>\n",
       "      <td>1801</td>\n",
       "      <td>70.0</td>\n",
       "    </tr>\n",
       "  </tbody>\n",
       "</table>\n",
       "</div>"
      ],
      "text/plain": [
       "     Engine_Capacity  Fuel_Cost  Electric_Cost  Total_Cost  Noise_Level\n",
       "128             1332       1801              0        1801         70.0\n",
       "129             1332       1935              0        1935         70.0\n",
       "130             1469       1532              0        1532         68.0\n",
       "131             1469       1639              0        1639         68.0\n",
       "132             1332       1801              0        1801         70.0"
      ]
     },
     "execution_count": 112,
     "metadata": {},
     "output_type": "execute_result"
    }
   ],
   "source": [
    "# Step 3: Split numeric columns into X\n",
    "df_num = df.select_dtypes(include='number')\n",
    "df_num.head()"
   ]
  },
  {
   "cell_type": "code",
   "execution_count": 113,
   "id": "e3d37262",
   "metadata": {},
   "outputs": [],
   "source": [
    "# function to remove outlier\n",
    "def outlier_remover(df_num,df):\n",
    "    Q1 = df_num.quantile(0.25)\n",
    "    Q3 = df_num.quantile(0.75)\n",
    "    IQR = Q3 - Q1\n",
    "    lower_bound = Q1 - 1.5 * IQR\n",
    "    upper_bound = Q3 + 1.5 * IQR\n",
    "    df = df[~((df_num < lower_bound) | (df_num > upper_bound)).any(axis=1)]\n",
    "    return df\n"
   ]
  },
  {
   "cell_type": "code",
   "execution_count": 114,
   "id": "53b6071e",
   "metadata": {},
   "outputs": [],
   "source": [
    "df = outlier_remover(df_num,df)"
   ]
  },
  {
   "cell_type": "code",
   "execution_count": 115,
   "id": "2952da28",
   "metadata": {},
   "outputs": [
    {
     "data": {
      "text/plain": [
       "(3140, 9)"
      ]
     },
     "execution_count": 115,
     "metadata": {},
     "output_type": "execute_result"
    }
   ],
   "source": [
    "df.shape"
   ]
  },
  {
   "cell_type": "code",
   "execution_count": 116,
   "id": "60d19c09",
   "metadata": {},
   "outputs": [
    {
     "data": {
      "text/plain": [
       "<Axes: xlabel='Total_Cost'>"
      ]
     },
     "execution_count": 116,
     "metadata": {},
     "output_type": "execute_result"
    },
    {
     "data": {
      "image/png": "[encoded data removed]",
      "text/plain": [
       "<Figure size 640x480 with 1 Axes>"
      ]
     },
     "metadata": {},
     "output_type": "display_data"
    }
   ],
   "source": [
    "sns.boxplot(x=df['Total_Cost'])"
   ]
  },
  {
   "cell_type": "code",
   "execution_count": 117,
   "id": "61efdb5c",
   "metadata": {},
   "outputs": [],
   "source": [
    "df_num = df.select_dtypes(include='number')\n",
    "df = outlier_remover(df_num,df)"
   ]
  },
  {
   "cell_type": "code",
   "execution_count": 118,
   "id": "3382b8ff",
   "metadata": {},
   "outputs": [
    {
     "data": {
      "text/plain": [
       "<Axes: xlabel='Total_Cost'>"
      ]
     },
     "execution_count": 118,
     "metadata": {},
     "output_type": "execute_result"
    },
    {
     "data": {
      "image/png": "[encoded data removed]",
      "text/plain": [
       "<Figure size 640x480 with 1 Axes>"
      ]
     },
     "metadata": {},
     "output_type": "display_data"
    }
   ],
   "source": [
    "sns.boxplot(x=df['Total_Cost'])"
   ]
  },
  {
   "cell_type": "code",
   "execution_count": 119,
   "id": "2a2124ab",
   "metadata": {},
   "outputs": [
    {
     "data": {
      "text/plain": [
       "(3010, 9)"
      ]
     },
     "execution_count": 119,
     "metadata": {},
     "output_type": "execute_result"
    }
   ],
   "source": [
    "df.shape"
   ]
  },
  {
   "cell_type": "code",
   "execution_count": 120,
   "id": "6e3d4386",
   "metadata": {},
   "outputs": [
    {
     "data": {
      "text/html": [
       "<div>\n",
       "<style scoped>\n",
       "    .dataframe tbody tr th:only-of-type {\n",
       "        vertical-align: middle;\n",
       "    }\n",
       "\n",
       "    .dataframe tbody tr th {\n",
       "        vertical-align: top;\n",
       "    }\n",
       "\n",
       "    .dataframe thead th {\n",
       "        text-align: right;\n",
       "    }\n",
       "</style>\n",
       "<table border=\"1\" class=\"dataframe\">\n",
       "  <thead>\n",
       "    <tr style=\"text-align: right;\">\n",
       "      <th></th>\n",
       "      <th>Manuf</th>\n",
       "      <th>Engine_Capacity</th>\n",
       "      <th>Fuel_Type</th>\n",
       "      <th>Powertrain</th>\n",
       "      <th>Euro_Standard</th>\n",
       "      <th>Fuel_Cost</th>\n",
       "      <th>Electric_Cost</th>\n",
       "      <th>Noise_Level</th>\n",
       "    </tr>\n",
       "  </thead>\n",
       "  <tbody>\n",
       "    <tr>\n",
       "      <th>128</th>\n",
       "      <td>CHRYSLER JEEP</td>\n",
       "      <td>1332</td>\n",
       "      <td>Petrol</td>\n",
       "      <td>Internal Combustion Engine (ICE)</td>\n",
       "      <td>Euro 6d</td>\n",
       "      <td>1801</td>\n",
       "      <td>0</td>\n",
       "      <td>70.0</td>\n",
       "    </tr>\n",
       "    <tr>\n",
       "      <th>129</th>\n",
       "      <td>CHRYSLER JEEP</td>\n",
       "      <td>1332</td>\n",
       "      <td>Petrol</td>\n",
       "      <td>Internal Combustion Engine (ICE)</td>\n",
       "      <td>Euro 6d</td>\n",
       "      <td>1935</td>\n",
       "      <td>0</td>\n",
       "      <td>70.0</td>\n",
       "    </tr>\n",
       "    <tr>\n",
       "      <th>130</th>\n",
       "      <td>CHRYSLER JEEP</td>\n",
       "      <td>1469</td>\n",
       "      <td>Petrol Electric</td>\n",
       "      <td>Mild Hybrid Electric Vehicle (MHEV)</td>\n",
       "      <td>Euro 6d</td>\n",
       "      <td>1532</td>\n",
       "      <td>0</td>\n",
       "      <td>68.0</td>\n",
       "    </tr>\n",
       "    <tr>\n",
       "      <th>131</th>\n",
       "      <td>CHRYSLER JEEP</td>\n",
       "      <td>1469</td>\n",
       "      <td>Petrol Electric</td>\n",
       "      <td>Mild Hybrid Electric Vehicle (MHEV)</td>\n",
       "      <td>Euro 6d</td>\n",
       "      <td>1639</td>\n",
       "      <td>0</td>\n",
       "      <td>68.0</td>\n",
       "    </tr>\n",
       "    <tr>\n",
       "      <th>132</th>\n",
       "      <td>CHRYSLER JEEP</td>\n",
       "      <td>1332</td>\n",
       "      <td>Petrol</td>\n",
       "      <td>Internal Combustion Engine (ICE)</td>\n",
       "      <td>Euro 6d</td>\n",
       "      <td>1801</td>\n",
       "      <td>0</td>\n",
       "      <td>70.0</td>\n",
       "    </tr>\n",
       "  </tbody>\n",
       "</table>\n",
       "</div>"
      ],
      "text/plain": [
       "             Manuf  Engine_Capacity        Fuel_Type  \\\n",
       "128  CHRYSLER JEEP             1332           Petrol   \n",
       "129  CHRYSLER JEEP             1332           Petrol   \n",
       "130  CHRYSLER JEEP             1469  Petrol Electric   \n",
       "131  CHRYSLER JEEP             1469  Petrol Electric   \n",
       "132  CHRYSLER JEEP             1332           Petrol   \n",
       "\n",
       "                              Powertrain Euro_Standard  Fuel_Cost  \\\n",
       "128     Internal Combustion Engine (ICE)       Euro 6d       1801   \n",
       "129     Internal Combustion Engine (ICE)       Euro 6d       1935   \n",
       "130  Mild Hybrid Electric Vehicle (MHEV)       Euro 6d       1532   \n",
       "131  Mild Hybrid Electric Vehicle (MHEV)       Euro 6d       1639   \n",
       "132     Internal Combustion Engine (ICE)       Euro 6d       1801   \n",
       "\n",
       "     Electric_Cost  Noise_Level  \n",
       "128              0         70.0  \n",
       "129              0         70.0  \n",
       "130              0         68.0  \n",
       "131              0         68.0  \n",
       "132              0         70.0  "
      ]
     },
     "execution_count": 120,
     "metadata": {},
     "output_type": "execute_result"
    }
   ],
   "source": [
    "X = df.drop('Total_Cost', axis=1)\n",
    "y = df.Total_Cost\n",
    "X.head()"
   ]
  },
  {
   "cell_type": "code",
   "execution_count": 121,
   "id": "c4048c27",
   "metadata": {},
   "outputs": [
    {
     "data": {
      "text/html": [
       "<div>\n",
       "<style scoped>\n",
       "    .dataframe tbody tr th:only-of-type {\n",
       "        vertical-align: middle;\n",
       "    }\n",
       "\n",
       "    .dataframe tbody tr th {\n",
       "        vertical-align: top;\n",
       "    }\n",
       "\n",
       "    .dataframe thead th {\n",
       "        text-align: right;\n",
       "    }\n",
       "</style>\n",
       "<table border=\"1\" class=\"dataframe\">\n",
       "  <thead>\n",
       "    <tr style=\"text-align: right;\">\n",
       "      <th></th>\n",
       "      <th>Engine_Capacity</th>\n",
       "      <th>Fuel_Cost</th>\n",
       "      <th>Electric_Cost</th>\n",
       "      <th>Noise_Level</th>\n",
       "    </tr>\n",
       "  </thead>\n",
       "  <tbody>\n",
       "    <tr>\n",
       "      <th>128</th>\n",
       "      <td>1332</td>\n",
       "      <td>1801</td>\n",
       "      <td>0</td>\n",
       "      <td>70.0</td>\n",
       "    </tr>\n",
       "    <tr>\n",
       "      <th>129</th>\n",
       "      <td>1332</td>\n",
       "      <td>1935</td>\n",
       "      <td>0</td>\n",
       "      <td>70.0</td>\n",
       "    </tr>\n",
       "    <tr>\n",
       "      <th>130</th>\n",
       "      <td>1469</td>\n",
       "      <td>1532</td>\n",
       "      <td>0</td>\n",
       "      <td>68.0</td>\n",
       "    </tr>\n",
       "    <tr>\n",
       "      <th>131</th>\n",
       "      <td>1469</td>\n",
       "      <td>1639</td>\n",
       "      <td>0</td>\n",
       "      <td>68.0</td>\n",
       "    </tr>\n",
       "    <tr>\n",
       "      <th>132</th>\n",
       "      <td>1332</td>\n",
       "      <td>1801</td>\n",
       "      <td>0</td>\n",
       "      <td>70.0</td>\n",
       "    </tr>\n",
       "  </tbody>\n",
       "</table>\n",
       "</div>"
      ],
      "text/plain": [
       "     Engine_Capacity  Fuel_Cost  Electric_Cost  Noise_Level\n",
       "128             1332       1801              0         70.0\n",
       "129             1332       1935              0         70.0\n",
       "130             1469       1532              0         68.0\n",
       "131             1469       1639              0         68.0\n",
       "132             1332       1801              0         70.0"
      ]
     },
     "execution_count": 121,
     "metadata": {},
     "output_type": "execute_result"
    }
   ],
   "source": [
    "X_num = X.select_dtypes('number')\n",
    "X_num.head()"
   ]
  },
  {
   "cell_type": "code",
   "execution_count": 122,
   "id": "8a4ba7d1",
   "metadata": {},
   "outputs": [
    {
     "data": {
      "text/html": [
       "<div>\n",
       "<style scoped>\n",
       "    .dataframe tbody tr th:only-of-type {\n",
       "        vertical-align: middle;\n",
       "    }\n",
       "\n",
       "    .dataframe tbody tr th {\n",
       "        vertical-align: top;\n",
       "    }\n",
       "\n",
       "    .dataframe thead th {\n",
       "        text-align: right;\n",
       "    }\n",
       "</style>\n",
       "<table border=\"1\" class=\"dataframe\">\n",
       "  <thead>\n",
       "    <tr style=\"text-align: right;\">\n",
       "      <th></th>\n",
       "      <th>Manuf</th>\n",
       "      <th>Fuel_Type</th>\n",
       "      <th>Powertrain</th>\n",
       "      <th>Euro_Standard</th>\n",
       "    </tr>\n",
       "  </thead>\n",
       "  <tbody>\n",
       "    <tr>\n",
       "      <th>128</th>\n",
       "      <td>CHRYSLER JEEP</td>\n",
       "      <td>Petrol</td>\n",
       "      <td>Internal Combustion Engine (ICE)</td>\n",
       "      <td>Euro 6d</td>\n",
       "    </tr>\n",
       "    <tr>\n",
       "      <th>129</th>\n",
       "      <td>CHRYSLER JEEP</td>\n",
       "      <td>Petrol</td>\n",
       "      <td>Internal Combustion Engine (ICE)</td>\n",
       "      <td>Euro 6d</td>\n",
       "    </tr>\n",
       "    <tr>\n",
       "      <th>130</th>\n",
       "      <td>CHRYSLER JEEP</td>\n",
       "      <td>Petrol Electric</td>\n",
       "      <td>Mild Hybrid Electric Vehicle (MHEV)</td>\n",
       "      <td>Euro 6d</td>\n",
       "    </tr>\n",
       "    <tr>\n",
       "      <th>131</th>\n",
       "      <td>CHRYSLER JEEP</td>\n",
       "      <td>Petrol Electric</td>\n",
       "      <td>Mild Hybrid Electric Vehicle (MHEV)</td>\n",
       "      <td>Euro 6d</td>\n",
       "    </tr>\n",
       "    <tr>\n",
       "      <th>132</th>\n",
       "      <td>CHRYSLER JEEP</td>\n",
       "      <td>Petrol</td>\n",
       "      <td>Internal Combustion Engine (ICE)</td>\n",
       "      <td>Euro 6d</td>\n",
       "    </tr>\n",
       "  </tbody>\n",
       "</table>\n",
       "</div>"
      ],
      "text/plain": [
       "             Manuf        Fuel_Type                           Powertrain  \\\n",
       "128  CHRYSLER JEEP           Petrol     Internal Combustion Engine (ICE)   \n",
       "129  CHRYSLER JEEP           Petrol     Internal Combustion Engine (ICE)   \n",
       "130  CHRYSLER JEEP  Petrol Electric  Mild Hybrid Electric Vehicle (MHEV)   \n",
       "131  CHRYSLER JEEP  Petrol Electric  Mild Hybrid Electric Vehicle (MHEV)   \n",
       "132  CHRYSLER JEEP           Petrol     Internal Combustion Engine (ICE)   \n",
       "\n",
       "    Euro_Standard  \n",
       "128       Euro 6d  \n",
       "129       Euro 6d  \n",
       "130       Euro 6d  \n",
       "131       Euro 6d  \n",
       "132       Euro 6d  "
      ]
     },
     "execution_count": 122,
     "metadata": {},
     "output_type": "execute_result"
    }
   ],
   "source": [
    "X_cat = X.select_dtypes('object')\n",
    "X_cat.head()"
   ]
  },
  {
   "cell_type": "code",
   "execution_count": 123,
   "id": "a24edc55",
   "metadata": {},
   "outputs": [],
   "source": [
    "# Step 4: Rescale numeric columns (optional, based on the algorithm used)\n",
    "scaler = MinMaxScaler()\n",
    "X_num_scaled = scaler.fit_transform(X_num)"
   ]
  },
  {
   "cell_type": "code",
   "execution_count": 124,
   "id": "6284ac7a",
   "metadata": {},
   "outputs": [],
   "source": [
    "# Convert the scaled numpy array back to a DataFrame\n",
    "X_num_scaled = pd.DataFrame(X_num_scaled, columns=X_num.columns, index=X_num.index)"
   ]
  },
  {
   "cell_type": "code",
   "execution_count": 125,
   "id": "48b2ef6a",
   "metadata": {},
   "outputs": [
    {
     "data": {
      "text/html": [
       "<div>\n",
       "<style scoped>\n",
       "    .dataframe tbody tr th:only-of-type {\n",
       "        vertical-align: middle;\n",
       "    }\n",
       "\n",
       "    .dataframe tbody tr th {\n",
       "        vertical-align: top;\n",
       "    }\n",
       "\n",
       "    .dataframe thead th {\n",
       "        text-align: right;\n",
       "    }\n",
       "</style>\n",
       "<table border=\"1\" class=\"dataframe\">\n",
       "  <thead>\n",
       "    <tr style=\"text-align: right;\">\n",
       "      <th></th>\n",
       "      <th>Engine_Capacity</th>\n",
       "      <th>Fuel_Cost</th>\n",
       "      <th>Electric_Cost</th>\n",
       "      <th>Noise_Level</th>\n",
       "    </tr>\n",
       "  </thead>\n",
       "  <tbody>\n",
       "    <tr>\n",
       "      <th>count</th>\n",
       "      <td>3010.000000</td>\n",
       "      <td>3010.000000</td>\n",
       "      <td>3010.0</td>\n",
       "      <td>3010.000000</td>\n",
       "    </tr>\n",
       "    <tr>\n",
       "      <th>mean</th>\n",
       "      <td>0.336304</td>\n",
       "      <td>0.507202</td>\n",
       "      <td>0.0</td>\n",
       "      <td>0.506831</td>\n",
       "    </tr>\n",
       "    <tr>\n",
       "      <th>std</th>\n",
       "      <td>0.210869</td>\n",
       "      <td>0.174366</td>\n",
       "      <td>0.0</td>\n",
       "      <td>0.191917</td>\n",
       "    </tr>\n",
       "    <tr>\n",
       "      <th>min</th>\n",
       "      <td>0.000000</td>\n",
       "      <td>0.000000</td>\n",
       "      <td>0.0</td>\n",
       "      <td>0.000000</td>\n",
       "    </tr>\n",
       "    <tr>\n",
       "      <th>25%</th>\n",
       "      <td>0.221951</td>\n",
       "      <td>0.366902</td>\n",
       "      <td>0.0</td>\n",
       "      <td>0.375000</td>\n",
       "    </tr>\n",
       "    <tr>\n",
       "      <th>50%</th>\n",
       "      <td>0.303902</td>\n",
       "      <td>0.493522</td>\n",
       "      <td>0.0</td>\n",
       "      <td>0.500000</td>\n",
       "    </tr>\n",
       "    <tr>\n",
       "      <th>75%</th>\n",
       "      <td>0.545366</td>\n",
       "      <td>0.604829</td>\n",
       "      <td>0.0</td>\n",
       "      <td>0.625000</td>\n",
       "    </tr>\n",
       "    <tr>\n",
       "      <th>max</th>\n",
       "      <td>1.000000</td>\n",
       "      <td>1.000000</td>\n",
       "      <td>0.0</td>\n",
       "      <td>1.000000</td>\n",
       "    </tr>\n",
       "  </tbody>\n",
       "</table>\n",
       "</div>"
      ],
      "text/plain": [
       "       Engine_Capacity    Fuel_Cost  Electric_Cost  Noise_Level\n",
       "count      3010.000000  3010.000000         3010.0  3010.000000\n",
       "mean          0.336304     0.507202            0.0     0.506831\n",
       "std           0.210869     0.174366            0.0     0.191917\n",
       "min           0.000000     0.000000            0.0     0.000000\n",
       "25%           0.221951     0.366902            0.0     0.375000\n",
       "50%           0.303902     0.493522            0.0     0.500000\n",
       "75%           0.545366     0.604829            0.0     0.625000\n",
       "max           1.000000     1.000000            0.0     1.000000"
      ]
     },
     "execution_count": 125,
     "metadata": {},
     "output_type": "execute_result"
    }
   ],
   "source": [
    "X_num_scaled.describe()"
   ]
  },
  {
   "cell_type": "code",
   "execution_count": 126,
   "id": "5a89138e",
   "metadata": {},
   "outputs": [],
   "source": [
    "# Step 5: One-hot encode category columns\n",
    "X_cat_encoded = pd.get_dummies(X_cat, drop_first=False, dtype=int)  "
   ]
  },
  {
   "cell_type": "code",
   "execution_count": 127,
   "id": "892069c9",
   "metadata": {},
   "outputs": [],
   "source": [
    "# Step 6: Merge df_num and df_cat_encoded into X\n",
    "X = pd.concat([X_num_scaled, X_cat_encoded], axis=1)"
   ]
  },
  {
   "cell_type": "code",
   "execution_count": 128,
   "id": "f07fbbac",
   "metadata": {},
   "outputs": [
    {
     "data": {
      "text/plain": [
       "((3010, 33), (3010, 4), (3010, 29))"
      ]
     },
     "execution_count": 128,
     "metadata": {},
     "output_type": "execute_result"
    }
   ],
   "source": [
    " X.shape, X_num_scaled.shape, X_cat_encoded.shape"
   ]
  },
  {
   "cell_type": "code",
   "execution_count": 129,
   "id": "557dc287",
   "metadata": {},
   "outputs": [
    {
     "name": "stdout",
     "output_type": "stream",
     "text": [
      "\n",
      "Step 7: Checking for NAs and Shape Compatibility\n",
      "Engine_Capacity                                   0\n",
      "Fuel_Cost                                         0\n",
      "Electric_Cost                                     0\n",
      "Noise_Level                                       0\n",
      "Manuf_CHRYSLER JEEP                               0\n",
      "Manuf_CITROEN                                     0\n",
      "Manuf_DACIA                                       0\n",
      "Manuf_FIAT                                        0\n",
      "Manuf_FORD                                        0\n",
      "Manuf_HONDA                                       0\n",
      "Manuf_HYUNDAI                                     0\n",
      "Manuf_JAGUAR                                      0\n",
      "Manuf_KIA                                         0\n",
      "Manuf_LAND ROVER                                  0\n",
      "Manuf_LEXUS                                       0\n",
      "Manuf_MAZDA                                       0\n",
      "Manuf_MERCEDES-BENZ                               0\n",
      "Manuf_PEUGEOT                                     0\n",
      "Manuf_RENAULT                                     0\n",
      "Manuf_TOYOTA                                      0\n",
      "Manuf_VOLVO                                       0\n",
      "Fuel_Type_Diesel                                  0\n",
      "Fuel_Type_Diesel Electric                         0\n",
      "Fuel_Type_Petrol                                  0\n",
      "Fuel_Type_Petrol / LPG                            0\n",
      "Fuel_Type_Petrol Electric                         0\n",
      "Powertrain_Hybrid Electric Vehicle (HEV)          0\n",
      "Powertrain_Internal Combustion Engine (ICE)       0\n",
      "Powertrain_Micro-hybrid                           0\n",
      "Powertrain_Mild Hybrid Electric Vehicle (MHEV)    0\n",
      "Euro_Standard_Euro 6c                             0\n",
      "Euro_Standard_Euro 6d                             0\n",
      "Euro_Standard_Euro 6d-TEMP                        0\n",
      "dtype: int64\n",
      "0\n",
      "(3010, 33)\n",
      "(3010,)\n"
     ]
    }
   ],
   "source": [
    "# Step 7: Check for NA in X and y; Check for shape compatibility\n",
    "print(\"\\nStep 7: Checking for NAs and Shape Compatibility\")\n",
    "print(X.isnull().sum())\n",
    "print(y.isnull().sum())\n",
    "print(X.shape)\n",
    "print(y.shape)"
   ]
  },
  {
   "cell_type": "code",
   "execution_count": 130,
   "id": "684cae1a",
   "metadata": {},
   "outputs": [
    {
     "data": {
      "text/html": [
       "<div>\n",
       "<style scoped>\n",
       "    .dataframe tbody tr th:only-of-type {\n",
       "        vertical-align: middle;\n",
       "    }\n",
       "\n",
       "    .dataframe tbody tr th {\n",
       "        vertical-align: top;\n",
       "    }\n",
       "\n",
       "    .dataframe thead th {\n",
       "        text-align: right;\n",
       "    }\n",
       "</style>\n",
       "<table border=\"1\" class=\"dataframe\">\n",
       "  <thead>\n",
       "    <tr style=\"text-align: right;\">\n",
       "      <th></th>\n",
       "      <th>Engine_Capacity</th>\n",
       "      <th>Fuel_Cost</th>\n",
       "      <th>Electric_Cost</th>\n",
       "      <th>Noise_Level</th>\n",
       "      <th>Manuf_CHRYSLER JEEP</th>\n",
       "      <th>Manuf_CITROEN</th>\n",
       "      <th>Manuf_DACIA</th>\n",
       "      <th>Manuf_FIAT</th>\n",
       "      <th>Manuf_FORD</th>\n",
       "      <th>Manuf_HONDA</th>\n",
       "      <th>...</th>\n",
       "      <th>Fuel_Type_Petrol</th>\n",
       "      <th>Fuel_Type_Petrol / LPG</th>\n",
       "      <th>Fuel_Type_Petrol Electric</th>\n",
       "      <th>Powertrain_Hybrid Electric Vehicle (HEV)</th>\n",
       "      <th>Powertrain_Internal Combustion Engine (ICE)</th>\n",
       "      <th>Powertrain_Micro-hybrid</th>\n",
       "      <th>Powertrain_Mild Hybrid Electric Vehicle (MHEV)</th>\n",
       "      <th>Euro_Standard_Euro 6c</th>\n",
       "      <th>Euro_Standard_Euro 6d</th>\n",
       "      <th>Euro_Standard_Euro 6d-TEMP</th>\n",
       "    </tr>\n",
       "  </thead>\n",
       "  <tbody>\n",
       "    <tr>\n",
       "      <th>count</th>\n",
       "      <td>3010.000000</td>\n",
       "      <td>3010.000000</td>\n",
       "      <td>3010.0</td>\n",
       "      <td>3010.000000</td>\n",
       "      <td>3010.000000</td>\n",
       "      <td>3010.000000</td>\n",
       "      <td>3010.000000</td>\n",
       "      <td>3010.000000</td>\n",
       "      <td>3010.000000</td>\n",
       "      <td>3010.000000</td>\n",
       "      <td>...</td>\n",
       "      <td>3010.000000</td>\n",
       "      <td>3010.000000</td>\n",
       "      <td>3010.000000</td>\n",
       "      <td>3010.000000</td>\n",
       "      <td>3010.000000</td>\n",
       "      <td>3010.000000</td>\n",
       "      <td>3010.000000</td>\n",
       "      <td>3010.000000</td>\n",
       "      <td>3010.000000</td>\n",
       "      <td>3010.000000</td>\n",
       "    </tr>\n",
       "    <tr>\n",
       "      <th>mean</th>\n",
       "      <td>0.336304</td>\n",
       "      <td>0.507202</td>\n",
       "      <td>0.0</td>\n",
       "      <td>0.506831</td>\n",
       "      <td>0.009967</td>\n",
       "      <td>0.030565</td>\n",
       "      <td>0.116944</td>\n",
       "      <td>0.032558</td>\n",
       "      <td>0.082392</td>\n",
       "      <td>0.097674</td>\n",
       "      <td>...</td>\n",
       "      <td>0.515282</td>\n",
       "      <td>0.012625</td>\n",
       "      <td>0.197010</td>\n",
       "      <td>0.157807</td>\n",
       "      <td>0.757143</td>\n",
       "      <td>0.003987</td>\n",
       "      <td>0.081063</td>\n",
       "      <td>0.022591</td>\n",
       "      <td>0.666113</td>\n",
       "      <td>0.311296</td>\n",
       "    </tr>\n",
       "    <tr>\n",
       "      <th>std</th>\n",
       "      <td>0.210869</td>\n",
       "      <td>0.174366</td>\n",
       "      <td>0.0</td>\n",
       "      <td>0.191917</td>\n",
       "      <td>0.099351</td>\n",
       "      <td>0.172164</td>\n",
       "      <td>0.321406</td>\n",
       "      <td>0.177507</td>\n",
       "      <td>0.275007</td>\n",
       "      <td>0.296923</td>\n",
       "      <td>...</td>\n",
       "      <td>0.499849</td>\n",
       "      <td>0.111666</td>\n",
       "      <td>0.397806</td>\n",
       "      <td>0.364621</td>\n",
       "      <td>0.428881</td>\n",
       "      <td>0.063025</td>\n",
       "      <td>0.272977</td>\n",
       "      <td>0.148621</td>\n",
       "      <td>0.471678</td>\n",
       "      <td>0.463100</td>\n",
       "    </tr>\n",
       "    <tr>\n",
       "      <th>min</th>\n",
       "      <td>0.000000</td>\n",
       "      <td>0.000000</td>\n",
       "      <td>0.0</td>\n",
       "      <td>0.000000</td>\n",
       "      <td>0.000000</td>\n",
       "      <td>0.000000</td>\n",
       "      <td>0.000000</td>\n",
       "      <td>0.000000</td>\n",
       "      <td>0.000000</td>\n",
       "      <td>0.000000</td>\n",
       "      <td>...</td>\n",
       "      <td>0.000000</td>\n",
       "      <td>0.000000</td>\n",
       "      <td>0.000000</td>\n",
       "      <td>0.000000</td>\n",
       "      <td>0.000000</td>\n",
       "      <td>0.000000</td>\n",
       "      <td>0.000000</td>\n",
       "      <td>0.000000</td>\n",
       "      <td>0.000000</td>\n",
       "      <td>0.000000</td>\n",
       "    </tr>\n",
       "    <tr>\n",
       "      <th>25%</th>\n",
       "      <td>0.221951</td>\n",
       "      <td>0.366902</td>\n",
       "      <td>0.0</td>\n",
       "      <td>0.375000</td>\n",
       "      <td>0.000000</td>\n",
       "      <td>0.000000</td>\n",
       "      <td>0.000000</td>\n",
       "      <td>0.000000</td>\n",
       "      <td>0.000000</td>\n",
       "      <td>0.000000</td>\n",
       "      <td>...</td>\n",
       "      <td>0.000000</td>\n",
       "      <td>0.000000</td>\n",
       "      <td>0.000000</td>\n",
       "      <td>0.000000</td>\n",
       "      <td>1.000000</td>\n",
       "      <td>0.000000</td>\n",
       "      <td>0.000000</td>\n",
       "      <td>0.000000</td>\n",
       "      <td>0.000000</td>\n",
       "      <td>0.000000</td>\n",
       "    </tr>\n",
       "    <tr>\n",
       "      <th>50%</th>\n",
       "      <td>0.303902</td>\n",
       "      <td>0.493522</td>\n",
       "      <td>0.0</td>\n",
       "      <td>0.500000</td>\n",
       "      <td>0.000000</td>\n",
       "      <td>0.000000</td>\n",
       "      <td>0.000000</td>\n",
       "      <td>0.000000</td>\n",
       "      <td>0.000000</td>\n",
       "      <td>0.000000</td>\n",
       "      <td>...</td>\n",
       "      <td>1.000000</td>\n",
       "      <td>0.000000</td>\n",
       "      <td>0.000000</td>\n",
       "      <td>0.000000</td>\n",
       "      <td>1.000000</td>\n",
       "      <td>0.000000</td>\n",
       "      <td>0.000000</td>\n",
       "      <td>0.000000</td>\n",
       "      <td>1.000000</td>\n",
       "      <td>0.000000</td>\n",
       "    </tr>\n",
       "    <tr>\n",
       "      <th>75%</th>\n",
       "      <td>0.545366</td>\n",
       "      <td>0.604829</td>\n",
       "      <td>0.0</td>\n",
       "      <td>0.625000</td>\n",
       "      <td>0.000000</td>\n",
       "      <td>0.000000</td>\n",
       "      <td>0.000000</td>\n",
       "      <td>0.000000</td>\n",
       "      <td>0.000000</td>\n",
       "      <td>0.000000</td>\n",
       "      <td>...</td>\n",
       "      <td>1.000000</td>\n",
       "      <td>0.000000</td>\n",
       "      <td>0.000000</td>\n",
       "      <td>0.000000</td>\n",
       "      <td>1.000000</td>\n",
       "      <td>0.000000</td>\n",
       "      <td>0.000000</td>\n",
       "      <td>0.000000</td>\n",
       "      <td>1.000000</td>\n",
       "      <td>1.000000</td>\n",
       "    </tr>\n",
       "    <tr>\n",
       "      <th>max</th>\n",
       "      <td>1.000000</td>\n",
       "      <td>1.000000</td>\n",
       "      <td>0.0</td>\n",
       "      <td>1.000000</td>\n",
       "      <td>1.000000</td>\n",
       "      <td>1.000000</td>\n",
       "      <td>1.000000</td>\n",
       "      <td>1.000000</td>\n",
       "      <td>1.000000</td>\n",
       "      <td>1.000000</td>\n",
       "      <td>...</td>\n",
       "      <td>1.000000</td>\n",
       "      <td>1.000000</td>\n",
       "      <td>1.000000</td>\n",
       "      <td>1.000000</td>\n",
       "      <td>1.000000</td>\n",
       "      <td>1.000000</td>\n",
       "      <td>1.000000</td>\n",
       "      <td>1.000000</td>\n",
       "      <td>1.000000</td>\n",
       "      <td>1.000000</td>\n",
       "    </tr>\n",
       "  </tbody>\n",
       "</table>\n",
       "<p>8 rows × 33 columns</p>\n",
       "</div>"
      ],
      "text/plain": [
       "       Engine_Capacity    Fuel_Cost  Electric_Cost  Noise_Level  \\\n",
       "count      3010.000000  3010.000000         3010.0  3010.000000   \n",
       "mean          0.336304     0.507202            0.0     0.506831   \n",
       "std           0.210869     0.174366            0.0     0.191917   \n",
       "min           0.000000     0.000000            0.0     0.000000   \n",
       "25%           0.221951     0.366902            0.0     0.375000   \n",
       "50%           0.303902     0.493522            0.0     0.500000   \n",
       "75%           0.545366     0.604829            0.0     0.625000   \n",
       "max           1.000000     1.000000            0.0     1.000000   \n",
       "\n",
       "       Manuf_CHRYSLER JEEP  Manuf_CITROEN  Manuf_DACIA   Manuf_FIAT  \\\n",
       "count          3010.000000    3010.000000  3010.000000  3010.000000   \n",
       "mean              0.009967       0.030565     0.116944     0.032558   \n",
       "std               0.099351       0.172164     0.321406     0.177507   \n",
       "min               0.000000       0.000000     0.000000     0.000000   \n",
       "25%               0.000000       0.000000     0.000000     0.000000   \n",
       "50%               0.000000       0.000000     0.000000     0.000000   \n",
       "75%               0.000000       0.000000     0.000000     0.000000   \n",
       "max               1.000000       1.000000     1.000000     1.000000   \n",
       "\n",
       "        Manuf_FORD  Manuf_HONDA  ...  Fuel_Type_Petrol  \\\n",
       "count  3010.000000  3010.000000  ...       3010.000000   \n",
       "mean      0.082392     0.097674  ...          0.515282   \n",
       "std       0.275007     0.296923  ...          0.499849   \n",
       "min       0.000000     0.000000  ...          0.000000   \n",
       "25%       0.000000     0.000000  ...          0.000000   \n",
       "50%       0.000000     0.000000  ...          1.000000   \n",
       "75%       0.000000     0.000000  ...          1.000000   \n",
       "max       1.000000     1.000000  ...          1.000000   \n",
       "\n",
       "       Fuel_Type_Petrol / LPG  Fuel_Type_Petrol Electric  \\\n",
       "count             3010.000000                3010.000000   \n",
       "mean                 0.012625                   0.197010   \n",
       "std                  0.111666                   0.397806   \n",
       "min                  0.000000                   0.000000   \n",
       "25%                  0.000000                   0.000000   \n",
       "50%                  0.000000                   0.000000   \n",
       "75%                  0.000000                   0.000000   \n",
       "max                  1.000000                   1.000000   \n",
       "\n",
       "       Powertrain_Hybrid Electric Vehicle (HEV)  \\\n",
       "count                               3010.000000   \n",
       "mean                                   0.157807   \n",
       "std                                    0.364621   \n",
       "min                                    0.000000   \n",
       "25%                                    0.000000   \n",
       "50%                                    0.000000   \n",
       "75%                                    0.000000   \n",
       "max                                    1.000000   \n",
       "\n",
       "       Powertrain_Internal Combustion Engine (ICE)  Powertrain_Micro-hybrid  \\\n",
       "count                                  3010.000000              3010.000000   \n",
       "mean                                      0.757143                 0.003987   \n",
       "std                                       0.428881                 0.063025   \n",
       "min                                       0.000000                 0.000000   \n",
       "25%                                       1.000000                 0.000000   \n",
       "50%                                       1.000000                 0.000000   \n",
       "75%                                       1.000000                 0.000000   \n",
       "max                                       1.000000                 1.000000   \n",
       "\n",
       "       Powertrain_Mild Hybrid Electric Vehicle (MHEV)  Euro_Standard_Euro 6c  \\\n",
       "count                                     3010.000000            3010.000000   \n",
       "mean                                         0.081063               0.022591   \n",
       "std                                          0.272977               0.148621   \n",
       "min                                          0.000000               0.000000   \n",
       "25%                                          0.000000               0.000000   \n",
       "50%                                          0.000000               0.000000   \n",
       "75%                                          0.000000               0.000000   \n",
       "max                                          1.000000               1.000000   \n",
       "\n",
       "       Euro_Standard_Euro 6d  Euro_Standard_Euro 6d-TEMP  \n",
       "count            3010.000000                 3010.000000  \n",
       "mean                0.666113                    0.311296  \n",
       "std                 0.471678                    0.463100  \n",
       "min                 0.000000                    0.000000  \n",
       "25%                 0.000000                    0.000000  \n",
       "50%                 1.000000                    0.000000  \n",
       "75%                 1.000000                    1.000000  \n",
       "max                 1.000000                    1.000000  \n",
       "\n",
       "[8 rows x 33 columns]"
      ]
     },
     "execution_count": 130,
     "metadata": {},
     "output_type": "execute_result"
    }
   ],
   "source": [
    "X.describe()"
   ]
  },
  {
   "cell_type": "code",
   "execution_count": 131,
   "id": "ec0768b3",
   "metadata": {},
   "outputs": [],
   "source": [
    "# Step 8: Train-test split\n",
    "X_train, X_test, y_train, y_test = train_test_split(X, y, test_size=0.2, random_state=42)"
   ]
  },
  {
   "cell_type": "code",
   "execution_count": 132,
   "id": "21b09ca0",
   "metadata": {},
   "outputs": [
    {
     "name": "stdout",
     "output_type": "stream",
     "text": [
      "(2408, 33)\n",
      "(602, 33)\n",
      "(2408,)\n",
      "(602,)\n"
     ]
    }
   ],
   "source": [
    "print(X_train.shape)\n",
    "print(X_test.shape)\n",
    "print(y_train.shape) \n",
    "print(y_test.shape)"
   ]
  },
  {
   "cell_type": "code",
   "execution_count": null,
   "id": "4ce00bec",
   "metadata": {},
   "outputs": [],
   "source": [
    "# Step 9: Observations after preprocessing\n",
    "# -  Unnamed,Desc,Diesel_VED_Supplement columns have been removed.\n",
    "# - Numeric and categorical features have been separated into X and y, respectively.\n",
    "# - Numeric columns have been rescaled\n",
    "# - Category columns have been one-hot encoded to be used in the model.\n",
    "# - The dataset has been split into train and test sets for model evaluation."
   ]
  },
  {
   "cell_type": "markdown",
   "id": "be5ab01b",
   "metadata": {},
   "source": [
    "# KNN Regression"
   ]
  },
  {
   "cell_type": "code",
   "execution_count": null,
   "id": "ca1f0766",
   "metadata": {},
   "outputs": [],
   "source": [
    "# Train the model with different K values and calculate MAPE scores using CV"
   ]
  },
  {
   "cell_type": "code",
   "execution_count": 133,
   "id": "a0f01a98",
   "metadata": {},
   "outputs": [],
   "source": [
    "def find_mape(y,y_pred):\n",
    "    return np.mean(((np.abs(y-y_pred)/y)))"
   ]
  },
  {
   "cell_type": "code",
   "execution_count": 134,
   "id": "ef1764df",
   "metadata": {},
   "outputs": [],
   "source": [
    "def test_holdout(k_list,X_train, X_test, y_train, y_test):\n",
    "    train_mape_scores=[]\n",
    "    test_mape_scores=[]\n",
    "    for k in k_list:\n",
    "        knn = KNeighborsRegressor(n_neighbors=k)\n",
    "        knn.fit(X_train,y_train)\n",
    "        y_train_pred = knn.predict(X_train)\n",
    "        train_mape = find_mape(y_train, y_train_pred)\n",
    "        train_mape_scores.append(train_mape)\n",
    "        y_test_pred = knn.predict(X_test)\n",
    "        test_mape = find_mape(y_test,y_test_pred)\n",
    "        test_mape_scores.append(test_mape)\n",
    "    best_k = k_list[np.argmin(test_mape_scores)]\n",
    "    print(\"best k with holdout test is {0} and minimum test score is {1}\".format(best_k,np.min(test_mape_scores)))\n",
    "    return best_k,train_mape_scores,test_mape_scores"
   ]
  },
  {
   "cell_type": "code",
   "execution_count": 135,
   "id": "3ab29305",
   "metadata": {},
   "outputs": [],
   "source": [
    "def cross_validation(X,y):\n",
    "    cv_mape_scores=[]\n",
    "    for k in k_list:\n",
    "        knn = KNeighborsRegressor(n_neighbors = k)\n",
    "        cv_scores = -cross_val_score(knn,X,y,cv=5,scoring='neg_mean_absolute_percentage_error')\n",
    "        #print(\"for k = {}, cv_scores = {}\".format(k,cv_scores))\n",
    "        cv_mape = np.mean(cv_scores)\n",
    "        cv_mape_scores.append(cv_mape)\n",
    "    best_k_CV = k_list[np.argmin(cv_mape_scores)]\n",
    "    print(\"best k with cross validation is {0} and minimum test score is {1}\".format(best_k_CV,np.min(cv_mape_scores)))\n",
    "    return best_k_CV,cv_mape_scores"
   ]
  },
  {
   "cell_type": "code",
   "execution_count": 136,
   "id": "89e9cbbe",
   "metadata": {},
   "outputs": [],
   "source": [
    "# user defined function for Cross Validation \n",
    "def custom_cross_validation(X,y,no_of_fold):\n",
    "    warnings.filterwarnings('ignore', category=UserWarning)\n",
    "    fold_size=len(X)//no_of_fold\n",
    "    cv_mape_scores = []\n",
    "    for k in k_list: \n",
    "        knn = KNeighborsRegressor(n_neighbors = k)\n",
    "        scores = []\n",
    "        for i in range(no_of_fold):\n",
    "            start = i * fold_size\n",
    "            end = (i + 1) * fold_size\n",
    "            X_test_fold = X[start:end]\n",
    "            y_test_fold = y[start:end]\n",
    "\n",
    "            X_train_fold = np.concatenate([X[:start], X[end:]])\n",
    "            y_train_fold = np.concatenate([y[:start], y[end:]])\n",
    "\n",
    "            # Fit the model on the training data\n",
    "            knn.fit(X_train_fold, y_train_fold)\n",
    "\n",
    "            # Make predictions and calculate a custom score on the test data\n",
    "            predictions = knn.predict(X_test_fold)\n",
    "            custom_score = find_mape(predictions,y_test_fold)\n",
    "            scores.append(custom_score)\n",
    "        cv_mape_scores.append(np.mean(scores))\n",
    "    \n",
    "    # Calculate and return the average score\n",
    "    best_k_CV = k_list[np.argmin(cv_mape_scores)]\n",
    "    print(\"best k with Custom cross validation is {0} and minimum test score is {1}\".format(best_k_CV,np.min(cv_mape_scores)))\n",
    "    return best_k_CV,cv_mape_scores    \n",
    "        \n",
    "    "
   ]
  },
  {
   "cell_type": "code",
   "execution_count": 137,
   "id": "e1b592ed",
   "metadata": {},
   "outputs": [
    {
     "name": "stdout",
     "output_type": "stream",
     "text": [
      "Starting test with Hold Out Data\n",
      "------------------------------------------\n",
      "best k with holdout test is 1 and minimum test score is 0.006549177479718273\n",
      "\n",
      "\n",
      "Starting test Cross-Validation\n",
      "------------------------------------------\n",
      "best k with cross validation is 1 and minimum test score is 0.048755182742010184\n",
      "\n",
      "\n",
      "Starting test with Custom Cross-Validation\n",
      "------------------------------------------\n",
      "best k with Custom cross validation is 1 and minimum test score is 0.047211479562315764\n"
     ]
    }
   ],
   "source": [
    "#validate_hold_out(X_train,X_test,y_train,y_test)\n",
    "k_list=np.arange(1,10,2)\n",
    "print(\"Starting test with Hold Out Data\")\n",
    "print(\"------------------------------------------\")\n",
    "best_k,train_mape_scores,test_mape_scores = test_holdout(k_list,X_train,X_test,y_train,y_test)\n",
    "print(\"\\n\")\n",
    "print(\"Starting test Cross-Validation\")\n",
    "print(\"------------------------------------------\")\n",
    "best_k_CV,cv_mape_scores= cross_validation(X,y)\n",
    "print(\"\\n\")\n",
    "print(\"Starting test with Custom Cross-Validation\")\n",
    "print(\"------------------------------------------\")\n",
    "best_k_CV_custom,cv_mape_scores_custom = custom_cross_validation( X, y, 5)\n"
   ]
  },
  {
   "cell_type": "code",
   "execution_count": 138,
   "id": "bc003662",
   "metadata": {},
   "outputs": [
    {
     "data": {
      "image/png": "[encoded data removed]",
      "text/plain": [
       "<Figure size 1000x600 with 1 Axes>"
      ]
     },
     "metadata": {},
     "output_type": "display_data"
    }
   ],
   "source": [
    "#plot CV MAPE, Train MAPE, Test MAPE for different values of K\n",
    "plt.figure(figsize=(10,6))\n",
    "plt.plot(k_list,cv_mape_scores,label='CV MAPE', marker='o')\n",
    "plt.plot(k_list,train_mape_scores,label='Train  MAPE', marker='s')\n",
    "plt.plot(k_list,test_mape_scores,label='Test MAPE', marker='x')\n",
    "plt.plot(k_list,cv_mape_scores_custom,label='Custom CV MAPE', marker='^')\n",
    "plt.xlabel('k')\n",
    "plt.ylabel('MAPE Score')\n",
    "plt.title('MAPE Scores for differentk values in KNN Regressor')\n",
    "plt.legend()\n",
    "plt.grid(True)\n",
    "plt.show()\n",
    "\n"
   ]
  },
  {
   "cell_type": "markdown",
   "id": "097caf11",
   "metadata": {},
   "source": [
    "### CUSTOM IMPLEMENTATION OF KNN"
   ]
  },
  {
   "cell_type": "code",
   "execution_count": null,
   "id": "33489749",
   "metadata": {},
   "outputs": [],
   "source": [
    "# function to compute euclidean distance\n",
    "def euclidean_distance(row1, row2):\n",
    "    return np.linalg.norm(row1 - row2)"
   ]
  },
  {
   "cell_type": "code",
   "execution_count": null,
   "id": "a6aa80a1",
   "metadata": {},
   "outputs": [],
   "source": [
    "#custom function to implement KNN\n",
    "def knn(X_train,X_test,y_train,k):\n",
    "    mape_list = []\n",
    "    y_pred_list = []\n",
    "    \n",
    "    for idx, test_row in X_test.iterrows():        \n",
    "        distances = []\n",
    "        for index,row in X_train.iterrows():\n",
    "            distance = euclidean_distance(test_row,row)\n",
    "            distances.append([distance,y_train[index]])\n",
    "        distances.sort(key=lambda x: x[0])\n",
    "        neighbors=distances[:k]\n",
    "        target_values = np.take(np.array(neighbors),1,axis=1) #select only corresponding y_train values from nested list\n",
    "        pred_val=np.mean(target_values)\n",
    "        y_pred_list.append(pred_val)\n",
    "    #mape = find_mape(y_test,y_pred_list)\n",
    "    #mape_list.append(mape)\n",
    "    \n",
    "    return y_pred_list"
   ]
  },
  {
   "cell_type": "code",
   "execution_count": null,
   "id": "3c231b6f",
   "metadata": {},
   "outputs": [],
   "source": [
    "#calling custom functions for KNN\n",
    "test_mape_scores=[]\n",
    "train_mape_scores=[]\n",
    "for k in k_list:\n",
    "    y_pred_test =knn(X_train,X_test,y_train,k)\n",
    "    y_pred_train =knn(X_train,X_train,y_train,k)\n",
    "    test_mape = find_mape(y_test,y_pred_test)\n",
    "    test_mape_scores.append(test_mape)\n",
    "    train_mape = find_mape(y_train,y_pred_train)\n",
    "    train_mape_scores.append(train_mape)\n"
   ]
  },
  {
   "cell_type": "code",
   "execution_count": null,
   "id": "73473f03",
   "metadata": {},
   "outputs": [],
   "source": [
    "best_k = k_list[np.argmin(test_mape_scores)]\n",
    "print(\"best k with Custom KNN implementation is {0} and minimum test score is {1}\".format(best_k,np.min(test_mape_scores)))"
   ]
  },
  {
   "cell_type": "code",
   "execution_count": null,
   "id": "46f5516f",
   "metadata": {},
   "outputs": [],
   "source": [
    "#plot with custom KNN function\n",
    "plt.figure(figsize=(10, 6))\n",
    "#plt.plot(k_values, train_mape_scores, marker='o', label='Train MAPE')\n",
    "plt.plot(k_list, train_mape_scores, marker='o', label='Train MAPE')\n",
    "plt.plot(k_list, test_mape_scores, marker='o', label='Test MAPE')\n",
    "plt.xlabel('K value')\n",
    "plt.ylabel('MAPE Score')\n",
    "plt.title('MAPE Scores for different K values in KNN Regressor')\n",
    "plt.legend()\n",
    "plt.grid(True)\n",
    "plt.show()"
   ]
  },
  {
   "cell_type": "code",
   "execution_count": null,
   "id": "16672cf7",
   "metadata": {},
   "outputs": [],
   "source": [
    "# Inference:\n",
    "# - best k with holdout test is 1 \n",
    "# - best k with cross validation is 1 \n"
   ]
  }
 ],
 "metadata": {
  "kernelspec": {
   "display_name": "Python 3 (ipykernel)",
   "language": "python",
   "name": "python3"
  },
  "language_info": {
   "codemirror_mode": {
    "name": "ipython",
    "version": 3
   },
   "file_extension": ".py",
   "mimetype": "text/x-python",
   "name": "python",
   "nbconvert_exporter": "python",
   "pygments_lexer": "ipython3",
   "version": "3.11.3"
  }
 },
 "nbformat": 4,
 "nbformat_minor": 5
}
