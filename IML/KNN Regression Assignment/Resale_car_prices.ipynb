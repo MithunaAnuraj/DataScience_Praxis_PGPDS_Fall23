{
 "cells": [
  {
   "cell_type": "code",
   "execution_count": 44,
   "id": "ffc39672",
   "metadata": {},
   "outputs": [],
   "source": [
    "import pandas as pd\n",
    "import numpy as np\n",
    "import seaborn as sns\n",
    "import matplotlib.pyplot as plt\n",
    "from sklearn.model_selection import train_test_split,cross_val_score\n",
    "from sklearn.preprocessing import MinMaxScaler\n",
    "from sklearn.neighbors import KNeighborsRegressor\n",
    "from sklearn.metrics import mean_absolute_percentage_error\n",
    "from math import sqrt\n",
    "import warnings"
   ]
  },
  {
   "cell_type": "markdown",
   "id": "d4930e5c",
   "metadata": {},
   "source": [
    "# Exploratory Data Analysis"
   ]
  },
  {
   "cell_type": "code",
   "execution_count": 45,
   "id": "c2d27671",
   "metadata": {},
   "outputs": [],
   "source": [
    "# Step 1: Read the dataset and basic dataframe exploration\n",
    "df = pd.read_csv('car_resale_prices.csv')"
   ]
  },
  {
   "cell_type": "code",
   "execution_count": 46,
   "id": "8f4aba5e",
   "metadata": {},
   "outputs": [
    {
     "data": {
      "text/html": [
       "<div>\n",
       "<style scoped>\n",
       "    .dataframe tbody tr th:only-of-type {\n",
       "        vertical-align: middle;\n",
       "    }\n",
       "\n",
       "    .dataframe tbody tr th {\n",
       "        vertical-align: top;\n",
       "    }\n",
       "\n",
       "    .dataframe thead th {\n",
       "        text-align: right;\n",
       "    }\n",
       "</style>\n",
       "<table border=\"1\" class=\"dataframe\">\n",
       "  <thead>\n",
       "    <tr style=\"text-align: right;\">\n",
       "      <th></th>\n",
       "      <th>Unnamed: 0</th>\n",
       "      <th>full_name</th>\n",
       "      <th>resale_price</th>\n",
       "      <th>registered_year</th>\n",
       "      <th>engine_capacity</th>\n",
       "      <th>insurance</th>\n",
       "      <th>transmission_type</th>\n",
       "      <th>kms_driven</th>\n",
       "      <th>owner_type</th>\n",
       "      <th>fuel_type</th>\n",
       "      <th>max_power</th>\n",
       "      <th>seats</th>\n",
       "      <th>mileage</th>\n",
       "      <th>body_type</th>\n",
       "      <th>city</th>\n",
       "    </tr>\n",
       "  </thead>\n",
       "  <tbody>\n",
       "    <tr>\n",
       "      <th>0</th>\n",
       "      <td>0</td>\n",
       "      <td>2017 Maruti Baleno 1.2 Alpha</td>\n",
       "      <td>₹ 5.45 Lakh</td>\n",
       "      <td>2017</td>\n",
       "      <td>1197 cc</td>\n",
       "      <td>Third Party insurance</td>\n",
       "      <td>Manual</td>\n",
       "      <td>40,000 Kms</td>\n",
       "      <td>First Owner</td>\n",
       "      <td>Petrol</td>\n",
       "      <td>83.1bhp</td>\n",
       "      <td>5.0</td>\n",
       "      <td>21.4 kmpl</td>\n",
       "      <td>Hatchback</td>\n",
       "      <td>Agra</td>\n",
       "    </tr>\n",
       "    <tr>\n",
       "      <th>1</th>\n",
       "      <td>1</td>\n",
       "      <td>2018 Tata Hexa XTA</td>\n",
       "      <td>₹ 10 Lakh</td>\n",
       "      <td>2018</td>\n",
       "      <td>2179 cc</td>\n",
       "      <td>Third Party insurance</td>\n",
       "      <td>Automatic</td>\n",
       "      <td>70,000 Kms</td>\n",
       "      <td>First Owner</td>\n",
       "      <td>Diesel</td>\n",
       "      <td>153.86bhp</td>\n",
       "      <td>7.0</td>\n",
       "      <td>17.6 kmpl</td>\n",
       "      <td>MUV</td>\n",
       "      <td>Agra</td>\n",
       "    </tr>\n",
       "    <tr>\n",
       "      <th>2</th>\n",
       "      <td>2</td>\n",
       "      <td>2015 Maruti Swift Dzire VXI</td>\n",
       "      <td>₹ 4.50 Lakh</td>\n",
       "      <td>2015</td>\n",
       "      <td>1197 cc</td>\n",
       "      <td>Third Party insurance</td>\n",
       "      <td>Manual</td>\n",
       "      <td>70,000 Kms</td>\n",
       "      <td>Second Owner</td>\n",
       "      <td>Petrol</td>\n",
       "      <td>83.14bhp</td>\n",
       "      <td>5.0</td>\n",
       "      <td>20.85 kmpl</td>\n",
       "      <td>Sedan</td>\n",
       "      <td>Agra</td>\n",
       "    </tr>\n",
       "    <tr>\n",
       "      <th>3</th>\n",
       "      <td>3</td>\n",
       "      <td>2015 Maruti Swift Dzire VXI</td>\n",
       "      <td>₹ 4.50 Lakh</td>\n",
       "      <td>2015</td>\n",
       "      <td>1197 cc</td>\n",
       "      <td>Third Party insurance</td>\n",
       "      <td>Manual</td>\n",
       "      <td>70,000 Kms</td>\n",
       "      <td>Second Owner</td>\n",
       "      <td>Petrol</td>\n",
       "      <td>83.14bhp</td>\n",
       "      <td>5.0</td>\n",
       "      <td>20.85 kmpl</td>\n",
       "      <td>Sedan</td>\n",
       "      <td>Agra</td>\n",
       "    </tr>\n",
       "    <tr>\n",
       "      <th>4</th>\n",
       "      <td>4</td>\n",
       "      <td>2009 Hyundai i10 Magna 1.1</td>\n",
       "      <td>₹ 1.60 Lakh</td>\n",
       "      <td>2009</td>\n",
       "      <td>1086 cc</td>\n",
       "      <td>Third Party insurance</td>\n",
       "      <td>Manual</td>\n",
       "      <td>80,000 Kms</td>\n",
       "      <td>First Owner</td>\n",
       "      <td>Petrol</td>\n",
       "      <td>68.05bhp</td>\n",
       "      <td>5.0</td>\n",
       "      <td>19.81 kmpl</td>\n",
       "      <td>Hatchback</td>\n",
       "      <td>Agra</td>\n",
       "    </tr>\n",
       "  </tbody>\n",
       "</table>\n",
       "</div>"
      ],
      "text/plain": [
       "   Unnamed: 0                     full_name resale_price registered_year  \\\n",
       "0           0  2017 Maruti Baleno 1.2 Alpha  ₹ 5.45 Lakh            2017   \n",
       "1           1            2018 Tata Hexa XTA    ₹ 10 Lakh            2018   \n",
       "2           2   2015 Maruti Swift Dzire VXI  ₹ 4.50 Lakh            2015   \n",
       "3           3   2015 Maruti Swift Dzire VXI  ₹ 4.50 Lakh            2015   \n",
       "4           4    2009 Hyundai i10 Magna 1.1  ₹ 1.60 Lakh            2009   \n",
       "\n",
       "  engine_capacity              insurance transmission_type  kms_driven  \\\n",
       "0         1197 cc  Third Party insurance            Manual  40,000 Kms   \n",
       "1         2179 cc  Third Party insurance         Automatic  70,000 Kms   \n",
       "2         1197 cc  Third Party insurance            Manual  70,000 Kms   \n",
       "3         1197 cc  Third Party insurance            Manual  70,000 Kms   \n",
       "4         1086 cc  Third Party insurance            Manual  80,000 Kms   \n",
       "\n",
       "     owner_type fuel_type  max_power  seats     mileage  body_type  city  \n",
       "0   First Owner    Petrol    83.1bhp    5.0   21.4 kmpl  Hatchback  Agra  \n",
       "1   First Owner    Diesel  153.86bhp    7.0   17.6 kmpl        MUV  Agra  \n",
       "2  Second Owner    Petrol   83.14bhp    5.0  20.85 kmpl      Sedan  Agra  \n",
       "3  Second Owner    Petrol   83.14bhp    5.0  20.85 kmpl      Sedan  Agra  \n",
       "4   First Owner    Petrol   68.05bhp    5.0  19.81 kmpl  Hatchback  Agra  "
      ]
     },
     "execution_count": 46,
     "metadata": {},
     "output_type": "execute_result"
    }
   ],
   "source": [
    "df.head()"
   ]
  },
  {
   "cell_type": "code",
   "execution_count": 4,
   "id": "34423aa0",
   "metadata": {},
   "outputs": [],
   "source": [
    "# there are a mix of categorical and numeric columns\n",
    "# label column is resale_price\n",
    "# columns Unnamed,full_name could be dropped\n",
    "\n"
   ]
  },
  {
   "cell_type": "code",
   "execution_count": 47,
   "id": "daf53ba5",
   "metadata": {},
   "outputs": [
    {
     "data": {
      "text/plain": [
       "(17446, 15)"
      ]
     },
     "execution_count": 47,
     "metadata": {},
     "output_type": "execute_result"
    }
   ],
   "source": [
    "df.shape"
   ]
  },
  {
   "cell_type": "code",
   "execution_count": 6,
   "id": "a37af050",
   "metadata": {},
   "outputs": [],
   "source": [
    "# there are 17446 observations and 15 features"
   ]
  },
  {
   "cell_type": "code",
   "execution_count": 48,
   "id": "97b26119",
   "metadata": {},
   "outputs": [
    {
     "data": {
      "text/plain": [
       "Unnamed: 0             int64\n",
       "full_name             object\n",
       "resale_price          object\n",
       "registered_year       object\n",
       "engine_capacity       object\n",
       "insurance             object\n",
       "transmission_type     object\n",
       "kms_driven            object\n",
       "owner_type            object\n",
       "fuel_type             object\n",
       "max_power             object\n",
       "seats                float64\n",
       "mileage               object\n",
       "body_type             object\n",
       "city                  object\n",
       "dtype: object"
      ]
     },
     "execution_count": 48,
     "metadata": {},
     "output_type": "execute_result"
    }
   ],
   "source": [
    "df.dtypes"
   ]
  },
  {
   "cell_type": "code",
   "execution_count": 8,
   "id": "2b2d73b8",
   "metadata": {},
   "outputs": [],
   "source": [
    "# columns resale_price,engine_capacity,kms_driven,max_power,mileage is shown as objects. They have to be converted to numerical columns\n",
    "# some columns require encoding as they are categorical"
   ]
  },
  {
   "cell_type": "code",
   "execution_count": 49,
   "id": "16188c69",
   "metadata": {},
   "outputs": [
    {
     "name": "stdout",
     "output_type": "stream",
     "text": [
      "Index(['Unnamed: 0', 'full_name', 'resale_price', 'registered_year',\n",
      "       'engine_capacity', 'insurance', 'transmission_type', 'kms_driven',\n",
      "       'owner_type', 'fuel_type', 'max_power', 'seats', 'mileage', 'body_type',\n",
      "       'city'],\n",
      "      dtype='object')\n"
     ]
    }
   ],
   "source": [
    "print(df.columns)"
   ]
  },
  {
   "cell_type": "code",
   "execution_count": 50,
   "id": "75c4b990",
   "metadata": {},
   "outputs": [],
   "source": [
    "df['mileage'] = pd.to_numeric(df['mileage'].astype(str).str.replace('kmpl', ''), errors='coerce')"
   ]
  },
  {
   "cell_type": "code",
   "execution_count": 51,
   "id": "e8d7ec0e",
   "metadata": {},
   "outputs": [],
   "source": [
    "df['max_power'] = pd.to_numeric(df['max_power'].astype(str).str.replace('bhp', ''), errors='coerce')"
   ]
  },
  {
   "cell_type": "code",
   "execution_count": 52,
   "id": "cac0db3a",
   "metadata": {},
   "outputs": [],
   "source": [
    "df['resale_price'] = pd.to_numeric(df['resale_price'].astype(str).str.replace('₹', '').str.replace('Lakh', ''), errors='coerce')"
   ]
  },
  {
   "cell_type": "code",
   "execution_count": 53,
   "id": "3782b337",
   "metadata": {},
   "outputs": [],
   "source": [
    "df['kms_driven'] = pd.to_numeric(df['kms_driven'].astype(str).str.replace('Kms', '').str.replace(',', ''), errors='coerce')"
   ]
  },
  {
   "cell_type": "code",
   "execution_count": 54,
   "id": "45afcbe5",
   "metadata": {},
   "outputs": [],
   "source": [
    "df['engine_capacity'] = pd.to_numeric(df['engine_capacity'].astype(str).str.replace('cc', ''), errors='coerce')"
   ]
  },
  {
   "cell_type": "code",
   "execution_count": 55,
   "id": "d49fcf40",
   "metadata": {},
   "outputs": [
    {
     "data": {
      "text/html": [
       "<div>\n",
       "<style scoped>\n",
       "    .dataframe tbody tr th:only-of-type {\n",
       "        vertical-align: middle;\n",
       "    }\n",
       "\n",
       "    .dataframe tbody tr th {\n",
       "        vertical-align: top;\n",
       "    }\n",
       "\n",
       "    .dataframe thead th {\n",
       "        text-align: right;\n",
       "    }\n",
       "</style>\n",
       "<table border=\"1\" class=\"dataframe\">\n",
       "  <thead>\n",
       "    <tr style=\"text-align: right;\">\n",
       "      <th></th>\n",
       "      <th>Unnamed: 0</th>\n",
       "      <th>full_name</th>\n",
       "      <th>resale_price</th>\n",
       "      <th>registered_year</th>\n",
       "      <th>engine_capacity</th>\n",
       "      <th>insurance</th>\n",
       "      <th>transmission_type</th>\n",
       "      <th>kms_driven</th>\n",
       "      <th>owner_type</th>\n",
       "      <th>fuel_type</th>\n",
       "      <th>max_power</th>\n",
       "      <th>seats</th>\n",
       "      <th>mileage</th>\n",
       "      <th>body_type</th>\n",
       "      <th>city</th>\n",
       "    </tr>\n",
       "  </thead>\n",
       "  <tbody>\n",
       "    <tr>\n",
       "      <th>0</th>\n",
       "      <td>0</td>\n",
       "      <td>2017 Maruti Baleno 1.2 Alpha</td>\n",
       "      <td>5.45</td>\n",
       "      <td>2017</td>\n",
       "      <td>1197.0</td>\n",
       "      <td>Third Party insurance</td>\n",
       "      <td>Manual</td>\n",
       "      <td>40000.0</td>\n",
       "      <td>First Owner</td>\n",
       "      <td>Petrol</td>\n",
       "      <td>83.10</td>\n",
       "      <td>5.0</td>\n",
       "      <td>21.40</td>\n",
       "      <td>Hatchback</td>\n",
       "      <td>Agra</td>\n",
       "    </tr>\n",
       "    <tr>\n",
       "      <th>1</th>\n",
       "      <td>1</td>\n",
       "      <td>2018 Tata Hexa XTA</td>\n",
       "      <td>10.00</td>\n",
       "      <td>2018</td>\n",
       "      <td>2179.0</td>\n",
       "      <td>Third Party insurance</td>\n",
       "      <td>Automatic</td>\n",
       "      <td>70000.0</td>\n",
       "      <td>First Owner</td>\n",
       "      <td>Diesel</td>\n",
       "      <td>153.86</td>\n",
       "      <td>7.0</td>\n",
       "      <td>17.60</td>\n",
       "      <td>MUV</td>\n",
       "      <td>Agra</td>\n",
       "    </tr>\n",
       "    <tr>\n",
       "      <th>2</th>\n",
       "      <td>2</td>\n",
       "      <td>2015 Maruti Swift Dzire VXI</td>\n",
       "      <td>4.50</td>\n",
       "      <td>2015</td>\n",
       "      <td>1197.0</td>\n",
       "      <td>Third Party insurance</td>\n",
       "      <td>Manual</td>\n",
       "      <td>70000.0</td>\n",
       "      <td>Second Owner</td>\n",
       "      <td>Petrol</td>\n",
       "      <td>83.14</td>\n",
       "      <td>5.0</td>\n",
       "      <td>20.85</td>\n",
       "      <td>Sedan</td>\n",
       "      <td>Agra</td>\n",
       "    </tr>\n",
       "    <tr>\n",
       "      <th>3</th>\n",
       "      <td>3</td>\n",
       "      <td>2015 Maruti Swift Dzire VXI</td>\n",
       "      <td>4.50</td>\n",
       "      <td>2015</td>\n",
       "      <td>1197.0</td>\n",
       "      <td>Third Party insurance</td>\n",
       "      <td>Manual</td>\n",
       "      <td>70000.0</td>\n",
       "      <td>Second Owner</td>\n",
       "      <td>Petrol</td>\n",
       "      <td>83.14</td>\n",
       "      <td>5.0</td>\n",
       "      <td>20.85</td>\n",
       "      <td>Sedan</td>\n",
       "      <td>Agra</td>\n",
       "    </tr>\n",
       "    <tr>\n",
       "      <th>4</th>\n",
       "      <td>4</td>\n",
       "      <td>2009 Hyundai i10 Magna 1.1</td>\n",
       "      <td>1.60</td>\n",
       "      <td>2009</td>\n",
       "      <td>1086.0</td>\n",
       "      <td>Third Party insurance</td>\n",
       "      <td>Manual</td>\n",
       "      <td>80000.0</td>\n",
       "      <td>First Owner</td>\n",
       "      <td>Petrol</td>\n",
       "      <td>68.05</td>\n",
       "      <td>5.0</td>\n",
       "      <td>19.81</td>\n",
       "      <td>Hatchback</td>\n",
       "      <td>Agra</td>\n",
       "    </tr>\n",
       "  </tbody>\n",
       "</table>\n",
       "</div>"
      ],
      "text/plain": [
       "   Unnamed: 0                     full_name  resale_price registered_year  \\\n",
       "0           0  2017 Maruti Baleno 1.2 Alpha          5.45            2017   \n",
       "1           1            2018 Tata Hexa XTA         10.00            2018   \n",
       "2           2   2015 Maruti Swift Dzire VXI          4.50            2015   \n",
       "3           3   2015 Maruti Swift Dzire VXI          4.50            2015   \n",
       "4           4    2009 Hyundai i10 Magna 1.1          1.60            2009   \n",
       "\n",
       "   engine_capacity              insurance transmission_type  kms_driven  \\\n",
       "0           1197.0  Third Party insurance            Manual     40000.0   \n",
       "1           2179.0  Third Party insurance         Automatic     70000.0   \n",
       "2           1197.0  Third Party insurance            Manual     70000.0   \n",
       "3           1197.0  Third Party insurance            Manual     70000.0   \n",
       "4           1086.0  Third Party insurance            Manual     80000.0   \n",
       "\n",
       "     owner_type fuel_type  max_power  seats  mileage  body_type  city  \n",
       "0   First Owner    Petrol      83.10    5.0    21.40  Hatchback  Agra  \n",
       "1   First Owner    Diesel     153.86    7.0    17.60        MUV  Agra  \n",
       "2  Second Owner    Petrol      83.14    5.0    20.85      Sedan  Agra  \n",
       "3  Second Owner    Petrol      83.14    5.0    20.85      Sedan  Agra  \n",
       "4   First Owner    Petrol      68.05    5.0    19.81  Hatchback  Agra  "
      ]
     },
     "execution_count": 55,
     "metadata": {},
     "output_type": "execute_result"
    }
   ],
   "source": [
    "df.head()"
   ]
  },
  {
   "cell_type": "code",
   "execution_count": 10,
   "id": "233b69e2",
   "metadata": {},
   "outputs": [],
   "source": [
    "# Step 2: Summary statistics of numeric columns"
   ]
  },
  {
   "cell_type": "code",
   "execution_count": 56,
   "id": "5dcbdda4",
   "metadata": {},
   "outputs": [
    {
     "data": {
      "text/html": [
       "<div>\n",
       "<style scoped>\n",
       "    .dataframe tbody tr th:only-of-type {\n",
       "        vertical-align: middle;\n",
       "    }\n",
       "\n",
       "    .dataframe tbody tr th {\n",
       "        vertical-align: top;\n",
       "    }\n",
       "\n",
       "    .dataframe thead th {\n",
       "        text-align: right;\n",
       "    }\n",
       "</style>\n",
       "<table border=\"1\" class=\"dataframe\">\n",
       "  <thead>\n",
       "    <tr style=\"text-align: right;\">\n",
       "      <th></th>\n",
       "      <th>Unnamed: 0</th>\n",
       "      <th>resale_price</th>\n",
       "      <th>engine_capacity</th>\n",
       "      <th>kms_driven</th>\n",
       "      <th>max_power</th>\n",
       "      <th>seats</th>\n",
       "      <th>mileage</th>\n",
       "    </tr>\n",
       "  </thead>\n",
       "  <tbody>\n",
       "    <tr>\n",
       "      <th>count</th>\n",
       "      <td>17446.000000</td>\n",
       "      <td>17212.000000</td>\n",
       "      <td>17432.000000</td>\n",
       "      <td>1.744300e+04</td>\n",
       "      <td>16924.000000</td>\n",
       "      <td>17436.000000</td>\n",
       "      <td>16787.000000</td>\n",
       "    </tr>\n",
       "    <tr>\n",
       "      <th>mean</th>\n",
       "      <td>8722.500000</td>\n",
       "      <td>8.713414</td>\n",
       "      <td>1423.135383</td>\n",
       "      <td>5.862822e+04</td>\n",
       "      <td>103.902932</td>\n",
       "      <td>5.205494</td>\n",
       "      <td>19.317058</td>\n",
       "    </tr>\n",
       "    <tr>\n",
       "      <th>std</th>\n",
       "      <td>5036.370734</td>\n",
       "      <td>9.689100</td>\n",
       "      <td>474.683974</td>\n",
       "      <td>6.426464e+04</td>\n",
       "      <td>44.840775</td>\n",
       "      <td>0.669321</td>\n",
       "      <td>4.384732</td>\n",
       "    </tr>\n",
       "    <tr>\n",
       "      <th>min</th>\n",
       "      <td>0.000000</td>\n",
       "      <td>1.000000</td>\n",
       "      <td>0.000000</td>\n",
       "      <td>2.860000e+02</td>\n",
       "      <td>25.400000</td>\n",
       "      <td>2.000000</td>\n",
       "      <td>6.700000</td>\n",
       "    </tr>\n",
       "    <tr>\n",
       "      <th>25%</th>\n",
       "      <td>4361.250000</td>\n",
       "      <td>3.850000</td>\n",
       "      <td>1197.000000</td>\n",
       "      <td>3.192200e+04</td>\n",
       "      <td>78.900000</td>\n",
       "      <td>5.000000</td>\n",
       "      <td>17.000000</td>\n",
       "    </tr>\n",
       "    <tr>\n",
       "      <th>50%</th>\n",
       "      <td>8722.500000</td>\n",
       "      <td>5.900000</td>\n",
       "      <td>1248.000000</td>\n",
       "      <td>5.481700e+04</td>\n",
       "      <td>88.500000</td>\n",
       "      <td>5.000000</td>\n",
       "      <td>18.900000</td>\n",
       "    </tr>\n",
       "    <tr>\n",
       "      <th>75%</th>\n",
       "      <td>13083.750000</td>\n",
       "      <td>9.200000</td>\n",
       "      <td>1498.000000</td>\n",
       "      <td>7.991300e+04</td>\n",
       "      <td>118.350000</td>\n",
       "      <td>5.000000</td>\n",
       "      <td>21.490000</td>\n",
       "    </tr>\n",
       "    <tr>\n",
       "      <th>max</th>\n",
       "      <td>17445.000000</td>\n",
       "      <td>97.000000</td>\n",
       "      <td>5998.000000</td>\n",
       "      <td>6.275000e+06</td>\n",
       "      <td>558.000000</td>\n",
       "      <td>14.000000</td>\n",
       "      <td>140.000000</td>\n",
       "    </tr>\n",
       "  </tbody>\n",
       "</table>\n",
       "</div>"
      ],
      "text/plain": [
       "         Unnamed: 0  resale_price  engine_capacity    kms_driven  \\\n",
       "count  17446.000000  17212.000000     17432.000000  1.744300e+04   \n",
       "mean    8722.500000      8.713414      1423.135383  5.862822e+04   \n",
       "std     5036.370734      9.689100       474.683974  6.426464e+04   \n",
       "min        0.000000      1.000000         0.000000  2.860000e+02   \n",
       "25%     4361.250000      3.850000      1197.000000  3.192200e+04   \n",
       "50%     8722.500000      5.900000      1248.000000  5.481700e+04   \n",
       "75%    13083.750000      9.200000      1498.000000  7.991300e+04   \n",
       "max    17445.000000     97.000000      5998.000000  6.275000e+06   \n",
       "\n",
       "          max_power         seats       mileage  \n",
       "count  16924.000000  17436.000000  16787.000000  \n",
       "mean     103.902932      5.205494     19.317058  \n",
       "std       44.840775      0.669321      4.384732  \n",
       "min       25.400000      2.000000      6.700000  \n",
       "25%       78.900000      5.000000     17.000000  \n",
       "50%       88.500000      5.000000     18.900000  \n",
       "75%      118.350000      5.000000     21.490000  \n",
       "max      558.000000     14.000000    140.000000  "
      ]
     },
     "execution_count": 56,
     "metadata": {},
     "output_type": "execute_result"
    }
   ],
   "source": [
    "df.describe()"
   ]
  },
  {
   "cell_type": "code",
   "execution_count": 12,
   "id": "cef8d738",
   "metadata": {},
   "outputs": [],
   "source": [
    "# There are some missing values in resale_price,engine_capacity,max_power,mileage\n",
    "# some columns may have outliers"
   ]
  },
  {
   "cell_type": "code",
   "execution_count": 57,
   "id": "0e3d9a83",
   "metadata": {},
   "outputs": [
    {
     "data": {
      "text/plain": [
       "Unnamed: 0           0.000000\n",
       "full_name            0.000000\n",
       "resale_price         1.341282\n",
       "registered_year      0.395506\n",
       "engine_capacity      0.080248\n",
       "insurance            0.040124\n",
       "transmission_type    0.000000\n",
       "kms_driven           0.017196\n",
       "owner_type           0.257939\n",
       "fuel_type            0.000000\n",
       "max_power            2.992090\n",
       "seats                0.057320\n",
       "mileage              3.777370\n",
       "body_type            0.000000\n",
       "city                 0.000000\n",
       "dtype: float64"
      ]
     },
     "execution_count": 57,
     "metadata": {},
     "output_type": "execute_result"
    }
   ],
   "source": [
    "df.isnull().sum()*100/df.shape[0]"
   ]
  },
  {
   "cell_type": "code",
   "execution_count": 14,
   "id": "ab138d0e",
   "metadata": {},
   "outputs": [],
   "source": [
    "# -missing rows to be removed"
   ]
  },
  {
   "cell_type": "code",
   "execution_count": 15,
   "id": "6861e792",
   "metadata": {},
   "outputs": [],
   "source": [
    "# Step 3: Value counts of category columns"
   ]
  },
  {
   "cell_type": "code",
   "execution_count": 58,
   "id": "7f6abb4a",
   "metadata": {},
   "outputs": [
    {
     "data": {
      "text/plain": [
       "Index(['full_name', 'registered_year', 'insurance', 'transmission_type',\n",
       "       'owner_type', 'fuel_type', 'body_type', 'city'],\n",
       "      dtype='object')"
      ]
     },
     "execution_count": 58,
     "metadata": {},
     "output_type": "execute_result"
    }
   ],
   "source": [
    "df.select_dtypes(include='object').columns"
   ]
  },
  {
   "cell_type": "code",
   "execution_count": 60,
   "id": "0835ef72",
   "metadata": {},
   "outputs": [
    {
     "data": {
      "text/html": [
       "<div>\n",
       "<style scoped>\n",
       "    .dataframe tbody tr th:only-of-type {\n",
       "        vertical-align: middle;\n",
       "    }\n",
       "\n",
       "    .dataframe tbody tr th {\n",
       "        vertical-align: top;\n",
       "    }\n",
       "\n",
       "    .dataframe thead th {\n",
       "        text-align: right;\n",
       "    }\n",
       "</style>\n",
       "<table border=\"1\" class=\"dataframe\">\n",
       "  <thead>\n",
       "    <tr style=\"text-align: right;\">\n",
       "      <th></th>\n",
       "      <th>full_name</th>\n",
       "      <th>registered_year</th>\n",
       "      <th>insurance</th>\n",
       "      <th>transmission_type</th>\n",
       "      <th>owner_type</th>\n",
       "      <th>fuel_type</th>\n",
       "      <th>body_type</th>\n",
       "      <th>city</th>\n",
       "    </tr>\n",
       "  </thead>\n",
       "  <tbody>\n",
       "    <tr>\n",
       "      <th>count</th>\n",
       "      <td>17446</td>\n",
       "      <td>17377</td>\n",
       "      <td>17439</td>\n",
       "      <td>17446</td>\n",
       "      <td>17401</td>\n",
       "      <td>17446</td>\n",
       "      <td>17446</td>\n",
       "      <td>17446</td>\n",
       "    </tr>\n",
       "    <tr>\n",
       "      <th>unique</th>\n",
       "      <td>6923</td>\n",
       "      <td>243</td>\n",
       "      <td>7</td>\n",
       "      <td>2</td>\n",
       "      <td>5</td>\n",
       "      <td>5</td>\n",
       "      <td>26</td>\n",
       "      <td>13</td>\n",
       "    </tr>\n",
       "    <tr>\n",
       "      <th>top</th>\n",
       "      <td>2016 Hyundai Grand i10 Sportz</td>\n",
       "      <td>2022</td>\n",
       "      <td>Third Party insurance</td>\n",
       "      <td>Manual</td>\n",
       "      <td>First Owner</td>\n",
       "      <td>Petrol</td>\n",
       "      <td>Hatchback</td>\n",
       "      <td>Delhi</td>\n",
       "    </tr>\n",
       "    <tr>\n",
       "      <th>freq</th>\n",
       "      <td>51</td>\n",
       "      <td>399</td>\n",
       "      <td>7559</td>\n",
       "      <td>12541</td>\n",
       "      <td>12293</td>\n",
       "      <td>11336</td>\n",
       "      <td>7343</td>\n",
       "      <td>3036</td>\n",
       "    </tr>\n",
       "  </tbody>\n",
       "</table>\n",
       "</div>"
      ],
      "text/plain": [
       "                            full_name registered_year              insurance  \\\n",
       "count                           17446           17377                  17439   \n",
       "unique                           6923             243                      7   \n",
       "top     2016 Hyundai Grand i10 Sportz            2022  Third Party insurance   \n",
       "freq                               51             399                   7559   \n",
       "\n",
       "       transmission_type   owner_type fuel_type  body_type   city  \n",
       "count              17446        17401     17446      17446  17446  \n",
       "unique                 2            5         5         26     13  \n",
       "top               Manual  First Owner    Petrol  Hatchback  Delhi  \n",
       "freq               12541        12293     11336       7343   3036  "
      ]
     },
     "execution_count": 60,
     "metadata": {},
     "output_type": "execute_result"
    }
   ],
   "source": [
    "df.select_dtypes(include='object').describe()"
   ]
  },
  {
   "cell_type": "code",
   "execution_count": null,
   "id": "7c4e8674",
   "metadata": {},
   "outputs": [],
   "source": [
    "# column registered_year may be dropped"
   ]
  },
  {
   "cell_type": "code",
   "execution_count": 61,
   "id": "e3bafee3",
   "metadata": {},
   "outputs": [
    {
     "data": {
      "text/plain": [
       "Third Party insurance    7559\n",
       "Comprehensive            6414\n",
       "Third Party              1973\n",
       "Zero Dep                  834\n",
       "Not Available             651\n",
       "1                           5\n",
       "2                           3\n",
       "Name: insurance, dtype: int64"
      ]
     },
     "execution_count": 61,
     "metadata": {},
     "output_type": "execute_result"
    }
   ],
   "source": [
    "\n",
    "df.insurance.value_counts()"
   ]
  },
  {
   "cell_type": "code",
   "execution_count": 62,
   "id": "f76cc5b1",
   "metadata": {},
   "outputs": [
    {
     "data": {
      "text/plain": [
       "Manual       12541\n",
       "Automatic     4905\n",
       "Name: transmission_type, dtype: int64"
      ]
     },
     "execution_count": 62,
     "metadata": {},
     "output_type": "execute_result"
    }
   ],
   "source": [
    "df.transmission_type.value_counts()"
   ]
  },
  {
   "cell_type": "code",
   "execution_count": 63,
   "id": "b69205f7",
   "metadata": {},
   "outputs": [
    {
     "data": {
      "text/plain": [
       "First Owner     12293\n",
       "Second Owner     4150\n",
       "Third Owner       780\n",
       "Fourth Owner      127\n",
       "Fifth Owner        51\n",
       "Name: owner_type, dtype: int64"
      ]
     },
     "execution_count": 63,
     "metadata": {},
     "output_type": "execute_result"
    }
   ],
   "source": [
    "df.owner_type.value_counts()"
   ]
  },
  {
   "cell_type": "code",
   "execution_count": 64,
   "id": "4ec9f41b",
   "metadata": {},
   "outputs": [
    {
     "data": {
      "text/plain": [
       "Petrol      11336\n",
       "Diesel       5516\n",
       "CNG           504\n",
       "Electric       61\n",
       "LPG            29\n",
       "Name: fuel_type, dtype: int64"
      ]
     },
     "execution_count": 64,
     "metadata": {},
     "output_type": "execute_result"
    }
   ],
   "source": [
    "df.fuel_type.value_counts()"
   ]
  },
  {
   "cell_type": "code",
   "execution_count": 65,
   "id": "c1fb6f1d",
   "metadata": {},
   "outputs": [
    {
     "data": {
      "text/plain": [
       "Hatchback        7343\n",
       "Sedan            4781\n",
       "SUV              4406\n",
       "MUV               759\n",
       "Minivans           65\n",
       "Maruti             19\n",
       "Pickup             13\n",
       "Coupe              10\n",
       "Cars                8\n",
       "Tata                7\n",
       "Mercedes-Benz       6\n",
       "Mahindra            4\n",
       "Chevrolet           3\n",
       "Jaguar              3\n",
       "Wagon               3\n",
       "BMW                 2\n",
       "Toyota              2\n",
       "Datsun              2\n",
       "Honda               2\n",
       "Convertibles        2\n",
       "Audi                1\n",
       "Porsche             1\n",
       "Volvo               1\n",
       "Hyundai             1\n",
       "Skoda               1\n",
       "Isuzu               1\n",
       "Name: body_type, dtype: int64"
      ]
     },
     "execution_count": 65,
     "metadata": {},
     "output_type": "execute_result"
    }
   ],
   "source": [
    "df.body_type.value_counts()"
   ]
  },
  {
   "cell_type": "code",
   "execution_count": null,
   "id": "ecd5a352",
   "metadata": {},
   "outputs": [],
   "source": [
    "# for body type, less frequent types (below 500) may be dropped"
   ]
  },
  {
   "cell_type": "code",
   "execution_count": 71,
   "id": "749772d5",
   "metadata": {},
   "outputs": [
    {
     "data": {
      "text/plain": [
       "Delhi         3036\n",
       "Bangalore     2334\n",
       "Mumbai        2109\n",
       "Hyderabad     1584\n",
       "Pune          1394\n",
       "Chennai       1344\n",
       "Ahmedabad     1330\n",
       "Kolkata       1181\n",
       "Gurgaon       1043\n",
       "Jaipur         897\n",
       "Lucknow        551\n",
       "Chandigarh     437\n",
       "Agra           206\n",
       "Name: city, dtype: int64"
      ]
     },
     "execution_count": 71,
     "metadata": {},
     "output_type": "execute_result"
    }
   ],
   "source": [
    "df.city.value_counts()"
   ]
  },
  {
   "cell_type": "code",
   "execution_count": 66,
   "id": "675702a8",
   "metadata": {},
   "outputs": [
    {
     "data": {
      "text/plain": [
       "Index(['Unnamed: 0', 'full_name', 'resale_price', 'registered_year',\n",
       "       'engine_capacity', 'insurance', 'transmission_type', 'kms_driven',\n",
       "       'owner_type', 'fuel_type', 'max_power', 'seats', 'mileage', 'body_type',\n",
       "       'city'],\n",
       "      dtype='object')"
      ]
     },
     "execution_count": 66,
     "metadata": {},
     "output_type": "execute_result"
    }
   ],
   "source": [
    "df.columns"
   ]
  },
  {
   "cell_type": "code",
   "execution_count": 67,
   "id": "111e1c28",
   "metadata": {},
   "outputs": [
    {
     "data": {
      "text/plain": [
       "owner_type\n",
       "Fifth Owner     2.803659\n",
       "First Owner     9.372853\n",
       "Fourth Owner    3.919829\n",
       "Second Owner    7.466447\n",
       "Third Owner     5.364791\n",
       "Name: resale_price, dtype: float64"
      ]
     },
     "execution_count": 67,
     "metadata": {},
     "output_type": "execute_result"
    }
   ],
   "source": [
    "df['resale_price'].groupby([df['owner_type']]).mean()"
   ]
  },
  {
   "cell_type": "code",
   "execution_count": 70,
   "id": "1a73eb08",
   "metadata": {},
   "outputs": [
    {
     "data": {
      "text/plain": [
       "fuel_type\n",
       "CNG          4.901116\n",
       "Diesel      12.626338\n",
       "Electric    17.468571\n",
       "LPG          2.196957\n",
       "Petrol       6.925937\n",
       "Name: resale_price, dtype: float64"
      ]
     },
     "execution_count": 70,
     "metadata": {},
     "output_type": "execute_result"
    }
   ],
   "source": [
    "df['resale_price'].groupby([df['fuel_type']]).mean()"
   ]
  },
  {
   "cell_type": "code",
   "execution_count": 73,
   "id": "426dfea6",
   "metadata": {},
   "outputs": [
    {
     "data": {
      "text/html": [
       "<div>\n",
       "<style scoped>\n",
       "    .dataframe tbody tr th:only-of-type {\n",
       "        vertical-align: middle;\n",
       "    }\n",
       "\n",
       "    .dataframe tbody tr th {\n",
       "        vertical-align: top;\n",
       "    }\n",
       "\n",
       "    .dataframe thead th {\n",
       "        text-align: right;\n",
       "    }\n",
       "</style>\n",
       "<table border=\"1\" class=\"dataframe\">\n",
       "  <thead>\n",
       "    <tr style=\"text-align: right;\">\n",
       "      <th>owner_type</th>\n",
       "      <th>Fifth Owner</th>\n",
       "      <th>First Owner</th>\n",
       "      <th>Fourth Owner</th>\n",
       "      <th>Second Owner</th>\n",
       "      <th>Third Owner</th>\n",
       "    </tr>\n",
       "    <tr>\n",
       "      <th>city</th>\n",
       "      <th></th>\n",
       "      <th></th>\n",
       "      <th></th>\n",
       "      <th></th>\n",
       "      <th></th>\n",
       "    </tr>\n",
       "  </thead>\n",
       "  <tbody>\n",
       "    <tr>\n",
       "      <th>Agra</th>\n",
       "      <td>2.000000</td>\n",
       "      <td>5.543565</td>\n",
       "      <td>2.880000</td>\n",
       "      <td>4.483226</td>\n",
       "      <td>3.118000</td>\n",
       "    </tr>\n",
       "    <tr>\n",
       "      <th>Ahmedabad</th>\n",
       "      <td>1.942857</td>\n",
       "      <td>8.091448</td>\n",
       "      <td>2.340909</td>\n",
       "      <td>5.915294</td>\n",
       "      <td>3.551724</td>\n",
       "    </tr>\n",
       "    <tr>\n",
       "      <th>Bangalore</th>\n",
       "      <td>3.710909</td>\n",
       "      <td>10.099717</td>\n",
       "      <td>4.962500</td>\n",
       "      <td>8.307718</td>\n",
       "      <td>5.969298</td>\n",
       "    </tr>\n",
       "    <tr>\n",
       "      <th>Chandigarh</th>\n",
       "      <td>2.425000</td>\n",
       "      <td>6.867204</td>\n",
       "      <td>3.650000</td>\n",
       "      <td>6.156018</td>\n",
       "      <td>3.720000</td>\n",
       "    </tr>\n",
       "    <tr>\n",
       "      <th>Chennai</th>\n",
       "      <td>1.450000</td>\n",
       "      <td>10.770328</td>\n",
       "      <td>2.841667</td>\n",
       "      <td>6.993134</td>\n",
       "      <td>4.668654</td>\n",
       "    </tr>\n",
       "    <tr>\n",
       "      <th>Delhi</th>\n",
       "      <td>6.000000</td>\n",
       "      <td>10.318510</td>\n",
       "      <td>2.435000</td>\n",
       "      <td>9.613717</td>\n",
       "      <td>5.266337</td>\n",
       "    </tr>\n",
       "    <tr>\n",
       "      <th>Gurgaon</th>\n",
       "      <td>1.250000</td>\n",
       "      <td>9.098930</td>\n",
       "      <td>2.932500</td>\n",
       "      <td>5.572308</td>\n",
       "      <td>6.590000</td>\n",
       "    </tr>\n",
       "    <tr>\n",
       "      <th>Hyderabad</th>\n",
       "      <td>3.000000</td>\n",
       "      <td>9.053507</td>\n",
       "      <td>2.500000</td>\n",
       "      <td>5.810824</td>\n",
       "      <td>5.895682</td>\n",
       "    </tr>\n",
       "    <tr>\n",
       "      <th>Jaipur</th>\n",
       "      <td>2.168571</td>\n",
       "      <td>7.972422</td>\n",
       "      <td>2.552857</td>\n",
       "      <td>5.963301</td>\n",
       "      <td>4.039365</td>\n",
       "    </tr>\n",
       "    <tr>\n",
       "      <th>Kolkata</th>\n",
       "      <td>2.600000</td>\n",
       "      <td>8.308214</td>\n",
       "      <td>8.791429</td>\n",
       "      <td>7.519091</td>\n",
       "      <td>8.479500</td>\n",
       "    </tr>\n",
       "    <tr>\n",
       "      <th>Lucknow</th>\n",
       "      <td>2.080000</td>\n",
       "      <td>6.452677</td>\n",
       "      <td>3.186000</td>\n",
       "      <td>4.516194</td>\n",
       "      <td>3.556471</td>\n",
       "    </tr>\n",
       "    <tr>\n",
       "      <th>Mumbai</th>\n",
       "      <td>4.600000</td>\n",
       "      <td>11.361043</td>\n",
       "      <td>3.103571</td>\n",
       "      <td>9.208048</td>\n",
       "      <td>5.615158</td>\n",
       "    </tr>\n",
       "    <tr>\n",
       "      <th>Pune</th>\n",
       "      <td>NaN</td>\n",
       "      <td>7.548977</td>\n",
       "      <td>5.993000</td>\n",
       "      <td>6.855753</td>\n",
       "      <td>6.368923</td>\n",
       "    </tr>\n",
       "  </tbody>\n",
       "</table>\n",
       "</div>"
      ],
      "text/plain": [
       "owner_type  Fifth Owner  First Owner  Fourth Owner  Second Owner  Third Owner\n",
       "city                                                                         \n",
       "Agra           2.000000     5.543565      2.880000      4.483226     3.118000\n",
       "Ahmedabad      1.942857     8.091448      2.340909      5.915294     3.551724\n",
       "Bangalore      3.710909    10.099717      4.962500      8.307718     5.969298\n",
       "Chandigarh     2.425000     6.867204      3.650000      6.156018     3.720000\n",
       "Chennai        1.450000    10.770328      2.841667      6.993134     4.668654\n",
       "Delhi          6.000000    10.318510      2.435000      9.613717     5.266337\n",
       "Gurgaon        1.250000     9.098930      2.932500      5.572308     6.590000\n",
       "Hyderabad      3.000000     9.053507      2.500000      5.810824     5.895682\n",
       "Jaipur         2.168571     7.972422      2.552857      5.963301     4.039365\n",
       "Kolkata        2.600000     8.308214      8.791429      7.519091     8.479500\n",
       "Lucknow        2.080000     6.452677      3.186000      4.516194     3.556471\n",
       "Mumbai         4.600000    11.361043      3.103571      9.208048     5.615158\n",
       "Pune                NaN     7.548977      5.993000      6.855753     6.368923"
      ]
     },
     "execution_count": 73,
     "metadata": {},
     "output_type": "execute_result"
    }
   ],
   "source": [
    "pd.crosstab(df.city,df.owner_type,values=df.resale_price,aggfunc='mean')"
   ]
  },
  {
   "cell_type": "code",
   "execution_count": 27,
   "id": "19b1677b",
   "metadata": {},
   "outputs": [],
   "source": [
    "# Step 4: Data Visualization"
   ]
  },
  {
   "cell_type": "code",
   "execution_count": 74,
   "id": "d81a280d",
   "metadata": {},
   "outputs": [
    {
     "data": {
      "image/png": "[encoded data removed]",
      "text/plain": [
       "<Figure size 800x500 with 1 Axes>"
      ]
     },
     "metadata": {},
     "output_type": "display_data"
    }
   ],
   "source": [
    "# Univariate Histogram\n",
    "plt.figure(figsize=(8, 5))\n",
    "sns.histplot(df['resale_price'], bins=20, kde=True)\n",
    "plt.title('Histogram of Resale Price')\n",
    "plt.xlabel('Resale price')\n",
    "plt.ylabel('Frequency')\n",
    "plt.show()"
   ]
  },
  {
   "cell_type": "code",
   "execution_count": 29,
   "id": "9a4c3c6e",
   "metadata": {},
   "outputs": [],
   "source": [
    "# the actual productivity is normally distributed with right skewed"
   ]
  },
  {
   "cell_type": "code",
   "execution_count": 75,
   "id": "ed4bc627",
   "metadata": {},
   "outputs": [
    {
     "data": {
      "image/png": "[encoded data removed]",
      "text/plain": [
       "<Figure size 800x500 with 1 Axes>"
      ]
     },
     "metadata": {},
     "output_type": "display_data"
    }
   ],
   "source": [
    "# Univariate Histogram\n",
    "plt.figure(figsize=(8, 5))\n",
    "sns.histplot(df['engine_capacity'], bins=20, kde=True)\n",
    "plt.title('Histogram of engine capacity')\n",
    "plt.xlabel('engine capacity')\n",
    "plt.ylabel('Frequency')\n",
    "plt.show()"
   ]
  },
  {
   "cell_type": "code",
   "execution_count": 76,
   "id": "a5df31a8",
   "metadata": {},
   "outputs": [
    {
     "data": {
      "image/png": "[encoded data removed]",
      "text/plain": [
       "<Figure size 800x500 with 1 Axes>"
      ]
     },
     "metadata": {},
     "output_type": "display_data"
    }
   ],
   "source": [
    "# Univariate Histogram\n",
    "plt.figure(figsize=(8, 5))\n",
    "sns.histplot(df['mileage'], bins=20, kde=True)\n",
    "plt.title('Histogram of mileage')\n",
    "plt.xlabel('mileage')\n",
    "plt.ylabel('Frequency')\n",
    "plt.show()"
   ]
  },
  {
   "cell_type": "code",
   "execution_count": 33,
   "id": "e28c0790",
   "metadata": {},
   "outputs": [],
   "source": [
    "#there are a lot of outliers in mileage"
   ]
  },
  {
   "cell_type": "code",
   "execution_count": 37,
   "id": "1b593816",
   "metadata": {},
   "outputs": [],
   "source": [
    "# there may be outliers"
   ]
  },
  {
   "cell_type": "code",
   "execution_count": 77,
   "id": "fd873d01",
   "metadata": {},
   "outputs": [
    {
     "data": {
      "image/png": "[encoded data removed]",
      "text/plain": [
       "<Figure size 800x500 with 1 Axes>"
      ]
     },
     "metadata": {},
     "output_type": "display_data"
    }
   ],
   "source": [
    "# Univariate Pie Chart\n",
    "plt.figure(figsize=(8, 5))\n",
    "df['owner_type'].value_counts().plot(kind='pie', autopct='%1.1f%%', colors=sns.color_palette('pastel'))\n",
    "plt.title('Pie Chart of Owner type')\n",
    "plt.ylabel('')\n",
    "plt.show()"
   ]
  },
  {
   "cell_type": "code",
   "execution_count": null,
   "id": "a63f46d7",
   "metadata": {},
   "outputs": [],
   "source": [
    "# owner type distribution is not uniform"
   ]
  },
  {
   "cell_type": "code",
   "execution_count": 78,
   "id": "0e14ac72",
   "metadata": {
    "scrolled": false
   },
   "outputs": [
    {
     "data": {
      "image/png": "[encoded data removed]",
      "text/plain": [
       "<Figure size 800x500 with 1 Axes>"
      ]
     },
     "metadata": {},
     "output_type": "display_data"
    }
   ],
   "source": [
    "# Univariate Pie Chart\n",
    "plt.figure(figsize=(8, 5))\n",
    "df['fuel_type'].value_counts().plot(kind='pie', autopct='%1.1f%%', colors=sns.color_palette('pastel'))\n",
    "plt.title('Pie Chart of Fuel Type')\n",
    "plt.ylabel('')\n",
    "plt.show()"
   ]
  },
  {
   "cell_type": "code",
   "execution_count": 79,
   "id": "af069659",
   "metadata": {},
   "outputs": [
    {
     "data": {
      "image/png": "[encoded data removed]",
      "text/plain": [
       "<Figure size 800x500 with 1 Axes>"
      ]
     },
     "metadata": {},
     "output_type": "display_data"
    }
   ],
   "source": [
    "# Univariate Box Plot\n",
    "plt.figure(figsize=(8, 5))\n",
    "sns.boxplot(x=df['resale_price'])\n",
    "plt.title('Box Plot of resale price')\n",
    "plt.xlabel('resale price')\n",
    "plt.show()"
   ]
  },
  {
   "cell_type": "code",
   "execution_count": 41,
   "id": "8a440f90",
   "metadata": {},
   "outputs": [],
   "source": [
    "# shows some outliers in resale price column"
   ]
  },
  {
   "cell_type": "code",
   "execution_count": 81,
   "id": "59013f8b",
   "metadata": {},
   "outputs": [
    {
     "data": {
      "image/png": "[encoded data removed]",
      "text/plain": [
       "<Figure size 800x500 with 1 Axes>"
      ]
     },
     "metadata": {},
     "output_type": "display_data"
    }
   ],
   "source": [
    "\n",
    "# Univariate Box Plot\n",
    "plt.figure(figsize=(8, 5))\n",
    "sns.boxplot(x=df['engine_capacity'])\n",
    "plt.title('Box Plot of engine capacity')\n",
    "plt.xlabel('engine capacity')\n",
    "plt.show()"
   ]
  },
  {
   "cell_type": "code",
   "execution_count": 82,
   "id": "4a93b864",
   "metadata": {},
   "outputs": [
    {
     "data": {
      "text/plain": [
       "<Axes: xlabel='engine_capacity', ylabel='resale_price'>"
      ]
     },
     "execution_count": 82,
     "metadata": {},
     "output_type": "execute_result"
    },
    {
     "data": {
      "image/png": "[encoded data removed]",
      "text/plain": [
       "<Figure size 640x480 with 1 Axes>"
      ]
     },
     "metadata": {},
     "output_type": "display_data"
    }
   ],
   "source": [
    "sns.scatterplot(x=df.engine_capacity, y=df.resale_price)"
   ]
  },
  {
   "cell_type": "code",
   "execution_count": 83,
   "id": "f80da973",
   "metadata": {},
   "outputs": [
    {
     "data": {
      "text/plain": [
       "<Axes: xlabel='kms_driven', ylabel='resale_price'>"
      ]
     },
     "execution_count": 83,
     "metadata": {},
     "output_type": "execute_result"
    },
    {
     "data": {
      "image/png": "[encoded data removed]",
      "text/plain": [
       "<Figure size 640x480 with 1 Axes>"
      ]
     },
     "metadata": {},
     "output_type": "display_data"
    }
   ],
   "source": [
    "sns.scatterplot(x=df.kms_driven, y=df.resale_price)"
   ]
  },
  {
   "cell_type": "code",
   "execution_count": null,
   "id": "8559c566",
   "metadata": {},
   "outputs": [],
   "source": [
    "# resale price seems to be higher for less kms driven"
   ]
  },
  {
   "cell_type": "code",
   "execution_count": 84,
   "id": "bd93fe67",
   "metadata": {},
   "outputs": [
    {
     "data": {
      "text/plain": [
       "<Axes: xlabel='max_power', ylabel='resale_price'>"
      ]
     },
     "execution_count": 84,
     "metadata": {},
     "output_type": "execute_result"
    },
    {
     "data": {
      "image/png": "[encoded data removed]",
      "text/plain": [
       "<Figure size 640x480 with 1 Axes>"
      ]
     },
     "metadata": {},
     "output_type": "display_data"
    }
   ],
   "source": [
    "sns.scatterplot(x=df.max_power, y=df.resale_price)"
   ]
  },
  {
   "cell_type": "code",
   "execution_count": 46,
   "id": "629b7395",
   "metadata": {},
   "outputs": [],
   "source": [
    "# Step 5: Observations from data visualization\n",
    "# - columns Unnamed,full_name could be dropped\n",
    "# - missing rows to be trimmed\n",
    "# - Outliers require rows to be trimmed\n",
    "# - for body type, less frequent types (below 500) may be dropped\n",
    "\n"
   ]
  },
  {
   "cell_type": "markdown",
   "id": "2548df4e",
   "metadata": {},
   "source": [
    "# Data Preprocessing"
   ]
  },
  {
   "cell_type": "code",
   "execution_count": 85,
   "id": "88eb7dc0",
   "metadata": {},
   "outputs": [],
   "source": [
    "# Step 1: Remove Unnamed,full_name columns\n",
    "df = df.drop(columns=['Unnamed: 0', 'full_name'])"
   ]
  },
  {
   "cell_type": "code",
   "execution_count": 86,
   "id": "17260432",
   "metadata": {},
   "outputs": [
    {
     "data": {
      "text/plain": [
       "(17446, 13)"
      ]
     },
     "execution_count": 86,
     "metadata": {},
     "output_type": "execute_result"
    }
   ],
   "source": [
    "df.shape"
   ]
  },
  {
   "cell_type": "code",
   "execution_count": 87,
   "id": "08c9ad1f",
   "metadata": {},
   "outputs": [
    {
     "data": {
      "text/plain": [
       "resale_price         234\n",
       "registered_year       69\n",
       "engine_capacity       14\n",
       "insurance              7\n",
       "transmission_type      0\n",
       "kms_driven             3\n",
       "owner_type            45\n",
       "fuel_type              0\n",
       "max_power            522\n",
       "seats                 10\n",
       "mileage              659\n",
       "body_type              0\n",
       "city                   0\n",
       "dtype: int64"
      ]
     },
     "execution_count": 87,
     "metadata": {},
     "output_type": "execute_result"
    }
   ],
   "source": [
    "df.isnull().sum()"
   ]
  },
  {
   "cell_type": "code",
   "execution_count": 88,
   "id": "12598a1e",
   "metadata": {},
   "outputs": [],
   "source": [
    "df = df.dropna()"
   ]
  },
  {
   "cell_type": "code",
   "execution_count": 89,
   "id": "16e4d9e1",
   "metadata": {},
   "outputs": [
    {
     "data": {
      "text/plain": [
       "(16078, 13)"
      ]
     },
     "execution_count": 89,
     "metadata": {},
     "output_type": "execute_result"
    }
   ],
   "source": [
    "df.shape"
   ]
  },
  {
   "cell_type": "code",
   "execution_count": 90,
   "id": "9276804b",
   "metadata": {},
   "outputs": [
    {
     "data": {
      "text/html": [
       "<div>\n",
       "<style scoped>\n",
       "    .dataframe tbody tr th:only-of-type {\n",
       "        vertical-align: middle;\n",
       "    }\n",
       "\n",
       "    .dataframe tbody tr th {\n",
       "        vertical-align: top;\n",
       "    }\n",
       "\n",
       "    .dataframe thead th {\n",
       "        text-align: right;\n",
       "    }\n",
       "</style>\n",
       "<table border=\"1\" class=\"dataframe\">\n",
       "  <thead>\n",
       "    <tr style=\"text-align: right;\">\n",
       "      <th></th>\n",
       "      <th>resale_price</th>\n",
       "      <th>engine_capacity</th>\n",
       "      <th>kms_driven</th>\n",
       "      <th>max_power</th>\n",
       "      <th>seats</th>\n",
       "      <th>mileage</th>\n",
       "    </tr>\n",
       "  </thead>\n",
       "  <tbody>\n",
       "    <tr>\n",
       "      <th>0</th>\n",
       "      <td>5.45</td>\n",
       "      <td>1197.0</td>\n",
       "      <td>40000.0</td>\n",
       "      <td>83.10</td>\n",
       "      <td>5.0</td>\n",
       "      <td>21.40</td>\n",
       "    </tr>\n",
       "    <tr>\n",
       "      <th>1</th>\n",
       "      <td>10.00</td>\n",
       "      <td>2179.0</td>\n",
       "      <td>70000.0</td>\n",
       "      <td>153.86</td>\n",
       "      <td>7.0</td>\n",
       "      <td>17.60</td>\n",
       "    </tr>\n",
       "    <tr>\n",
       "      <th>2</th>\n",
       "      <td>4.50</td>\n",
       "      <td>1197.0</td>\n",
       "      <td>70000.0</td>\n",
       "      <td>83.14</td>\n",
       "      <td>5.0</td>\n",
       "      <td>20.85</td>\n",
       "    </tr>\n",
       "    <tr>\n",
       "      <th>3</th>\n",
       "      <td>4.50</td>\n",
       "      <td>1197.0</td>\n",
       "      <td>70000.0</td>\n",
       "      <td>83.14</td>\n",
       "      <td>5.0</td>\n",
       "      <td>20.85</td>\n",
       "    </tr>\n",
       "    <tr>\n",
       "      <th>4</th>\n",
       "      <td>1.60</td>\n",
       "      <td>1086.0</td>\n",
       "      <td>80000.0</td>\n",
       "      <td>68.05</td>\n",
       "      <td>5.0</td>\n",
       "      <td>19.81</td>\n",
       "    </tr>\n",
       "  </tbody>\n",
       "</table>\n",
       "</div>"
      ],
      "text/plain": [
       "   resale_price  engine_capacity  kms_driven  max_power  seats  mileage\n",
       "0          5.45           1197.0     40000.0      83.10    5.0    21.40\n",
       "1         10.00           2179.0     70000.0     153.86    7.0    17.60\n",
       "2          4.50           1197.0     70000.0      83.14    5.0    20.85\n",
       "3          4.50           1197.0     70000.0      83.14    5.0    20.85\n",
       "4          1.60           1086.0     80000.0      68.05    5.0    19.81"
      ]
     },
     "execution_count": 90,
     "metadata": {},
     "output_type": "execute_result"
    }
   ],
   "source": [
    "# Step 3: Split numeric columns into X\n",
    "df_num = df.select_dtypes(include='number')\n",
    "df_num.head()\n"
   ]
  },
  {
   "cell_type": "code",
   "execution_count": 91,
   "id": "e3d37262",
   "metadata": {},
   "outputs": [],
   "source": [
    "# function to remove outlier\n",
    "def outlier_remover(df_num,df):\n",
    "    Q1 = df_num.quantile(0.25)\n",
    "    Q3 = df_num.quantile(0.75)\n",
    "    IQR = Q3 - Q1\n",
    "    lower_bound = Q1 - 1.5 * IQR\n",
    "    upper_bound = Q3 + 1.5 * IQR\n",
    "    df = df[~((df_num < lower_bound) | (df_num > upper_bound)).any(axis=1)]\n",
    "    return df\n"
   ]
  },
  {
   "cell_type": "code",
   "execution_count": 92,
   "id": "53b6071e",
   "metadata": {},
   "outputs": [],
   "source": [
    "df = outlier_remover(df_num,df)"
   ]
  },
  {
   "cell_type": "code",
   "execution_count": 93,
   "id": "2952da28",
   "metadata": {},
   "outputs": [
    {
     "data": {
      "text/plain": [
       "(12305, 13)"
      ]
     },
     "execution_count": 93,
     "metadata": {},
     "output_type": "execute_result"
    }
   ],
   "source": [
    "df.shape"
   ]
  },
  {
   "cell_type": "code",
   "execution_count": 94,
   "id": "60d19c09",
   "metadata": {},
   "outputs": [
    {
     "data": {
      "text/plain": [
       "<Axes: xlabel='resale_price'>"
      ]
     },
     "execution_count": 94,
     "metadata": {},
     "output_type": "execute_result"
    },
    {
     "data": {
      "image/png": "[encoded data removed]",
      "text/plain": [
       "<Figure size 640x480 with 1 Axes>"
      ]
     },
     "metadata": {},
     "output_type": "display_data"
    }
   ],
   "source": [
    "sns.boxplot(x=df['resale_price'])"
   ]
  },
  {
   "cell_type": "code",
   "execution_count": 95,
   "id": "61efdb5c",
   "metadata": {},
   "outputs": [],
   "source": [
    "df_num = df.select_dtypes(include='number')\n",
    "df = outlier_remover(df_num,df)"
   ]
  },
  {
   "cell_type": "code",
   "execution_count": 97,
   "id": "3382b8ff",
   "metadata": {},
   "outputs": [
    {
     "data": {
      "text/plain": [
       "<Axes: xlabel='resale_price'>"
      ]
     },
     "execution_count": 97,
     "metadata": {},
     "output_type": "execute_result"
    },
    {
     "data": {
      "image/png": "[encoded data removed]",
      "text/plain": [
       "<Figure size 640x480 with 1 Axes>"
      ]
     },
     "metadata": {},
     "output_type": "display_data"
    }
   ],
   "source": [
    "sns.boxplot(x=df['resale_price'])"
   ]
  },
  {
   "cell_type": "code",
   "execution_count": 98,
   "id": "2a2124ab",
   "metadata": {},
   "outputs": [
    {
     "data": {
      "text/plain": [
       "(11237, 13)"
      ]
     },
     "execution_count": 98,
     "metadata": {},
     "output_type": "execute_result"
    }
   ],
   "source": [
    "df.shape"
   ]
  },
  {
   "cell_type": "code",
   "execution_count": 99,
   "id": "c83432f3",
   "metadata": {},
   "outputs": [],
   "source": [
    "df_num = df.select_dtypes(include='number')\n",
    "df = outlier_remover(df_num,df)"
   ]
  },
  {
   "cell_type": "code",
   "execution_count": 100,
   "id": "6b49751f",
   "metadata": {
    "scrolled": false
   },
   "outputs": [
    {
     "data": {
      "text/plain": [
       "<Axes: xlabel='resale_price'>"
      ]
     },
     "execution_count": 100,
     "metadata": {},
     "output_type": "execute_result"
    },
    {
     "data": {
      "image/png": "[encoded data removed]",
      "text/plain": [
       "<Figure size 640x480 with 1 Axes>"
      ]
     },
     "metadata": {},
     "output_type": "display_data"
    }
   ],
   "source": [
    "sns.boxplot(x=df['resale_price'])"
   ]
  },
  {
   "cell_type": "code",
   "execution_count": 101,
   "id": "9e5a2b25",
   "metadata": {},
   "outputs": [
    {
     "data": {
      "text/plain": [
       "(11068, 13)"
      ]
     },
     "execution_count": 101,
     "metadata": {},
     "output_type": "execute_result"
    }
   ],
   "source": [
    "df.shape"
   ]
  },
  {
   "cell_type": "code",
   "execution_count": 102,
   "id": "6e3d4386",
   "metadata": {},
   "outputs": [
    {
     "data": {
      "text/html": [
       "<div>\n",
       "<style scoped>\n",
       "    .dataframe tbody tr th:only-of-type {\n",
       "        vertical-align: middle;\n",
       "    }\n",
       "\n",
       "    .dataframe tbody tr th {\n",
       "        vertical-align: top;\n",
       "    }\n",
       "\n",
       "    .dataframe thead th {\n",
       "        text-align: right;\n",
       "    }\n",
       "</style>\n",
       "<table border=\"1\" class=\"dataframe\">\n",
       "  <thead>\n",
       "    <tr style=\"text-align: right;\">\n",
       "      <th></th>\n",
       "      <th>registered_year</th>\n",
       "      <th>engine_capacity</th>\n",
       "      <th>insurance</th>\n",
       "      <th>transmission_type</th>\n",
       "      <th>kms_driven</th>\n",
       "      <th>owner_type</th>\n",
       "      <th>fuel_type</th>\n",
       "      <th>max_power</th>\n",
       "      <th>seats</th>\n",
       "      <th>mileage</th>\n",
       "      <th>body_type</th>\n",
       "      <th>city</th>\n",
       "    </tr>\n",
       "  </thead>\n",
       "  <tbody>\n",
       "    <tr>\n",
       "      <th>0</th>\n",
       "      <td>2017</td>\n",
       "      <td>1197.0</td>\n",
       "      <td>Third Party insurance</td>\n",
       "      <td>Manual</td>\n",
       "      <td>40000.0</td>\n",
       "      <td>First Owner</td>\n",
       "      <td>Petrol</td>\n",
       "      <td>83.10</td>\n",
       "      <td>5.0</td>\n",
       "      <td>21.40</td>\n",
       "      <td>Hatchback</td>\n",
       "      <td>Agra</td>\n",
       "    </tr>\n",
       "    <tr>\n",
       "      <th>2</th>\n",
       "      <td>2015</td>\n",
       "      <td>1197.0</td>\n",
       "      <td>Third Party insurance</td>\n",
       "      <td>Manual</td>\n",
       "      <td>70000.0</td>\n",
       "      <td>Second Owner</td>\n",
       "      <td>Petrol</td>\n",
       "      <td>83.14</td>\n",
       "      <td>5.0</td>\n",
       "      <td>20.85</td>\n",
       "      <td>Sedan</td>\n",
       "      <td>Agra</td>\n",
       "    </tr>\n",
       "    <tr>\n",
       "      <th>3</th>\n",
       "      <td>2015</td>\n",
       "      <td>1197.0</td>\n",
       "      <td>Third Party insurance</td>\n",
       "      <td>Manual</td>\n",
       "      <td>70000.0</td>\n",
       "      <td>Second Owner</td>\n",
       "      <td>Petrol</td>\n",
       "      <td>83.14</td>\n",
       "      <td>5.0</td>\n",
       "      <td>20.85</td>\n",
       "      <td>Sedan</td>\n",
       "      <td>Agra</td>\n",
       "    </tr>\n",
       "    <tr>\n",
       "      <th>4</th>\n",
       "      <td>2009</td>\n",
       "      <td>1086.0</td>\n",
       "      <td>Third Party insurance</td>\n",
       "      <td>Manual</td>\n",
       "      <td>80000.0</td>\n",
       "      <td>First Owner</td>\n",
       "      <td>Petrol</td>\n",
       "      <td>68.05</td>\n",
       "      <td>5.0</td>\n",
       "      <td>19.81</td>\n",
       "      <td>Hatchback</td>\n",
       "      <td>Agra</td>\n",
       "    </tr>\n",
       "    <tr>\n",
       "      <th>5</th>\n",
       "      <td>2015</td>\n",
       "      <td>1197.0</td>\n",
       "      <td>Third Party insurance</td>\n",
       "      <td>Manual</td>\n",
       "      <td>70000.0</td>\n",
       "      <td>First Owner</td>\n",
       "      <td>Petrol</td>\n",
       "      <td>81.86</td>\n",
       "      <td>5.0</td>\n",
       "      <td>17.19</td>\n",
       "      <td>Hatchback</td>\n",
       "      <td>Agra</td>\n",
       "    </tr>\n",
       "  </tbody>\n",
       "</table>\n",
       "</div>"
      ],
      "text/plain": [
       "  registered_year  engine_capacity              insurance transmission_type  \\\n",
       "0            2017           1197.0  Third Party insurance            Manual   \n",
       "2            2015           1197.0  Third Party insurance            Manual   \n",
       "3            2015           1197.0  Third Party insurance            Manual   \n",
       "4            2009           1086.0  Third Party insurance            Manual   \n",
       "5            2015           1197.0  Third Party insurance            Manual   \n",
       "\n",
       "   kms_driven    owner_type fuel_type  max_power  seats  mileage  body_type  \\\n",
       "0     40000.0   First Owner    Petrol      83.10    5.0    21.40  Hatchback   \n",
       "2     70000.0  Second Owner    Petrol      83.14    5.0    20.85      Sedan   \n",
       "3     70000.0  Second Owner    Petrol      83.14    5.0    20.85      Sedan   \n",
       "4     80000.0   First Owner    Petrol      68.05    5.0    19.81  Hatchback   \n",
       "5     70000.0   First Owner    Petrol      81.86    5.0    17.19  Hatchback   \n",
       "\n",
       "   city  \n",
       "0  Agra  \n",
       "2  Agra  \n",
       "3  Agra  \n",
       "4  Agra  \n",
       "5  Agra  "
      ]
     },
     "execution_count": 102,
     "metadata": {},
     "output_type": "execute_result"
    }
   ],
   "source": [
    "X = df.drop('resale_price', axis=1)\n",
    "y = df.resale_price\n",
    "X.head()"
   ]
  },
  {
   "cell_type": "code",
   "execution_count": 103,
   "id": "c4048c27",
   "metadata": {},
   "outputs": [
    {
     "data": {
      "text/html": [
       "<div>\n",
       "<style scoped>\n",
       "    .dataframe tbody tr th:only-of-type {\n",
       "        vertical-align: middle;\n",
       "    }\n",
       "\n",
       "    .dataframe tbody tr th {\n",
       "        vertical-align: top;\n",
       "    }\n",
       "\n",
       "    .dataframe thead th {\n",
       "        text-align: right;\n",
       "    }\n",
       "</style>\n",
       "<table border=\"1\" class=\"dataframe\">\n",
       "  <thead>\n",
       "    <tr style=\"text-align: right;\">\n",
       "      <th></th>\n",
       "      <th>engine_capacity</th>\n",
       "      <th>kms_driven</th>\n",
       "      <th>max_power</th>\n",
       "      <th>seats</th>\n",
       "      <th>mileage</th>\n",
       "    </tr>\n",
       "  </thead>\n",
       "  <tbody>\n",
       "    <tr>\n",
       "      <th>0</th>\n",
       "      <td>1197.0</td>\n",
       "      <td>40000.0</td>\n",
       "      <td>83.10</td>\n",
       "      <td>5.0</td>\n",
       "      <td>21.40</td>\n",
       "    </tr>\n",
       "    <tr>\n",
       "      <th>2</th>\n",
       "      <td>1197.0</td>\n",
       "      <td>70000.0</td>\n",
       "      <td>83.14</td>\n",
       "      <td>5.0</td>\n",
       "      <td>20.85</td>\n",
       "    </tr>\n",
       "    <tr>\n",
       "      <th>3</th>\n",
       "      <td>1197.0</td>\n",
       "      <td>70000.0</td>\n",
       "      <td>83.14</td>\n",
       "      <td>5.0</td>\n",
       "      <td>20.85</td>\n",
       "    </tr>\n",
       "    <tr>\n",
       "      <th>4</th>\n",
       "      <td>1086.0</td>\n",
       "      <td>80000.0</td>\n",
       "      <td>68.05</td>\n",
       "      <td>5.0</td>\n",
       "      <td>19.81</td>\n",
       "    </tr>\n",
       "    <tr>\n",
       "      <th>5</th>\n",
       "      <td>1197.0</td>\n",
       "      <td>70000.0</td>\n",
       "      <td>81.86</td>\n",
       "      <td>5.0</td>\n",
       "      <td>17.19</td>\n",
       "    </tr>\n",
       "  </tbody>\n",
       "</table>\n",
       "</div>"
      ],
      "text/plain": [
       "   engine_capacity  kms_driven  max_power  seats  mileage\n",
       "0           1197.0     40000.0      83.10    5.0    21.40\n",
       "2           1197.0     70000.0      83.14    5.0    20.85\n",
       "3           1197.0     70000.0      83.14    5.0    20.85\n",
       "4           1086.0     80000.0      68.05    5.0    19.81\n",
       "5           1197.0     70000.0      81.86    5.0    17.19"
      ]
     },
     "execution_count": 103,
     "metadata": {},
     "output_type": "execute_result"
    }
   ],
   "source": [
    "X_num = X.select_dtypes('number')\n",
    "X_num.head()"
   ]
  },
  {
   "cell_type": "code",
   "execution_count": 104,
   "id": "8a4ba7d1",
   "metadata": {},
   "outputs": [
    {
     "data": {
      "text/html": [
       "<div>\n",
       "<style scoped>\n",
       "    .dataframe tbody tr th:only-of-type {\n",
       "        vertical-align: middle;\n",
       "    }\n",
       "\n",
       "    .dataframe tbody tr th {\n",
       "        vertical-align: top;\n",
       "    }\n",
       "\n",
       "    .dataframe thead th {\n",
       "        text-align: right;\n",
       "    }\n",
       "</style>\n",
       "<table border=\"1\" class=\"dataframe\">\n",
       "  <thead>\n",
       "    <tr style=\"text-align: right;\">\n",
       "      <th></th>\n",
       "      <th>registered_year</th>\n",
       "      <th>insurance</th>\n",
       "      <th>transmission_type</th>\n",
       "      <th>owner_type</th>\n",
       "      <th>fuel_type</th>\n",
       "      <th>body_type</th>\n",
       "      <th>city</th>\n",
       "    </tr>\n",
       "  </thead>\n",
       "  <tbody>\n",
       "    <tr>\n",
       "      <th>0</th>\n",
       "      <td>2017</td>\n",
       "      <td>Third Party insurance</td>\n",
       "      <td>Manual</td>\n",
       "      <td>First Owner</td>\n",
       "      <td>Petrol</td>\n",
       "      <td>Hatchback</td>\n",
       "      <td>Agra</td>\n",
       "    </tr>\n",
       "    <tr>\n",
       "      <th>2</th>\n",
       "      <td>2015</td>\n",
       "      <td>Third Party insurance</td>\n",
       "      <td>Manual</td>\n",
       "      <td>Second Owner</td>\n",
       "      <td>Petrol</td>\n",
       "      <td>Sedan</td>\n",
       "      <td>Agra</td>\n",
       "    </tr>\n",
       "    <tr>\n",
       "      <th>3</th>\n",
       "      <td>2015</td>\n",
       "      <td>Third Party insurance</td>\n",
       "      <td>Manual</td>\n",
       "      <td>Second Owner</td>\n",
       "      <td>Petrol</td>\n",
       "      <td>Sedan</td>\n",
       "      <td>Agra</td>\n",
       "    </tr>\n",
       "    <tr>\n",
       "      <th>4</th>\n",
       "      <td>2009</td>\n",
       "      <td>Third Party insurance</td>\n",
       "      <td>Manual</td>\n",
       "      <td>First Owner</td>\n",
       "      <td>Petrol</td>\n",
       "      <td>Hatchback</td>\n",
       "      <td>Agra</td>\n",
       "    </tr>\n",
       "    <tr>\n",
       "      <th>5</th>\n",
       "      <td>2015</td>\n",
       "      <td>Third Party insurance</td>\n",
       "      <td>Manual</td>\n",
       "      <td>First Owner</td>\n",
       "      <td>Petrol</td>\n",
       "      <td>Hatchback</td>\n",
       "      <td>Agra</td>\n",
       "    </tr>\n",
       "  </tbody>\n",
       "</table>\n",
       "</div>"
      ],
      "text/plain": [
       "  registered_year              insurance transmission_type    owner_type  \\\n",
       "0            2017  Third Party insurance            Manual   First Owner   \n",
       "2            2015  Third Party insurance            Manual  Second Owner   \n",
       "3            2015  Third Party insurance            Manual  Second Owner   \n",
       "4            2009  Third Party insurance            Manual   First Owner   \n",
       "5            2015  Third Party insurance            Manual   First Owner   \n",
       "\n",
       "  fuel_type  body_type  city  \n",
       "0    Petrol  Hatchback  Agra  \n",
       "2    Petrol      Sedan  Agra  \n",
       "3    Petrol      Sedan  Agra  \n",
       "4    Petrol  Hatchback  Agra  \n",
       "5    Petrol  Hatchback  Agra  "
      ]
     },
     "execution_count": 104,
     "metadata": {},
     "output_type": "execute_result"
    }
   ],
   "source": [
    "X_cat = X.select_dtypes('object')\n",
    "X_cat.head()"
   ]
  },
  {
   "cell_type": "code",
   "execution_count": 105,
   "id": "a24edc55",
   "metadata": {},
   "outputs": [],
   "source": [
    "# Step 4: Rescale numeric columns (optional, based on the algorithm used)\n",
    "scaler = MinMaxScaler()\n",
    "X_num_scaled = scaler.fit_transform(X_num)"
   ]
  },
  {
   "cell_type": "code",
   "execution_count": 106,
   "id": "6284ac7a",
   "metadata": {},
   "outputs": [],
   "source": [
    "# Convert the scaled numpy array back to a DataFrame\n",
    "X_num_scaled = pd.DataFrame(X_num_scaled, columns=X_num.columns, index=X_num.index)"
   ]
  },
  {
   "cell_type": "code",
   "execution_count": 107,
   "id": "48b2ef6a",
   "metadata": {},
   "outputs": [
    {
     "data": {
      "text/html": [
       "<div>\n",
       "<style scoped>\n",
       "    .dataframe tbody tr th:only-of-type {\n",
       "        vertical-align: middle;\n",
       "    }\n",
       "\n",
       "    .dataframe tbody tr th {\n",
       "        vertical-align: top;\n",
       "    }\n",
       "\n",
       "    .dataframe thead th {\n",
       "        text-align: right;\n",
       "    }\n",
       "</style>\n",
       "<table border=\"1\" class=\"dataframe\">\n",
       "  <thead>\n",
       "    <tr style=\"text-align: right;\">\n",
       "      <th></th>\n",
       "      <th>engine_capacity</th>\n",
       "      <th>kms_driven</th>\n",
       "      <th>max_power</th>\n",
       "      <th>seats</th>\n",
       "      <th>mileage</th>\n",
       "    </tr>\n",
       "  </thead>\n",
       "  <tbody>\n",
       "    <tr>\n",
       "      <th>count</th>\n",
       "      <td>11068.000000</td>\n",
       "      <td>11068.000000</td>\n",
       "      <td>11068.000000</td>\n",
       "      <td>11068.0</td>\n",
       "      <td>11068.000000</td>\n",
       "    </tr>\n",
       "    <tr>\n",
       "      <th>mean</th>\n",
       "      <td>0.445490</td>\n",
       "      <td>0.402551</td>\n",
       "      <td>0.500810</td>\n",
       "      <td>0.0</td>\n",
       "      <td>0.511561</td>\n",
       "    </tr>\n",
       "    <tr>\n",
       "      <th>std</th>\n",
       "      <td>0.189419</td>\n",
       "      <td>0.208780</td>\n",
       "      <td>0.202728</td>\n",
       "      <td>0.0</td>\n",
       "      <td>0.191270</td>\n",
       "    </tr>\n",
       "    <tr>\n",
       "      <th>min</th>\n",
       "      <td>0.000000</td>\n",
       "      <td>0.000000</td>\n",
       "      <td>0.000000</td>\n",
       "      <td>0.0</td>\n",
       "      <td>0.000000</td>\n",
       "    </tr>\n",
       "    <tr>\n",
       "      <th>25%</th>\n",
       "      <td>0.388832</td>\n",
       "      <td>0.240654</td>\n",
       "      <td>0.351700</td>\n",
       "      <td>0.0</td>\n",
       "      <td>0.381081</td>\n",
       "    </tr>\n",
       "    <tr>\n",
       "      <th>50%</th>\n",
       "      <td>0.388832</td>\n",
       "      <td>0.389205</td>\n",
       "      <td>0.455217</td>\n",
       "      <td>0.0</td>\n",
       "      <td>0.506757</td>\n",
       "    </tr>\n",
       "    <tr>\n",
       "      <th>75%</th>\n",
       "      <td>0.656853</td>\n",
       "      <td>0.544485</td>\n",
       "      <td>0.628370</td>\n",
       "      <td>0.0</td>\n",
       "      <td>0.635135</td>\n",
       "    </tr>\n",
       "    <tr>\n",
       "      <th>max</th>\n",
       "      <td>1.000000</td>\n",
       "      <td>1.000000</td>\n",
       "      <td>1.000000</td>\n",
       "      <td>0.0</td>\n",
       "      <td>1.000000</td>\n",
       "    </tr>\n",
       "  </tbody>\n",
       "</table>\n",
       "</div>"
      ],
      "text/plain": [
       "       engine_capacity    kms_driven     max_power    seats       mileage\n",
       "count     11068.000000  11068.000000  11068.000000  11068.0  11068.000000\n",
       "mean          0.445490      0.402551      0.500810      0.0      0.511561\n",
       "std           0.189419      0.208780      0.202728      0.0      0.191270\n",
       "min           0.000000      0.000000      0.000000      0.0      0.000000\n",
       "25%           0.388832      0.240654      0.351700      0.0      0.381081\n",
       "50%           0.388832      0.389205      0.455217      0.0      0.506757\n",
       "75%           0.656853      0.544485      0.628370      0.0      0.635135\n",
       "max           1.000000      1.000000      1.000000      0.0      1.000000"
      ]
     },
     "execution_count": 107,
     "metadata": {},
     "output_type": "execute_result"
    }
   ],
   "source": [
    "X_num_scaled.describe()"
   ]
  },
  {
   "cell_type": "code",
   "execution_count": 110,
   "id": "5a89138e",
   "metadata": {},
   "outputs": [],
   "source": [
    "# Step 5: One-hot encode category columns\n",
    "X_cat_encoded = pd.get_dummies(X_cat, drop_first=False, dtype=int)  "
   ]
  },
  {
   "cell_type": "code",
   "execution_count": 111,
   "id": "892069c9",
   "metadata": {},
   "outputs": [],
   "source": [
    "# Step 6: Merge df_num and df_cat_encoded into X\n",
    "X = pd.concat([X_num_scaled, X_cat_encoded], axis=1)"
   ]
  },
  {
   "cell_type": "code",
   "execution_count": 112,
   "id": "f07fbbac",
   "metadata": {},
   "outputs": [
    {
     "data": {
      "text/plain": [
       "((11068, 254), (11068, 5), (11068, 249))"
      ]
     },
     "execution_count": 112,
     "metadata": {},
     "output_type": "execute_result"
    }
   ],
   "source": [
    " X.shape, X_num_scaled.shape, X_cat_encoded.shape"
   ]
  },
  {
   "cell_type": "code",
   "execution_count": 113,
   "id": "557dc287",
   "metadata": {},
   "outputs": [
    {
     "name": "stdout",
     "output_type": "stream",
     "text": [
      "\n",
      "Step 7: Checking for NAs and Shape Compatibility\n",
      "engine_capacity    0\n",
      "kms_driven         0\n",
      "max_power          0\n",
      "seats              0\n",
      "mileage            0\n",
      "                  ..\n",
      "city_Jaipur        0\n",
      "city_Kolkata       0\n",
      "city_Lucknow       0\n",
      "city_Mumbai        0\n",
      "city_Pune          0\n",
      "Length: 254, dtype: int64\n",
      "0\n",
      "(11068, 254)\n",
      "(11068,)\n"
     ]
    }
   ],
   "source": [
    "# Step 7: Check for NA in X and y; Check for shape compatibility\n",
    "print(\"\\nStep 7: Checking for NAs and Shape Compatibility\")\n",
    "print(X.isnull().sum())\n",
    "print(y.isnull().sum())\n",
    "print(X.shape)\n",
    "print(y.shape)"
   ]
  },
  {
   "cell_type": "code",
   "execution_count": 114,
   "id": "684cae1a",
   "metadata": {},
   "outputs": [
    {
     "data": {
      "text/html": [
       "<div>\n",
       "<style scoped>\n",
       "    .dataframe tbody tr th:only-of-type {\n",
       "        vertical-align: middle;\n",
       "    }\n",
       "\n",
       "    .dataframe tbody tr th {\n",
       "        vertical-align: top;\n",
       "    }\n",
       "\n",
       "    .dataframe thead th {\n",
       "        text-align: right;\n",
       "    }\n",
       "</style>\n",
       "<table border=\"1\" class=\"dataframe\">\n",
       "  <thead>\n",
       "    <tr style=\"text-align: right;\">\n",
       "      <th></th>\n",
       "      <th>engine_capacity</th>\n",
       "      <th>kms_driven</th>\n",
       "      <th>max_power</th>\n",
       "      <th>seats</th>\n",
       "      <th>mileage</th>\n",
       "      <th>registered_year_2004</th>\n",
       "      <th>registered_year_2005</th>\n",
       "      <th>registered_year_2006</th>\n",
       "      <th>registered_year_2007</th>\n",
       "      <th>registered_year_2008</th>\n",
       "      <th>...</th>\n",
       "      <th>city_Chandigarh</th>\n",
       "      <th>city_Chennai</th>\n",
       "      <th>city_Delhi</th>\n",
       "      <th>city_Gurgaon</th>\n",
       "      <th>city_Hyderabad</th>\n",
       "      <th>city_Jaipur</th>\n",
       "      <th>city_Kolkata</th>\n",
       "      <th>city_Lucknow</th>\n",
       "      <th>city_Mumbai</th>\n",
       "      <th>city_Pune</th>\n",
       "    </tr>\n",
       "  </thead>\n",
       "  <tbody>\n",
       "    <tr>\n",
       "      <th>count</th>\n",
       "      <td>11068.000000</td>\n",
       "      <td>11068.000000</td>\n",
       "      <td>11068.000000</td>\n",
       "      <td>11068.0</td>\n",
       "      <td>11068.000000</td>\n",
       "      <td>11068.000000</td>\n",
       "      <td>11068.000000</td>\n",
       "      <td>11068.000000</td>\n",
       "      <td>11068.000000</td>\n",
       "      <td>11068.000000</td>\n",
       "      <td>...</td>\n",
       "      <td>11068.000000</td>\n",
       "      <td>11068.000000</td>\n",
       "      <td>11068.000000</td>\n",
       "      <td>11068.000000</td>\n",
       "      <td>11068.000000</td>\n",
       "      <td>11068.000000</td>\n",
       "      <td>11068.000000</td>\n",
       "      <td>11068.000000</td>\n",
       "      <td>11068.000000</td>\n",
       "      <td>11068.000000</td>\n",
       "    </tr>\n",
       "    <tr>\n",
       "      <th>mean</th>\n",
       "      <td>0.445490</td>\n",
       "      <td>0.402551</td>\n",
       "      <td>0.500810</td>\n",
       "      <td>0.0</td>\n",
       "      <td>0.511561</td>\n",
       "      <td>0.000090</td>\n",
       "      <td>0.000361</td>\n",
       "      <td>0.001175</td>\n",
       "      <td>0.001265</td>\n",
       "      <td>0.002891</td>\n",
       "      <td>...</td>\n",
       "      <td>0.026382</td>\n",
       "      <td>0.080954</td>\n",
       "      <td>0.162812</td>\n",
       "      <td>0.060987</td>\n",
       "      <td>0.095229</td>\n",
       "      <td>0.050416</td>\n",
       "      <td>0.065504</td>\n",
       "      <td>0.036140</td>\n",
       "      <td>0.105258</td>\n",
       "      <td>0.082851</td>\n",
       "    </tr>\n",
       "    <tr>\n",
       "      <th>std</th>\n",
       "      <td>0.189419</td>\n",
       "      <td>0.208780</td>\n",
       "      <td>0.202728</td>\n",
       "      <td>0.0</td>\n",
       "      <td>0.191270</td>\n",
       "      <td>0.009505</td>\n",
       "      <td>0.019008</td>\n",
       "      <td>0.034253</td>\n",
       "      <td>0.035545</td>\n",
       "      <td>0.053695</td>\n",
       "      <td>...</td>\n",
       "      <td>0.160277</td>\n",
       "      <td>0.272777</td>\n",
       "      <td>0.369210</td>\n",
       "      <td>0.239317</td>\n",
       "      <td>0.293545</td>\n",
       "      <td>0.218811</td>\n",
       "      <td>0.247425</td>\n",
       "      <td>0.186647</td>\n",
       "      <td>0.306900</td>\n",
       "      <td>0.275670</td>\n",
       "    </tr>\n",
       "    <tr>\n",
       "      <th>min</th>\n",
       "      <td>0.000000</td>\n",
       "      <td>0.000000</td>\n",
       "      <td>0.000000</td>\n",
       "      <td>0.0</td>\n",
       "      <td>0.000000</td>\n",
       "      <td>0.000000</td>\n",
       "      <td>0.000000</td>\n",
       "      <td>0.000000</td>\n",
       "      <td>0.000000</td>\n",
       "      <td>0.000000</td>\n",
       "      <td>...</td>\n",
       "      <td>0.000000</td>\n",
       "      <td>0.000000</td>\n",
       "      <td>0.000000</td>\n",
       "      <td>0.000000</td>\n",
       "      <td>0.000000</td>\n",
       "      <td>0.000000</td>\n",
       "      <td>0.000000</td>\n",
       "      <td>0.000000</td>\n",
       "      <td>0.000000</td>\n",
       "      <td>0.000000</td>\n",
       "    </tr>\n",
       "    <tr>\n",
       "      <th>25%</th>\n",
       "      <td>0.388832</td>\n",
       "      <td>0.240654</td>\n",
       "      <td>0.351700</td>\n",
       "      <td>0.0</td>\n",
       "      <td>0.381081</td>\n",
       "      <td>0.000000</td>\n",
       "      <td>0.000000</td>\n",
       "      <td>0.000000</td>\n",
       "      <td>0.000000</td>\n",
       "      <td>0.000000</td>\n",
       "      <td>...</td>\n",
       "      <td>0.000000</td>\n",
       "      <td>0.000000</td>\n",
       "      <td>0.000000</td>\n",
       "      <td>0.000000</td>\n",
       "      <td>0.000000</td>\n",
       "      <td>0.000000</td>\n",
       "      <td>0.000000</td>\n",
       "      <td>0.000000</td>\n",
       "      <td>0.000000</td>\n",
       "      <td>0.000000</td>\n",
       "    </tr>\n",
       "    <tr>\n",
       "      <th>50%</th>\n",
       "      <td>0.388832</td>\n",
       "      <td>0.389205</td>\n",
       "      <td>0.455217</td>\n",
       "      <td>0.0</td>\n",
       "      <td>0.506757</td>\n",
       "      <td>0.000000</td>\n",
       "      <td>0.000000</td>\n",
       "      <td>0.000000</td>\n",
       "      <td>0.000000</td>\n",
       "      <td>0.000000</td>\n",
       "      <td>...</td>\n",
       "      <td>0.000000</td>\n",
       "      <td>0.000000</td>\n",
       "      <td>0.000000</td>\n",
       "      <td>0.000000</td>\n",
       "      <td>0.000000</td>\n",
       "      <td>0.000000</td>\n",
       "      <td>0.000000</td>\n",
       "      <td>0.000000</td>\n",
       "      <td>0.000000</td>\n",
       "      <td>0.000000</td>\n",
       "    </tr>\n",
       "    <tr>\n",
       "      <th>75%</th>\n",
       "      <td>0.656853</td>\n",
       "      <td>0.544485</td>\n",
       "      <td>0.628370</td>\n",
       "      <td>0.0</td>\n",
       "      <td>0.635135</td>\n",
       "      <td>0.000000</td>\n",
       "      <td>0.000000</td>\n",
       "      <td>0.000000</td>\n",
       "      <td>0.000000</td>\n",
       "      <td>0.000000</td>\n",
       "      <td>...</td>\n",
       "      <td>0.000000</td>\n",
       "      <td>0.000000</td>\n",
       "      <td>0.000000</td>\n",
       "      <td>0.000000</td>\n",
       "      <td>0.000000</td>\n",
       "      <td>0.000000</td>\n",
       "      <td>0.000000</td>\n",
       "      <td>0.000000</td>\n",
       "      <td>0.000000</td>\n",
       "      <td>0.000000</td>\n",
       "    </tr>\n",
       "    <tr>\n",
       "      <th>max</th>\n",
       "      <td>1.000000</td>\n",
       "      <td>1.000000</td>\n",
       "      <td>1.000000</td>\n",
       "      <td>0.0</td>\n",
       "      <td>1.000000</td>\n",
       "      <td>1.000000</td>\n",
       "      <td>1.000000</td>\n",
       "      <td>1.000000</td>\n",
       "      <td>1.000000</td>\n",
       "      <td>1.000000</td>\n",
       "      <td>...</td>\n",
       "      <td>1.000000</td>\n",
       "      <td>1.000000</td>\n",
       "      <td>1.000000</td>\n",
       "      <td>1.000000</td>\n",
       "      <td>1.000000</td>\n",
       "      <td>1.000000</td>\n",
       "      <td>1.000000</td>\n",
       "      <td>1.000000</td>\n",
       "      <td>1.000000</td>\n",
       "      <td>1.000000</td>\n",
       "    </tr>\n",
       "  </tbody>\n",
       "</table>\n",
       "<p>8 rows × 254 columns</p>\n",
       "</div>"
      ],
      "text/plain": [
       "       engine_capacity    kms_driven     max_power    seats       mileage  \\\n",
       "count     11068.000000  11068.000000  11068.000000  11068.0  11068.000000   \n",
       "mean          0.445490      0.402551      0.500810      0.0      0.511561   \n",
       "std           0.189419      0.208780      0.202728      0.0      0.191270   \n",
       "min           0.000000      0.000000      0.000000      0.0      0.000000   \n",
       "25%           0.388832      0.240654      0.351700      0.0      0.381081   \n",
       "50%           0.388832      0.389205      0.455217      0.0      0.506757   \n",
       "75%           0.656853      0.544485      0.628370      0.0      0.635135   \n",
       "max           1.000000      1.000000      1.000000      0.0      1.000000   \n",
       "\n",
       "       registered_year_2004  registered_year_2005  registered_year_2006  \\\n",
       "count          11068.000000          11068.000000          11068.000000   \n",
       "mean               0.000090              0.000361              0.001175   \n",
       "std                0.009505              0.019008              0.034253   \n",
       "min                0.000000              0.000000              0.000000   \n",
       "25%                0.000000              0.000000              0.000000   \n",
       "50%                0.000000              0.000000              0.000000   \n",
       "75%                0.000000              0.000000              0.000000   \n",
       "max                1.000000              1.000000              1.000000   \n",
       "\n",
       "       registered_year_2007  registered_year_2008  ...  city_Chandigarh  \\\n",
       "count          11068.000000          11068.000000  ...     11068.000000   \n",
       "mean               0.001265              0.002891  ...         0.026382   \n",
       "std                0.035545              0.053695  ...         0.160277   \n",
       "min                0.000000              0.000000  ...         0.000000   \n",
       "25%                0.000000              0.000000  ...         0.000000   \n",
       "50%                0.000000              0.000000  ...         0.000000   \n",
       "75%                0.000000              0.000000  ...         0.000000   \n",
       "max                1.000000              1.000000  ...         1.000000   \n",
       "\n",
       "       city_Chennai    city_Delhi  city_Gurgaon  city_Hyderabad   city_Jaipur  \\\n",
       "count  11068.000000  11068.000000  11068.000000    11068.000000  11068.000000   \n",
       "mean       0.080954      0.162812      0.060987        0.095229      0.050416   \n",
       "std        0.272777      0.369210      0.239317        0.293545      0.218811   \n",
       "min        0.000000      0.000000      0.000000        0.000000      0.000000   \n",
       "25%        0.000000      0.000000      0.000000        0.000000      0.000000   \n",
       "50%        0.000000      0.000000      0.000000        0.000000      0.000000   \n",
       "75%        0.000000      0.000000      0.000000        0.000000      0.000000   \n",
       "max        1.000000      1.000000      1.000000        1.000000      1.000000   \n",
       "\n",
       "       city_Kolkata  city_Lucknow   city_Mumbai     city_Pune  \n",
       "count  11068.000000  11068.000000  11068.000000  11068.000000  \n",
       "mean       0.065504      0.036140      0.105258      0.082851  \n",
       "std        0.247425      0.186647      0.306900      0.275670  \n",
       "min        0.000000      0.000000      0.000000      0.000000  \n",
       "25%        0.000000      0.000000      0.000000      0.000000  \n",
       "50%        0.000000      0.000000      0.000000      0.000000  \n",
       "75%        0.000000      0.000000      0.000000      0.000000  \n",
       "max        1.000000      1.000000      1.000000      1.000000  \n",
       "\n",
       "[8 rows x 254 columns]"
      ]
     },
     "execution_count": 114,
     "metadata": {},
     "output_type": "execute_result"
    }
   ],
   "source": [
    "X.describe()"
   ]
  },
  {
   "cell_type": "code",
   "execution_count": 115,
   "id": "ec0768b3",
   "metadata": {},
   "outputs": [],
   "source": [
    "# Step 8: Train-test split\n",
    "X_train, X_test, y_train, y_test = train_test_split(X, y, test_size=0.2, random_state=42)"
   ]
  },
  {
   "cell_type": "code",
   "execution_count": 116,
   "id": "21b09ca0",
   "metadata": {},
   "outputs": [
    {
     "name": "stdout",
     "output_type": "stream",
     "text": [
      "(8854, 254)\n",
      "(2214, 254)\n",
      "(8854,)\n",
      "(2214,)\n"
     ]
    }
   ],
   "source": [
    "print(X_train.shape)\n",
    "print(X_test.shape)\n",
    "print(y_train.shape) \n",
    "print(y_test.shape)"
   ]
  },
  {
   "cell_type": "code",
   "execution_count": 74,
   "id": "4ce00bec",
   "metadata": {},
   "outputs": [],
   "source": [
    "# Step 9: Observations after preprocessing\n",
    "# - Removed Unnamed,full_name columns\n",
    "# - Numeric and categorical features have been separated into X and y, respectively.\n",
    "# - Numeric columns have been rescaled\n",
    "# - Category columns have been one-hot encoded to be used in the model.\n",
    "# - The dataset has been split into train and test sets for model evaluation."
   ]
  },
  {
   "cell_type": "markdown",
   "id": "be5ab01b",
   "metadata": {},
   "source": [
    "# KNN Regression"
   ]
  },
  {
   "cell_type": "code",
   "execution_count": 75,
   "id": "ca1f0766",
   "metadata": {},
   "outputs": [],
   "source": [
    "# Train the model with different K values and calculate MAPE scores using CV"
   ]
  },
  {
   "cell_type": "code",
   "execution_count": 117,
   "id": "a0f01a98",
   "metadata": {},
   "outputs": [],
   "source": [
    "def find_mape(y,y_pred):\n",
    "    return np.mean(((np.abs(y-y_pred)/y)))"
   ]
  },
  {
   "cell_type": "code",
   "execution_count": 118,
   "id": "ef1764df",
   "metadata": {},
   "outputs": [],
   "source": [
    "def test_holdout(k_list,X_train, X_test, y_train, y_test):\n",
    "    train_mape_scores=[]\n",
    "    test_mape_scores=[]\n",
    "    for k in k_list:\n",
    "        knn = KNeighborsRegressor(n_neighbors=k)\n",
    "        knn.fit(X_train,y_train)\n",
    "        y_train_pred = knn.predict(X_train)\n",
    "        train_mape = find_mape(y_train, y_train_pred)\n",
    "        train_mape_scores.append(train_mape)\n",
    "        y_test_pred = knn.predict(X_test)\n",
    "        test_mape = find_mape(y_test,y_test_pred)\n",
    "        test_mape_scores.append(test_mape)\n",
    "    best_k = k_list[np.argmin(test_mape_scores)]\n",
    "    print(\"best k with holdout test is {0} and minimum test score is {1}\".format(best_k,np.min(test_mape_scores)))\n",
    "    return best_k,train_mape_scores,test_mape_scores"
   ]
  },
  {
   "cell_type": "code",
   "execution_count": 119,
   "id": "3ab29305",
   "metadata": {},
   "outputs": [],
   "source": [
    "def cross_validation(X,y):\n",
    "    cv_mape_scores=[]\n",
    "    for k in k_list:\n",
    "        knn = KNeighborsRegressor(n_neighbors = k)\n",
    "        cv_scores = -cross_val_score(knn,X,y,cv=5,scoring='neg_mean_absolute_percentage_error')\n",
    "        #print(\"for k = {}, cv_scores = {}\".format(k,cv_scores))\n",
    "        cv_mape = np.mean(cv_scores)\n",
    "        cv_mape_scores.append(cv_mape)\n",
    "    best_k_CV = k_list[np.argmin(cv_mape_scores)]\n",
    "    print(\"best k with cross validation is {0} and minimum test score is {1}\".format(best_k_CV,np.min(cv_mape_scores)))\n",
    "    return best_k_CV,cv_mape_scores"
   ]
  },
  {
   "cell_type": "code",
   "execution_count": 120,
   "id": "89e9cbbe",
   "metadata": {},
   "outputs": [],
   "source": [
    "# user defined function for Cross Validation \n",
    "def custom_cross_validation(X,y,no_of_fold):\n",
    "    warnings.filterwarnings('ignore', category=UserWarning)\n",
    "    fold_size=len(X)//no_of_fold\n",
    "    cv_mape_scores = []\n",
    "    for k in k_list: \n",
    "        knn = KNeighborsRegressor(n_neighbors = k)\n",
    "        scores = []\n",
    "        for i in range(no_of_fold):\n",
    "            start = i * fold_size\n",
    "            end = (i + 1) * fold_size\n",
    "            X_test_fold = X[start:end]\n",
    "            y_test_fold = y[start:end]\n",
    "\n",
    "            X_train_fold = np.concatenate([X[:start], X[end:]])\n",
    "            y_train_fold = np.concatenate([y[:start], y[end:]])\n",
    "\n",
    "            # Fit the model on the training data\n",
    "            knn.fit(X_train_fold, y_train_fold)\n",
    "\n",
    "            # Make predictions and calculate a custom score on the test data\n",
    "            predictions = knn.predict(X_test_fold)\n",
    "            custom_score = np.mean(np.abs(predictions - y_test_fold))\n",
    "            scores.append(custom_score)\n",
    "        cv_mape_scores.append(np.mean(scores))\n",
    "    \n",
    "    # Calculate and return the average score\n",
    "    best_k_CV = k_list[np.argmin(cv_mape_scores)]\n",
    "    print(\"best k with Custom cross validation is {0} and minimum test score is {1}\".format(best_k_CV,np.min(cv_mape_scores)))\n",
    "    return best_k_CV,cv_mape_scores    \n",
    "        \n",
    "    "
   ]
  },
  {
   "cell_type": "code",
   "execution_count": 121,
   "id": "e1b592ed",
   "metadata": {},
   "outputs": [
    {
     "name": "stdout",
     "output_type": "stream",
     "text": [
      "Starting test with Hold Out Data\n",
      "------------------------------------------\n",
      "best k with holdout test is 3 and minimum test score is 0.23418743273222892\n",
      "\n",
      "\n",
      "Starting test Cross-Validation\n",
      "------------------------------------------\n",
      "best k with cross validation is 5 and minimum test score is 0.24564695341898618\n",
      "\n",
      "\n",
      "Starting test with Custom Cross-Validation\n",
      "------------------------------------------\n",
      "best k with Custom cross validation is 5 and minimum test score is 1.0603152281970176\n"
     ]
    }
   ],
   "source": [
    "#validate_hold_out(X_train,X_test,y_train,y_test)\n",
    "k_list=np.arange(1,10,2)\n",
    "print(\"Starting test with Hold Out Data\")\n",
    "print(\"------------------------------------------\")\n",
    "best_k,train_mape_scores,test_mape_scores = test_holdout(k_list,X_train,X_test,y_train,y_test)\n",
    "print(\"\\n\")\n",
    "print(\"Starting test Cross-Validation\")\n",
    "print(\"------------------------------------------\")\n",
    "best_k_CV,cv_mape_scores= cross_validation(X,y)\n",
    "print(\"\\n\")\n",
    "print(\"Starting test with Custom Cross-Validation\")\n",
    "print(\"------------------------------------------\")\n",
    "best_k_CV_custom,cv_mape_scores_custom = custom_cross_validation( X, y, 5)\n"
   ]
  },
  {
   "cell_type": "code",
   "execution_count": 122,
   "id": "bc003662",
   "metadata": {},
   "outputs": [
    {
     "data": {
      "image/png": "[encoded data removed]",
      "text/plain": [
       "<Figure size 1000x600 with 1 Axes>"
      ]
     },
     "metadata": {},
     "output_type": "display_data"
    }
   ],
   "source": [
    "#plot CV MAPE, Train MAPE, Test MAPE for different values of K\n",
    "plt.figure(figsize=(10,6))\n",
    "plt.plot(k_list,cv_mape_scores,label='CV MAPE', marker='o')\n",
    "plt.plot(k_list,train_mape_scores,label='Train  MAPE', marker='s')\n",
    "plt.plot(k_list,test_mape_scores,label='Test MAPE', marker='x')\n",
    "plt.plot(k_list,cv_mape_scores_custom,label='Custom CV MAPE', marker='^')\n",
    "plt.xlabel('k')\n",
    "plt.ylabel('MAPE Score')\n",
    "plt.title('MAPE Scores for differentk values in KNN Regressor')\n",
    "plt.legend()\n",
    "plt.grid(True)\n",
    "plt.show()\n",
    "\n"
   ]
  },
  {
   "cell_type": "markdown",
   "id": "097caf11",
   "metadata": {},
   "source": [
    "### CUSTOM IMPLEMENTATION OF KNN"
   ]
  },
  {
   "cell_type": "code",
   "execution_count": 84,
   "id": "33489749",
   "metadata": {},
   "outputs": [],
   "source": [
    "# function to compute euclidean distance\n",
    "def euclidean_distance(row1, row2):\n",
    "    return np.linalg.norm(row1 - row2)"
   ]
  },
  {
   "cell_type": "code",
   "execution_count": 88,
   "id": "a6aa80a1",
   "metadata": {},
   "outputs": [],
   "source": [
    "#custom function to implement KNN\n",
    "def knn(X_train,X_test,y_train,k):\n",
    "    mape_list = []\n",
    "    y_pred_list = []\n",
    "    \n",
    "    for idx, test_row in X_test.iterrows():        \n",
    "        distances = []\n",
    "        for index,row in X_train.iterrows():\n",
    "            distance = euclidean_distance(test_row,row)\n",
    "            distances.append([distance,y_train[index]])\n",
    "        distances.sort(key=lambda x: x[0])\n",
    "        neighbors=distances[:k]\n",
    "        target_values = np.take(np.array(neighbors),1,axis=1) #select only corresponding y_train values from nested list\n",
    "        pred_val=np.mean(target_values)\n",
    "        y_pred_list.append(pred_val)\n",
    "    #mape = find_mape(y_test,y_pred_list)\n",
    "    #mape_list.append(mape)\n",
    "    \n",
    "    return y_pred_list"
   ]
  },
  {
   "cell_type": "code",
   "execution_count": 89,
   "id": "3c231b6f",
   "metadata": {},
   "outputs": [],
   "source": [
    "#calling custom functions for KNN\n",
    "test_mape_scores=[]\n",
    "train_mape_scores=[]\n",
    "for k in k_list:\n",
    "    y_pred_test =knn(X_train,X_test,y_train,k)\n",
    "    y_pred_train =knn(X_train,X_train,y_train,k)\n",
    "    test_mape = find_mape(y_test,y_pred_test)\n",
    "    test_mape_scores.append(test_mape)\n",
    "    train_mape = find_mape(y_train,y_pred_train)\n",
    "    train_mape_scores.append(train_mape)\n"
   ]
  },
  {
   "cell_type": "code",
   "execution_count": 96,
   "id": "73473f03",
   "metadata": {},
   "outputs": [
    {
     "name": "stdout",
     "output_type": "stream",
     "text": [
      "best k with Custom KNN implementation is 9 and minimum test score is 0.1052761620975954\n"
     ]
    }
   ],
   "source": [
    "best_k = k_list[np.argmin(test_mape_scores)]\n",
    "print(\"best k with Custom KNN implementation is {0} and minimum test score is {1}\".format(best_k,np.min(test_mape_scores)))"
   ]
  },
  {
   "cell_type": "code",
   "execution_count": null,
   "id": "9e15a64c",
   "metadata": {},
   "outputs": [],
   "source": [
    "#plot with custom KNN function\n",
    "plt.figure(figsize=(10, 6))\n",
    "#plt.plot(k_values, train_mape_scores, marker='o', label='Train MAPE')\n",
    "plt.plot(k_list, train_mape_scores, marker='o', label='Train MAPE')\n",
    "plt.plot(k_list, test_mape_scores, marker='o', label='Test MAPE')\n",
    "plt.xlabel('K value')\n",
    "plt.ylabel('MAPE Score')\n",
    "plt.title('MAPE Scores for different K values in KNN Regressor')\n",
    "plt.legend()\n",
    "plt.grid(True)\n",
    "plt.show()"
   ]
  },
  {
   "cell_type": "code",
   "execution_count": null,
   "id": "16672cf7",
   "metadata": {},
   "outputs": [],
   "source": [
    "# Inference:\n",
    "# - best k with holdout test is 3 \n",
    "# - best k with cross validation is 5 \n"
   ]
  }
 ],
 "metadata": {
  "kernelspec": {
   "display_name": "Python 3 (ipykernel)",
   "language": "python",
   "name": "python3"
  },
  "language_info": {
   "codemirror_mode": {
    "name": "ipython",
    "version": 3
   },
   "file_extension": ".py",
   "mimetype": "text/x-python",
   "name": "python",
   "nbconvert_exporter": "python",
   "pygments_lexer": "ipython3",
   "version": "3.11.3"
  }
 },
 "nbformat": 4,
 "nbformat_minor": 5
}
